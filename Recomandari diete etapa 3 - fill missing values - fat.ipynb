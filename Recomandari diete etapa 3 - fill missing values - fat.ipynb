{
 "cells": [
  {
   "cell_type": "code",
   "execution_count": 1,
   "metadata": {},
   "outputs": [],
   "source": [
    "import numpy as np\n",
    "import scipy\n",
    "import pandas as pd\n",
    "import math\n",
    "import random\n",
    "import sklearn\n",
    "import unicodedata\n",
    "\n",
    "from sklearn.feature_extraction.text import TfidfVectorizer, CountVectorizer, TfidfTransformer\n",
    "from sklearn.metrics import accuracy_score, confusion_matrix, mean_squared_error\n",
    "from sklearn.model_selection import train_test_split\n",
    "from sklearn.metrics.pairwise import cosine_similarity\n",
    "from sklearn.preprocessing import LabelEncoder\n",
    "\n",
    "from scipy.sparse.linalg import svds\n",
    "\n",
    "import matplotlib.pyplot as plt"
   ]
  },
  {
   "cell_type": "code",
   "execution_count": 2,
   "metadata": {},
   "outputs": [
    {
     "name": "stderr",
     "output_type": "stream",
     "text": [
      "Using TensorFlow backend.\n"
     ]
    }
   ],
   "source": [
    "from keras.models import Sequential, Model\n",
    "from keras.layers import Dense, Embedding, Input, Conv2D, Concatenate, MaxPool2D, Reshape, Flatten, Dropout\n",
    "from keras.layers import ReLU\n",
    "from keras.layers import BatchNormalization, LSTM, Bidirectional\n",
    "\n",
    "from keras.callbacks import CSVLogger, EarlyStopping, ReduceLROnPlateau\n",
    "from keras.layers import Add\n",
    "\n",
    "from keras.models import Sequential\n",
    "from keras.layers import Dense\n",
    "from keras.wrappers.scikit_learn import KerasRegressor\n",
    "from sklearn.linear_model import LinearRegression\n",
    "from sklearn.model_selection import cross_val_score\n",
    "from sklearn.model_selection import KFold\n",
    "from sklearn.preprocessing import StandardScaler\n",
    "from sklearn.pipeline import Pipeline"
   ]
  },
  {
   "cell_type": "code",
   "execution_count": 3,
   "metadata": {},
   "outputs": [],
   "source": [
    "from keras.optimizers import Adam, SGD\n",
    "from keras.callbacks import LearningRateScheduler\n",
    "from keras.callbacks import EarlyStopping\n",
    "from keras.callbacks import ModelCheckpoint\n",
    "from sklearn.manifold import TSNE\n",
    "from keras import backend as K"
   ]
  },
  {
   "cell_type": "code",
   "execution_count": 4,
   "metadata": {},
   "outputs": [],
   "source": [
    "# !python3 -m pip install gensim"
   ]
  },
  {
   "cell_type": "code",
   "execution_count": 5,
   "metadata": {},
   "outputs": [],
   "source": [
    "from gensim.models import Word2Vec"
   ]
  },
  {
   "cell_type": "code",
   "execution_count": 6,
   "metadata": {},
   "outputs": [],
   "source": [
    "%matplotlib inline"
   ]
  },
  {
   "cell_type": "code",
   "execution_count": 7,
   "metadata": {},
   "outputs": [],
   "source": [
    "# !python3 -m pip install -U nltk\n",
    "# !python3 -m nltk.downloader punkt"
   ]
  },
  {
   "cell_type": "code",
   "execution_count": 8,
   "metadata": {},
   "outputs": [],
   "source": [
    "import nltk"
   ]
  },
  {
   "cell_type": "code",
   "execution_count": 9,
   "metadata": {},
   "outputs": [],
   "source": [
    "from nltk.corpus import stopwords"
   ]
  },
  {
   "cell_type": "code",
   "execution_count": 10,
   "metadata": {},
   "outputs": [],
   "source": [
    "path = 'recipes_with_calories_and_protein.csv'"
   ]
  },
  {
   "cell_type": "code",
   "execution_count": 11,
   "metadata": {},
   "outputs": [],
   "source": [
    "df = pd.read_csv(path, sep=\"|\", index_col=0)"
   ]
  },
  {
   "cell_type": "code",
   "execution_count": 12,
   "metadata": {},
   "outputs": [
    {
     "data": {
      "text/plain": [
       "680"
      ]
     },
     "execution_count": 12,
     "metadata": {},
     "output_type": "execute_result"
    }
   ],
   "source": [
    "all_columns = list(df.columns)\n",
    "len(all_columns)"
   ]
  },
  {
   "cell_type": "code",
   "execution_count": 13,
   "metadata": {},
   "outputs": [
    {
     "data": {
      "text/plain": [
       "((15867, 680), (20052, 680))"
      ]
     },
     "execution_count": 13,
     "metadata": {},
     "output_type": "execute_result"
    }
   ],
   "source": [
    "df.dropna(axis=0).shape, df.shape"
   ]
  },
  {
   "cell_type": "code",
   "execution_count": 14,
   "metadata": {},
   "outputs": [
    {
     "name": "stdout",
     "output_type": "stream",
     "text": [
      "fat\n",
      "sodium\n"
     ]
    }
   ],
   "source": [
    "for column in df.columns:\n",
    "    if df[column].isnull().any():\n",
    "        print(column)\n",
    "#         df[column] = df[column].fillna(df[column].mean())"
   ]
  },
  {
   "cell_type": "code",
   "execution_count": 15,
   "metadata": {},
   "outputs": [
    {
     "data": {
      "text/html": [
       "<div>\n",
       "<style scoped>\n",
       "    .dataframe tbody tr th:only-of-type {\n",
       "        vertical-align: middle;\n",
       "    }\n",
       "\n",
       "    .dataframe tbody tr th {\n",
       "        vertical-align: top;\n",
       "    }\n",
       "\n",
       "    .dataframe thead th {\n",
       "        text-align: right;\n",
       "    }\n",
       "</style>\n",
       "<table border=\"1\" class=\"dataframe\">\n",
       "  <thead>\n",
       "    <tr style=\"text-align: right;\">\n",
       "      <th></th>\n",
       "      <th>title</th>\n",
       "      <th>rating</th>\n",
       "      <th>calories</th>\n",
       "      <th>protein</th>\n",
       "      <th>fat</th>\n",
       "      <th>sodium</th>\n",
       "      <th>#cakeweek</th>\n",
       "      <th>#wasteless</th>\n",
       "      <th>22-minute meals</th>\n",
       "      <th>3-ingredient recipes</th>\n",
       "      <th>...</th>\n",
       "      <th>yellow squash</th>\n",
       "      <th>yogurt</th>\n",
       "      <th>yonkers</th>\n",
       "      <th>yuca</th>\n",
       "      <th>zucchini</th>\n",
       "      <th>cookbooks</th>\n",
       "      <th>leftovers</th>\n",
       "      <th>snack</th>\n",
       "      <th>snack week</th>\n",
       "      <th>turkey</th>\n",
       "    </tr>\n",
       "  </thead>\n",
       "  <tbody>\n",
       "    <tr>\n",
       "      <th>0</th>\n",
       "      <td>Lentil, Apple, and Turkey Wrap</td>\n",
       "      <td>2.500</td>\n",
       "      <td>426.000000</td>\n",
       "      <td>30.000000</td>\n",
       "      <td>7.0</td>\n",
       "      <td>559.0</td>\n",
       "      <td>0.0</td>\n",
       "      <td>0.0</td>\n",
       "      <td>0.0</td>\n",
       "      <td>0.0</td>\n",
       "      <td>...</td>\n",
       "      <td>0.0</td>\n",
       "      <td>0.0</td>\n",
       "      <td>0.0</td>\n",
       "      <td>0.0</td>\n",
       "      <td>0.0</td>\n",
       "      <td>0.0</td>\n",
       "      <td>0.0</td>\n",
       "      <td>0.0</td>\n",
       "      <td>0.0</td>\n",
       "      <td>1.0</td>\n",
       "    </tr>\n",
       "    <tr>\n",
       "      <th>1</th>\n",
       "      <td>Boudin Blanc Terrine with Red Onion Confit</td>\n",
       "      <td>4.375</td>\n",
       "      <td>403.000000</td>\n",
       "      <td>18.000000</td>\n",
       "      <td>23.0</td>\n",
       "      <td>1439.0</td>\n",
       "      <td>0.0</td>\n",
       "      <td>0.0</td>\n",
       "      <td>0.0</td>\n",
       "      <td>0.0</td>\n",
       "      <td>...</td>\n",
       "      <td>0.0</td>\n",
       "      <td>0.0</td>\n",
       "      <td>0.0</td>\n",
       "      <td>0.0</td>\n",
       "      <td>0.0</td>\n",
       "      <td>0.0</td>\n",
       "      <td>0.0</td>\n",
       "      <td>0.0</td>\n",
       "      <td>0.0</td>\n",
       "      <td>0.0</td>\n",
       "    </tr>\n",
       "    <tr>\n",
       "      <th>2</th>\n",
       "      <td>Potato and Fennel Soup Hodge</td>\n",
       "      <td>3.750</td>\n",
       "      <td>165.000000</td>\n",
       "      <td>6.000000</td>\n",
       "      <td>7.0</td>\n",
       "      <td>165.0</td>\n",
       "      <td>0.0</td>\n",
       "      <td>0.0</td>\n",
       "      <td>0.0</td>\n",
       "      <td>0.0</td>\n",
       "      <td>...</td>\n",
       "      <td>0.0</td>\n",
       "      <td>0.0</td>\n",
       "      <td>0.0</td>\n",
       "      <td>0.0</td>\n",
       "      <td>0.0</td>\n",
       "      <td>0.0</td>\n",
       "      <td>0.0</td>\n",
       "      <td>0.0</td>\n",
       "      <td>0.0</td>\n",
       "      <td>0.0</td>\n",
       "    </tr>\n",
       "    <tr>\n",
       "      <th>3</th>\n",
       "      <td>Mahi-Mahi in Tomato Olive Sauce</td>\n",
       "      <td>5.000</td>\n",
       "      <td>252.445801</td>\n",
       "      <td>14.630608</td>\n",
       "      <td>NaN</td>\n",
       "      <td>NaN</td>\n",
       "      <td>0.0</td>\n",
       "      <td>0.0</td>\n",
       "      <td>0.0</td>\n",
       "      <td>0.0</td>\n",
       "      <td>...</td>\n",
       "      <td>0.0</td>\n",
       "      <td>0.0</td>\n",
       "      <td>0.0</td>\n",
       "      <td>0.0</td>\n",
       "      <td>0.0</td>\n",
       "      <td>0.0</td>\n",
       "      <td>0.0</td>\n",
       "      <td>0.0</td>\n",
       "      <td>0.0</td>\n",
       "      <td>0.0</td>\n",
       "    </tr>\n",
       "    <tr>\n",
       "      <th>4</th>\n",
       "      <td>Spinach Noodle Casserole</td>\n",
       "      <td>3.125</td>\n",
       "      <td>547.000000</td>\n",
       "      <td>20.000000</td>\n",
       "      <td>32.0</td>\n",
       "      <td>452.0</td>\n",
       "      <td>0.0</td>\n",
       "      <td>0.0</td>\n",
       "      <td>0.0</td>\n",
       "      <td>0.0</td>\n",
       "      <td>...</td>\n",
       "      <td>0.0</td>\n",
       "      <td>0.0</td>\n",
       "      <td>0.0</td>\n",
       "      <td>0.0</td>\n",
       "      <td>0.0</td>\n",
       "      <td>0.0</td>\n",
       "      <td>0.0</td>\n",
       "      <td>0.0</td>\n",
       "      <td>0.0</td>\n",
       "      <td>0.0</td>\n",
       "    </tr>\n",
       "  </tbody>\n",
       "</table>\n",
       "<p>5 rows × 680 columns</p>\n",
       "</div>"
      ],
      "text/plain": [
       "                                         title  rating    calories    protein  \\\n",
       "0              Lentil, Apple, and Turkey Wrap    2.500  426.000000  30.000000   \n",
       "1  Boudin Blanc Terrine with Red Onion Confit    4.375  403.000000  18.000000   \n",
       "2                Potato and Fennel Soup Hodge    3.750  165.000000   6.000000   \n",
       "3             Mahi-Mahi in Tomato Olive Sauce    5.000  252.445801  14.630608   \n",
       "4                    Spinach Noodle Casserole    3.125  547.000000  20.000000   \n",
       "\n",
       "    fat  sodium  #cakeweek  #wasteless  22-minute meals  3-ingredient recipes  \\\n",
       "0   7.0   559.0        0.0         0.0              0.0                   0.0   \n",
       "1  23.0  1439.0        0.0         0.0              0.0                   0.0   \n",
       "2   7.0   165.0        0.0         0.0              0.0                   0.0   \n",
       "3   NaN     NaN        0.0         0.0              0.0                   0.0   \n",
       "4  32.0   452.0        0.0         0.0              0.0                   0.0   \n",
       "\n",
       "    ...    yellow squash  yogurt  yonkers  yuca  zucchini  cookbooks  \\\n",
       "0   ...              0.0     0.0      0.0   0.0       0.0        0.0   \n",
       "1   ...              0.0     0.0      0.0   0.0       0.0        0.0   \n",
       "2   ...              0.0     0.0      0.0   0.0       0.0        0.0   \n",
       "3   ...              0.0     0.0      0.0   0.0       0.0        0.0   \n",
       "4   ...              0.0     0.0      0.0   0.0       0.0        0.0   \n",
       "\n",
       "   leftovers  snack  snack week  turkey  \n",
       "0        0.0    0.0         0.0     1.0  \n",
       "1        0.0    0.0         0.0     0.0  \n",
       "2        0.0    0.0         0.0     0.0  \n",
       "3        0.0    0.0         0.0     0.0  \n",
       "4        0.0    0.0         0.0     0.0  \n",
       "\n",
       "[5 rows x 680 columns]"
      ]
     },
     "execution_count": 15,
     "metadata": {},
     "output_type": "execute_result"
    }
   ],
   "source": [
    "df.head()"
   ]
  },
  {
   "cell_type": "code",
   "execution_count": 16,
   "metadata": {},
   "outputs": [],
   "source": [
    "def get_small_dict(df, keep_columns, index):\n",
    "    my_dict = df.iloc[index][keep_columns].to_dict()\n",
    "    my_dict['tags'] = [\n",
    "        key for key, value in df.iloc[index].to_dict().items() if value != 0 and key not in keep_columns]\n",
    "    my_dict['title'] = my_dict['title'].strip()\n",
    "    my_dict['tags'] = [\n",
    "        str(unicodedata.normalize('NFKD', t).encode('ascii','ignore'), encoding='ascii') for t in my_dict['tags']\n",
    "    ]\n",
    "    return my_dict"
   ]
  },
  {
   "cell_type": "code",
   "execution_count": 17,
   "metadata": {},
   "outputs": [],
   "source": [
    "keep_columns = ['title', 'rating', 'calories', 'protein', 'fat','sodium']"
   ]
  },
  {
   "cell_type": "code",
   "execution_count": 18,
   "metadata": {},
   "outputs": [],
   "source": [
    "def remove_outliers_with_tukey(df):\n",
    "    print('There were {} samples before outlier removal.'.format(len(df)))\n",
    "\n",
    "    # Remove calories outliers by the Tukey rule\n",
    "    Q3 = np.percentile(df[regr_column], 75)\n",
    "    Q1 = np.percentile(df[regr_column], 25)\n",
    "    IQR = Q3 - Q1\n",
    "\n",
    "    outliers = df[regr_column].loc[\n",
    "        (df[regr_column] < (Q1 - 1.5 * IQR)) | \n",
    "        (df[regr_column] > (Q3 + 1.5 * IQR))\n",
    "    ].index\n",
    "    \n",
    "    df = df.drop(outliers)\n",
    "    \n",
    "    print('There are now {} samples.'.format(len(cut_df)))\n",
    "\n",
    "    return df"
   ]
  },
  {
   "cell_type": "code",
   "execution_count": 20,
   "metadata": {},
   "outputs": [
    {
     "name": "stdout",
     "output_type": "stream",
     "text": [
      "There were 15869 samples before outlier removal.\n",
      "There are now 15869 samples.\n"
     ]
    }
   ],
   "source": [
    "# pick regression column\n",
    "regr_column = 'fat'\n",
    "cut_df = df[df[regr_column] == df[regr_column]]\n",
    "\n",
    "cut_df = remove_outliers_with_tukey(df=cut_df)\n",
    "\n",
    "# transform df in list of dictionaries for processing\n",
    "regr_data = []\n",
    "for i in range(len(cut_df)):\n",
    "    regr_data.append(get_small_dict(cut_df, keep_columns, i))"
   ]
  },
  {
   "cell_type": "code",
   "execution_count": 21,
   "metadata": {},
   "outputs": [],
   "source": [
    "def remove_punctuation_signs(regr_data):\n",
    "    for d in regr_data:\n",
    "        if 'tags' not in d:\n",
    "            raise ValueError('Expected to have <tags> key in each of the regression input data dictionary!')\n",
    "    corpus = ['|'.join(\n",
    "        d['tags'] + \n",
    "        [w.lower() for w in nltk.word_tokenize(d['title']) if\n",
    "             w not in '''!()-[]{};:'\"\\,<>./?@#$%^&*_~''']\n",
    "    ) for d in regr_data]\n",
    "    return corpus"
   ]
  },
  {
   "cell_type": "code",
   "execution_count": 22,
   "metadata": {},
   "outputs": [],
   "source": [
    "# make sure the data doesn't have any punctuation signs\n",
    "corpus = remove_punctuation_signs(regr_data)"
   ]
  },
  {
   "cell_type": "code",
   "execution_count": 23,
   "metadata": {},
   "outputs": [],
   "source": [
    "# pick tokenization method\n",
    "def tokenize(word_list):\n",
    "    return word_list.split('|')"
   ]
  },
  {
   "cell_type": "code",
   "execution_count": 24,
   "metadata": {},
   "outputs": [],
   "source": [
    "def get_y_labels(regr_column, regr_data):\n",
    "    return [d[regr_column] for d in regr_data]"
   ]
  },
  {
   "cell_type": "code",
   "execution_count": 25,
   "metadata": {},
   "outputs": [],
   "source": [
    "y_label = get_y_labels(regr_column, regr_data)"
   ]
  },
  {
   "cell_type": "code",
   "execution_count": 26,
   "metadata": {},
   "outputs": [],
   "source": [
    "if len(corpus) != len(y_label):\n",
    "    print('[ERROR] There is a mismatch between the size of the input data ' +\n",
    "          ' ({} elements) and the size of labels ({} elements)!'.format(len(corpus), len(y_label)))"
   ]
  },
  {
   "cell_type": "markdown",
   "metadata": {},
   "source": [
    "## Try a vanilla regression (CountVectorizer + LinearRegression from sklearn)"
   ]
  },
  {
   "cell_type": "code",
   "execution_count": 28,
   "metadata": {},
   "outputs": [
    {
     "name": "stdout",
     "output_type": "stream",
     "text": [
      "Mean squared error:  1.0175001141546378e+25\n",
      "529199939986.90283 56.0\n",
      "30.16865718261775 44.0\n",
      "4.367280839844312 6.0\n",
      "14.0084398974615 12.0\n",
      "20.501459001465406 45.0\n",
      "9.588830827637281 0.0\n",
      "14.3924731005865 17.0\n",
      "14.3761156787115 14.0\n",
      "24.83369624511775 10.0\n",
      "3058434.317991387 10.0\n"
     ]
    }
   ],
   "source": [
    "# fit vectorizer\n",
    "vectorizer = CountVectorizer(tokenizer=tokenize)\n",
    "X = vectorizer.fit_transform(corpus)\n",
    "\n",
    "# train, test data\n",
    "X_train, X_test, y_train, y_test = train_test_split(X.toarray(), y_label, test_size=0.2, random_state=42)\n",
    "\n",
    "# sklearn LinearRegression model\n",
    "regr_sklearn = LinearRegression()\n",
    "regr_sklearn.fit(X_train, y_train)\n",
    "\n",
    "# predict data\n",
    "y_pred = regr_sklearn.predict(X_test)\n",
    "\n",
    "# how far off is the result? metric = mean squared error\n",
    "y_test = np.array(y_test)\n",
    "y_pred = np.array(y_pred)\n",
    "print(\"Mean squared error: \", mean_squared_error(y_true=y_test, y_pred=y_pred))\n",
    "\n",
    "# show first k differences\n",
    "first_k = 10\n",
    "for yp, yt in zip(y_pred[:first_k], y_test[:first_k]):\n",
    "    print(yp, yt)"
   ]
  },
  {
   "cell_type": "markdown",
   "metadata": {},
   "source": [
    "## Try Word2Vec embeddings + Keras NN"
   ]
  },
  {
   "cell_type": "markdown",
   "metadata": {},
   "source": [
    "### Word2Vec embedding"
   ]
  },
  {
   "cell_type": "code",
   "execution_count": 29,
   "metadata": {},
   "outputs": [
    {
     "name": "stdout",
     "output_type": "stream",
     "text": [
      "Choose embedding size between 12.52820989662271 and 87.66812995049386\n"
     ]
    }
   ],
   "source": [
    "vocab = set()\n",
    "for word_list in corpus:\n",
    "    vocab |= set(tokenize(word_list))\n",
    "\n",
    "print(\"Choose embedding size between {} and {}\".format(np.log2(len(vocab)), np.power(len(vocab), 1/4) * 10))\n",
    "\n",
    "w2v_corpus = []\n",
    "for word_list in corpus:\n",
    "    w2v_corpus.append(tokenize(word_list))"
   ]
  },
  {
   "cell_type": "code",
   "execution_count": 30,
   "metadata": {},
   "outputs": [],
   "source": [
    "EMBEDDING_SIZE = 50"
   ]
  },
  {
   "cell_type": "code",
   "execution_count": 31,
   "metadata": {},
   "outputs": [
    {
     "name": "stdout",
     "output_type": "stream",
     "text": [
      "Embedding size is 50\n"
     ]
    }
   ],
   "source": [
    "w2v_model = Word2Vec(w2v_corpus, size=EMBEDDING_SIZE, window=5, min_count=1, workers=-1)\n",
    "\n",
    "print(\"Embedding size is {}\".format(w2v_model.wv.vector_size))"
   ]
  },
  {
   "cell_type": "code",
   "execution_count": 32,
   "metadata": {},
   "outputs": [
    {
     "name": "stdout",
     "output_type": "stream",
     "text": [
      "Sequence length should be 17.027901936882028 \n"
     ]
    }
   ],
   "source": [
    "sequence_lengths = [len(w) for w in w2v_corpus]\n",
    "\n",
    "print(\"Sequence length should be {} \".format(pd.Series(sequence_lengths).describe()['mean']))"
   ]
  },
  {
   "cell_type": "code",
   "execution_count": 33,
   "metadata": {},
   "outputs": [],
   "source": [
    "FIXED_LENGTH = 17"
   ]
  },
  {
   "cell_type": "code",
   "execution_count": 34,
   "metadata": {},
   "outputs": [],
   "source": [
    "def generate_embeddings_matrix(sample, model, fixed_length=17):\n",
    "    embedding_size = model.wv.vector_size\n",
    "    embeddings = []\n",
    "    for sen in sample:\n",
    "        for word in sen:\n",
    "            if word not in model.wv.vocab:\n",
    "                continue\n",
    "            embeddings.append(model.wv[word])\n",
    "            if len(embeddings) >= fixed_length:\n",
    "                break\n",
    "\n",
    "    embeddings = np.array(embeddings)\n",
    "\n",
    "    while len(embeddings) < fixed_length:\n",
    "        padding_length = fixed_length - len(embeddings)\n",
    "        embeddings = np.concatenate((embeddings, embeddings[:padding_length]))\n",
    "    if len(embeddings) > fixed_length:\n",
    "        embeddings = embeddings[:fixed_length]\n",
    "\n",
    "    return embeddings"
   ]
  },
  {
   "cell_type": "code",
   "execution_count": 35,
   "metadata": {},
   "outputs": [],
   "source": [
    "def generate_input_matrix(sample, fixed_length=17):\n",
    "    \n",
    "    inputs = np.array(sample)\n",
    "\n",
    "    while len(inputs) < fixed_length:\n",
    "        padding_length = fixed_length - len(inputs)\n",
    "        inputs = np.concatenate((inputs, inputs[:padding_length]))\n",
    "    if len(inputs) > fixed_length:\n",
    "        inputs = inputs[:fixed_length]\n",
    "\n",
    "    return inputs"
   ]
  },
  {
   "cell_type": "code",
   "execution_count": 36,
   "metadata": {},
   "outputs": [],
   "source": [
    "# Generate list of input data (embedding matrix) and make sure every input has FIXED_LENGTH elements\n",
    "X = []\n",
    "for sample in w2v_corpus:\n",
    "    embedded_sample = generate_embeddings_matrix(sample, w2v_model, FIXED_LENGTH)\n",
    "    if embedded_sample.shape != (FIXED_LENGTH, EMBEDDING_SIZE):\n",
    "        print(embedded_sample.shape)\n",
    "    X.append(embedded_sample)"
   ]
  },
  {
   "cell_type": "code",
   "execution_count": 37,
   "metadata": {},
   "outputs": [],
   "source": [
    "X_train, X_test, y_train, y_test = train_test_split(X, y_label, test_size=0.2, random_state=42)"
   ]
  },
  {
   "cell_type": "markdown",
   "metadata": {},
   "source": [
    "### Keras NN"
   ]
  },
  {
   "cell_type": "code",
   "execution_count": 38,
   "metadata": {},
   "outputs": [],
   "source": [
    "FIXED_LENGTH = 17\n",
    "EMBEDDING_SIZE = 50\n",
    "\n",
    "BATCH_SIZE = 16\n",
    "EPOCHS=200"
   ]
  },
  {
   "cell_type": "code",
   "execution_count": 39,
   "metadata": {},
   "outputs": [],
   "source": [
    "def baseline_model():\n",
    "    # Create model\n",
    "    input_layer = Input(shape=(FIXED_LENGTH, EMBEDDING_SIZE), name='input')\n",
    "    flat = Flatten()(input_layer)\n",
    "    z = Dense(32, activation='relu', name='fc1', kernel_initializer='normal')(flat)\n",
    "    output = Dense(1, kernel_initializer='normal')(z)\n",
    "    model = Model(inputs=[input_layer], outputs=[output])\n",
    "    # Compile model\n",
    "    model.compile(optimizer='adam', loss='mean_squared_error')\n",
    "    return model"
   ]
  },
  {
   "cell_type": "code",
   "execution_count": 40,
   "metadata": {},
   "outputs": [],
   "source": [
    "model = baseline_model()"
   ]
  },
  {
   "cell_type": "code",
   "execution_count": 41,
   "metadata": {},
   "outputs": [],
   "source": [
    "X_train, X_test, y_train, y_test = train_test_split(X, y_label, test_size=0.2, random_state=42)"
   ]
  },
  {
   "cell_type": "code",
   "execution_count": 42,
   "metadata": {},
   "outputs": [],
   "source": [
    "X_train = np.array(X_train)\n",
    "X_test = np.array(X_test)\n",
    "y_train = np.array(y_train)\n",
    "y_test = np.array(y_test)"
   ]
  },
  {
   "cell_type": "code",
   "execution_count": 43,
   "metadata": {
    "scrolled": true
   },
   "outputs": [
    {
     "name": "stdout",
     "output_type": "stream",
     "text": [
      "Epoch 1/200\n",
      "11812/11812 [==============================] - 1s 122us/step - loss: 425.2554\n",
      "Epoch 2/200\n",
      "11812/11812 [==============================] - 1s 102us/step - loss: 277.3841\n",
      "Epoch 3/200\n",
      "11812/11812 [==============================] - 2s 179us/step - loss: 273.6978\n",
      "Epoch 4/200\n",
      "11812/11812 [==============================] - 1s 110us/step - loss: 271.4321\n",
      "Epoch 5/200\n",
      "11812/11812 [==============================] - 2s 130us/step - loss: 269.6850\n",
      "Epoch 6/200\n",
      "11812/11812 [==============================] - 2s 130us/step - loss: 268.2709\n",
      "Epoch 7/200\n",
      "11812/11812 [==============================] - 1s 114us/step - loss: 267.2019\n",
      "Epoch 8/200\n",
      "11812/11812 [==============================] - 1s 123us/step - loss: 266.2342\n",
      "Epoch 9/200\n",
      "11812/11812 [==============================] - 2s 135us/step - loss: 265.4295\n",
      "Epoch 10/200\n",
      "11812/11812 [==============================] - 2s 141us/step - loss: 264.7623\n",
      "Epoch 11/200\n",
      "11812/11812 [==============================] - 2s 138us/step - loss: 264.2275\n",
      "Epoch 12/200\n",
      "11812/11812 [==============================] - 2s 141us/step - loss: 263.7062\n",
      "Epoch 13/200\n",
      "11812/11812 [==============================] - 2s 138us/step - loss: 263.3392\n",
      "Epoch 14/200\n",
      "11812/11812 [==============================] - 2s 146us/step - loss: 263.0059\n",
      "Epoch 15/200\n",
      "11812/11812 [==============================] - 2s 137us/step - loss: 262.6760\n",
      "Epoch 16/200\n",
      "11812/11812 [==============================] - 2s 142us/step - loss: 262.3997\n",
      "Epoch 17/200\n",
      "11812/11812 [==============================] - 2s 131us/step - loss: 262.2300\n",
      "Epoch 18/200\n",
      "11812/11812 [==============================] - 2s 133us/step - loss: 261.9745\n",
      "Epoch 19/200\n",
      "11812/11812 [==============================] - 2s 149us/step - loss: 261.8381\n",
      "Epoch 20/200\n",
      "11812/11812 [==============================] - 2s 144us/step - loss: 261.6605\n",
      "Epoch 21/200\n",
      "11812/11812 [==============================] - 2s 138us/step - loss: 261.5696\n",
      "Epoch 22/200\n",
      "11812/11812 [==============================] - 2s 157us/step - loss: 261.4480\n",
      "Epoch 23/200\n",
      "11812/11812 [==============================] - 2s 138us/step - loss: 261.3355\n",
      "Epoch 24/200\n",
      "11812/11812 [==============================] - 2s 143us/step - loss: 261.2838\n",
      "Epoch 25/200\n",
      "11812/11812 [==============================] - 2s 164us/step - loss: 261.1883\n",
      "Epoch 26/200\n",
      "11812/11812 [==============================] - 2s 151us/step - loss: 261.0619\n",
      "Epoch 27/200\n",
      "11812/11812 [==============================] - 2s 138us/step - loss: 260.9857\n",
      "Epoch 28/200\n",
      "11812/11812 [==============================] - 2s 135us/step - loss: 261.0322\n",
      "Epoch 29/200\n",
      "11812/11812 [==============================] - 2s 161us/step - loss: 260.9462\n",
      "Epoch 30/200\n",
      "11812/11812 [==============================] - 2s 164us/step - loss: 260.8744\n",
      "Epoch 31/200\n",
      "11812/11812 [==============================] - 2s 161us/step - loss: 260.8786\n",
      "Epoch 32/200\n",
      "11812/11812 [==============================] - 2s 190us/step - loss: 260.8164\n",
      "Epoch 33/200\n",
      "11812/11812 [==============================] - 2s 150us/step - loss: 260.7691\n",
      "Epoch 34/200\n",
      "11812/11812 [==============================] - 2s 159us/step - loss: 260.6738\n",
      "Epoch 35/200\n",
      "11812/11812 [==============================] - 4s 364us/step - loss: 260.7068\n",
      "Epoch 36/200\n",
      "11812/11812 [==============================] - 9s 722us/step - loss: 260.6690\n",
      "Epoch 37/200\n",
      "11812/11812 [==============================] - 6s 530us/step - loss: 260.6470\n",
      "Epoch 38/200\n",
      "11812/11812 [==============================] - 6s 467us/step - loss: 260.6924\n",
      "Epoch 39/200\n",
      "11812/11812 [==============================] - 4s 364us/step - loss: 260.5981\n",
      "Epoch 40/200\n",
      "11812/11812 [==============================] - 3s 277us/step - loss: 260.5883\n",
      "Epoch 41/200\n",
      "11812/11812 [==============================] - 3s 260us/step - loss: 260.5425\n",
      "Epoch 42/200\n",
      "11812/11812 [==============================] - 3s 237us/step - loss: 260.5587\n",
      "Epoch 43/200\n",
      "11812/11812 [==============================] - 3s 250us/step - loss: 260.4928\n",
      "Epoch 44/200\n",
      "11812/11812 [==============================] - 3s 244us/step - loss: 260.5057\n",
      "Epoch 45/200\n",
      "11812/11812 [==============================] - 2s 200us/step - loss: 260.5109\n",
      "Epoch 46/200\n",
      "11812/11812 [==============================] - 2s 205us/step - loss: 260.4005\n",
      "Epoch 47/200\n",
      "11812/11812 [==============================] - 2s 201us/step - loss: 260.4811\n",
      "Epoch 48/200\n",
      "11812/11812 [==============================] - 3s 248us/step - loss: 260.4477\n",
      "Epoch 49/200\n",
      "11812/11812 [==============================] - 5s 423us/step - loss: 260.4685\n",
      "Epoch 50/200\n",
      "11812/11812 [==============================] - 8s 660us/step - loss: 260.3464\n",
      "Epoch 51/200\n",
      "11812/11812 [==============================] - 6s 483us/step - loss: 260.5072\n",
      "Epoch 52/200\n",
      "11812/11812 [==============================] - 4s 377us/step - loss: 260.3472\n",
      "Epoch 53/200\n",
      "11812/11812 [==============================] - 4s 367us/step - loss: 260.4086\n",
      "Epoch 54/200\n",
      "11812/11812 [==============================] - 3s 277us/step - loss: 260.4348\n",
      "Epoch 55/200\n",
      "11812/11812 [==============================] - 3s 257us/step - loss: 260.4066\n",
      "Epoch 56/200\n",
      "11812/11812 [==============================] - 3s 237us/step - loss: 260.4632\n",
      "Epoch 57/200\n",
      "11812/11812 [==============================] - 3s 217us/step - loss: 260.3359\n",
      "Epoch 58/200\n",
      "11812/11812 [==============================] - 2s 209us/step - loss: 260.3922\n",
      "Epoch 59/200\n",
      "11812/11812 [==============================] - 2s 195us/step - loss: 260.3556\n",
      "Epoch 60/200\n",
      "11812/11812 [==============================] - 2s 195us/step - loss: 260.4626\n",
      "Epoch 61/200\n",
      "11812/11812 [==============================] - 2s 172us/step - loss: 260.4828\n",
      "Epoch 62/200\n",
      "11812/11812 [==============================] - 2s 154us/step - loss: 260.3967\n",
      "Epoch 63/200\n",
      "11812/11812 [==============================] - 2s 153us/step - loss: 260.4631\n",
      "Epoch 64/200\n",
      "11812/11812 [==============================] - 2s 144us/step - loss: 260.3620\n",
      "Epoch 65/200\n",
      "11812/11812 [==============================] - 2s 132us/step - loss: 260.3321\n",
      "Epoch 66/200\n",
      "11812/11812 [==============================] - 1s 127us/step - loss: 260.3706\n",
      "Epoch 67/200\n",
      "11812/11812 [==============================] - 2s 145us/step - loss: 260.3941\n",
      "Epoch 68/200\n",
      "11812/11812 [==============================] - 2s 136us/step - loss: 260.3506\n",
      "Epoch 69/200\n",
      "11812/11812 [==============================] - 2s 140us/step - loss: 260.4177\n",
      "Epoch 70/200\n",
      "11812/11812 [==============================] - 2s 129us/step - loss: 260.4147\n",
      "Epoch 71/200\n",
      "11812/11812 [==============================] - 2s 129us/step - loss: 260.3976\n",
      "Epoch 72/200\n",
      "11812/11812 [==============================] - 2s 134us/step - loss: 260.4061\n",
      "Epoch 73/200\n",
      "11812/11812 [==============================] - 1s 121us/step - loss: 260.3581\n",
      "Epoch 74/200\n",
      "11812/11812 [==============================] - 2s 132us/step - loss: 260.3977\n",
      "Epoch 75/200\n",
      "11812/11812 [==============================] - 1s 126us/step - loss: 260.3869\n",
      "Epoch 76/200\n",
      "11812/11812 [==============================] - 1s 126us/step - loss: 260.3832\n",
      "Epoch 77/200\n",
      "11812/11812 [==============================] - 2s 130us/step - loss: 260.2560\n",
      "Epoch 78/200\n",
      "11812/11812 [==============================] - 2s 139us/step - loss: 260.3857\n",
      "Epoch 79/200\n",
      "11812/11812 [==============================] - 2s 133us/step - loss: 260.2850\n",
      "Epoch 80/200\n",
      "11812/11812 [==============================] - 2s 152us/step - loss: 260.3831\n",
      "Epoch 81/200\n",
      "11812/11812 [==============================] - 2s 150us/step - loss: 260.3551\n",
      "Epoch 82/200\n",
      "11812/11812 [==============================] - 2s 142us/step - loss: 260.4193\n",
      "Epoch 83/200\n",
      "11812/11812 [==============================] - 2s 142us/step - loss: 260.3710\n",
      "Epoch 84/200\n",
      "11812/11812 [==============================] - 2s 134us/step - loss: 260.3350\n",
      "Epoch 85/200\n",
      "11812/11812 [==============================] - 2s 144us/step - loss: 260.3157\n",
      "Epoch 86/200\n",
      "11812/11812 [==============================] - 2s 168us/step - loss: 260.3831\n",
      "Epoch 87/200\n",
      "11812/11812 [==============================] - 2s 157us/step - loss: 260.3059\n",
      "Epoch 88/200\n",
      "11812/11812 [==============================] - ETA: 0s - loss: 259.566 - 2s 138us/step - loss: 260.2884\n",
      "Epoch 89/200\n",
      "11812/11812 [==============================] - 2s 132us/step - loss: 260.3570\n",
      "Epoch 90/200\n"
     ]
    },
    {
     "name": "stdout",
     "output_type": "stream",
     "text": [
      "11812/11812 [==============================] - 1s 101us/step - loss: 260.3289\n",
      "Epoch 91/200\n",
      "11812/11812 [==============================] - 1s 103us/step - loss: 260.3419\n",
      "Epoch 92/200\n",
      "11812/11812 [==============================] - 1s 88us/step - loss: 260.3522\n",
      "Epoch 93/200\n",
      "11812/11812 [==============================] - 1s 89us/step - loss: 260.3270\n",
      "Epoch 94/200\n",
      "11812/11812 [==============================] - 1s 84us/step - loss: 260.3448\n",
      "Epoch 95/200\n",
      "11812/11812 [==============================] - 1s 86us/step - loss: 260.3683\n",
      "Epoch 96/200\n",
      "11812/11812 [==============================] - 1s 117us/step - loss: 260.0450\n",
      "Epoch 97/200\n",
      "11812/11812 [==============================] - 1s 111us/step - loss: 260.2824\n",
      "Epoch 98/200\n",
      "11812/11812 [==============================] - 2s 144us/step - loss: 260.3754\n",
      "Epoch 99/200\n",
      "11812/11812 [==============================] - 1s 97us/step - loss: 260.3293\n",
      "Epoch 100/200\n",
      "11812/11812 [==============================] - 1s 113us/step - loss: 260.2038\n",
      "Epoch 101/200\n",
      "11812/11812 [==============================] - 1s 96us/step - loss: 260.3096\n",
      "Epoch 102/200\n",
      "11812/11812 [==============================] - 1s 84us/step - loss: 260.3495\n",
      "Epoch 103/200\n",
      "11812/11812 [==============================] - 1s 118us/step - loss: 260.3696\n",
      "Epoch 104/200\n",
      "11812/11812 [==============================] - 1s 115us/step - loss: 260.2701\n",
      "Epoch 105/200\n",
      "11812/11812 [==============================] - 2s 139us/step - loss: 260.3894\n",
      "Epoch 106/200\n",
      "11812/11812 [==============================] - 1s 124us/step - loss: 260.2980\n",
      "Epoch 107/200\n",
      "11812/11812 [==============================] - 2s 143us/step - loss: 260.2849\n",
      "Epoch 108/200\n",
      "11812/11812 [==============================] - 2s 153us/step - loss: 260.3545\n",
      "Epoch 109/200\n",
      "11812/11812 [==============================] - 1s 86us/step - loss: 260.2785\n",
      "Epoch 110/200\n",
      "11812/11812 [==============================] - 1s 87us/step - loss: 260.2764\n",
      "Epoch 111/200\n",
      "11812/11812 [==============================] - 1s 82us/step - loss: 260.3567\n",
      "Epoch 112/200\n",
      "11812/11812 [==============================] - 1s 85us/step - loss: 260.3480\n",
      "Epoch 113/200\n",
      "11812/11812 [==============================] - 1s 89us/step - loss: 260.3325\n",
      "Epoch 114/200\n",
      "11812/11812 [==============================] - 1s 86us/step - loss: 260.2921\n",
      "Epoch 115/200\n",
      "11812/11812 [==============================] - 1s 84us/step - loss: 260.2459\n",
      "Epoch 116/200\n",
      "11812/11812 [==============================] - 1s 84us/step - loss: 260.3561\n",
      "Epoch 117/200\n",
      "11812/11812 [==============================] - 1s 90us/step - loss: 260.3291\n",
      "Epoch 118/200\n",
      "11812/11812 [==============================] - 2s 130us/step - loss: 260.2820\n",
      "Epoch 119/200\n",
      "11812/11812 [==============================] - 2s 160us/step - loss: 260.2620\n",
      "Epoch 120/200\n",
      "11812/11812 [==============================] - 2s 139us/step - loss: 260.3484\n",
      "Epoch 121/200\n",
      "11812/11812 [==============================] - 1s 123us/step - loss: 260.3030\n",
      "Epoch 122/200\n",
      "11812/11812 [==============================] - 2s 132us/step - loss: 260.3811\n",
      "Epoch 123/200\n",
      "11812/11812 [==============================] - 2s 158us/step - loss: 260.3345\n",
      "Epoch 124/200\n",
      "11812/11812 [==============================] - 2s 136us/step - loss: 260.3609\n",
      "Epoch 125/200\n",
      "11812/11812 [==============================] - 2s 159us/step - loss: 260.3749\n",
      "Epoch 126/200\n",
      "11812/11812 [==============================] - 2s 128us/step - loss: 260.3103\n",
      "Epoch 127/200\n",
      "11812/11812 [==============================] - 2s 144us/step - loss: 260.3868\n",
      "Epoch 128/200\n",
      "11812/11812 [==============================] - 1s 111us/step - loss: 260.2724\n",
      "Epoch 129/200\n",
      "11812/11812 [==============================] - 2s 154us/step - loss: 260.2764\n",
      "Epoch 130/200\n",
      "11812/11812 [==============================] - 1s 90us/step - loss: 260.4110\n",
      "Epoch 131/200\n",
      "11812/11812 [==============================] - 1s 87us/step - loss: 260.3301\n",
      "Epoch 132/200\n",
      "11812/11812 [==============================] - 1s 120us/step - loss: 260.3147\n",
      "Epoch 133/200\n",
      "11812/11812 [==============================] - 1s 103us/step - loss: 260.1470\n",
      "Epoch 134/200\n",
      "11812/11812 [==============================] - 1s 107us/step - loss: 260.3137\n",
      "Epoch 135/200\n",
      "11812/11812 [==============================] - 1s 109us/step - loss: 260.3002\n",
      "Epoch 136/200\n",
      "11812/11812 [==============================] - 1s 85us/step - loss: 260.3242\n",
      "Epoch 137/200\n",
      "11812/11812 [==============================] - 1s 118us/step - loss: 260.1825\n",
      "Epoch 138/200\n",
      "11812/11812 [==============================] - 2s 139us/step - loss: 260.3006\n",
      "Epoch 139/200\n",
      "11812/11812 [==============================] - 1s 120us/step - loss: 260.3050\n",
      "Epoch 140/200\n",
      "11812/11812 [==============================] - 1s 99us/step - loss: 260.2288\n",
      "Epoch 141/200\n",
      "11812/11812 [==============================] - 1s 89us/step - loss: 260.1891\n",
      "Epoch 142/200\n",
      "11812/11812 [==============================] - 2s 144us/step - loss: 260.3345\n",
      "Epoch 143/200\n",
      "11812/11812 [==============================] - 1s 89us/step - loss: 260.3493\n",
      "Epoch 144/200\n",
      "11812/11812 [==============================] - 1s 90us/step - loss: 260.3501\n",
      "Epoch 145/200\n",
      "11812/11812 [==============================] - 1s 90us/step - loss: 260.3352\n",
      "Epoch 146/200\n",
      "11812/11812 [==============================] - 1s 90us/step - loss: 260.3199\n",
      "Epoch 147/200\n",
      "11812/11812 [==============================] - 2s 127us/step - loss: 260.2760\n",
      "Epoch 148/200\n",
      "11812/11812 [==============================] - 2s 138us/step - loss: 260.2703\n",
      "Epoch 149/200\n",
      "11812/11812 [==============================] - 1s 88us/step - loss: 260.3131\n",
      "Epoch 150/200\n",
      "11812/11812 [==============================] - 1s 87us/step - loss: 260.3015\n",
      "Epoch 151/200\n",
      "11812/11812 [==============================] - 2s 160us/step - loss: 260.3300\n",
      "Epoch 152/200\n",
      "11812/11812 [==============================] - 1s 123us/step - loss: 260.2981\n",
      "Epoch 153/200\n",
      "11812/11812 [==============================] - 2s 133us/step - loss: 260.3148\n",
      "Epoch 154/200\n",
      "11812/11812 [==============================] - 2s 149us/step - loss: 260.2878\n",
      "Epoch 155/200\n",
      "11812/11812 [==============================] - 2s 138us/step - loss: 260.3740\n",
      "Epoch 156/200\n",
      "11812/11812 [==============================] - 2s 129us/step - loss: 260.3400\n",
      "Epoch 157/200\n",
      "11812/11812 [==============================] - 1s 85us/step - loss: 260.3319\n",
      "Epoch 158/200\n",
      "11812/11812 [==============================] - 1s 84us/step - loss: 260.4093\n",
      "Epoch 159/200\n",
      "11812/11812 [==============================] - 1s 84us/step - loss: 260.1761\n",
      "Epoch 160/200\n",
      "11812/11812 [==============================] - 1s 88us/step - loss: 260.2832\n",
      "Epoch 161/200\n",
      "11812/11812 [==============================] - 1s 86us/step - loss: 260.2821\n",
      "Epoch 162/200\n",
      "11812/11812 [==============================] - 1s 84us/step - loss: 260.3279\n",
      "Epoch 163/200\n",
      "11812/11812 [==============================] - 2s 141us/step - loss: 260.3175\n",
      "Epoch 164/200\n",
      "11812/11812 [==============================] - 1s 126us/step - loss: 260.2597\n",
      "Epoch 165/200\n",
      "11812/11812 [==============================] - 2s 134us/step - loss: 260.2671\n",
      "Epoch 166/200\n",
      "11812/11812 [==============================] - 2s 138us/step - loss: 260.2024\n",
      "Epoch 167/200\n",
      "11812/11812 [==============================] - 1s 127us/step - loss: 260.3482\n",
      "Epoch 168/200\n",
      "11812/11812 [==============================] - 1s 81us/step - loss: 260.3150\n",
      "Epoch 169/200\n",
      "11812/11812 [==============================] - 1s 75us/step - loss: 260.2959\n",
      "Epoch 170/200\n",
      "11812/11812 [==============================] - 1s 79us/step - loss: 260.2828\n",
      "Epoch 171/200\n",
      "11812/11812 [==============================] - 1s 78us/step - loss: 260.3496\n",
      "Epoch 172/200\n",
      "11812/11812 [==============================] - 1s 109us/step - loss: 260.2637\n",
      "Epoch 173/200\n",
      "11812/11812 [==============================] - 1s 74us/step - loss: 260.2850\n",
      "Epoch 174/200\n",
      "11812/11812 [==============================] - 1s 111us/step - loss: 260.2584\n",
      "Epoch 175/200\n",
      "11812/11812 [==============================] - 1s 83us/step - loss: 260.1866\n",
      "Epoch 176/200\n",
      "11812/11812 [==============================] - 1s 103us/step - loss: 260.3253\n",
      "Epoch 177/200\n",
      "11812/11812 [==============================] - 1s 105us/step - loss: 260.1870\n",
      "Epoch 178/200\n",
      "11812/11812 [==============================] - 1s 74us/step - loss: 260.3019\n",
      "Epoch 179/200\n"
     ]
    },
    {
     "name": "stdout",
     "output_type": "stream",
     "text": [
      "11812/11812 [==============================] - 2s 151us/step - loss: 260.2808\n",
      "Epoch 180/200\n",
      "11812/11812 [==============================] - 1s 76us/step - loss: 260.3278\n",
      "Epoch 181/200\n",
      "11812/11812 [==============================] - 1s 83us/step - loss: 260.3021\n",
      "Epoch 182/200\n",
      "11812/11812 [==============================] - 1s 79us/step - loss: 260.3120\n",
      "Epoch 183/200\n",
      "11812/11812 [==============================] - 2s 209us/step - loss: 260.3526\n",
      "Epoch 184/200\n",
      "11812/11812 [==============================] - 1s 93us/step - loss: 260.2545\n",
      "Epoch 185/200\n",
      "11812/11812 [==============================] - 1s 87us/step - loss: 260.3102\n",
      "Epoch 186/200\n",
      "11812/11812 [==============================] - 1s 71us/step - loss: 260.2676\n",
      "Epoch 187/200\n",
      "11812/11812 [==============================] - 2s 138us/step - loss: 260.2601 0s - loss: 258\n",
      "Epoch 188/200\n",
      "11812/11812 [==============================] - 1s 81us/step - loss: 260.3313\n",
      "Epoch 189/200\n",
      "11812/11812 [==============================] - 1s 78us/step - loss: 260.2401\n",
      "Epoch 190/200\n",
      "11812/11812 [==============================] - 1s 76us/step - loss: 260.2294\n",
      "Epoch 191/200\n",
      "11812/11812 [==============================] - 1s 78us/step - loss: 260.2707\n",
      "Epoch 192/200\n",
      "11812/11812 [==============================] - 1s 118us/step - loss: 260.3259\n",
      "Epoch 193/200\n",
      "11812/11812 [==============================] - 2s 166us/step - loss: 260.3067\n",
      "Epoch 194/200\n",
      "11812/11812 [==============================] - 1s 82us/step - loss: 260.1651\n",
      "Epoch 195/200\n",
      "11812/11812 [==============================] - 1s 87us/step - loss: 260.3646\n",
      "Epoch 196/200\n",
      "11812/11812 [==============================] - 1s 83us/step - loss: 260.1995\n",
      "Epoch 197/200\n",
      "11812/11812 [==============================] - 1s 124us/step - loss: 260.4021\n",
      "Epoch 198/200\n",
      "11812/11812 [==============================] - 2s 197us/step - loss: 260.2907\n",
      "Epoch 199/200\n",
      "11812/11812 [==============================] - 1s 107us/step - loss: 260.2618\n",
      "Epoch 200/200\n",
      "11812/11812 [==============================] - 2s 140us/step - loss: 260.3349\n"
     ]
    },
    {
     "data": {
      "text/plain": [
       "<keras.callbacks.History at 0x7f35dbf5bd68>"
      ]
     },
     "execution_count": 43,
     "metadata": {},
     "output_type": "execute_result"
    }
   ],
   "source": [
    "model.fit(X_train, y_train, epochs=EPOCHS, batch_size=BATCH_SIZE)"
   ]
  },
  {
   "cell_type": "code",
   "execution_count": 45,
   "metadata": {},
   "outputs": [
    {
     "name": "stdout",
     "output_type": "stream",
     "text": [
      "Mean squared error:  267.9923063549716\n",
      "Showing the first 10 differences between predicted and real.\n",
      "26.926544 56.0\n",
      "23.011917 44.0\n",
      "22.127241 6.0\n",
      "20.630327 12.0\n",
      "17.92175 45.0\n",
      "19.586946 0.0\n",
      "28.376467 17.0\n",
      "21.01594 14.0\n",
      "21.406012 10.0\n",
      "18.977024 10.0\n"
     ]
    }
   ],
   "source": [
    "y_pred = model.predict(X_test)\n",
    "\n",
    "y_pred = y_pred.flatten()\n",
    "\n",
    "# how far off is the result? metric = mean squared error\n",
    "y_test = np.array(y_test)\n",
    "y_pred = np.array(y_pred)\n",
    "print(\"Mean squared error: \", mean_squared_error(y_true=y_test, y_pred=y_pred))\n",
    "\n",
    "# show first k differences\n",
    "first_k = 10\n",
    "print(\"Showing the first {} differences between predicted and real.\".format(first_k))\n",
    "for yp, yt in zip(y_pred[:first_k], y_test[:first_k]):\n",
    "    print(yp, yt)"
   ]
  },
  {
   "cell_type": "markdown",
   "metadata": {},
   "source": [
    "## Keras embedding + NN"
   ]
  },
  {
   "cell_type": "markdown",
   "metadata": {},
   "source": [
    "### Generate input data "
   ]
  },
  {
   "cell_type": "code",
   "execution_count": 46,
   "metadata": {},
   "outputs": [],
   "source": [
    "X = []\n",
    "for sample in w2v_corpus:\n",
    "    input_sample = generate_input_matrix(sample, FIXED_LENGTH)\n",
    "    if input_sample.shape != (FIXED_LENGTH,):\n",
    "        print(input_sample.shape)\n",
    "    X.append(input_sample)"
   ]
  },
  {
   "cell_type": "markdown",
   "metadata": {},
   "source": [
    "### Encode the words"
   ]
  },
  {
   "cell_type": "code",
   "execution_count": 47,
   "metadata": {},
   "outputs": [
    {
     "data": {
      "text/plain": [
       "LabelEncoder()"
      ]
     },
     "execution_count": 47,
     "metadata": {},
     "output_type": "execute_result"
    }
   ],
   "source": [
    "encoder = LabelEncoder()\n",
    "encoder.fit(np.array(X).flatten())"
   ]
  },
  {
   "cell_type": "code",
   "execution_count": 48,
   "metadata": {},
   "outputs": [],
   "source": [
    "X_encoded = []\n",
    "for sentence in X:\n",
    "    encoded = encoder.transform(sentence)\n",
    "    X_encoded.append(encoded)"
   ]
  },
  {
   "cell_type": "markdown",
   "metadata": {},
   "source": [
    "### Split X in train and test"
   ]
  },
  {
   "cell_type": "code",
   "execution_count": 49,
   "metadata": {},
   "outputs": [],
   "source": [
    "X_train, X_test, y_train, y_test = train_test_split(X_encoded, y_label, test_size=0.2, random_state=42)"
   ]
  },
  {
   "cell_type": "code",
   "execution_count": 50,
   "metadata": {},
   "outputs": [
    {
     "data": {
      "text/plain": [
       "(17,)"
      ]
     },
     "execution_count": 50,
     "metadata": {},
     "output_type": "execute_result"
    }
   ],
   "source": [
    "INPUT_SHAPE = (FIXED_LENGTH, )\n",
    "INPUT_SHAPE"
   ]
  },
  {
   "cell_type": "markdown",
   "metadata": {},
   "source": [
    "### Define the Keras embedded model "
   ]
  },
  {
   "cell_type": "code",
   "execution_count": 51,
   "metadata": {},
   "outputs": [],
   "source": [
    "def keras_embedding_model(encoder):\n",
    "    # Create model\n",
    "    input_layer = Input(shape=(FIXED_LENGTH,), name='input')\n",
    "    embedded_text = Embedding(input_dim=len(encoder.classes_),\n",
    "                              output_dim=EMBEDDING_SIZE,\n",
    "                              name='text_embedding')(input_layer)\n",
    "    embedded_text = Flatten()(embedded_text)\n",
    "    z = BatchNormalization()(embedded_text)\n",
    "    z = Dense(32, activation='relu', name='fc1', kernel_initializer='normal')(z)\n",
    "    z = BatchNormalization()(z)\n",
    "    z = Dropout(0.7)(z)\n",
    "    z = ReLU()(z)\n",
    "    output = Dense(1, kernel_initializer='normal', activation='linear')(z)\n",
    "    model = Model(inputs=[input_layer], outputs=[output])\n",
    "\n",
    "    # Compile model\n",
    "    model.compile(optimizer=Adam(lr=0.01), loss='mean_squared_error')\n",
    "\n",
    "    return model"
   ]
  },
  {
   "cell_type": "code",
   "execution_count": 52,
   "metadata": {},
   "outputs": [],
   "source": [
    "keras_embedded_model = keras_embedding_model(encoder=encoder)"
   ]
  },
  {
   "cell_type": "code",
   "execution_count": 53,
   "metadata": {},
   "outputs": [
    {
     "name": "stdout",
     "output_type": "stream",
     "text": [
      "_________________________________________________________________\n",
      "Layer (type)                 Output Shape              Param #   \n",
      "=================================================================\n",
      "input (InputLayer)           (None, 17)                0         \n",
      "_________________________________________________________________\n",
      "text_embedding (Embedding)   (None, 17, 50)            243150    \n",
      "_________________________________________________________________\n",
      "flatten_2 (Flatten)          (None, 850)               0         \n",
      "_________________________________________________________________\n",
      "batch_normalization_1 (Batch (None, 850)               3400      \n",
      "_________________________________________________________________\n",
      "fc1 (Dense)                  (None, 32)                27232     \n",
      "_________________________________________________________________\n",
      "batch_normalization_2 (Batch (None, 32)                128       \n",
      "_________________________________________________________________\n",
      "dropout_1 (Dropout)          (None, 32)                0         \n",
      "_________________________________________________________________\n",
      "re_lu_1 (ReLU)               (None, 32)                0         \n",
      "_________________________________________________________________\n",
      "dense_2 (Dense)              (None, 1)                 33        \n",
      "=================================================================\n",
      "Total params: 273,943\n",
      "Trainable params: 272,179\n",
      "Non-trainable params: 1,764\n",
      "_________________________________________________________________\n"
     ]
    }
   ],
   "source": [
    "keras_embedded_model.summary()"
   ]
  },
  {
   "cell_type": "code",
   "execution_count": 54,
   "metadata": {},
   "outputs": [],
   "source": [
    "def schedule(epoch, lr):\n",
    "    if epoch in [500]:\n",
    "        return lr / 3.0\n",
    "    return lr\n",
    "scheduler = LearningRateScheduler(schedule=schedule)"
   ]
  },
  {
   "cell_type": "code",
   "execution_count": 55,
   "metadata": {},
   "outputs": [],
   "source": [
    "y_series = pd.Series(y_label)\n",
    "std_y, mean_y = y_series.describe()['std'], y_series.describe()['mean']\n",
    "\n",
    "def rmse(y_true, y_pred):\n",
    "    y_true = y_true * std_y + mean_y\n",
    "    y_pred = y_pred * std_y + mean_y\n",
    "    return K.sqrt(K.mean(K.square(y_true - y_pred), axis=0))"
   ]
  },
  {
   "cell_type": "code",
   "execution_count": 56,
   "metadata": {},
   "outputs": [],
   "source": [
    "X_train = np.array(X_train)\n",
    "X_test = np.array(X_test)\n",
    "y_train = np.array(y_train)\n",
    "y_test = np.array(y_test)"
   ]
  },
  {
   "cell_type": "code",
   "execution_count": 57,
   "metadata": {},
   "outputs": [
    {
     "data": {
      "text/plain": [
       "((11812, 17), (11812,))"
      ]
     },
     "execution_count": 57,
     "metadata": {},
     "output_type": "execute_result"
    }
   ],
   "source": [
    "X_train.shape, y_train.shape"
   ]
  },
  {
   "cell_type": "code",
   "execution_count": 58,
   "metadata": {
    "scrolled": true
   },
   "outputs": [
    {
     "name": "stdout",
     "output_type": "stream",
     "text": [
      "Epoch 1/200\n",
      "11812/11812 [==============================] - 6s 512us/step - loss: 257.0772\n",
      "Epoch 2/200\n",
      "   16/11812 [..............................] - ETA: 5s - loss: 226.7228"
     ]
    },
    {
     "name": "stderr",
     "output_type": "stream",
     "text": [
      "/home/skadi/.local/lib/python3.5/site-packages/keras/callbacks.py:569: RuntimeWarning: Early stopping conditioned on metric `rmse` which is not available. Available metrics are: lr,loss\n",
      "  (self.monitor, ','.join(list(logs.keys()))), RuntimeWarning\n"
     ]
    },
    {
     "name": "stdout",
     "output_type": "stream",
     "text": [
      "11812/11812 [==============================] - 5s 452us/step - loss: 179.5519\n",
      "Epoch 3/200\n",
      "11812/11812 [==============================] - 5s 446us/step - loss: 156.3318\n",
      "Epoch 4/200\n",
      "11812/11812 [==============================] - 5s 450us/step - loss: 143.7233\n",
      "Epoch 5/200\n",
      "11812/11812 [==============================] - 6s 466us/step - loss: 133.1381\n",
      "Epoch 6/200\n",
      "11812/11812 [==============================] - 6s 475us/step - loss: 124.7230\n",
      "Epoch 7/200\n",
      "11812/11812 [==============================] - 6s 473us/step - loss: 118.1138\n",
      "Epoch 8/200\n",
      "11812/11812 [==============================] - 6s 484us/step - loss: 114.9114\n",
      "Epoch 9/200\n",
      "11812/11812 [==============================] - 6s 486us/step - loss: 112.5876\n",
      "Epoch 10/200\n",
      "11812/11812 [==============================] - 6s 498us/step - loss: 108.0610\n",
      "Epoch 11/200\n",
      "11812/11812 [==============================] - 6s 475us/step - loss: 113.2753\n",
      "Epoch 12/200\n",
      "11812/11812 [==============================] - 6s 482us/step - loss: 106.1440\n",
      "Epoch 13/200\n",
      "11812/11812 [==============================] - 6s 477us/step - loss: 103.7550\n",
      "Epoch 14/200\n",
      "11812/11812 [==============================] - 6s 478us/step - loss: 101.6747\n",
      "Epoch 15/200\n",
      "11812/11812 [==============================] - 6s 473us/step - loss: 103.6081\n",
      "Epoch 16/200\n",
      "11812/11812 [==============================] - 6s 487us/step - loss: 102.2510\n",
      "Epoch 17/200\n",
      "11812/11812 [==============================] - 6s 474us/step - loss: 99.4985\n",
      "Epoch 18/200\n",
      "11812/11812 [==============================] - 6s 467us/step - loss: 99.9597\n",
      "Epoch 19/200\n",
      "11812/11812 [==============================] - 6s 470us/step - loss: 98.7800\n",
      "Epoch 20/200\n",
      "11812/11812 [==============================] - 6s 477us/step - loss: 98.8877\n",
      "Epoch 21/200\n",
      "11812/11812 [==============================] - 6s 479us/step - loss: 98.1817\n",
      "Epoch 22/200\n",
      "11812/11812 [==============================] - 6s 468us/step - loss: 95.5111\n",
      "Epoch 23/200\n",
      "11812/11812 [==============================] - 6s 530us/step - loss: 93.7358\n",
      "Epoch 24/200\n",
      "11812/11812 [==============================] - 6s 527us/step - loss: 96.5352\n",
      "Epoch 25/200\n",
      "11812/11812 [==============================] - 6s 523us/step - loss: 93.1482\n",
      "Epoch 26/200\n",
      "11812/11812 [==============================] - 6s 539us/step - loss: 94.7703\n",
      "Epoch 27/200\n",
      "11812/11812 [==============================] - 6s 506us/step - loss: 92.9721\n",
      "Epoch 28/200\n",
      "11812/11812 [==============================] - 6s 511us/step - loss: 92.7620\n",
      "Epoch 29/200\n",
      "11812/11812 [==============================] - 6s 516us/step - loss: 90.9418\n",
      "Epoch 30/200\n",
      "11812/11812 [==============================] - 6s 514us/step - loss: 91.6908\n",
      "Epoch 31/200\n",
      "11812/11812 [==============================] - 6s 516us/step - loss: 93.9505\n",
      "Epoch 32/200\n",
      "11812/11812 [==============================] - 6s 549us/step - loss: 91.6483\n",
      "Epoch 33/200\n",
      "11812/11812 [==============================] - 7s 551us/step - loss: 91.7227\n",
      "Epoch 34/200\n",
      "11812/11812 [==============================] - 6s 526us/step - loss: 88.7179\n",
      "Epoch 35/200\n",
      "11812/11812 [==============================] - 6s 533us/step - loss: 88.4648\n",
      "Epoch 36/200\n",
      "11812/11812 [==============================] - 6s 539us/step - loss: 88.6936\n",
      "Epoch 37/200\n",
      "11812/11812 [==============================] - 6s 550us/step - loss: 92.1425\n",
      "Epoch 38/200\n",
      "11812/11812 [==============================] - 6s 544us/step - loss: 88.4825\n",
      "Epoch 39/200\n",
      "11812/11812 [==============================] - 6s 538us/step - loss: 87.5866\n",
      "Epoch 40/200\n",
      "11812/11812 [==============================] - 7s 634us/step - loss: 87.2020\n",
      "Epoch 41/200\n",
      "11812/11812 [==============================] - 9s 726us/step - loss: 89.6761\n",
      "Epoch 42/200\n",
      "11812/11812 [==============================] - 8s 695us/step - loss: 91.0173\n",
      "Epoch 43/200\n",
      "11812/11812 [==============================] - 7s 587us/step - loss: 88.5511\n",
      "Epoch 44/200\n",
      "11812/11812 [==============================] - 7s 591us/step - loss: 87.1749\n",
      "Epoch 45/200\n",
      "11812/11812 [==============================] - 7s 591us/step - loss: 88.4148\n",
      "Epoch 46/200\n",
      "11812/11812 [==============================] - 7s 602us/step - loss: 88.1560\n",
      "Epoch 47/200\n",
      "11812/11812 [==============================] - 7s 599us/step - loss: 84.8539\n",
      "Epoch 48/200\n",
      "11812/11812 [==============================] - 7s 598us/step - loss: 87.1982\n",
      "Epoch 49/200\n",
      "11812/11812 [==============================] - 7s 586us/step - loss: 87.2586\n",
      "Epoch 50/200\n",
      "11812/11812 [==============================] - 7s 606us/step - loss: 91.4338\n",
      "Epoch 51/200\n",
      "11812/11812 [==============================] - 7s 592us/step - loss: 86.7196\n",
      "Epoch 52/200\n",
      "11812/11812 [==============================] - 7s 595us/step - loss: 87.2809\n",
      "Epoch 53/200\n",
      "11812/11812 [==============================] - 7s 593us/step - loss: 84.9500\n",
      "Epoch 54/200\n",
      "11812/11812 [==============================] - 7s 601us/step - loss: 84.4369\n",
      "Epoch 55/200\n",
      "11812/11812 [==============================] - 8s 638us/step - loss: 84.5419\n",
      "Epoch 56/200\n",
      "11812/11812 [==============================] - 8s 679us/step - loss: 85.2556\n",
      "Epoch 57/200\n",
      "11812/11812 [==============================] - 11s 940us/step - loss: 85.1628\n",
      "Epoch 58/200\n",
      "11812/11812 [==============================] - 12s 1ms/step - loss: 82.6097\n",
      "Epoch 59/200\n",
      "11812/11812 [==============================] - 9s 724us/step - loss: 84.1609\n",
      "Epoch 60/200\n",
      "11812/11812 [==============================] - 10s 851us/step - loss: 83.8991\n",
      "Epoch 61/200\n",
      "11812/11812 [==============================] - 10s 819us/step - loss: 86.8380s - loss: 8\n",
      "Epoch 62/200\n",
      "11812/11812 [==============================] - 11s 922us/step - loss: 84.9653\n",
      "Epoch 63/200\n",
      "11812/11812 [==============================] - 8s 671us/step - loss: 83.6782\n",
      "Epoch 64/200\n",
      "11812/11812 [==============================] - 8s 656us/step - loss: 83.9593\n",
      "Epoch 65/200\n",
      "11812/11812 [==============================] - 8s 659us/step - loss: 85.0857\n",
      "Epoch 66/200\n",
      "11812/11812 [==============================] - 8s 635us/step - loss: 85.3530\n",
      "Epoch 67/200\n",
      "11812/11812 [==============================] - 7s 613us/step - loss: 81.7284\n",
      "Epoch 68/200\n",
      "11812/11812 [==============================] - 7s 609us/step - loss: 81.5195\n",
      "Epoch 69/200\n",
      "11812/11812 [==============================] - 7s 609us/step - loss: 82.1727\n",
      "Epoch 70/200\n",
      "11812/11812 [==============================] - 7s 628us/step - loss: 83.4058\n",
      "Epoch 71/200\n",
      "11812/11812 [==============================] - 7s 619us/step - loss: 82.9957\n",
      "Epoch 72/200\n",
      "11812/11812 [==============================] - 7s 611us/step - loss: 86.8463\n",
      "Epoch 73/200\n",
      "11812/11812 [==============================] - 7s 590us/step - loss: 85.5751\n",
      "Epoch 74/200\n",
      "11812/11812 [==============================] - 7s 600us/step - loss: 78.5369\n",
      "Epoch 75/200\n",
      "11812/11812 [==============================] - 7s 595us/step - loss: 82.8197\n",
      "Epoch 76/200\n",
      "11812/11812 [==============================] - 8s 673us/step - loss: 80.4705\n",
      "Epoch 77/200\n",
      "11812/11812 [==============================] - 7s 599us/step - loss: 84.5007\n",
      "Epoch 78/200\n",
      "11812/11812 [==============================] - 7s 605us/step - loss: 86.0978\n",
      "Epoch 79/200\n",
      "11812/11812 [==============================] - 7s 600us/step - loss: 81.2576\n",
      "Epoch 80/200\n",
      "11812/11812 [==============================] - 7s 612us/step - loss: 88.2722\n",
      "Epoch 81/200\n",
      "11812/11812 [==============================] - 8s 666us/step - loss: 81.7107\n",
      "Epoch 82/200\n",
      "11812/11812 [==============================] - 7s 617us/step - loss: 81.8603\n",
      "Epoch 83/200\n",
      "11812/11812 [==============================] - 8s 644us/step - loss: 83.5955\n",
      "Epoch 84/200\n",
      "11812/11812 [==============================] - 7s 635us/step - loss: 83.1323\n",
      "Epoch 85/200\n",
      "11812/11812 [==============================] - 7s 612us/step - loss: 84.4540\n",
      "Epoch 86/200\n",
      "11812/11812 [==============================] - 7s 593us/step - loss: 80.1551\n",
      "Epoch 87/200\n",
      "11812/11812 [==============================] - 7s 613us/step - loss: 82.4936\n",
      "Epoch 88/200\n",
      "11812/11812 [==============================] - 7s 599us/step - loss: 80.6218\n",
      "Epoch 89/200\n",
      "11812/11812 [==============================] - 7s 599us/step - loss: 80.6608\n",
      "Epoch 90/200\n",
      "11812/11812 [==============================] - 7s 600us/step - loss: 81.4746\n",
      "Epoch 91/200\n",
      "11812/11812 [==============================] - 9s 736us/step - loss: 81.8759\n",
      "Epoch 92/200\n",
      "11812/11812 [==============================] - 8s 644us/step - loss: 81.7506\n"
     ]
    },
    {
     "name": "stdout",
     "output_type": "stream",
     "text": [
      "Epoch 93/200\n",
      "11812/11812 [==============================] - 5s 426us/step - loss: 83.0164\n",
      "Epoch 94/200\n",
      "11812/11812 [==============================] - 5s 443us/step - loss: 81.5588\n",
      "Epoch 95/200\n",
      "11812/11812 [==============================] - 5s 433us/step - loss: 81.0640\n",
      "Epoch 96/200\n",
      "11812/11812 [==============================] - 5s 427us/step - loss: 82.5015\n",
      "Epoch 97/200\n",
      "11812/11812 [==============================] - 5s 435us/step - loss: 80.4092\n",
      "Epoch 98/200\n",
      "11812/11812 [==============================] - 5s 445us/step - loss: 77.5473\n",
      "Epoch 99/200\n",
      "11812/11812 [==============================] - 5s 426us/step - loss: 82.4049\n",
      "Epoch 100/200\n",
      "11812/11812 [==============================] - 5s 420us/step - loss: 81.6600\n",
      "Epoch 101/200\n",
      "11812/11812 [==============================] - 5s 420us/step - loss: 77.2971\n",
      "Epoch 102/200\n",
      "11812/11812 [==============================] - 5s 418us/step - loss: 81.0036\n",
      "Epoch 103/200\n",
      "11812/11812 [==============================] - 5s 424us/step - loss: 81.1159\n",
      "Epoch 104/200\n",
      "11812/11812 [==============================] - 5s 436us/step - loss: 81.5385\n",
      "Epoch 105/200\n",
      "11812/11812 [==============================] - 5s 436us/step - loss: 79.5439\n",
      "Epoch 106/200\n",
      "11812/11812 [==============================] - 5s 432us/step - loss: 79.2045\n",
      "Epoch 107/200\n",
      "11812/11812 [==============================] - 5s 434us/step - loss: 81.1389\n",
      "Epoch 108/200\n",
      "11812/11812 [==============================] - 5s 423us/step - loss: 80.5487\n",
      "Epoch 109/200\n",
      "11812/11812 [==============================] - 5s 427us/step - loss: 80.8921\n",
      "Epoch 110/200\n",
      "11812/11812 [==============================] - 5s 434us/step - loss: 82.8716\n",
      "Epoch 111/200\n",
      "11812/11812 [==============================] - 5s 415us/step - loss: 81.3386\n",
      "Epoch 112/200\n",
      "11812/11812 [==============================] - 5s 421us/step - loss: 80.4520\n",
      "Epoch 113/200\n",
      "11812/11812 [==============================] - 5s 419us/step - loss: 83.5574\n",
      "Epoch 114/200\n",
      "11812/11812 [==============================] - 5s 418us/step - loss: 80.5501\n",
      "Epoch 115/200\n",
      "11812/11812 [==============================] - 5s 429us/step - loss: 79.7163\n",
      "Epoch 116/200\n",
      "11812/11812 [==============================] - 5s 417us/step - loss: 80.1087\n",
      "Epoch 117/200\n",
      "11812/11812 [==============================] - 5s 432us/step - loss: 79.8367\n",
      "Epoch 118/200\n",
      "11812/11812 [==============================] - 5s 422us/step - loss: 81.4020\n",
      "Epoch 119/200\n",
      "11812/11812 [==============================] - 5s 418us/step - loss: 80.5117\n",
      "Epoch 120/200\n",
      "11812/11812 [==============================] - 5s 418us/step - loss: 79.7918\n",
      "Epoch 121/200\n",
      "11812/11812 [==============================] - 5s 424us/step - loss: 84.3663\n",
      "Epoch 122/200\n",
      "11812/11812 [==============================] - 6s 466us/step - loss: 82.7984\n",
      "Epoch 123/200\n",
      "11812/11812 [==============================] - 4s 381us/step - loss: 79.2702\n",
      "Epoch 124/200\n",
      "11812/11812 [==============================] - 4s 339us/step - loss: 79.2216\n",
      "Epoch 125/200\n",
      "11812/11812 [==============================] - 4s 333us/step - loss: 79.5088\n",
      "Epoch 126/200\n",
      "11812/11812 [==============================] - 4s 327us/step - loss: 81.8208\n",
      "Epoch 127/200\n",
      "11812/11812 [==============================] - 4s 327us/step - loss: 81.2734\n",
      "Epoch 128/200\n",
      "11812/11812 [==============================] - 4s 328us/step - loss: 77.9398\n",
      "Epoch 129/200\n",
      "11812/11812 [==============================] - 4s 332us/step - loss: 77.2096\n",
      "Epoch 130/200\n",
      "11812/11812 [==============================] - 4s 322us/step - loss: 78.3389\n",
      "Epoch 131/200\n",
      "11812/11812 [==============================] - 4s 327us/step - loss: 78.4939\n",
      "Epoch 132/200\n",
      "11812/11812 [==============================] - 5s 386us/step - loss: 79.4750\n",
      "Epoch 133/200\n",
      "11812/11812 [==============================] - 5s 385us/step - loss: 79.1803\n",
      "Epoch 134/200\n",
      "11812/11812 [==============================] - 5s 399us/step - loss: 78.3459\n",
      "Epoch 135/200\n",
      "11812/11812 [==============================] - 4s 351us/step - loss: 78.1116\n",
      "Epoch 136/200\n",
      "11812/11812 [==============================] - 6s 473us/step - loss: 78.9154\n",
      "Epoch 137/200\n",
      "11812/11812 [==============================] - 5s 447us/step - loss: 79.0325\n",
      "Epoch 138/200\n",
      "11812/11812 [==============================] - 6s 526us/step - loss: 79.5741\n",
      "Epoch 139/200\n",
      "11812/11812 [==============================] - 5s 381us/step - loss: 79.3225\n",
      "Epoch 140/200\n",
      "11812/11812 [==============================] - 6s 515us/step - loss: 78.1367\n",
      "Epoch 141/200\n",
      "11812/11812 [==============================] - 4s 351us/step - loss: 77.1394\n",
      "Epoch 142/200\n",
      "11812/11812 [==============================] - 4s 353us/step - loss: 80.8393\n",
      "Epoch 143/200\n",
      "11812/11812 [==============================] - 5s 410us/step - loss: 78.8945\n",
      "Epoch 144/200\n",
      "11812/11812 [==============================] - 5s 392us/step - loss: 79.7725\n",
      "Epoch 145/200\n",
      "11812/11812 [==============================] - 4s 350us/step - loss: 76.4709\n",
      "Epoch 146/200\n",
      "11812/11812 [==============================] - 4s 357us/step - loss: 80.7479\n",
      "Epoch 147/200\n",
      "11812/11812 [==============================] - 4s 356us/step - loss: 79.0616\n",
      "Epoch 148/200\n",
      "11812/11812 [==============================] - 4s 354us/step - loss: 76.3513\n",
      "Epoch 149/200\n",
      "11812/11812 [==============================] - 4s 334us/step - loss: 77.1794\n",
      "Epoch 150/200\n",
      "11812/11812 [==============================] - 4s 326us/step - loss: 76.9992\n",
      "Epoch 151/200\n",
      "11812/11812 [==============================] - 4s 363us/step - loss: 80.7845\n",
      "Epoch 152/200\n",
      "11812/11812 [==============================] - 4s 339us/step - loss: 78.9451\n",
      "Epoch 153/200\n",
      "11812/11812 [==============================] - 4s 346us/step - loss: 76.7016\n",
      "Epoch 154/200\n",
      "11812/11812 [==============================] - 4s 341us/step - loss: 78.4832\n",
      "Epoch 155/200\n",
      "11812/11812 [==============================] - 4s 319us/step - loss: 77.4434\n",
      "Epoch 156/200\n",
      "11812/11812 [==============================] - 4s 342us/step - loss: 78.0255\n",
      "Epoch 157/200\n",
      "11812/11812 [==============================] - 4s 356us/step - loss: 76.3032\n",
      "Epoch 158/200\n",
      "11812/11812 [==============================] - 4s 359us/step - loss: 82.2146\n",
      "Epoch 159/200\n",
      "11812/11812 [==============================] - 4s 370us/step - loss: 79.7976\n",
      "Epoch 160/200\n",
      "11812/11812 [==============================] - 4s 346us/step - loss: 78.4928\n",
      "Epoch 161/200\n",
      "11812/11812 [==============================] - 4s 335us/step - loss: 77.1338\n",
      "Epoch 162/200\n",
      "11812/11812 [==============================] - 4s 337us/step - loss: 78.8487\n",
      "Epoch 163/200\n",
      "11812/11812 [==============================] - 4s 363us/step - loss: 78.5801\n",
      "Epoch 164/200\n",
      "11812/11812 [==============================] - 4s 340us/step - loss: 77.4865\n",
      "Epoch 165/200\n",
      "11812/11812 [==============================] - 4s 335us/step - loss: 78.9905\n",
      "Epoch 166/200\n",
      "11812/11812 [==============================] - 4s 338us/step - loss: 76.0333\n",
      "Epoch 167/200\n",
      "11812/11812 [==============================] - 4s 313us/step - loss: 77.9486\n",
      "Epoch 168/200\n",
      "11812/11812 [==============================] - 4s 361us/step - loss: 76.8563\n",
      "Epoch 169/200\n",
      "11812/11812 [==============================] - 7s 559us/step - loss: 76.0061\n",
      "Epoch 170/200\n",
      "11812/11812 [==============================] - 4s 347us/step - loss: 77.3985\n",
      "Epoch 171/200\n",
      "11812/11812 [==============================] - 5s 388us/step - loss: 78.6804\n",
      "Epoch 172/200\n",
      "11812/11812 [==============================] - 5s 392us/step - loss: 81.2583\n",
      "Epoch 173/200\n",
      "11812/11812 [==============================] - 5s 401us/step - loss: 77.5188\n",
      "Epoch 174/200\n",
      "11812/11812 [==============================] - 4s 358us/step - loss: 75.7737\n",
      "Epoch 175/200\n",
      "11812/11812 [==============================] - 4s 344us/step - loss: 74.0335\n",
      "Epoch 176/200\n",
      "11812/11812 [==============================] - 4s 363us/step - loss: 78.6441\n",
      "Epoch 177/200\n",
      "11812/11812 [==============================] - 4s 340us/step - loss: 79.0951\n",
      "Epoch 178/200\n",
      "11812/11812 [==============================] - 4s 364us/step - loss: 76.8801\n",
      "Epoch 179/200\n",
      "11812/11812 [==============================] - 4s 353us/step - loss: 74.5539\n",
      "Epoch 180/200\n",
      "11812/11812 [==============================] - 4s 346us/step - loss: 78.6792\n",
      "Epoch 181/200\n",
      "11812/11812 [==============================] - 4s 346us/step - loss: 77.3618\n",
      "Epoch 182/200\n",
      "11812/11812 [==============================] - 4s 337us/step - loss: 73.4153\n",
      "Epoch 183/200\n"
     ]
    },
    {
     "name": "stdout",
     "output_type": "stream",
     "text": [
      "11812/11812 [==============================] - 5s 403us/step - loss: 77.1947\n",
      "Epoch 184/200\n",
      "11812/11812 [==============================] - 5s 405us/step - loss: 78.5959\n",
      "Epoch 185/200\n",
      "11812/11812 [==============================] - 5s 395us/step - loss: 78.3865\n",
      "Epoch 186/200\n",
      "11812/11812 [==============================] - 4s 331us/step - loss: 77.2839\n",
      "Epoch 187/200\n",
      "11812/11812 [==============================] - 4s 377us/step - loss: 77.0136\n",
      "Epoch 188/200\n",
      "11812/11812 [==============================] - 6s 489us/step - loss: 78.3555\n",
      "Epoch 189/200\n",
      "11812/11812 [==============================] - 5s 410us/step - loss: 78.9709\n",
      "Epoch 190/200\n",
      "11812/11812 [==============================] - 5s 429us/step - loss: 78.1522\n",
      "Epoch 191/200\n",
      "11812/11812 [==============================] - 4s 367us/step - loss: 77.3983\n",
      "Epoch 192/200\n",
      "11812/11812 [==============================] - 4s 351us/step - loss: 76.4492\n",
      "Epoch 193/200\n",
      "11812/11812 [==============================] - 4s 325us/step - loss: 76.8252\n",
      "Epoch 194/200\n",
      "11812/11812 [==============================] - 6s 492us/step - loss: 75.9695\n",
      "Epoch 195/200\n",
      "11812/11812 [==============================] - 5s 413us/step - loss: 80.7332\n",
      "Epoch 196/200\n",
      "11812/11812 [==============================] - 4s 376us/step - loss: 77.0224\n",
      "Epoch 197/200\n",
      "11812/11812 [==============================] - 4s 363us/step - loss: 75.5990\n",
      "Epoch 198/200\n",
      "11812/11812 [==============================] - 4s 353us/step - loss: 78.2310\n",
      "Epoch 199/200\n",
      "11812/11812 [==============================] - 4s 334us/step - loss: 78.0648\n",
      "Epoch 200/200\n",
      "11812/11812 [==============================] - 4s 374us/step - loss: 78.2388\n"
     ]
    }
   ],
   "source": [
    "history = keras_embedded_model.fit(X_train, y_train, epochs=EPOCHS,\n",
    "                    callbacks=[scheduler, EarlyStopping(patience=10, monitor='rmse'),\n",
    "                               ModelCheckpoint('models/embedding.h5', monitor='rmse')],\n",
    "                    batch_size=BATCH_SIZE)"
   ]
  },
  {
   "cell_type": "code",
   "execution_count": 61,
   "metadata": {
    "scrolled": true
   },
   "outputs": [
    {
     "name": "stdout",
     "output_type": "stream",
     "text": [
      "Mean squared error:  15.507113640836335\n",
      "Std:  16.94692760867542\n",
      "Mean:  19.83953960731212\n",
      "Showing the first 10 differences between predicted and real.\n",
      "57.28442 56.0\n",
      "12.685392 44.0\n",
      "15.537098 6.0\n",
      "22.051819 12.0\n",
      "29.747246 45.0\n",
      "10.021058 0.0\n",
      "19.196941 17.0\n",
      "12.228628 14.0\n",
      "13.779607 10.0\n",
      "25.369438 10.0\n"
     ]
    }
   ],
   "source": [
    "y_pred = keras_embedded_model.predict(X_test)\n",
    "\n",
    "y_pred = y_pred.flatten()\n",
    "\n",
    "# how far off is the result? metric = mean squared error\n",
    "y_test = np.array(y_test)\n",
    "y_pred = np.array(y_pred)\n",
    "print(\"Mean squared error: \", np.sqrt(mean_squared_error(y_true=y_test, y_pred=y_pred)))\n",
    "print(\"Std: \", np.std(y_test))\n",
    "print(\"Mean: \", np.mean(y_test))\n",
    "\n",
    "# show first k differences\n",
    "first_k = 10\n",
    "print(\"Showing the first {} differences between predicted and real.\".format(first_k))\n",
    "for yp, yt in zip(y_pred[:first_k], y_test[:first_k]):\n",
    "    print(yp, yt)"
   ]
  },
  {
   "cell_type": "markdown",
   "metadata": {},
   "source": [
    "### Save model"
   ]
  },
  {
   "cell_type": "code",
   "execution_count": 62,
   "metadata": {},
   "outputs": [],
   "source": [
    "keras_embedded_model.save('models/predict_fat_model')"
   ]
  },
  {
   "cell_type": "markdown",
   "metadata": {},
   "source": [
    "### Get the dataframe that has NaN values for our regression column (calories)"
   ]
  },
  {
   "cell_type": "code",
   "execution_count": 63,
   "metadata": {},
   "outputs": [],
   "source": [
    "predict_df = df[df[regr_column] != df[regr_column]]"
   ]
  },
  {
   "cell_type": "markdown",
   "metadata": {},
   "source": [
    "### Get the input data we need to predict the needed values"
   ]
  },
  {
   "cell_type": "code",
   "execution_count": 64,
   "metadata": {},
   "outputs": [],
   "source": [
    "predict_data = []\n",
    "for i in range(len(predict_df)):\n",
    "    predict_data.append(get_small_dict(predict_df, keep_columns, i))\n",
    "corpus = ['|'.join(\n",
    "    d['tags'] + \n",
    "    [w.lower() for w in nltk.word_tokenize(d['title']) if w not in '''!()-[]{};:'\"\\,<>./?@#$%^&*_~''']\n",
    ") for d in predict_data]"
   ]
  },
  {
   "cell_type": "markdown",
   "metadata": {},
   "source": [
    "### Split input data using the tokenizer"
   ]
  },
  {
   "cell_type": "code",
   "execution_count": 65,
   "metadata": {},
   "outputs": [],
   "source": [
    "predict_corpus = []\n",
    "for word_list in corpus:\n",
    "    predict_corpus.append(tokenize(word_list))"
   ]
  },
  {
   "cell_type": "markdown",
   "metadata": {},
   "source": [
    "### Make sure input data has a fixed shape"
   ]
  },
  {
   "cell_type": "code",
   "execution_count": 66,
   "metadata": {},
   "outputs": [],
   "source": [
    "X = []\n",
    "for sample in predict_corpus:\n",
    "    sample = [w for w in sample if w in encoder.classes_]\n",
    "    input_sample = generate_input_matrix(sample, FIXED_LENGTH)\n",
    "    if input_sample.shape != (FIXED_LENGTH,):\n",
    "        print(input_sample.shape)\n",
    "    X.append(input_sample)"
   ]
  },
  {
   "cell_type": "markdown",
   "metadata": {},
   "source": [
    "### Transform matrix-like input data using available encoder"
   ]
  },
  {
   "cell_type": "code",
   "execution_count": 67,
   "metadata": {},
   "outputs": [],
   "source": [
    "X_encoded = []\n",
    "for sentence in X:\n",
    "    encoded = encoder.transform(sentence)\n",
    "    X_encoded.append(encoded)"
   ]
  },
  {
   "cell_type": "code",
   "execution_count": 68,
   "metadata": {},
   "outputs": [
    {
     "data": {
      "text/plain": [
       "(4183, 17)"
      ]
     },
     "execution_count": 68,
     "metadata": {},
     "output_type": "execute_result"
    }
   ],
   "source": [
    "X_encoded = np.array(X_encoded)\n",
    "X_encoded.shape"
   ]
  },
  {
   "cell_type": "markdown",
   "metadata": {},
   "source": [
    "### Predict missing data "
   ]
  },
  {
   "cell_type": "code",
   "execution_count": 69,
   "metadata": {},
   "outputs": [],
   "source": [
    "y_pred = keras_embedded_model.predict(X_encoded)\n",
    "\n",
    "y_pred = y_pred.flatten()"
   ]
  },
  {
   "cell_type": "markdown",
   "metadata": {},
   "source": [
    "### Fill the dataframe with predicted values"
   ]
  },
  {
   "cell_type": "code",
   "execution_count": 70,
   "metadata": {},
   "outputs": [
    {
     "name": "stderr",
     "output_type": "stream",
     "text": [
      "/usr/local/lib/python3.5/dist-packages/ipykernel_launcher.py:1: SettingWithCopyWarning: \n",
      "A value is trying to be set on a copy of a slice from a DataFrame.\n",
      "Try using .loc[row_indexer,col_indexer] = value instead\n",
      "\n",
      "See the caveats in the documentation: http://pandas.pydata.org/pandas-docs/stable/indexing.html#indexing-view-versus-copy\n",
      "  \"\"\"Entry point for launching an IPython kernel.\n"
     ]
    }
   ],
   "source": [
    "predict_df[regr_column] = y_pred"
   ]
  },
  {
   "cell_type": "markdown",
   "metadata": {},
   "source": [
    "### Update initial dataframe with missing values"
   ]
  },
  {
   "cell_type": "code",
   "execution_count": 72,
   "metadata": {},
   "outputs": [],
   "source": [
    "update_regr_column = [np.nan for _ in range(len(df))]\n",
    "for idx, value in zip(predict_df.index, y_pred):\n",
    "    update_regr_column[idx] = value"
   ]
  },
  {
   "cell_type": "code",
   "execution_count": 73,
   "metadata": {},
   "outputs": [],
   "source": [
    "df.update({regr_column: update_regr_column})"
   ]
  },
  {
   "cell_type": "code",
   "execution_count": 74,
   "metadata": {},
   "outputs": [
    {
     "data": {
      "text/html": [
       "<div>\n",
       "<style scoped>\n",
       "    .dataframe tbody tr th:only-of-type {\n",
       "        vertical-align: middle;\n",
       "    }\n",
       "\n",
       "    .dataframe tbody tr th {\n",
       "        vertical-align: top;\n",
       "    }\n",
       "\n",
       "    .dataframe thead th {\n",
       "        text-align: right;\n",
       "    }\n",
       "</style>\n",
       "<table border=\"1\" class=\"dataframe\">\n",
       "  <thead>\n",
       "    <tr style=\"text-align: right;\">\n",
       "      <th></th>\n",
       "      <th>title</th>\n",
       "      <th>rating</th>\n",
       "      <th>calories</th>\n",
       "      <th>protein</th>\n",
       "      <th>fat</th>\n",
       "      <th>sodium</th>\n",
       "      <th>#cakeweek</th>\n",
       "      <th>#wasteless</th>\n",
       "      <th>22-minute meals</th>\n",
       "      <th>3-ingredient recipes</th>\n",
       "      <th>...</th>\n",
       "      <th>yellow squash</th>\n",
       "      <th>yogurt</th>\n",
       "      <th>yonkers</th>\n",
       "      <th>yuca</th>\n",
       "      <th>zucchini</th>\n",
       "      <th>cookbooks</th>\n",
       "      <th>leftovers</th>\n",
       "      <th>snack</th>\n",
       "      <th>snack week</th>\n",
       "      <th>turkey</th>\n",
       "    </tr>\n",
       "  </thead>\n",
       "  <tbody>\n",
       "    <tr>\n",
       "      <th>0</th>\n",
       "      <td>Lentil, Apple, and Turkey Wrap</td>\n",
       "      <td>2.500</td>\n",
       "      <td>426.000000</td>\n",
       "      <td>30.000000</td>\n",
       "      <td>7.000000</td>\n",
       "      <td>559.0</td>\n",
       "      <td>0.0</td>\n",
       "      <td>0.0</td>\n",
       "      <td>0.0</td>\n",
       "      <td>0.0</td>\n",
       "      <td>...</td>\n",
       "      <td>0.0</td>\n",
       "      <td>0.0</td>\n",
       "      <td>0.0</td>\n",
       "      <td>0.0</td>\n",
       "      <td>0.0</td>\n",
       "      <td>0.0</td>\n",
       "      <td>0.0</td>\n",
       "      <td>0.0</td>\n",
       "      <td>0.0</td>\n",
       "      <td>1.0</td>\n",
       "    </tr>\n",
       "    <tr>\n",
       "      <th>1</th>\n",
       "      <td>Boudin Blanc Terrine with Red Onion Confit</td>\n",
       "      <td>4.375</td>\n",
       "      <td>403.000000</td>\n",
       "      <td>18.000000</td>\n",
       "      <td>23.000000</td>\n",
       "      <td>1439.0</td>\n",
       "      <td>0.0</td>\n",
       "      <td>0.0</td>\n",
       "      <td>0.0</td>\n",
       "      <td>0.0</td>\n",
       "      <td>...</td>\n",
       "      <td>0.0</td>\n",
       "      <td>0.0</td>\n",
       "      <td>0.0</td>\n",
       "      <td>0.0</td>\n",
       "      <td>0.0</td>\n",
       "      <td>0.0</td>\n",
       "      <td>0.0</td>\n",
       "      <td>0.0</td>\n",
       "      <td>0.0</td>\n",
       "      <td>0.0</td>\n",
       "    </tr>\n",
       "    <tr>\n",
       "      <th>2</th>\n",
       "      <td>Potato and Fennel Soup Hodge</td>\n",
       "      <td>3.750</td>\n",
       "      <td>165.000000</td>\n",
       "      <td>6.000000</td>\n",
       "      <td>7.000000</td>\n",
       "      <td>165.0</td>\n",
       "      <td>0.0</td>\n",
       "      <td>0.0</td>\n",
       "      <td>0.0</td>\n",
       "      <td>0.0</td>\n",
       "      <td>...</td>\n",
       "      <td>0.0</td>\n",
       "      <td>0.0</td>\n",
       "      <td>0.0</td>\n",
       "      <td>0.0</td>\n",
       "      <td>0.0</td>\n",
       "      <td>0.0</td>\n",
       "      <td>0.0</td>\n",
       "      <td>0.0</td>\n",
       "      <td>0.0</td>\n",
       "      <td>0.0</td>\n",
       "    </tr>\n",
       "    <tr>\n",
       "      <th>3</th>\n",
       "      <td>Mahi-Mahi in Tomato Olive Sauce</td>\n",
       "      <td>5.000</td>\n",
       "      <td>252.445801</td>\n",
       "      <td>14.630608</td>\n",
       "      <td>23.051666</td>\n",
       "      <td>NaN</td>\n",
       "      <td>0.0</td>\n",
       "      <td>0.0</td>\n",
       "      <td>0.0</td>\n",
       "      <td>0.0</td>\n",
       "      <td>...</td>\n",
       "      <td>0.0</td>\n",
       "      <td>0.0</td>\n",
       "      <td>0.0</td>\n",
       "      <td>0.0</td>\n",
       "      <td>0.0</td>\n",
       "      <td>0.0</td>\n",
       "      <td>0.0</td>\n",
       "      <td>0.0</td>\n",
       "      <td>0.0</td>\n",
       "      <td>0.0</td>\n",
       "    </tr>\n",
       "    <tr>\n",
       "      <th>4</th>\n",
       "      <td>Spinach Noodle Casserole</td>\n",
       "      <td>3.125</td>\n",
       "      <td>547.000000</td>\n",
       "      <td>20.000000</td>\n",
       "      <td>32.000000</td>\n",
       "      <td>452.0</td>\n",
       "      <td>0.0</td>\n",
       "      <td>0.0</td>\n",
       "      <td>0.0</td>\n",
       "      <td>0.0</td>\n",
       "      <td>...</td>\n",
       "      <td>0.0</td>\n",
       "      <td>0.0</td>\n",
       "      <td>0.0</td>\n",
       "      <td>0.0</td>\n",
       "      <td>0.0</td>\n",
       "      <td>0.0</td>\n",
       "      <td>0.0</td>\n",
       "      <td>0.0</td>\n",
       "      <td>0.0</td>\n",
       "      <td>0.0</td>\n",
       "    </tr>\n",
       "  </tbody>\n",
       "</table>\n",
       "<p>5 rows × 680 columns</p>\n",
       "</div>"
      ],
      "text/plain": [
       "                                         title  rating    calories    protein  \\\n",
       "0              Lentil, Apple, and Turkey Wrap    2.500  426.000000  30.000000   \n",
       "1  Boudin Blanc Terrine with Red Onion Confit    4.375  403.000000  18.000000   \n",
       "2                Potato and Fennel Soup Hodge    3.750  165.000000   6.000000   \n",
       "3             Mahi-Mahi in Tomato Olive Sauce    5.000  252.445801  14.630608   \n",
       "4                    Spinach Noodle Casserole    3.125  547.000000  20.000000   \n",
       "\n",
       "         fat  sodium  #cakeweek  #wasteless  22-minute meals  \\\n",
       "0   7.000000   559.0        0.0         0.0              0.0   \n",
       "1  23.000000  1439.0        0.0         0.0              0.0   \n",
       "2   7.000000   165.0        0.0         0.0              0.0   \n",
       "3  23.051666     NaN        0.0         0.0              0.0   \n",
       "4  32.000000   452.0        0.0         0.0              0.0   \n",
       "\n",
       "   3-ingredient recipes   ...    yellow squash  yogurt  yonkers  yuca  \\\n",
       "0                   0.0   ...              0.0     0.0      0.0   0.0   \n",
       "1                   0.0   ...              0.0     0.0      0.0   0.0   \n",
       "2                   0.0   ...              0.0     0.0      0.0   0.0   \n",
       "3                   0.0   ...              0.0     0.0      0.0   0.0   \n",
       "4                   0.0   ...              0.0     0.0      0.0   0.0   \n",
       "\n",
       "   zucchini  cookbooks  leftovers  snack  snack week  turkey  \n",
       "0       0.0        0.0        0.0    0.0         0.0     1.0  \n",
       "1       0.0        0.0        0.0    0.0         0.0     0.0  \n",
       "2       0.0        0.0        0.0    0.0         0.0     0.0  \n",
       "3       0.0        0.0        0.0    0.0         0.0     0.0  \n",
       "4       0.0        0.0        0.0    0.0         0.0     0.0  \n",
       "\n",
       "[5 rows x 680 columns]"
      ]
     },
     "execution_count": 74,
     "metadata": {},
     "output_type": "execute_result"
    }
   ],
   "source": [
    "df.head()"
   ]
  },
  {
   "cell_type": "markdown",
   "metadata": {},
   "source": [
    "### Save updated dataframe"
   ]
  },
  {
   "cell_type": "code",
   "execution_count": 75,
   "metadata": {},
   "outputs": [],
   "source": [
    "df.to_csv('recipes_with_calories_protein_and_fat.csv', sep='|')"
   ]
  },
  {
   "cell_type": "code",
   "execution_count": null,
   "metadata": {},
   "outputs": [],
   "source": []
  }
 ],
 "metadata": {
  "kernelspec": {
   "display_name": "Python 3",
   "language": "python",
   "name": "python3"
  },
  "language_info": {
   "codemirror_mode": {
    "name": "ipython",
    "version": 3
   },
   "file_extension": ".py",
   "mimetype": "text/x-python",
   "name": "python",
   "nbconvert_exporter": "python",
   "pygments_lexer": "ipython3",
   "version": "3.5.2"
  }
 },
 "nbformat": 4,
 "nbformat_minor": 2
}
