{
 "cells": [
  {
   "cell_type": "code",
   "execution_count": null,
   "metadata": {},
   "outputs": [],
   "source": [
    "import numpy as np\n",
    "import scipy\n",
    "import pandas as pd\n",
    "import math\n",
    "import random\n",
    "import sklearn\n",
    "import unicodedata\n",
    "\n",
    "from sklearn.feature_extraction.text import TfidfVectorizer, CountVectorizer, TfidfTransformer\n",
    "from sklearn.metrics import accuracy_score, confusion_matrix, mean_squared_error\n",
    "from sklearn.model_selection import train_test_split\n",
    "from sklearn.metrics.pairwise import cosine_similarity\n",
    "from sklearn.preprocessing import LabelEncoder\n",
    "\n",
    "from scipy.sparse.linalg import svds\n",
    "\n",
    "import matplotlib.pyplot as plt"
   ]
  },
  {
   "cell_type": "code",
   "execution_count": 2,
   "metadata": {},
   "outputs": [
    {
     "name": "stderr",
     "output_type": "stream",
     "text": [
      "Using TensorFlow backend.\n"
     ]
    }
   ],
   "source": [
    "from keras.models import Sequential, Model\n",
    "from keras.layers import Dense, Embedding, Input, Conv2D, Concatenate, MaxPool2D, Reshape, Flatten, Dropout\n",
    "from keras.layers import ReLU\n",
    "from keras.layers import BatchNormalization, LSTM, Bidirectional\n",
    "\n",
    "from keras.callbacks import CSVLogger, EarlyStopping, ReduceLROnPlateau\n",
    "from keras.layers import Add\n",
    "\n",
    "from keras.models import Sequential\n",
    "from keras.layers import Dense\n",
    "from keras.wrappers.scikit_learn import KerasRegressor\n",
    "from sklearn.linear_model import LinearRegression\n",
    "from sklearn.model_selection import cross_val_score\n",
    "from sklearn.model_selection import KFold\n",
    "from sklearn.preprocessing import StandardScaler\n",
    "from sklearn.pipeline import Pipeline"
   ]
  },
  {
   "cell_type": "code",
   "execution_count": 3,
   "metadata": {},
   "outputs": [],
   "source": [
    "from keras.optimizers import Adam, SGD\n",
    "from keras.callbacks import LearningRateScheduler\n",
    "from keras.callbacks import EarlyStopping\n",
    "from keras.callbacks import ModelCheckpoint\n",
    "from sklearn.manifold import TSNE\n",
    "from keras import backend as K"
   ]
  },
  {
   "cell_type": "code",
   "execution_count": 4,
   "metadata": {},
   "outputs": [],
   "source": [
    "# !python3 -m pip install gensim"
   ]
  },
  {
   "cell_type": "code",
   "execution_count": 5,
   "metadata": {},
   "outputs": [],
   "source": [
    "from gensim.models import Word2Vec"
   ]
  },
  {
   "cell_type": "code",
   "execution_count": 6,
   "metadata": {},
   "outputs": [],
   "source": [
    "%matplotlib inline"
   ]
  },
  {
   "cell_type": "code",
   "execution_count": 7,
   "metadata": {},
   "outputs": [],
   "source": [
    "# !python3 -m pip install -U nltk\n",
    "# !python3 -m nltk.downloader punkt"
   ]
  },
  {
   "cell_type": "code",
   "execution_count": 8,
   "metadata": {},
   "outputs": [],
   "source": [
    "import nltk"
   ]
  },
  {
   "cell_type": "code",
   "execution_count": 9,
   "metadata": {},
   "outputs": [],
   "source": [
    "from nltk.corpus import stopwords"
   ]
  },
  {
   "cell_type": "code",
   "execution_count": 10,
   "metadata": {},
   "outputs": [],
   "source": [
    "path = 'recipes_with_calories.csv'"
   ]
  },
  {
   "cell_type": "code",
   "execution_count": 11,
   "metadata": {},
   "outputs": [],
   "source": [
    "df = pd.read_csv(path, sep=\"|\", index_col=0)"
   ]
  },
  {
   "cell_type": "code",
   "execution_count": 12,
   "metadata": {},
   "outputs": [
    {
     "data": {
      "text/plain": [
       "680"
      ]
     },
     "execution_count": 12,
     "metadata": {},
     "output_type": "execute_result"
    }
   ],
   "source": [
    "all_columns = list(df.columns)\n",
    "len(all_columns)"
   ]
  },
  {
   "cell_type": "code",
   "execution_count": 13,
   "metadata": {},
   "outputs": [
    {
     "data": {
      "text/plain": [
       "((15864, 680), (20052, 680))"
      ]
     },
     "execution_count": 13,
     "metadata": {},
     "output_type": "execute_result"
    }
   ],
   "source": [
    "df.dropna(axis=0).shape, df.shape"
   ]
  },
  {
   "cell_type": "code",
   "execution_count": 14,
   "metadata": {},
   "outputs": [
    {
     "name": "stdout",
     "output_type": "stream",
     "text": [
      "protein\n",
      "fat\n",
      "sodium\n"
     ]
    }
   ],
   "source": [
    "for column in df.columns:\n",
    "    if df[column].isnull().any():\n",
    "        print(column)\n",
    "#         df[column] = df[column].fillna(df[column].mean())"
   ]
  },
  {
   "cell_type": "code",
   "execution_count": 16,
   "metadata": {},
   "outputs": [],
   "source": [
    "def get_small_dict(df, keep_columns, index):\n",
    "    my_dict = df.iloc[index][keep_columns].to_dict()\n",
    "    my_dict['tags'] = [\n",
    "        key for key, value in df.iloc[index].to_dict().items() if value != 0 and key not in keep_columns]\n",
    "    my_dict['title'] = my_dict['title'].strip()\n",
    "    my_dict['tags'] = [\n",
    "        str(unicodedata.normalize('NFKD', t).encode('ascii','ignore'), encoding='ascii') for t in my_dict['tags']\n",
    "    ]\n",
    "    return my_dict"
   ]
  },
  {
   "cell_type": "code",
   "execution_count": 17,
   "metadata": {},
   "outputs": [],
   "source": [
    "keep_columns = ['title', 'rating', 'calories', 'protein', 'fat','sodium']"
   ]
  },
  {
   "cell_type": "code",
   "execution_count": 18,
   "metadata": {},
   "outputs": [],
   "source": [
    "def remove_outliers_with_tukey(df):\n",
    "    print('There were {} samples before outlier removal.'.format(len(df)))\n",
    "\n",
    "    # Remove calories outliers by the Tukey rule\n",
    "    Q3 = np.percentile(df[regr_column], 75)\n",
    "    Q1 = np.percentile(df[regr_column], 25)\n",
    "    IQR = Q3 - Q1\n",
    "\n",
    "    outliers = df[regr_column].loc[\n",
    "        (df[regr_column] < (Q1 - 1.5 * IQR)) | \n",
    "        (df[regr_column] > (Q3 + 1.5 * IQR))\n",
    "    ].index\n",
    "    \n",
    "    df = df.drop(outliers)\n",
    "    \n",
    "    print('There are now {} samples.'.format(len(cut_df)))\n",
    "\n",
    "    return df"
   ]
  },
  {
   "cell_type": "code",
   "execution_count": 19,
   "metadata": {},
   "outputs": [
    {
     "name": "stdout",
     "output_type": "stream",
     "text": [
      "There were 15890 samples before outlier removal.\n",
      "There are now 15890 samples.\n"
     ]
    }
   ],
   "source": [
    "# pick regression column\n",
    "regr_column = 'protein'\n",
    "cut_df = df[df[regr_column] == df[regr_column]]\n",
    "\n",
    "cut_df = remove_outliers_with_tukey(df=df)\n",
    "\n",
    "# transform df in list of dictionaries for processing\n",
    "regr_data = []\n",
    "for i in range(len(cut_df)):\n",
    "    regr_data.append(get_small_dict(cut_df, keep_columns, i))"
   ]
  },
  {
   "cell_type": "code",
   "execution_count": 21,
   "metadata": {},
   "outputs": [],
   "source": [
    "def remove_punctuation_signs(regr_data):\n",
    "    for d in regr_data:\n",
    "        if 'tags' not in d:\n",
    "            raise ValueError('Expected to have <tags> key in each of the regression input data dictionary!')\n",
    "    corpus = ['|'.join(\n",
    "        d['tags'] + \n",
    "        [w.lower() for w in nltk.word_tokenize(d['title']) if\n",
    "             w not in '''!()-[]{};:'\"\\,<>./?@#$%^&*_~''']\n",
    "    ) for d in regr_data]\n",
    "    return corpus"
   ]
  },
  {
   "cell_type": "code",
   "execution_count": 22,
   "metadata": {},
   "outputs": [],
   "source": [
    "# make sure the data doesn't have any punctuation signs\n",
    "corpus = remove_punctuation_signs(regr_data)"
   ]
  },
  {
   "cell_type": "code",
   "execution_count": 23,
   "metadata": {},
   "outputs": [],
   "source": [
    "# pick tokenization method\n",
    "def tokenize(word_list):\n",
    "    return word_list.split('|')"
   ]
  },
  {
   "cell_type": "code",
   "execution_count": 24,
   "metadata": {},
   "outputs": [],
   "source": [
    "def get_y_labels(regr_column, regr_data):\n",
    "    return [d[regr_column] for d in regr_data]"
   ]
  },
  {
   "cell_type": "code",
   "execution_count": 25,
   "metadata": {},
   "outputs": [],
   "source": [
    "y_label = get_y_labels(regr_column, regr_data)"
   ]
  },
  {
   "cell_type": "code",
   "execution_count": 26,
   "metadata": {},
   "outputs": [],
   "source": [
    "if len(corpus) != len(y_label):\n",
    "    print('[ERROR] There is a mismatch between the size of the input data ' +\n",
    "          ' ({} elements) and the size of labels ({} elements)!'.format(len(corpus), len(y_label)))"
   ]
  },
  {
   "cell_type": "markdown",
   "metadata": {},
   "source": [
    "## Try a vanilla regression (CountVectorizer + LinearRegression from sklearn)"
   ]
  },
  {
   "cell_type": "code",
   "execution_count": 27,
   "metadata": {},
   "outputs": [
    {
     "name": "stdout",
     "output_type": "stream",
     "text": [
      "Mean squared error:  1.4353839059169882e+22\n",
      "18.89750363295439 12.0\n",
      "11.564207810810837 8.0\n",
      "8.126576203755173 13.0\n",
      "11.729228753498825 4.0\n",
      "-49846010989.26628 2.0\n",
      "7.23050381605986 3.0\n",
      "2.9005344099319306 3.0\n",
      "0.5286853498733368 4.0\n",
      "18.47845723097685 20.0\n",
      "38.56466141947109 35.0\n"
     ]
    }
   ],
   "source": [
    "# fit vectorizer\n",
    "vectorizer = CountVectorizer(tokenizer=tokenize)\n",
    "X = vectorizer.fit_transform(corpus)\n",
    "\n",
    "# train, test data\n",
    "X_train, X_test, y_train, y_test = train_test_split(X.toarray(), y_label, test_size=0.2, random_state=42)\n",
    "\n",
    "# sklearn LinearRegression model\n",
    "regr_sklearn = LinearRegression()\n",
    "regr_sklearn.fit(X_train, y_train)\n",
    "\n",
    "# predict data\n",
    "y_pred = regr_sklearn.predict(X_test)\n",
    "\n",
    "# how far off is the result? metric = mean squared error\n",
    "y_test = np.array(y_test)\n",
    "y_pred = np.array(y_pred)\n",
    "print(\"Mean squared error: \", np.sqrt(mean_squared_error(y_true=y_test, y_pred=y_pred)))\n",
    "\n",
    "# show first k differences\n",
    "first_k = 10\n",
    "for yp, yt in zip(y_pred[:first_k], y_test[:first_k]):\n",
    "    print(yp, yt)"
   ]
  },
  {
   "cell_type": "markdown",
   "metadata": {},
   "source": [
    "## Try Word2Vec embeddings + Keras NN"
   ]
  },
  {
   "cell_type": "markdown",
   "metadata": {},
   "source": [
    "### Word2Vec embedding"
   ]
  },
  {
   "cell_type": "code",
   "execution_count": 28,
   "metadata": {},
   "outputs": [
    {
     "name": "stdout",
     "output_type": "stream",
     "text": [
      "Choose embedding size between 12.523316912312747 and 87.59382856164761\n"
     ]
    }
   ],
   "source": [
    "vocab = set()\n",
    "for word_list in corpus:\n",
    "    vocab |= set(tokenize(word_list))\n",
    "\n",
    "print(\"Choose embedding size between {} and {}\".format(np.log2(len(vocab)), np.power(len(vocab), 1/4) * 10))\n",
    "\n",
    "w2v_corpus = []\n",
    "for word_list in corpus:\n",
    "    w2v_corpus.append(tokenize(word_list))"
   ]
  },
  {
   "cell_type": "code",
   "execution_count": 29,
   "metadata": {},
   "outputs": [],
   "source": [
    "EMBEDDING_SIZE = 50"
   ]
  },
  {
   "cell_type": "code",
   "execution_count": 30,
   "metadata": {},
   "outputs": [
    {
     "name": "stdout",
     "output_type": "stream",
     "text": [
      "Embedding size is 50\n"
     ]
    }
   ],
   "source": [
    "w2v_model = Word2Vec(w2v_corpus, size=EMBEDDING_SIZE, window=5, min_count=1, workers=-1)\n",
    "\n",
    "print(\"Embedding size is {}\".format(w2v_model.wv.vector_size))"
   ]
  },
  {
   "cell_type": "code",
   "execution_count": 31,
   "metadata": {},
   "outputs": [
    {
     "name": "stdout",
     "output_type": "stream",
     "text": [
      "Sequence length should be 17.03228863467136 \n"
     ]
    }
   ],
   "source": [
    "sequence_lengths = [len(w) for w in w2v_corpus]\n",
    "\n",
    "print(\"Sequence length should be {} \".format(pd.Series(sequence_lengths).describe()['mean']))"
   ]
  },
  {
   "cell_type": "code",
   "execution_count": 32,
   "metadata": {},
   "outputs": [],
   "source": [
    "FIXED_LENGTH = 17"
   ]
  },
  {
   "cell_type": "code",
   "execution_count": 33,
   "metadata": {},
   "outputs": [],
   "source": [
    "def generate_embeddings_matrix(sample, model, fixed_length=17):\n",
    "    embedding_size = model.wv.vector_size\n",
    "    embeddings = []\n",
    "    for sen in sample:\n",
    "        for word in sen:\n",
    "            if word not in model.wv.vocab:\n",
    "                continue\n",
    "            embeddings.append(model.wv[word])\n",
    "            if len(embeddings) >= fixed_length:\n",
    "                break\n",
    "\n",
    "    embeddings = np.array(embeddings)\n",
    "\n",
    "    while len(embeddings) < fixed_length:\n",
    "        padding_length = fixed_length - len(embeddings)\n",
    "        embeddings = np.concatenate((embeddings, embeddings[:padding_length]))\n",
    "    if len(embeddings) > fixed_length:\n",
    "        embeddings = embeddings[:fixed_length]\n",
    "\n",
    "    return embeddings"
   ]
  },
  {
   "cell_type": "code",
   "execution_count": 34,
   "metadata": {},
   "outputs": [],
   "source": [
    "def generate_input_matrix(sample, fixed_length=17):\n",
    "    \n",
    "    inputs = np.array(sample)\n",
    "\n",
    "    while len(inputs) < fixed_length:\n",
    "        padding_length = fixed_length - len(inputs)\n",
    "        inputs = np.concatenate((inputs, inputs[:padding_length]))\n",
    "    if len(inputs) > fixed_length:\n",
    "        inputs = inputs[:fixed_length]\n",
    "\n",
    "    return inputs"
   ]
  },
  {
   "cell_type": "code",
   "execution_count": 35,
   "metadata": {},
   "outputs": [],
   "source": [
    "# Generate list of input data (embedding matrix) and make sure every input has FIXED_LENGTH elements\n",
    "X = []\n",
    "for sample in w2v_corpus:\n",
    "    embedded_sample = generate_embeddings_matrix(sample, w2v_model, FIXED_LENGTH)\n",
    "    if embedded_sample.shape != (FIXED_LENGTH, EMBEDDING_SIZE):\n",
    "        print(embedded_sample.shape)\n",
    "    X.append(embedded_sample)"
   ]
  },
  {
   "cell_type": "code",
   "execution_count": 36,
   "metadata": {},
   "outputs": [],
   "source": [
    "X_train, X_test, y_train, y_test = train_test_split(X, y_label, test_size=0.2, random_state=42)"
   ]
  },
  {
   "cell_type": "markdown",
   "metadata": {},
   "source": [
    "### Keras NN"
   ]
  },
  {
   "cell_type": "code",
   "execution_count": 37,
   "metadata": {},
   "outputs": [],
   "source": [
    "FIXED_LENGTH = 17\n",
    "EMBEDDING_SIZE = 50\n",
    "\n",
    "BATCH_SIZE = 16\n",
    "EPOCHS=200"
   ]
  },
  {
   "cell_type": "code",
   "execution_count": 38,
   "metadata": {},
   "outputs": [],
   "source": [
    "def baseline_model():\n",
    "    # Create model\n",
    "    input_layer = Input(shape=(FIXED_LENGTH, EMBEDDING_SIZE), name='input')\n",
    "    flat = Flatten()(input_layer)\n",
    "    z = Dense(32, activation='relu', name='fc1', kernel_initializer='normal')(flat)\n",
    "    output = Dense(1, kernel_initializer='normal')(z)\n",
    "    model = Model(inputs=[input_layer], outputs=[output])\n",
    "    # Compile model\n",
    "    model.compile(optimizer='adam', loss='mean_squared_error')\n",
    "    return model"
   ]
  },
  {
   "cell_type": "code",
   "execution_count": 39,
   "metadata": {},
   "outputs": [],
   "source": [
    "model = baseline_model()"
   ]
  },
  {
   "cell_type": "code",
   "execution_count": 40,
   "metadata": {},
   "outputs": [],
   "source": [
    "X_train, X_test, y_train, y_test = train_test_split(X, y_label, test_size=0.2, random_state=42)"
   ]
  },
  {
   "cell_type": "code",
   "execution_count": 41,
   "metadata": {},
   "outputs": [],
   "source": [
    "X_train = np.array(X_train)\n",
    "X_test = np.array(X_test)\n",
    "y_train = np.array(y_train)\n",
    "y_test = np.array(y_test)"
   ]
  },
  {
   "cell_type": "code",
   "execution_count": 42,
   "metadata": {
    "scrolled": true
   },
   "outputs": [
    {
     "name": "stdout",
     "output_type": "stream",
     "text": [
      "Epoch 1/200\n",
      "11818/11818 [==============================] - 1s 124us/step - loss: 284.0700\n",
      "Epoch 2/200\n",
      "11818/11818 [==============================] - 2s 134us/step - loss: 220.7680\n",
      "Epoch 3/200\n",
      "11818/11818 [==============================] - 2s 134us/step - loss: 215.2818\n",
      "Epoch 4/200\n",
      "11818/11818 [==============================] - 2s 144us/step - loss: 212.3870\n",
      "Epoch 5/200\n",
      "11818/11818 [==============================] - 1s 109us/step - loss: 210.5811\n",
      "Epoch 6/200\n",
      "11818/11818 [==============================] - 1s 111us/step - loss: 209.2927\n",
      "Epoch 7/200\n",
      "11818/11818 [==============================] - 1s 110us/step - loss: 208.3562\n",
      "Epoch 8/200\n",
      "11818/11818 [==============================] - 1s 111us/step - loss: 207.5347\n",
      "Epoch 9/200\n",
      "11818/11818 [==============================] - 2s 129us/step - loss: 206.9936\n",
      "Epoch 10/200\n",
      "11818/11818 [==============================] - 2s 128us/step - loss: 206.3022\n",
      "Epoch 11/200\n",
      "11818/11818 [==============================] - 1s 124us/step - loss: 205.9096\n",
      "Epoch 12/200\n",
      "11818/11818 [==============================] - 1s 110us/step - loss: 205.5961\n",
      "Epoch 13/200\n",
      "11818/11818 [==============================] - 1s 111us/step - loss: 205.3068\n",
      "Epoch 14/200\n",
      "11818/11818 [==============================] - 1s 116us/step - loss: 205.0307\n",
      "Epoch 15/200\n",
      "11818/11818 [==============================] - 1s 114us/step - loss: 204.8507\n",
      "Epoch 16/200\n",
      "11818/11818 [==============================] - 1s 114us/step - loss: 204.6644\n",
      "Epoch 17/200\n",
      "11818/11818 [==============================] - 1s 113us/step - loss: 204.4969\n",
      "Epoch 18/200\n",
      "11818/11818 [==============================] - 1s 112us/step - loss: 204.3519\n",
      "Epoch 19/200\n",
      "11818/11818 [==============================] - 1s 114us/step - loss: 204.2655\n",
      "Epoch 20/200\n",
      "11818/11818 [==============================] - 1s 113us/step - loss: 204.1938\n",
      "Epoch 21/200\n",
      "11818/11818 [==============================] - 2s 129us/step - loss: 204.0499\n",
      "Epoch 22/200\n",
      "11818/11818 [==============================] - 1s 112us/step - loss: 203.9910\n",
      "Epoch 23/200\n",
      "11818/11818 [==============================] - 1s 114us/step - loss: 203.8760\n",
      "Epoch 24/200\n",
      "11818/11818 [==============================] - 1s 109us/step - loss: 203.8944\n",
      "Epoch 25/200\n",
      "11818/11818 [==============================] - 1s 111us/step - loss: 203.7892\n",
      "Epoch 26/200\n",
      "11818/11818 [==============================] - 1s 114us/step - loss: 203.7252\n",
      "Epoch 27/200\n",
      "11818/11818 [==============================] - 1s 113us/step - loss: 203.7082\n",
      "Epoch 28/200\n",
      "11818/11818 [==============================] - 1s 117us/step - loss: 203.5866\n",
      "Epoch 29/200\n",
      "11818/11818 [==============================] - 1s 109us/step - loss: 203.6418\n",
      "Epoch 30/200\n",
      "11818/11818 [==============================] - 2s 148us/step - loss: 203.6049\n",
      "Epoch 31/200\n",
      "11818/11818 [==============================] - 2s 160us/step - loss: 203.5465\n",
      "Epoch 32/200\n",
      "11818/11818 [==============================] - 2s 154us/step - loss: 203.5038\n",
      "Epoch 33/200\n",
      "11818/11818 [==============================] - 1s 110us/step - loss: 203.4288\n",
      "Epoch 34/200\n",
      "11818/11818 [==============================] - 1s 117us/step - loss: 203.4971\n",
      "Epoch 35/200\n",
      "11818/11818 [==============================] - 1s 115us/step - loss: 203.3584\n",
      "Epoch 36/200\n",
      "11818/11818 [==============================] - 2s 150us/step - loss: 203.4016\n",
      "Epoch 37/200\n",
      "11818/11818 [==============================] - 3s 236us/step - loss: 203.4199\n",
      "Epoch 38/200\n",
      "11818/11818 [==============================] - 2s 147us/step - loss: 203.4311\n",
      "Epoch 39/200\n",
      "11818/11818 [==============================] - 1s 102us/step - loss: 203.4360\n",
      "Epoch 40/200\n",
      "11818/11818 [==============================] - 1s 111us/step - loss: 203.3241\n",
      "Epoch 41/200\n",
      "11818/11818 [==============================] - 1s 105us/step - loss: 203.3489\n",
      "Epoch 42/200\n",
      "11818/11818 [==============================] - 1s 101us/step - loss: 203.2755\n",
      "Epoch 43/200\n",
      "11818/11818 [==============================] - 1s 115us/step - loss: 203.2118\n",
      "Epoch 44/200\n",
      "11818/11818 [==============================] - 1s 99us/step - loss: 203.2914\n",
      "Epoch 45/200\n",
      "11818/11818 [==============================] - 1s 107us/step - loss: 203.3083\n",
      "Epoch 46/200\n",
      "11818/11818 [==============================] - 1s 113us/step - loss: 203.2888\n",
      "Epoch 47/200\n",
      "11818/11818 [==============================] - 1s 102us/step - loss: 203.2076\n",
      "Epoch 48/200\n",
      "11818/11818 [==============================] - 1s 110us/step - loss: 203.2072\n",
      "Epoch 49/200\n",
      "11818/11818 [==============================] - 1s 97us/step - loss: 203.2517\n",
      "Epoch 50/200\n",
      "11818/11818 [==============================] - 1s 102us/step - loss: 203.2867\n",
      "Epoch 51/200\n",
      "11818/11818 [==============================] - 1s 109us/step - loss: 203.2361\n",
      "Epoch 52/200\n",
      "11818/11818 [==============================] - 1s 113us/step - loss: 203.1697\n",
      "Epoch 53/200\n",
      "11818/11818 [==============================] - 1s 107us/step - loss: 203.2449\n",
      "Epoch 54/200\n",
      "11818/11818 [==============================] - 1s 109us/step - loss: 203.1984\n",
      "Epoch 55/200\n",
      "11818/11818 [==============================] - 1s 107us/step - loss: 203.2591 0s - loss:\n",
      "Epoch 56/200\n",
      "11818/11818 [==============================] - 1s 104us/step - loss: 203.2511\n",
      "Epoch 57/200\n",
      "11818/11818 [==============================] - 1s 106us/step - loss: 203.2146\n",
      "Epoch 58/200\n",
      "11818/11818 [==============================] - 1s 99us/step - loss: 203.1795\n",
      "Epoch 59/200\n",
      "11818/11818 [==============================] - 1s 106us/step - loss: 203.1762\n",
      "Epoch 60/200\n",
      "11818/11818 [==============================] - 1s 100us/step - loss: 203.1652\n",
      "Epoch 61/200\n",
      "11818/11818 [==============================] - 2s 128us/step - loss: 203.1950\n",
      "Epoch 62/200\n",
      "11818/11818 [==============================] - 1s 101us/step - loss: 203.1717\n",
      "Epoch 63/200\n",
      "11818/11818 [==============================] - 1s 96us/step - loss: 203.1245\n",
      "Epoch 64/200\n",
      "11818/11818 [==============================] - 1s 105us/step - loss: 203.1623\n",
      "Epoch 65/200\n",
      "11818/11818 [==============================] - 1s 97us/step - loss: 203.1612\n",
      "Epoch 66/200\n",
      "11818/11818 [==============================] - 1s 98us/step - loss: 203.1198\n",
      "Epoch 67/200\n",
      "11818/11818 [==============================] - 1s 100us/step - loss: 203.1559\n",
      "Epoch 68/200\n",
      "11818/11818 [==============================] - 1s 100us/step - loss: 203.1196\n",
      "Epoch 69/200\n",
      "11818/11818 [==============================] - 1s 106us/step - loss: 203.1178\n",
      "Epoch 70/200\n",
      "11818/11818 [==============================] - 1s 103us/step - loss: 203.1682\n",
      "Epoch 71/200\n",
      "11818/11818 [==============================] - 1s 97us/step - loss: 203.1186\n",
      "Epoch 72/200\n",
      "11818/11818 [==============================] - 1s 103us/step - loss: 203.0823\n",
      "Epoch 73/200\n",
      "11818/11818 [==============================] - 1s 96us/step - loss: 203.0824\n",
      "Epoch 74/200\n",
      "11818/11818 [==============================] - 1s 100us/step - loss: 203.0179\n",
      "Epoch 75/200\n",
      "11818/11818 [==============================] - 1s 96us/step - loss: 202.9777\n",
      "Epoch 76/200\n",
      "11818/11818 [==============================] - 1s 100us/step - loss: 203.0442\n",
      "Epoch 77/200\n",
      "11818/11818 [==============================] - 1s 96us/step - loss: 203.0570\n",
      "Epoch 78/200\n",
      "11818/11818 [==============================] - 1s 112us/step - loss: 202.9983\n",
      "Epoch 79/200\n",
      "11818/11818 [==============================] - 1s 98us/step - loss: 203.0597\n",
      "Epoch 80/200\n",
      "11818/11818 [==============================] - 1s 96us/step - loss: 203.0918\n",
      "Epoch 81/200\n",
      "11818/11818 [==============================] - 1s 94us/step - loss: 203.0335\n",
      "Epoch 82/200\n",
      "11818/11818 [==============================] - 1s 106us/step - loss: 202.9911\n",
      "Epoch 83/200\n",
      "11818/11818 [==============================] - 1s 102us/step - loss: 203.0299\n",
      "Epoch 84/200\n",
      "11818/11818 [==============================] - 1s 100us/step - loss: 203.0003\n",
      "Epoch 85/200\n",
      "11818/11818 [==============================] - 1s 114us/step - loss: 203.0082\n",
      "Epoch 86/200\n",
      "11818/11818 [==============================] - 1s 112us/step - loss: 203.0343 0s - lo\n",
      "Epoch 87/200\n",
      "11818/11818 [==============================] - 1s 104us/step - loss: 202.9583\n",
      "Epoch 88/200\n",
      "11818/11818 [==============================] - 1s 99us/step - loss: 202.9758\n",
      "Epoch 89/200\n",
      "11818/11818 [==============================] - 1s 108us/step - loss: 202.8736\n",
      "Epoch 90/200\n",
      "11818/11818 [==============================] - 1s 96us/step - loss: 202.9964\n",
      "Epoch 91/200\n"
     ]
    },
    {
     "name": "stdout",
     "output_type": "stream",
     "text": [
      "11818/11818 [==============================] - 1s 94us/step - loss: 202.9089\n",
      "Epoch 92/200\n",
      "11818/11818 [==============================] - 1s 92us/step - loss: 202.9508\n",
      "Epoch 93/200\n",
      "11818/11818 [==============================] - 1s 97us/step - loss: 202.8762\n",
      "Epoch 94/200\n",
      "11818/11818 [==============================] - 1s 99us/step - loss: 202.8900\n",
      "Epoch 95/200\n",
      "11818/11818 [==============================] - 1s 90us/step - loss: 202.9161\n",
      "Epoch 96/200\n",
      "11818/11818 [==============================] - 1s 92us/step - loss: 202.8633\n",
      "Epoch 97/200\n",
      "11818/11818 [==============================] - 1s 93us/step - loss: 202.8758\n",
      "Epoch 98/200\n",
      "11818/11818 [==============================] - 1s 93us/step - loss: 202.8294\n",
      "Epoch 99/200\n",
      "11818/11818 [==============================] - 1s 91us/step - loss: 202.7931\n",
      "Epoch 100/200\n",
      "11818/11818 [==============================] - 1s 92us/step - loss: 202.8453\n",
      "Epoch 101/200\n",
      "11818/11818 [==============================] - 1s 96us/step - loss: 202.7533\n",
      "Epoch 102/200\n",
      "11818/11818 [==============================] - 1s 102us/step - loss: 202.7659\n",
      "Epoch 103/200\n",
      "11818/11818 [==============================] - 1s 93us/step - loss: 202.8388\n",
      "Epoch 104/200\n",
      "11818/11818 [==============================] - 1s 99us/step - loss: 202.7958\n",
      "Epoch 105/200\n",
      "11818/11818 [==============================] - 1s 94us/step - loss: 202.7252\n",
      "Epoch 106/200\n",
      "11818/11818 [==============================] - 1s 100us/step - loss: 202.6699\n",
      "Epoch 107/200\n",
      "11818/11818 [==============================] - 1s 93us/step - loss: 202.6256\n",
      "Epoch 108/200\n",
      "11818/11818 [==============================] - 1s 92us/step - loss: 202.7242\n",
      "Epoch 109/200\n",
      "11818/11818 [==============================] - 1s 118us/step - loss: 202.6440\n",
      "Epoch 110/200\n",
      "11818/11818 [==============================] - 1s 97us/step - loss: 202.6934\n",
      "Epoch 111/200\n",
      "11818/11818 [==============================] - 1s 92us/step - loss: 202.5709\n",
      "Epoch 112/200\n",
      "11818/11818 [==============================] - 1s 96us/step - loss: 202.6313\n",
      "Epoch 113/200\n",
      "11818/11818 [==============================] - 1s 92us/step - loss: 202.5348\n",
      "Epoch 114/200\n",
      "11818/11818 [==============================] - 2s 203us/step - loss: 202.5562\n",
      "Epoch 115/200\n",
      "11818/11818 [==============================] - 1s 100us/step - loss: 202.4690\n",
      "Epoch 116/200\n",
      "11818/11818 [==============================] - 1s 101us/step - loss: 202.4546\n",
      "Epoch 117/200\n",
      "11818/11818 [==============================] - 1s 91us/step - loss: 202.4524\n",
      "Epoch 118/200\n",
      "11818/11818 [==============================] - 1s 94us/step - loss: 202.4129\n",
      "Epoch 119/200\n",
      "11818/11818 [==============================] - 1s 92us/step - loss: 202.3261\n",
      "Epoch 120/200\n",
      "11818/11818 [==============================] - 1s 95us/step - loss: 202.2555\n",
      "Epoch 121/200\n",
      "11818/11818 [==============================] - 1s 99us/step - loss: 202.2722\n",
      "Epoch 122/200\n",
      "11818/11818 [==============================] - 1s 102us/step - loss: 202.2617\n",
      "Epoch 123/200\n",
      "11818/11818 [==============================] - 1s 92us/step - loss: 202.2488\n",
      "Epoch 124/200\n",
      "11818/11818 [==============================] - 1s 99us/step - loss: 202.1841\n",
      "Epoch 125/200\n",
      "11818/11818 [==============================] - 1s 95us/step - loss: 202.1223\n",
      "Epoch 126/200\n",
      "11818/11818 [==============================] - 2s 144us/step - loss: 202.0947\n",
      "Epoch 127/200\n",
      "11818/11818 [==============================] - 1s 106us/step - loss: 202.0411\n",
      "Epoch 128/200\n",
      "11818/11818 [==============================] - 1s 99us/step - loss: 202.0601\n",
      "Epoch 129/200\n",
      "11818/11818 [==============================] - 1s 99us/step - loss: 201.9073\n",
      "Epoch 130/200\n",
      "11818/11818 [==============================] - 1s 97us/step - loss: 201.8915\n",
      "Epoch 131/200\n",
      "11818/11818 [==============================] - 1s 99us/step - loss: 201.8142\n",
      "Epoch 132/200\n",
      "11818/11818 [==============================] - 1s 99us/step - loss: 201.8121\n",
      "Epoch 133/200\n",
      "11818/11818 [==============================] - 1s 96us/step - loss: 201.7388\n",
      "Epoch 134/200\n",
      "11818/11818 [==============================] - 1s 96us/step - loss: 201.7002\n",
      "Epoch 135/200\n",
      "11818/11818 [==============================] - 1s 89us/step - loss: 201.6216\n",
      "Epoch 136/200\n",
      "11818/11818 [==============================] - 1s 89us/step - loss: 201.5365\n",
      "Epoch 137/200\n",
      "11818/11818 [==============================] - 1s 90us/step - loss: 201.4915\n",
      "Epoch 138/200\n",
      "11818/11818 [==============================] - 1s 98us/step - loss: 201.4977\n",
      "Epoch 139/200\n",
      "11818/11818 [==============================] - 1s 94us/step - loss: 201.4015\n",
      "Epoch 140/200\n",
      "11818/11818 [==============================] - 1s 94us/step - loss: 201.3046\n",
      "Epoch 141/200\n",
      "11818/11818 [==============================] - 1s 93us/step - loss: 201.3291\n",
      "Epoch 142/200\n",
      "11818/11818 [==============================] - 1s 98us/step - loss: 201.2139\n",
      "Epoch 143/200\n",
      "11818/11818 [==============================] - 1s 91us/step - loss: 201.2197\n",
      "Epoch 144/200\n",
      "11818/11818 [==============================] - 1s 98us/step - loss: 201.0694\n",
      "Epoch 145/200\n",
      "11818/11818 [==============================] - 1s 93us/step - loss: 201.0651\n",
      "Epoch 146/200\n",
      "11818/11818 [==============================] - 1s 92us/step - loss: 201.0118\n",
      "Epoch 147/200\n",
      "11818/11818 [==============================] - 1s 113us/step - loss: 201.0144\n",
      "Epoch 148/200\n",
      "11818/11818 [==============================] - 1s 93us/step - loss: 200.8587\n",
      "Epoch 149/200\n",
      "11818/11818 [==============================] - 1s 96us/step - loss: 200.8099\n",
      "Epoch 150/200\n",
      "11818/11818 [==============================] - 1s 93us/step - loss: 200.7414\n",
      "Epoch 151/200\n",
      "11818/11818 [==============================] - 1s 92us/step - loss: 200.5732\n",
      "Epoch 152/200\n",
      "11818/11818 [==============================] - 1s 94us/step - loss: 200.6135\n",
      "Epoch 153/200\n",
      "11818/11818 [==============================] - 1s 91us/step - loss: 200.6084\n",
      "Epoch 154/200\n",
      "11818/11818 [==============================] - 1s 92us/step - loss: 200.5467\n",
      "Epoch 155/200\n",
      "11818/11818 [==============================] - 1s 102us/step - loss: 200.4807\n",
      "Epoch 156/200\n",
      "11818/11818 [==============================] - 1s 94us/step - loss: 200.3983\n",
      "Epoch 157/200\n",
      "11818/11818 [==============================] - 1s 95us/step - loss: 200.3355\n",
      "Epoch 158/200\n",
      "11818/11818 [==============================] - 1s 97us/step - loss: 200.3197\n",
      "Epoch 159/200\n",
      "11818/11818 [==============================] - 1s 100us/step - loss: 200.1266\n",
      "Epoch 160/200\n",
      "11818/11818 [==============================] - 1s 104us/step - loss: 200.1957\n",
      "Epoch 161/200\n",
      "11818/11818 [==============================] - 1s 97us/step - loss: 200.1195\n",
      "Epoch 162/200\n",
      "11818/11818 [==============================] - 1s 93us/step - loss: 200.0528\n",
      "Epoch 163/200\n",
      "11818/11818 [==============================] - 1s 94us/step - loss: 199.9613\n",
      "Epoch 164/200\n",
      "11818/11818 [==============================] - 1s 98us/step - loss: 199.9647\n",
      "Epoch 165/200\n",
      "11818/11818 [==============================] - 1s 92us/step - loss: 199.8441\n",
      "Epoch 166/200\n",
      "11818/11818 [==============================] - 1s 97us/step - loss: 199.8563\n",
      "Epoch 167/200\n",
      "11818/11818 [==============================] - 1s 96us/step - loss: 199.7277\n",
      "Epoch 168/200\n",
      "11818/11818 [==============================] - 1s 101us/step - loss: 199.6799\n",
      "Epoch 169/200\n",
      "11818/11818 [==============================] - 1s 98us/step - loss: 199.6541\n",
      "Epoch 170/200\n",
      "11818/11818 [==============================] - 1s 97us/step - loss: 199.6035\n",
      "Epoch 171/200\n",
      "11818/11818 [==============================] - 1s 92us/step - loss: 199.4901\n",
      "Epoch 172/200\n",
      "11818/11818 [==============================] - 1s 95us/step - loss: 199.4579\n",
      "Epoch 173/200\n",
      "11818/11818 [==============================] - 1s 96us/step - loss: 199.3995\n",
      "Epoch 174/200\n",
      "11818/11818 [==============================] - 1s 95us/step - loss: 199.3277\n",
      "Epoch 175/200\n",
      "11818/11818 [==============================] - 1s 97us/step - loss: 199.2873\n",
      "Epoch 176/200\n",
      "11818/11818 [==============================] - 1s 92us/step - loss: 199.2390\n",
      "Epoch 177/200\n",
      "11818/11818 [==============================] - 1s 94us/step - loss: 199.2014\n",
      "Epoch 178/200\n",
      "11818/11818 [==============================] - 1s 97us/step - loss: 199.1137\n",
      "Epoch 179/200\n",
      "11818/11818 [==============================] - 1s 96us/step - loss: 199.0815\n",
      "Epoch 180/200\n",
      "11818/11818 [==============================] - 1s 96us/step - loss: 198.9711\n",
      "Epoch 181/200\n"
     ]
    },
    {
     "name": "stdout",
     "output_type": "stream",
     "text": [
      "11818/11818 [==============================] - 1s 97us/step - loss: 198.8725\n",
      "Epoch 182/200\n",
      "11818/11818 [==============================] - 1s 95us/step - loss: 198.9415\n",
      "Epoch 183/200\n",
      "11818/11818 [==============================] - 1s 96us/step - loss: 198.8238\n",
      "Epoch 184/200\n",
      "11818/11818 [==============================] - 1s 92us/step - loss: 198.7341\n",
      "Epoch 185/200\n",
      "11818/11818 [==============================] - 1s 98us/step - loss: 198.6417\n",
      "Epoch 186/200\n",
      "11818/11818 [==============================] - 1s 98us/step - loss: 198.6823\n",
      "Epoch 187/200\n",
      "11818/11818 [==============================] - 1s 96us/step - loss: 198.5848\n",
      "Epoch 188/200\n",
      "11818/11818 [==============================] - 1s 92us/step - loss: 198.5182\n",
      "Epoch 189/200\n",
      "11818/11818 [==============================] - 1s 91us/step - loss: 198.3366\n",
      "Epoch 190/200\n",
      "11818/11818 [==============================] - 1s 93us/step - loss: 198.3881\n",
      "Epoch 191/200\n",
      "11818/11818 [==============================] - 1s 97us/step - loss: 198.3181\n",
      "Epoch 192/200\n",
      "11818/11818 [==============================] - 1s 97us/step - loss: 198.2602\n",
      "Epoch 193/200\n",
      "11818/11818 [==============================] - 1s 92us/step - loss: 198.1232\n",
      "Epoch 194/200\n",
      "11818/11818 [==============================] - 1s 94us/step - loss: 198.1343\n",
      "Epoch 195/200\n",
      "11818/11818 [==============================] - 1s 97us/step - loss: 197.9580\n",
      "Epoch 196/200\n",
      "11818/11818 [==============================] - 1s 88us/step - loss: 198.0552\n",
      "Epoch 197/200\n",
      "11818/11818 [==============================] - 1s 87us/step - loss: 197.9782\n",
      "Epoch 198/200\n",
      "11818/11818 [==============================] - 1s 89us/step - loss: 197.9460\n",
      "Epoch 199/200\n",
      "11818/11818 [==============================] - 1s 89us/step - loss: 197.8663\n",
      "Epoch 200/200\n",
      "11818/11818 [==============================] - 1s 93us/step - loss: 197.8379\n"
     ]
    },
    {
     "data": {
      "text/plain": [
       "<keras.callbacks.History at 0x7f7486208860>"
      ]
     },
     "execution_count": 42,
     "metadata": {},
     "output_type": "execute_result"
    }
   ],
   "source": [
    "model.fit(X_train, y_train, epochs=EPOCHS, batch_size=BATCH_SIZE)"
   ]
  },
  {
   "cell_type": "code",
   "execution_count": 51,
   "metadata": {},
   "outputs": [
    {
     "name": "stdout",
     "output_type": "stream",
     "text": [
      "Mean squared error:  14.606599555154107\n",
      "Std:  15.518228806405345\n",
      "Mean:  13.820304568527918\n",
      "Showing the first 10 differences between predicted and real.\n",
      "14.127321 12.0\n",
      "13.207834 8.0\n",
      "16.411182 13.0\n",
      "12.423544 4.0\n",
      "9.925699 2.0\n",
      "10.550068 3.0\n",
      "4.9842587 3.0\n",
      "10.045847 4.0\n",
      "15.637499 20.0\n",
      "20.618483 35.0\n"
     ]
    }
   ],
   "source": [
    "y_pred = model.predict(X_test)\n",
    "\n",
    "y_pred = y_pred.flatten()\n",
    "\n",
    "# how far off is the result? metric = mean squared error\n",
    "y_test = np.array(y_test)\n",
    "y_pred = np.array(y_pred)\n",
    "print(\"Mean squared error: \", np.sqrt(mean_squared_error(y_true=y_test, y_pred=y_pred)))\n",
    "print(\"Std: \", np.std(y_test))\n",
    "print(\"Mean: \", np.mean(y_test))\n",
    "\n",
    "# show first k differences\n",
    "first_k = 10\n",
    "print(\"Showing the first {} differences between predicted and real.\".format(first_k))\n",
    "for yp, yt in zip(y_pred[:first_k], y_test[:first_k]):\n",
    "    print(yp, yt)"
   ]
  },
  {
   "cell_type": "markdown",
   "metadata": {},
   "source": [
    "### Save model"
   ]
  },
  {
   "cell_type": "code",
   "execution_count": 52,
   "metadata": {},
   "outputs": [],
   "source": [
    "model.save('models/predict_protein_model')"
   ]
  },
  {
   "cell_type": "markdown",
   "metadata": {},
   "source": [
    "### Get the dataframe that has NaN values for our regression column (calories)"
   ]
  },
  {
   "cell_type": "code",
   "execution_count": 53,
   "metadata": {},
   "outputs": [],
   "source": [
    "predict_df = df[df[regr_column] != df[regr_column]]"
   ]
  },
  {
   "cell_type": "markdown",
   "metadata": {},
   "source": [
    "### Get the input data we need to predict the needed values"
   ]
  },
  {
   "cell_type": "code",
   "execution_count": 54,
   "metadata": {},
   "outputs": [],
   "source": [
    "predict_data = []\n",
    "for i in range(len(predict_df)):\n",
    "    predict_data.append(get_small_dict(predict_df, keep_columns, i))\n",
    "corpus = ['|'.join(\n",
    "    d['tags'] + \n",
    "    [w.lower() for w in nltk.word_tokenize(d['title']) if w not in '''!()-[]{};:'\"\\,<>./?@#$%^&*_~''']\n",
    ") for d in predict_data]"
   ]
  },
  {
   "cell_type": "markdown",
   "metadata": {},
   "source": [
    "### Split input data using the tokenizer"
   ]
  },
  {
   "cell_type": "code",
   "execution_count": 55,
   "metadata": {},
   "outputs": [],
   "source": [
    "predict_corpus = []\n",
    "for word_list in corpus:\n",
    "    predict_corpus.append(tokenize(word_list))"
   ]
  },
  {
   "cell_type": "markdown",
   "metadata": {},
   "source": [
    "### Make sure input data has a fixed shape"
   ]
  },
  {
   "cell_type": "code",
   "execution_count": 63,
   "metadata": {},
   "outputs": [],
   "source": [
    "X = []\n",
    "for sample in predict_corpus:\n",
    "    sample = [w for w in sample if w in w2v_model.wv]\n",
    "    input_sample = generate_embeddings_matrix(sample, w2v_model, FIXED_LENGTH)\n",
    "    if input_sample.shape != (FIXED_LENGTH, EMBEDDING_SIZE):\n",
    "        print(input_sample.shape)\n",
    "    X.append(input_sample)"
   ]
  },
  {
   "cell_type": "markdown",
   "metadata": {},
   "source": [
    "### Predict missing data "
   ]
  },
  {
   "cell_type": "code",
   "execution_count": 70,
   "metadata": {},
   "outputs": [],
   "source": [
    "y_pred = model.predict(np.array(X))\n",
    "\n",
    "y_pred = y_pred.flatten()"
   ]
  },
  {
   "cell_type": "markdown",
   "metadata": {},
   "source": [
    "### Fill the dataframe with predicted values"
   ]
  },
  {
   "cell_type": "code",
   "execution_count": 72,
   "metadata": {},
   "outputs": [
    {
     "name": "stderr",
     "output_type": "stream",
     "text": [
      "/usr/local/lib/python3.5/dist-packages/ipykernel_launcher.py:1: SettingWithCopyWarning: \n",
      "A value is trying to be set on a copy of a slice from a DataFrame.\n",
      "Try using .loc[row_indexer,col_indexer] = value instead\n",
      "\n",
      "See the caveats in the documentation: http://pandas.pydata.org/pandas-docs/stable/indexing.html#indexing-view-versus-copy\n",
      "  \"\"\"Entry point for launching an IPython kernel.\n"
     ]
    }
   ],
   "source": [
    "predict_df[regr_column] = y_pred"
   ]
  },
  {
   "cell_type": "markdown",
   "metadata": {},
   "source": [
    "### Update initial dataframe with missing values"
   ]
  },
  {
   "cell_type": "code",
   "execution_count": 75,
   "metadata": {},
   "outputs": [],
   "source": [
    "update_regr_column = [np.nan for _ in range(len(df))]\n",
    "for idx, value in zip(predict_df.index, y_pred):\n",
    "    update_regr_column[idx] = value"
   ]
  },
  {
   "cell_type": "code",
   "execution_count": 76,
   "metadata": {},
   "outputs": [],
   "source": [
    "df.update({regr_column: update_regr_column})"
   ]
  },
  {
   "cell_type": "markdown",
   "metadata": {},
   "source": [
    "### Save updated dataframe"
   ]
  },
  {
   "cell_type": "code",
   "execution_count": 78,
   "metadata": {},
   "outputs": [],
   "source": [
    "df.to_csv('recipes_with_calories_and_protein.csv', sep='|')"
   ]
  },
  {
   "cell_type": "code",
   "execution_count": null,
   "metadata": {},
   "outputs": [],
   "source": []
  }
 ],
 "metadata": {
  "kernelspec": {
   "display_name": "Python 3",
   "language": "python",
   "name": "python3"
  },
  "language_info": {
   "codemirror_mode": {
    "name": "ipython",
    "version": 3
   },
   "file_extension": ".py",
   "mimetype": "text/x-python",
   "name": "python",
   "nbconvert_exporter": "python",
   "pygments_lexer": "ipython3",
   "version": "3.5.2"
  }
 },
 "nbformat": 4,
 "nbformat_minor": 2
}
