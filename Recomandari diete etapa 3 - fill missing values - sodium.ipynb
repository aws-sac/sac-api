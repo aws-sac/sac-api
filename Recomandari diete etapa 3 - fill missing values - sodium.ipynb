{
 "cells": [
  {
   "cell_type": "code",
   "execution_count": 1,
   "metadata": {},
   "outputs": [],
   "source": [
    "import numpy as np\n",
    "import scipy\n",
    "import pandas as pd\n",
    "import math\n",
    "import random\n",
    "import sklearn\n",
    "import unicodedata\n",
    "\n",
    "from sklearn.feature_extraction.text import TfidfVectorizer, CountVectorizer, TfidfTransformer\n",
    "from sklearn.metrics import accuracy_score, confusion_matrix, mean_squared_error\n",
    "from sklearn.model_selection import train_test_split\n",
    "from sklearn.metrics.pairwise import cosine_similarity\n",
    "from sklearn.preprocessing import LabelEncoder\n",
    "\n",
    "from scipy.sparse.linalg import svds\n",
    "\n",
    "import matplotlib.pyplot as plt"
   ]
  },
  {
   "cell_type": "code",
   "execution_count": 2,
   "metadata": {},
   "outputs": [
    {
     "name": "stderr",
     "output_type": "stream",
     "text": [
      "Using TensorFlow backend.\n"
     ]
    }
   ],
   "source": [
    "from keras.models import Sequential, Model\n",
    "from keras.layers import Dense, Embedding, Input, Conv2D, Concatenate, MaxPool2D, Reshape, Flatten, Dropout\n",
    "from keras.layers import ReLU\n",
    "from keras.layers import BatchNormalization, LSTM, Bidirectional\n",
    "\n",
    "from keras.callbacks import CSVLogger, EarlyStopping, ReduceLROnPlateau\n",
    "from keras.layers import Add\n",
    "\n",
    "from keras.models import Sequential\n",
    "from keras.layers import Dense\n",
    "from keras.wrappers.scikit_learn import KerasRegressor\n",
    "from sklearn.linear_model import LinearRegression\n",
    "from sklearn.model_selection import cross_val_score\n",
    "from sklearn.model_selection import KFold\n",
    "from sklearn.preprocessing import StandardScaler\n",
    "from sklearn.pipeline import Pipeline"
   ]
  },
  {
   "cell_type": "code",
   "execution_count": 3,
   "metadata": {},
   "outputs": [],
   "source": [
    "from keras.optimizers import Adam, SGD\n",
    "from keras.callbacks import LearningRateScheduler\n",
    "from keras.callbacks import EarlyStopping\n",
    "from keras.callbacks import ModelCheckpoint\n",
    "from sklearn.manifold import TSNE\n",
    "from keras import backend as K"
   ]
  },
  {
   "cell_type": "code",
   "execution_count": 4,
   "metadata": {},
   "outputs": [],
   "source": [
    "# !python3 -m pip install gensim"
   ]
  },
  {
   "cell_type": "code",
   "execution_count": 5,
   "metadata": {},
   "outputs": [],
   "source": [
    "from gensim.models import Word2Vec"
   ]
  },
  {
   "cell_type": "code",
   "execution_count": 6,
   "metadata": {},
   "outputs": [],
   "source": [
    "%matplotlib inline"
   ]
  },
  {
   "cell_type": "code",
   "execution_count": 7,
   "metadata": {},
   "outputs": [],
   "source": [
    "# !python3 -m pip install -U nltk\n",
    "# !python3 -m nltk.downloader punkt"
   ]
  },
  {
   "cell_type": "code",
   "execution_count": 8,
   "metadata": {},
   "outputs": [],
   "source": [
    "import nltk"
   ]
  },
  {
   "cell_type": "code",
   "execution_count": 9,
   "metadata": {},
   "outputs": [],
   "source": [
    "from nltk.corpus import stopwords"
   ]
  },
  {
   "cell_type": "code",
   "execution_count": 11,
   "metadata": {},
   "outputs": [],
   "source": [
    "path = 'recipes_with_calories_protein_and_fat.csv'"
   ]
  },
  {
   "cell_type": "code",
   "execution_count": 12,
   "metadata": {},
   "outputs": [],
   "source": [
    "df = pd.read_csv(path, sep=\"|\", index_col=0)"
   ]
  },
  {
   "cell_type": "code",
   "execution_count": 13,
   "metadata": {},
   "outputs": [
    {
     "data": {
      "text/plain": [
       "680"
      ]
     },
     "execution_count": 13,
     "metadata": {},
     "output_type": "execute_result"
    }
   ],
   "source": [
    "all_columns = list(df.columns)\n",
    "len(all_columns)"
   ]
  },
  {
   "cell_type": "code",
   "execution_count": 14,
   "metadata": {},
   "outputs": [
    {
     "data": {
      "text/plain": [
       "((15933, 680), (20052, 680))"
      ]
     },
     "execution_count": 14,
     "metadata": {},
     "output_type": "execute_result"
    }
   ],
   "source": [
    "df.dropna(axis=0).shape, df.shape"
   ]
  },
  {
   "cell_type": "code",
   "execution_count": 15,
   "metadata": {},
   "outputs": [
    {
     "name": "stdout",
     "output_type": "stream",
     "text": [
      "sodium\n"
     ]
    }
   ],
   "source": [
    "for column in df.columns:\n",
    "    if df[column].isnull().any():\n",
    "        print(column)\n",
    "#         df[column] = df[column].fillna(df[column].mean())"
   ]
  },
  {
   "cell_type": "code",
   "execution_count": 16,
   "metadata": {},
   "outputs": [
    {
     "data": {
      "text/html": [
       "<div>\n",
       "<style scoped>\n",
       "    .dataframe tbody tr th:only-of-type {\n",
       "        vertical-align: middle;\n",
       "    }\n",
       "\n",
       "    .dataframe tbody tr th {\n",
       "        vertical-align: top;\n",
       "    }\n",
       "\n",
       "    .dataframe thead th {\n",
       "        text-align: right;\n",
       "    }\n",
       "</style>\n",
       "<table border=\"1\" class=\"dataframe\">\n",
       "  <thead>\n",
       "    <tr style=\"text-align: right;\">\n",
       "      <th></th>\n",
       "      <th>title</th>\n",
       "      <th>rating</th>\n",
       "      <th>calories</th>\n",
       "      <th>protein</th>\n",
       "      <th>fat</th>\n",
       "      <th>sodium</th>\n",
       "      <th>#cakeweek</th>\n",
       "      <th>#wasteless</th>\n",
       "      <th>22-minute meals</th>\n",
       "      <th>3-ingredient recipes</th>\n",
       "      <th>...</th>\n",
       "      <th>yellow squash</th>\n",
       "      <th>yogurt</th>\n",
       "      <th>yonkers</th>\n",
       "      <th>yuca</th>\n",
       "      <th>zucchini</th>\n",
       "      <th>cookbooks</th>\n",
       "      <th>leftovers</th>\n",
       "      <th>snack</th>\n",
       "      <th>snack week</th>\n",
       "      <th>turkey</th>\n",
       "    </tr>\n",
       "  </thead>\n",
       "  <tbody>\n",
       "    <tr>\n",
       "      <th>0</th>\n",
       "      <td>Lentil, Apple, and Turkey Wrap</td>\n",
       "      <td>2.500</td>\n",
       "      <td>426.000000</td>\n",
       "      <td>30.000000</td>\n",
       "      <td>7.000000</td>\n",
       "      <td>559.0</td>\n",
       "      <td>0.0</td>\n",
       "      <td>0.0</td>\n",
       "      <td>0.0</td>\n",
       "      <td>0.0</td>\n",
       "      <td>...</td>\n",
       "      <td>0.0</td>\n",
       "      <td>0.0</td>\n",
       "      <td>0.0</td>\n",
       "      <td>0.0</td>\n",
       "      <td>0.0</td>\n",
       "      <td>0.0</td>\n",
       "      <td>0.0</td>\n",
       "      <td>0.0</td>\n",
       "      <td>0.0</td>\n",
       "      <td>1.0</td>\n",
       "    </tr>\n",
       "    <tr>\n",
       "      <th>1</th>\n",
       "      <td>Boudin Blanc Terrine with Red Onion Confit</td>\n",
       "      <td>4.375</td>\n",
       "      <td>403.000000</td>\n",
       "      <td>18.000000</td>\n",
       "      <td>23.000000</td>\n",
       "      <td>1439.0</td>\n",
       "      <td>0.0</td>\n",
       "      <td>0.0</td>\n",
       "      <td>0.0</td>\n",
       "      <td>0.0</td>\n",
       "      <td>...</td>\n",
       "      <td>0.0</td>\n",
       "      <td>0.0</td>\n",
       "      <td>0.0</td>\n",
       "      <td>0.0</td>\n",
       "      <td>0.0</td>\n",
       "      <td>0.0</td>\n",
       "      <td>0.0</td>\n",
       "      <td>0.0</td>\n",
       "      <td>0.0</td>\n",
       "      <td>0.0</td>\n",
       "    </tr>\n",
       "    <tr>\n",
       "      <th>2</th>\n",
       "      <td>Potato and Fennel Soup Hodge</td>\n",
       "      <td>3.750</td>\n",
       "      <td>165.000000</td>\n",
       "      <td>6.000000</td>\n",
       "      <td>7.000000</td>\n",
       "      <td>165.0</td>\n",
       "      <td>0.0</td>\n",
       "      <td>0.0</td>\n",
       "      <td>0.0</td>\n",
       "      <td>0.0</td>\n",
       "      <td>...</td>\n",
       "      <td>0.0</td>\n",
       "      <td>0.0</td>\n",
       "      <td>0.0</td>\n",
       "      <td>0.0</td>\n",
       "      <td>0.0</td>\n",
       "      <td>0.0</td>\n",
       "      <td>0.0</td>\n",
       "      <td>0.0</td>\n",
       "      <td>0.0</td>\n",
       "      <td>0.0</td>\n",
       "    </tr>\n",
       "    <tr>\n",
       "      <th>3</th>\n",
       "      <td>Mahi-Mahi in Tomato Olive Sauce</td>\n",
       "      <td>5.000</td>\n",
       "      <td>252.445801</td>\n",
       "      <td>14.630608</td>\n",
       "      <td>23.051666</td>\n",
       "      <td>NaN</td>\n",
       "      <td>0.0</td>\n",
       "      <td>0.0</td>\n",
       "      <td>0.0</td>\n",
       "      <td>0.0</td>\n",
       "      <td>...</td>\n",
       "      <td>0.0</td>\n",
       "      <td>0.0</td>\n",
       "      <td>0.0</td>\n",
       "      <td>0.0</td>\n",
       "      <td>0.0</td>\n",
       "      <td>0.0</td>\n",
       "      <td>0.0</td>\n",
       "      <td>0.0</td>\n",
       "      <td>0.0</td>\n",
       "      <td>0.0</td>\n",
       "    </tr>\n",
       "    <tr>\n",
       "      <th>4</th>\n",
       "      <td>Spinach Noodle Casserole</td>\n",
       "      <td>3.125</td>\n",
       "      <td>547.000000</td>\n",
       "      <td>20.000000</td>\n",
       "      <td>32.000000</td>\n",
       "      <td>452.0</td>\n",
       "      <td>0.0</td>\n",
       "      <td>0.0</td>\n",
       "      <td>0.0</td>\n",
       "      <td>0.0</td>\n",
       "      <td>...</td>\n",
       "      <td>0.0</td>\n",
       "      <td>0.0</td>\n",
       "      <td>0.0</td>\n",
       "      <td>0.0</td>\n",
       "      <td>0.0</td>\n",
       "      <td>0.0</td>\n",
       "      <td>0.0</td>\n",
       "      <td>0.0</td>\n",
       "      <td>0.0</td>\n",
       "      <td>0.0</td>\n",
       "    </tr>\n",
       "  </tbody>\n",
       "</table>\n",
       "<p>5 rows × 680 columns</p>\n",
       "</div>"
      ],
      "text/plain": [
       "                                         title  rating    calories    protein  \\\n",
       "0              Lentil, Apple, and Turkey Wrap    2.500  426.000000  30.000000   \n",
       "1  Boudin Blanc Terrine with Red Onion Confit    4.375  403.000000  18.000000   \n",
       "2                Potato and Fennel Soup Hodge    3.750  165.000000   6.000000   \n",
       "3             Mahi-Mahi in Tomato Olive Sauce    5.000  252.445801  14.630608   \n",
       "4                    Spinach Noodle Casserole    3.125  547.000000  20.000000   \n",
       "\n",
       "         fat  sodium  #cakeweek  #wasteless  22-minute meals  \\\n",
       "0   7.000000   559.0        0.0         0.0              0.0   \n",
       "1  23.000000  1439.0        0.0         0.0              0.0   \n",
       "2   7.000000   165.0        0.0         0.0              0.0   \n",
       "3  23.051666     NaN        0.0         0.0              0.0   \n",
       "4  32.000000   452.0        0.0         0.0              0.0   \n",
       "\n",
       "   3-ingredient recipes   ...    yellow squash  yogurt  yonkers  yuca  \\\n",
       "0                   0.0   ...              0.0     0.0      0.0   0.0   \n",
       "1                   0.0   ...              0.0     0.0      0.0   0.0   \n",
       "2                   0.0   ...              0.0     0.0      0.0   0.0   \n",
       "3                   0.0   ...              0.0     0.0      0.0   0.0   \n",
       "4                   0.0   ...              0.0     0.0      0.0   0.0   \n",
       "\n",
       "   zucchini  cookbooks  leftovers  snack  snack week  turkey  \n",
       "0       0.0        0.0        0.0    0.0         0.0     1.0  \n",
       "1       0.0        0.0        0.0    0.0         0.0     0.0  \n",
       "2       0.0        0.0        0.0    0.0         0.0     0.0  \n",
       "3       0.0        0.0        0.0    0.0         0.0     0.0  \n",
       "4       0.0        0.0        0.0    0.0         0.0     0.0  \n",
       "\n",
       "[5 rows x 680 columns]"
      ]
     },
     "execution_count": 16,
     "metadata": {},
     "output_type": "execute_result"
    }
   ],
   "source": [
    "df.head()"
   ]
  },
  {
   "cell_type": "code",
   "execution_count": 17,
   "metadata": {},
   "outputs": [],
   "source": [
    "def get_small_dict(df, keep_columns, index):\n",
    "    my_dict = df.iloc[index][keep_columns].to_dict()\n",
    "    my_dict['tags'] = [\n",
    "        key for key, value in df.iloc[index].to_dict().items() if value != 0 and key not in keep_columns]\n",
    "    my_dict['title'] = my_dict['title'].strip()\n",
    "    my_dict['tags'] = [\n",
    "        str(unicodedata.normalize('NFKD', t).encode('ascii','ignore'), encoding='ascii') for t in my_dict['tags']\n",
    "    ]\n",
    "    return my_dict"
   ]
  },
  {
   "cell_type": "code",
   "execution_count": 18,
   "metadata": {},
   "outputs": [],
   "source": [
    "keep_columns = ['title', 'rating', 'calories', 'protein', 'fat','sodium']"
   ]
  },
  {
   "cell_type": "code",
   "execution_count": 19,
   "metadata": {},
   "outputs": [],
   "source": [
    "def remove_outliers_with_tukey(df):\n",
    "    print('There were {} samples before outlier removal.'.format(len(df)))\n",
    "\n",
    "    # Remove calories outliers by the Tukey rule\n",
    "    Q3 = np.percentile(df[regr_column], 75)\n",
    "    Q1 = np.percentile(df[regr_column], 25)\n",
    "    IQR = Q3 - Q1\n",
    "\n",
    "    outliers = df[regr_column].loc[\n",
    "        (df[regr_column] < (Q1 - 1.5 * IQR)) | \n",
    "        (df[regr_column] > (Q3 + 1.5 * IQR))\n",
    "    ].index\n",
    "    \n",
    "    df = df.drop(outliers)\n",
    "    \n",
    "    print('There are now {} samples.'.format(len(cut_df)))\n",
    "\n",
    "    return df"
   ]
  },
  {
   "cell_type": "code",
   "execution_count": 20,
   "metadata": {},
   "outputs": [
    {
     "name": "stdout",
     "output_type": "stream",
     "text": [
      "There were 15933 samples before outlier removal.\n",
      "There are now 15933 samples.\n"
     ]
    }
   ],
   "source": [
    "# pick regression column\n",
    "regr_column = 'sodium'\n",
    "cut_df = df[df[regr_column] == df[regr_column]]\n",
    "\n",
    "cut_df = remove_outliers_with_tukey(df=cut_df)\n",
    "\n",
    "# transform df in list of dictionaries for processing\n",
    "regr_data = []\n",
    "for i in range(len(cut_df)):\n",
    "    regr_data.append(get_small_dict(cut_df, keep_columns, i))"
   ]
  },
  {
   "cell_type": "code",
   "execution_count": 21,
   "metadata": {},
   "outputs": [],
   "source": [
    "def remove_punctuation_signs(regr_data):\n",
    "    for d in regr_data:\n",
    "        if 'tags' not in d:\n",
    "            raise ValueError('Expected to have <tags> key in each of the regression input data dictionary!')\n",
    "    corpus = ['|'.join(\n",
    "        d['tags'] + \n",
    "        [w.lower() for w in nltk.word_tokenize(d['title']) if\n",
    "             w not in '''!()-[]{};:'\"\\,<>./?@#$%^&*_~''']\n",
    "    ) for d in regr_data]\n",
    "    return corpus"
   ]
  },
  {
   "cell_type": "code",
   "execution_count": 22,
   "metadata": {},
   "outputs": [],
   "source": [
    "# make sure the data doesn't have any punctuation signs\n",
    "corpus = remove_punctuation_signs(regr_data)"
   ]
  },
  {
   "cell_type": "code",
   "execution_count": 23,
   "metadata": {},
   "outputs": [],
   "source": [
    "# pick tokenization method\n",
    "def tokenize(word_list):\n",
    "    return word_list.split('|')"
   ]
  },
  {
   "cell_type": "code",
   "execution_count": 24,
   "metadata": {},
   "outputs": [],
   "source": [
    "def get_y_labels(regr_column, regr_data):\n",
    "    return [d[regr_column] for d in regr_data]"
   ]
  },
  {
   "cell_type": "code",
   "execution_count": 25,
   "metadata": {},
   "outputs": [],
   "source": [
    "y_label = get_y_labels(regr_column, regr_data)"
   ]
  },
  {
   "cell_type": "code",
   "execution_count": 26,
   "metadata": {},
   "outputs": [],
   "source": [
    "if len(corpus) != len(y_label):\n",
    "    print('[ERROR] There is a mismatch between the size of the input data ' +\n",
    "          ' ({} elements) and the size of labels ({} elements)!'.format(len(corpus), len(y_label)))"
   ]
  },
  {
   "cell_type": "markdown",
   "metadata": {},
   "source": [
    "## Try a vanilla regression (CountVectorizer + LinearRegression from sklearn)"
   ]
  },
  {
   "cell_type": "code",
   "execution_count": 28,
   "metadata": {},
   "outputs": [
    {
     "name": "stdout",
     "output_type": "stream",
     "text": [
      "Mean squared error:  38731625035070.02\n",
      "Std:  398.30466209532875\n",
      "Mean:  388.23959390862944\n",
      "727.6857209718462 807.0\n",
      "41.72844558122125 13.0\n",
      "-239326630549.9331 1026.0\n",
      "327.4044709718467 27.0\n",
      "194.56658034684625 17.0\n",
      "168.49480300309625 4.0\n",
      "286.00310378434625 1277.0\n",
      "809.6041780030962 802.0\n",
      "63.05534987809625 47.0\n",
      "-62620869683.67085 255.0\n"
     ]
    }
   ],
   "source": [
    "# fit vectorizer\n",
    "vectorizer = CountVectorizer(tokenizer=tokenize)\n",
    "X = vectorizer.fit_transform(corpus)\n",
    "\n",
    "# train, test data\n",
    "X_train, X_test, y_train, y_test = train_test_split(X.toarray(), y_label, test_size=0.2, random_state=42)\n",
    "\n",
    "# sklearn LinearRegression model\n",
    "regr_sklearn = LinearRegression()\n",
    "regr_sklearn.fit(X_train, y_train)\n",
    "\n",
    "# predict data\n",
    "y_pred = regr_sklearn.predict(X_test)\n",
    "\n",
    "# how far off is the result? metric = mean squared error\n",
    "y_test = np.array(y_test)\n",
    "y_pred = np.array(y_pred)\n",
    "print(\"Mean squared error: \", np.sqrt(mean_squared_error(y_true=y_test, y_pred=y_pred)))\n",
    "print(\"Std: \", np.std(y_test))\n",
    "print(\"Mean: \", np.mean(y_test))\n",
    "\n",
    "# show first k differences\n",
    "first_k = 10\n",
    "for yp, yt in zip(y_pred[:first_k], y_test[:first_k]):\n",
    "    print(yp, yt)"
   ]
  },
  {
   "cell_type": "markdown",
   "metadata": {},
   "source": [
    "## Try Word2Vec embeddings + Keras NN"
   ]
  },
  {
   "cell_type": "markdown",
   "metadata": {},
   "source": [
    "### Word2Vec embedding"
   ]
  },
  {
   "cell_type": "code",
   "execution_count": 29,
   "metadata": {},
   "outputs": [
    {
     "name": "stdout",
     "output_type": "stream",
     "text": [
      "Choose embedding size between 12.522091068887065 and 87.57522363959801\n"
     ]
    }
   ],
   "source": [
    "vocab = set()\n",
    "for word_list in corpus:\n",
    "    vocab |= set(tokenize(word_list))\n",
    "\n",
    "print(\"Choose embedding size between {} and {}\".format(np.log2(len(vocab)), np.power(len(vocab), 1/4) * 10))\n",
    "\n",
    "w2v_corpus = []\n",
    "for word_list in corpus:\n",
    "    w2v_corpus.append(tokenize(word_list))"
   ]
  },
  {
   "cell_type": "code",
   "execution_count": 30,
   "metadata": {},
   "outputs": [],
   "source": [
    "EMBEDDING_SIZE = 50"
   ]
  },
  {
   "cell_type": "code",
   "execution_count": 31,
   "metadata": {},
   "outputs": [
    {
     "name": "stdout",
     "output_type": "stream",
     "text": [
      "Embedding size is 50\n"
     ]
    }
   ],
   "source": [
    "w2v_model = Word2Vec(w2v_corpus, size=EMBEDDING_SIZE, window=5, min_count=1, workers=-1)\n",
    "\n",
    "print(\"Embedding size is {}\".format(w2v_model.wv.vector_size))"
   ]
  },
  {
   "cell_type": "code",
   "execution_count": 32,
   "metadata": {},
   "outputs": [
    {
     "name": "stdout",
     "output_type": "stream",
     "text": [
      "Sequence length should be 17.02348720725599 \n"
     ]
    }
   ],
   "source": [
    "sequence_lengths = [len(w) for w in w2v_corpus]\n",
    "\n",
    "print(\"Sequence length should be {} \".format(pd.Series(sequence_lengths).describe()['mean']))"
   ]
  },
  {
   "cell_type": "code",
   "execution_count": 33,
   "metadata": {},
   "outputs": [],
   "source": [
    "FIXED_LENGTH = 17"
   ]
  },
  {
   "cell_type": "code",
   "execution_count": 34,
   "metadata": {},
   "outputs": [],
   "source": [
    "def generate_embeddings_matrix(sample, model, fixed_length=17):\n",
    "    embedding_size = model.wv.vector_size\n",
    "    embeddings = []\n",
    "    for sen in sample:\n",
    "        for word in sen:\n",
    "            if word not in model.wv.vocab:\n",
    "                continue\n",
    "            embeddings.append(model.wv[word])\n",
    "            if len(embeddings) >= fixed_length:\n",
    "                break\n",
    "\n",
    "    embeddings = np.array(embeddings)\n",
    "\n",
    "    while len(embeddings) < fixed_length:\n",
    "        padding_length = fixed_length - len(embeddings)\n",
    "        embeddings = np.concatenate((embeddings, embeddings[:padding_length]))\n",
    "    if len(embeddings) > fixed_length:\n",
    "        embeddings = embeddings[:fixed_length]\n",
    "\n",
    "    return embeddings"
   ]
  },
  {
   "cell_type": "code",
   "execution_count": 35,
   "metadata": {},
   "outputs": [],
   "source": [
    "def generate_input_matrix(sample, fixed_length=17):\n",
    "    \n",
    "    inputs = np.array(sample)\n",
    "\n",
    "    while len(inputs) < fixed_length:\n",
    "        padding_length = fixed_length - len(inputs)\n",
    "        inputs = np.concatenate((inputs, inputs[:padding_length]))\n",
    "    if len(inputs) > fixed_length:\n",
    "        inputs = inputs[:fixed_length]\n",
    "\n",
    "    return inputs"
   ]
  },
  {
   "cell_type": "code",
   "execution_count": 36,
   "metadata": {},
   "outputs": [],
   "source": [
    "# Generate list of input data (embedding matrix) and make sure every input has FIXED_LENGTH elements\n",
    "X = []\n",
    "for sample in w2v_corpus:\n",
    "    embedded_sample = generate_embeddings_matrix(sample, w2v_model, FIXED_LENGTH)\n",
    "    if embedded_sample.shape != (FIXED_LENGTH, EMBEDDING_SIZE):\n",
    "        print(embedded_sample.shape)\n",
    "    X.append(embedded_sample)"
   ]
  },
  {
   "cell_type": "code",
   "execution_count": 37,
   "metadata": {},
   "outputs": [],
   "source": [
    "X_train, X_test, y_train, y_test = train_test_split(X, y_label, test_size=0.2, random_state=42)"
   ]
  },
  {
   "cell_type": "markdown",
   "metadata": {},
   "source": [
    "### Keras NN"
   ]
  },
  {
   "cell_type": "code",
   "execution_count": 38,
   "metadata": {},
   "outputs": [],
   "source": [
    "FIXED_LENGTH = 17\n",
    "EMBEDDING_SIZE = 50\n",
    "\n",
    "BATCH_SIZE = 16\n",
    "EPOCHS=200"
   ]
  },
  {
   "cell_type": "code",
   "execution_count": 39,
   "metadata": {},
   "outputs": [],
   "source": [
    "def baseline_model():\n",
    "    # Create model\n",
    "    input_layer = Input(shape=(FIXED_LENGTH, EMBEDDING_SIZE), name='input')\n",
    "    flat = Flatten()(input_layer)\n",
    "    z = Dense(32, activation='relu', name='fc1', kernel_initializer='normal')(flat)\n",
    "    output = Dense(1, kernel_initializer='normal')(z)\n",
    "    model = Model(inputs=[input_layer], outputs=[output])\n",
    "    # Compile model\n",
    "    model.compile(optimizer='adam', loss='mean_squared_error')\n",
    "    return model"
   ]
  },
  {
   "cell_type": "code",
   "execution_count": 40,
   "metadata": {},
   "outputs": [],
   "source": [
    "model = baseline_model()"
   ]
  },
  {
   "cell_type": "code",
   "execution_count": 41,
   "metadata": {},
   "outputs": [],
   "source": [
    "X_train, X_test, y_train, y_test = train_test_split(X, y_label, test_size=0.2, random_state=42)"
   ]
  },
  {
   "cell_type": "code",
   "execution_count": 42,
   "metadata": {},
   "outputs": [],
   "source": [
    "X_train = np.array(X_train)\n",
    "X_test = np.array(X_test)\n",
    "y_train = np.array(y_train)\n",
    "y_test = np.array(y_test)"
   ]
  },
  {
   "cell_type": "code",
   "execution_count": 43,
   "metadata": {
    "scrolled": true
   },
   "outputs": [
    {
     "name": "stdout",
     "output_type": "stream",
     "text": [
      "Epoch 1/200\n",
      "11819/11819 [==============================] - 2s 150us/step - loss: 286549.1342\n",
      "Epoch 2/200\n",
      "11819/11819 [==============================] - 1s 115us/step - loss: 219008.3270\n",
      "Epoch 3/200\n",
      "11819/11819 [==============================] - 2s 127us/step - loss: 167176.8133\n",
      "Epoch 4/200\n",
      "11819/11819 [==============================] - 3s 225us/step - loss: 152465.4664\n",
      "Epoch 5/200\n",
      "11819/11819 [==============================] - 2s 169us/step - loss: 150200.9800\n",
      "Epoch 6/200\n",
      "11819/11819 [==============================] - 2s 146us/step - loss: 149391.6533\n",
      "Epoch 7/200\n",
      "11819/11819 [==============================] - 1s 110us/step - loss: 148751.8980\n",
      "Epoch 8/200\n",
      "11819/11819 [==============================] - 1s 107us/step - loss: 148183.8203\n",
      "Epoch 9/200\n",
      "11819/11819 [==============================] - 2s 167us/step - loss: 147669.9793\n",
      "Epoch 10/200\n",
      "11819/11819 [==============================] - 2s 152us/step - loss: 147217.8869\n",
      "Epoch 11/200\n",
      "11819/11819 [==============================] - 2s 145us/step - loss: 146803.1213\n",
      "Epoch 12/200\n",
      "11819/11819 [==============================] - 2s 131us/step - loss: 146419.3177\n",
      "Epoch 13/200\n",
      "11819/11819 [==============================] - 2s 155us/step - loss: 146065.7765\n",
      "Epoch 14/200\n",
      "11819/11819 [==============================] - 2s 157us/step - loss: 145741.2020\n",
      "Epoch 15/200\n",
      "11819/11819 [==============================] - 2s 173us/step - loss: 145417.4642\n",
      "Epoch 16/200\n",
      "11819/11819 [==============================] - 2s 150us/step - loss: 145145.9930\n",
      "Epoch 17/200\n",
      "11819/11819 [==============================] - 2s 138us/step - loss: 144870.2527\n",
      "Epoch 18/200\n",
      "11819/11819 [==============================] - 2s 159us/step - loss: 144610.1257\n",
      "Epoch 19/200\n",
      "11819/11819 [==============================] - 2s 156us/step - loss: 144386.5850\n",
      "Epoch 20/200\n",
      "11819/11819 [==============================] - 2s 141us/step - loss: 144159.1682\n",
      "Epoch 21/200\n",
      "11819/11819 [==============================] - 1s 118us/step - loss: 143953.6527\n",
      "Epoch 22/200\n",
      "11819/11819 [==============================] - 1s 121us/step - loss: 143755.4436\n",
      "Epoch 23/200\n",
      "11819/11819 [==============================] - 1s 110us/step - loss: 143569.3776\n",
      "Epoch 24/200\n",
      "11819/11819 [==============================] - 2s 129us/step - loss: 143385.8403\n",
      "Epoch 25/200\n",
      "11819/11819 [==============================] - 1s 111us/step - loss: 143228.1348\n",
      "Epoch 26/200\n",
      "11819/11819 [==============================] - 1s 120us/step - loss: 143066.9280\n",
      "Epoch 27/200\n",
      "11819/11819 [==============================] - 2s 144us/step - loss: 142921.2814\n",
      "Epoch 28/200\n",
      "11819/11819 [==============================] - 2s 140us/step - loss: 142775.9161\n",
      "Epoch 29/200\n",
      "11819/11819 [==============================] - 1s 110us/step - loss: 142635.9767\n",
      "Epoch 30/200\n",
      "11819/11819 [==============================] - 1s 80us/step - loss: 142530.5691\n",
      "Epoch 31/200\n",
      "11819/11819 [==============================] - 1s 80us/step - loss: 142411.4978\n",
      "Epoch 32/200\n",
      "11819/11819 [==============================] - 1s 90us/step - loss: 142313.1987\n",
      "Epoch 33/200\n",
      "11819/11819 [==============================] - 1s 125us/step - loss: 142192.3800\n",
      "Epoch 34/200\n",
      "11819/11819 [==============================] - 1s 105us/step - loss: 142100.8318\n",
      "Epoch 35/200\n",
      "11819/11819 [==============================] - 1s 87us/step - loss: 141998.3470 0s - loss:\n",
      "Epoch 36/200\n",
      "11819/11819 [==============================] - 1s 97us/step - loss: 141916.6492\n",
      "Epoch 37/200\n",
      "11819/11819 [==============================] - 1s 93us/step - loss: 141829.0905\n",
      "Epoch 38/200\n",
      "11819/11819 [==============================] - 1s 96us/step - loss: 141756.9733\n",
      "Epoch 39/200\n",
      "11819/11819 [==============================] - 1s 88us/step - loss: 141680.0285\n",
      "Epoch 40/200\n",
      "11819/11819 [==============================] - 1s 126us/step - loss: 141601.8273\n",
      "Epoch 41/200\n",
      "11819/11819 [==============================] - 1s 90us/step - loss: 141530.5690\n",
      "Epoch 42/200\n",
      "11819/11819 [==============================] - 1s 85us/step - loss: 141466.9920\n",
      "Epoch 43/200\n",
      "11819/11819 [==============================] - 1s 79us/step - loss: 141402.7598\n",
      "Epoch 44/200\n",
      "11819/11819 [==============================] - 1s 81us/step - loss: 141337.8854\n",
      "Epoch 45/200\n",
      "11819/11819 [==============================] - 1s 85us/step - loss: 141287.5621\n",
      "Epoch 46/200\n",
      "11819/11819 [==============================] - 1s 104us/step - loss: 141225.7694\n",
      "Epoch 47/200\n",
      "11819/11819 [==============================] - 1s 90us/step - loss: 141177.1590\n",
      "Epoch 48/200\n",
      "11819/11819 [==============================] - 1s 87us/step - loss: 141122.4220\n",
      "Epoch 49/200\n",
      "11819/11819 [==============================] - 1s 101us/step - loss: 141076.9631\n",
      "Epoch 50/200\n",
      "11819/11819 [==============================] - 1s 89us/step - loss: 141033.1145\n",
      "Epoch 51/200\n",
      "11819/11819 [==============================] - 2s 131us/step - loss: 140970.0443\n",
      "Epoch 52/200\n",
      "11819/11819 [==============================] - 1s 110us/step - loss: 140942.0103\n",
      "Epoch 53/200\n",
      "11819/11819 [==============================] - 1s 85us/step - loss: 140899.5971\n",
      "Epoch 54/200\n",
      "11819/11819 [==============================] - 1s 87us/step - loss: 140858.2675\n",
      "Epoch 55/200\n",
      "11819/11819 [==============================] - 1s 87us/step - loss: 140817.6415\n",
      "Epoch 56/200\n",
      "11819/11819 [==============================] - 1s 77us/step - loss: 140774.3581\n",
      "Epoch 57/200\n",
      "11819/11819 [==============================] - 1s 79us/step - loss: 140737.6846\n",
      "Epoch 58/200\n",
      "11819/11819 [==============================] - 1s 124us/step - loss: 140686.9151\n",
      "Epoch 59/200\n",
      "11819/11819 [==============================] - 1s 81us/step - loss: 140665.8774\n",
      "Epoch 60/200\n",
      "11819/11819 [==============================] - 1s 81us/step - loss: 140632.2697\n",
      "Epoch 61/200\n",
      "11819/11819 [==============================] - 1s 76us/step - loss: 140581.7775\n",
      "Epoch 62/200\n",
      "11819/11819 [==============================] - 1s 79us/step - loss: 140556.0645\n",
      "Epoch 63/200\n",
      "11819/11819 [==============================] - 1s 85us/step - loss: 140533.9743\n",
      "Epoch 64/200\n",
      "11819/11819 [==============================] - 1s 96us/step - loss: 140487.5268\n",
      "Epoch 65/200\n",
      "11819/11819 [==============================] - 1s 94us/step - loss: 140470.7174\n",
      "Epoch 66/200\n",
      "11819/11819 [==============================] - 1s 89us/step - loss: 140432.4409\n",
      "Epoch 67/200\n",
      "11819/11819 [==============================] - 1s 90us/step - loss: 140381.9016\n",
      "Epoch 68/200\n",
      "11819/11819 [==============================] - 1s 87us/step - loss: 140369.3878\n",
      "Epoch 69/200\n",
      "11819/11819 [==============================] - 1s 81us/step - loss: 140337.8100\n",
      "Epoch 70/200\n",
      "11819/11819 [==============================] - 1s 76us/step - loss: 140315.9409\n",
      "Epoch 71/200\n",
      "11819/11819 [==============================] - 1s 78us/step - loss: 140279.8401\n",
      "Epoch 72/200\n",
      "11819/11819 [==============================] - 1s 80us/step - loss: 140251.9097\n",
      "Epoch 73/200\n",
      "11819/11819 [==============================] - 1s 86us/step - loss: 140220.2810\n",
      "Epoch 74/200\n",
      "11819/11819 [==============================] - 1s 80us/step - loss: 140199.4844\n",
      "Epoch 75/200\n",
      "11819/11819 [==============================] - 1s 78us/step - loss: 140169.6149\n",
      "Epoch 76/200\n",
      "11819/11819 [==============================] - 1s 78us/step - loss: 140148.0860\n",
      "Epoch 77/200\n",
      "11819/11819 [==============================] - 1s 82us/step - loss: 140121.0191\n",
      "Epoch 78/200\n",
      "11819/11819 [==============================] - 1s 78us/step - loss: 140102.6213\n",
      "Epoch 79/200\n",
      "11819/11819 [==============================] - 1s 83us/step - loss: 140081.9135\n",
      "Epoch 80/200\n",
      "11819/11819 [==============================] - 1s 77us/step - loss: 140051.9554\n",
      "Epoch 81/200\n",
      "11819/11819 [==============================] - 1s 78us/step - loss: 140030.6536\n",
      "Epoch 82/200\n",
      "11819/11819 [==============================] - 1s 92us/step - loss: 140000.9361\n",
      "Epoch 83/200\n",
      "11819/11819 [==============================] - 1s 91us/step - loss: 139964.8011\n",
      "Epoch 84/200\n",
      "11819/11819 [==============================] - 1s 102us/step - loss: 139976.1766\n",
      "Epoch 85/200\n",
      "11819/11819 [==============================] - 1s 91us/step - loss: 139935.0680\n",
      "Epoch 86/200\n",
      "11819/11819 [==============================] - 1s 97us/step - loss: 139919.0999\n",
      "Epoch 87/200\n",
      "11819/11819 [==============================] - 1s 87us/step - loss: 139889.5487\n",
      "Epoch 88/200\n"
     ]
    },
    {
     "name": "stdout",
     "output_type": "stream",
     "text": [
      "11819/11819 [==============================] - 1s 81us/step - loss: 139868.7170\n",
      "Epoch 89/200\n",
      "11819/11819 [==============================] - 1s 78us/step - loss: 139843.4099\n",
      "Epoch 90/200\n",
      "11819/11819 [==============================] - 1s 77us/step - loss: 139824.2823\n",
      "Epoch 91/200\n",
      "11819/11819 [==============================] - 1s 77us/step - loss: 139797.8746\n",
      "Epoch 92/200\n",
      "11819/11819 [==============================] - 1s 82us/step - loss: 139775.9162 0s - loss: 139861.30\n",
      "Epoch 93/200\n",
      "11819/11819 [==============================] - 1s 76us/step - loss: 139764.5325\n",
      "Epoch 94/200\n",
      "11819/11819 [==============================] - 1s 83us/step - loss: 139725.0942\n",
      "Epoch 95/200\n",
      "11819/11819 [==============================] - 1s 76us/step - loss: 139718.0831\n",
      "Epoch 96/200\n",
      "11819/11819 [==============================] - 1s 79us/step - loss: 139696.5783\n",
      "Epoch 97/200\n",
      "11819/11819 [==============================] - 1s 78us/step - loss: 139670.7842\n",
      "Epoch 98/200\n",
      "11819/11819 [==============================] - 1s 97us/step - loss: 139650.7517\n",
      "Epoch 99/200\n",
      "11819/11819 [==============================] - 1s 92us/step - loss: 139624.8657\n",
      "Epoch 100/200\n",
      "11819/11819 [==============================] - 1s 106us/step - loss: 139605.4079\n",
      "Epoch 101/200\n",
      "11819/11819 [==============================] - 1s 89us/step - loss: 139590.4015\n",
      "Epoch 102/200\n",
      "11819/11819 [==============================] - 2s 146us/step - loss: 139568.6432\n",
      "Epoch 103/200\n",
      "11819/11819 [==============================] - 1s 89us/step - loss: 139551.4112\n",
      "Epoch 104/200\n",
      "11819/11819 [==============================] - 1s 88us/step - loss: 139527.5571\n",
      "Epoch 105/200\n",
      "11819/11819 [==============================] - 1s 106us/step - loss: 139509.5453\n",
      "Epoch 106/200\n",
      "11819/11819 [==============================] - 1s 105us/step - loss: 139488.2593\n",
      "Epoch 107/200\n",
      "11819/11819 [==============================] - 1s 80us/step - loss: 139464.2079\n",
      "Epoch 108/200\n",
      "11819/11819 [==============================] - 1s 79us/step - loss: 139450.9600\n",
      "Epoch 109/200\n",
      "11819/11819 [==============================] - 1s 80us/step - loss: 139429.7771\n",
      "Epoch 110/200\n",
      "11819/11819 [==============================] - 1s 91us/step - loss: 139428.0407\n",
      "Epoch 111/200\n",
      "11819/11819 [==============================] - 1s 120us/step - loss: 139394.6498\n",
      "Epoch 112/200\n",
      "11819/11819 [==============================] - 2s 147us/step - loss: 139379.7947\n",
      "Epoch 113/200\n",
      "11819/11819 [==============================] - 2s 129us/step - loss: 139347.7349\n",
      "Epoch 114/200\n",
      "11819/11819 [==============================] - 1s 103us/step - loss: 139342.2960\n",
      "Epoch 115/200\n",
      "11819/11819 [==============================] - 1s 84us/step - loss: 139336.6006\n",
      "Epoch 116/200\n",
      "11819/11819 [==============================] - 1s 82us/step - loss: 139304.1121\n",
      "Epoch 117/200\n",
      "11819/11819 [==============================] - 1s 91us/step - loss: 139290.2436\n",
      "Epoch 118/200\n",
      "11819/11819 [==============================] - 1s 88us/step - loss: 139280.6426\n",
      "Epoch 119/200\n",
      "11819/11819 [==============================] - 1s 88us/step - loss: 139258.3918\n",
      "Epoch 120/200\n",
      "11819/11819 [==============================] - 1s 86us/step - loss: 139241.0731\n",
      "Epoch 121/200\n",
      "11819/11819 [==============================] - 1s 94us/step - loss: 139213.5984\n",
      "Epoch 122/200\n",
      "11819/11819 [==============================] - 1s 78us/step - loss: 139216.4468\n",
      "Epoch 123/200\n",
      "11819/11819 [==============================] - 1s 83us/step - loss: 139178.7057\n",
      "Epoch 124/200\n",
      "11819/11819 [==============================] - 1s 79us/step - loss: 139181.6308\n",
      "Epoch 125/200\n",
      "11819/11819 [==============================] - 1s 120us/step - loss: 139151.5995\n",
      "Epoch 126/200\n",
      "11819/11819 [==============================] - 2s 129us/step - loss: 139148.3877\n",
      "Epoch 127/200\n",
      "11819/11819 [==============================] - 2s 135us/step - loss: 139123.1940\n",
      "Epoch 128/200\n",
      "11819/11819 [==============================] - 2s 168us/step - loss: 139103.2498\n",
      "Epoch 129/200\n",
      "11819/11819 [==============================] - 1s 119us/step - loss: 139094.8323\n",
      "Epoch 130/200\n",
      "11819/11819 [==============================] - 3s 217us/step - loss: 139072.0400\n",
      "Epoch 131/200\n",
      "11819/11819 [==============================] - 4s 303us/step - loss: 139050.53430s - los\n",
      "Epoch 132/200\n",
      "11819/11819 [==============================] - 1s 91us/step - loss: 139035.0171\n",
      "Epoch 133/200\n",
      "11819/11819 [==============================] - 1s 91us/step - loss: 139019.3848\n",
      "Epoch 134/200\n",
      "11819/11819 [==============================] - 1s 111us/step - loss: 138995.8573\n",
      "Epoch 135/200\n",
      "11819/11819 [==============================] - 1s 92us/step - loss: 138988.9626\n",
      "Epoch 136/200\n",
      "11819/11819 [==============================] - 1s 98us/step - loss: 138977.8855\n",
      "Epoch 137/200\n",
      "11819/11819 [==============================] - 1s 93us/step - loss: 138955.1154\n",
      "Epoch 138/200\n",
      "11819/11819 [==============================] - 1s 91us/step - loss: 138939.5367\n",
      "Epoch 139/200\n",
      "11819/11819 [==============================] - 1s 83us/step - loss: 138922.6363\n",
      "Epoch 140/200\n",
      "11819/11819 [==============================] - 1s 84us/step - loss: 138911.3340\n",
      "Epoch 141/200\n",
      "11819/11819 [==============================] - 1s 82us/step - loss: 138899.3614\n",
      "Epoch 142/200\n",
      "11819/11819 [==============================] - 1s 81us/step - loss: 138859.5142\n",
      "Epoch 143/200\n",
      "11819/11819 [==============================] - 1s 106us/step - loss: 138875.8654\n",
      "Epoch 144/200\n",
      "11819/11819 [==============================] - 1s 110us/step - loss: 138839.8834\n",
      "Epoch 145/200\n",
      "11819/11819 [==============================] - 1s 101us/step - loss: 138833.8076\n",
      "Epoch 146/200\n",
      "11819/11819 [==============================] - 1s 89us/step - loss: 138814.1240\n",
      "Epoch 147/200\n",
      "11819/11819 [==============================] - 1s 89us/step - loss: 138797.4749\n",
      "Epoch 148/200\n",
      "11819/11819 [==============================] - 1s 87us/step - loss: 138782.6499\n",
      "Epoch 149/200\n",
      "11819/11819 [==============================] - 1s 88us/step - loss: 138770.2846\n",
      "Epoch 150/200\n",
      "11819/11819 [==============================] - 1s 98us/step - loss: 138763.3081\n",
      "Epoch 151/200\n",
      "11819/11819 [==============================] - 1s 97us/step - loss: 138746.7552\n",
      "Epoch 152/200\n",
      "11819/11819 [==============================] - 1s 77us/step - loss: 138714.1375\n",
      "Epoch 153/200\n",
      "11819/11819 [==============================] - 1s 85us/step - loss: 138716.7960\n",
      "Epoch 154/200\n",
      "11819/11819 [==============================] - 1s 88us/step - loss: 138694.1532\n",
      "Epoch 155/200\n",
      "11819/11819 [==============================] - 1s 95us/step - loss: 138668.0288\n",
      "Epoch 156/200\n",
      "11819/11819 [==============================] - 1s 84us/step - loss: 138662.0508\n",
      "Epoch 157/200\n",
      "11819/11819 [==============================] - 1s 88us/step - loss: 138638.3018\n",
      "Epoch 158/200\n",
      "11819/11819 [==============================] - 1s 85us/step - loss: 138628.1109\n",
      "Epoch 159/200\n",
      "11819/11819 [==============================] - 1s 100us/step - loss: 138606.5401\n",
      "Epoch 160/200\n",
      "11819/11819 [==============================] - 1s 82us/step - loss: 138587.7163\n",
      "Epoch 161/200\n",
      "11819/11819 [==============================] - 1s 88us/step - loss: 138564.0581\n",
      "Epoch 162/200\n",
      "11819/11819 [==============================] - 1s 82us/step - loss: 138559.0879\n",
      "Epoch 163/200\n",
      "11819/11819 [==============================] - 1s 81us/step - loss: 138540.0272\n",
      "Epoch 164/200\n",
      "11819/11819 [==============================] - 1s 85us/step - loss: 138516.7998\n",
      "Epoch 165/200\n",
      "11819/11819 [==============================] - 1s 80us/step - loss: 138503.1186\n",
      "Epoch 166/200\n",
      "11819/11819 [==============================] - 1s 80us/step - loss: 138488.0804\n",
      "Epoch 167/200\n",
      "11819/11819 [==============================] - 1s 91us/step - loss: 138469.1901\n",
      "Epoch 168/200\n",
      "11819/11819 [==============================] - 1s 102us/step - loss: 138457.9845\n",
      "Epoch 169/200\n",
      "11819/11819 [==============================] - 1s 93us/step - loss: 138439.5965\n",
      "Epoch 170/200\n",
      "11819/11819 [==============================] - 1s 80us/step - loss: 138423.1776\n",
      "Epoch 171/200\n",
      "11819/11819 [==============================] - 1s 99us/step - loss: 138409.5571\n",
      "Epoch 172/200\n",
      "11819/11819 [==============================] - 1s 103us/step - loss: 138389.4425\n",
      "Epoch 173/200\n",
      "11819/11819 [==============================] - 1s 103us/step - loss: 138374.5837\n",
      "Epoch 174/200\n"
     ]
    },
    {
     "name": "stdout",
     "output_type": "stream",
     "text": [
      "11819/11819 [==============================] - 1s 92us/step - loss: 138360.3343\n",
      "Epoch 175/200\n",
      "11819/11819 [==============================] - 1s 85us/step - loss: 138341.9087\n",
      "Epoch 176/200\n",
      "11819/11819 [==============================] - 1s 81us/step - loss: 138319.2523\n",
      "Epoch 177/200\n",
      "11819/11819 [==============================] - 1s 83us/step - loss: 138309.3200\n",
      "Epoch 178/200\n",
      "11819/11819 [==============================] - 1s 102us/step - loss: 138265.3092\n",
      "Epoch 179/200\n",
      "11819/11819 [==============================] - 1s 83us/step - loss: 138270.9723\n",
      "Epoch 180/200\n",
      "11819/11819 [==============================] - 1s 80us/step - loss: 138262.5618\n",
      "Epoch 181/200\n",
      "11819/11819 [==============================] - 1s 78us/step - loss: 138236.6922\n",
      "Epoch 182/200\n",
      "11819/11819 [==============================] - 1s 81us/step - loss: 138226.5254\n",
      "Epoch 183/200\n",
      "11819/11819 [==============================] - 1s 82us/step - loss: 138202.1481\n",
      "Epoch 184/200\n",
      "11819/11819 [==============================] - 1s 91us/step - loss: 138192.9997\n",
      "Epoch 185/200\n",
      "11819/11819 [==============================] - 1s 103us/step - loss: 138171.0860\n",
      "Epoch 186/200\n",
      "11819/11819 [==============================] - 1s 86us/step - loss: 138154.5185\n",
      "Epoch 187/200\n",
      "11819/11819 [==============================] - 1s 97us/step - loss: 138146.6664\n",
      "Epoch 188/200\n",
      "11819/11819 [==============================] - 1s 89us/step - loss: 138130.3023\n",
      "Epoch 189/200\n",
      "11819/11819 [==============================] - 1s 93us/step - loss: 138113.2383\n",
      "Epoch 190/200\n",
      "11819/11819 [==============================] - 1s 94us/step - loss: 138091.6612\n",
      "Epoch 191/200\n",
      "11819/11819 [==============================] - 1s 81us/step - loss: 138083.6194\n",
      "Epoch 192/200\n",
      "11819/11819 [==============================] - 1s 81us/step - loss: 138064.0908\n",
      "Epoch 193/200\n",
      "11819/11819 [==============================] - 1s 89us/step - loss: 138060.8541\n",
      "Epoch 194/200\n",
      "11819/11819 [==============================] - 1s 83us/step - loss: 138032.7795\n",
      "Epoch 195/200\n",
      "11819/11819 [==============================] - 1s 83us/step - loss: 138022.3168\n",
      "Epoch 196/200\n",
      "11819/11819 [==============================] - 1s 81us/step - loss: 137999.2784\n",
      "Epoch 197/200\n",
      "11819/11819 [==============================] - 1s 90us/step - loss: 138005.2976\n",
      "Epoch 198/200\n",
      "11819/11819 [==============================] - 1s 98us/step - loss: 137973.3186\n",
      "Epoch 199/200\n",
      "11819/11819 [==============================] - 1s 99us/step - loss: 137956.4704\n",
      "Epoch 200/200\n",
      "11819/11819 [==============================] - 1s 108us/step - loss: 137933.6517\n"
     ]
    },
    {
     "data": {
      "text/plain": [
       "<keras.callbacks.History at 0x7fdc7fe9e5c0>"
      ]
     },
     "execution_count": 43,
     "metadata": {},
     "output_type": "execute_result"
    }
   ],
   "source": [
    "model.fit(X_train, y_train, epochs=EPOCHS, batch_size=BATCH_SIZE)"
   ]
  },
  {
   "cell_type": "code",
   "execution_count": 44,
   "metadata": {},
   "outputs": [
    {
     "name": "stdout",
     "output_type": "stream",
     "text": [
      "Mean squared error:  382.70228388164253\n",
      "Std:  398.30466209532875\n",
      "Mean:  388.23959390862944\n",
      "Showing the first 10 differences between predicted and real.\n",
      "479.1853 807.0\n",
      "351.99854 13.0\n",
      "521.92505 1026.0\n",
      "493.14148 27.0\n",
      "303.63733 17.0\n",
      "416.2398 4.0\n",
      "417.30725 1277.0\n",
      "471.766 802.0\n",
      "518.8888 47.0\n",
      "476.62866 255.0\n"
     ]
    }
   ],
   "source": [
    "y_pred = model.predict(X_test)\n",
    "\n",
    "y_pred = y_pred.flatten()\n",
    "\n",
    "# how far off is the result? metric = mean squared error\n",
    "y_test = np.array(y_test)\n",
    "y_pred = np.array(y_pred)\n",
    "print(\"Mean squared error: \", np.sqrt(mean_squared_error(y_true=y_test, y_pred=y_pred)))\n",
    "print(\"Std: \", np.std(y_test))\n",
    "print(\"Mean: \", np.mean(y_test))\n",
    "\n",
    "# show first k differences\n",
    "first_k = 10\n",
    "print(\"Showing the first {} differences between predicted and real.\".format(first_k))\n",
    "for yp, yt in zip(y_pred[:first_k], y_test[:first_k]):\n",
    "    print(yp, yt)"
   ]
  },
  {
   "cell_type": "markdown",
   "metadata": {},
   "source": [
    "## Keras embedding + NN"
   ]
  },
  {
   "cell_type": "markdown",
   "metadata": {},
   "source": [
    "### Generate input data "
   ]
  },
  {
   "cell_type": "code",
   "execution_count": 45,
   "metadata": {},
   "outputs": [],
   "source": [
    "X = []\n",
    "for sample in w2v_corpus:\n",
    "    input_sample = generate_input_matrix(sample, FIXED_LENGTH)\n",
    "    if input_sample.shape != (FIXED_LENGTH,):\n",
    "        print(input_sample.shape)\n",
    "    X.append(input_sample)"
   ]
  },
  {
   "cell_type": "markdown",
   "metadata": {},
   "source": [
    "### Encode the words"
   ]
  },
  {
   "cell_type": "code",
   "execution_count": 46,
   "metadata": {},
   "outputs": [
    {
     "data": {
      "text/plain": [
       "LabelEncoder()"
      ]
     },
     "execution_count": 46,
     "metadata": {},
     "output_type": "execute_result"
    }
   ],
   "source": [
    "encoder = LabelEncoder()\n",
    "encoder.fit(np.array(X).flatten())"
   ]
  },
  {
   "cell_type": "code",
   "execution_count": 47,
   "metadata": {},
   "outputs": [],
   "source": [
    "X_encoded = []\n",
    "for sentence in X:\n",
    "    encoded = encoder.transform(sentence)\n",
    "    X_encoded.append(encoded)"
   ]
  },
  {
   "cell_type": "markdown",
   "metadata": {},
   "source": [
    "### Split X in train and test"
   ]
  },
  {
   "cell_type": "code",
   "execution_count": 65,
   "metadata": {},
   "outputs": [],
   "source": [
    "X_train, X_test, y_train, y_test = train_test_split(X_encoded, y_label, test_size=0.2, random_state=42)"
   ]
  },
  {
   "cell_type": "code",
   "execution_count": 66,
   "metadata": {},
   "outputs": [
    {
     "data": {
      "text/plain": [
       "(17,)"
      ]
     },
     "execution_count": 66,
     "metadata": {},
     "output_type": "execute_result"
    }
   ],
   "source": [
    "INPUT_SHAPE = (FIXED_LENGTH, )\n",
    "INPUT_SHAPE"
   ]
  },
  {
   "cell_type": "markdown",
   "metadata": {},
   "source": [
    "### Standardization"
   ]
  },
  {
   "cell_type": "code",
   "execution_count": 76,
   "metadata": {},
   "outputs": [],
   "source": [
    "y_train = np.array([(y - mean_y)/std_y for y in y_train])"
   ]
  },
  {
   "cell_type": "markdown",
   "metadata": {},
   "source": [
    "### Define the Keras embedded model "
   ]
  },
  {
   "cell_type": "code",
   "execution_count": 101,
   "metadata": {},
   "outputs": [],
   "source": [
    "def keras_embedding_model(encoder):\n",
    "    # Create model\n",
    "    input_layer = Input(shape=(FIXED_LENGTH,), name='input')\n",
    "    embedded_text = Embedding(input_dim=len(encoder.classes_),\n",
    "                              output_dim=EMBEDDING_SIZE,\n",
    "                              name='text_embedding')(input_layer)\n",
    "    embedded_text = Flatten()(embedded_text)\n",
    "    z = BatchNormalization()(embedded_text)\n",
    "    z = Dropout(0.3)(z)\n",
    "    z = Dense(256, activation='relu', name='fc0', kernel_initializer='normal')(z)\n",
    "    z = BatchNormalization()(z)\n",
    "    z = Dropout(0.7)(z)\n",
    "    z = Dense(64, activation='relu', name='fc1', kernel_initializer='normal')(z)\n",
    "    z = BatchNormalization()(z)\n",
    "    z = Dropout(0.55)(z)\n",
    "    z = Dense(16, activation='relu', name='fc2', kernel_initializer='normal')(z)\n",
    "    z = BatchNormalization()(z)\n",
    "    z = Dropout(0.4)(z)\n",
    "    z = ReLU()(z)\n",
    "    output = Dense(1, kernel_initializer='normal', activation='linear')(z)\n",
    "    model = Model(inputs=[input_layer], outputs=[output])\n",
    "\n",
    "    # Compile model\n",
    "    model.compile(optimizer=Adam(lr=0.01), loss='mean_squared_error')\n",
    "\n",
    "    return model"
   ]
  },
  {
   "cell_type": "code",
   "execution_count": 102,
   "metadata": {},
   "outputs": [],
   "source": [
    "keras_embedded_model = keras_embedding_model(encoder=encoder)"
   ]
  },
  {
   "cell_type": "code",
   "execution_count": 103,
   "metadata": {},
   "outputs": [
    {
     "name": "stdout",
     "output_type": "stream",
     "text": [
      "_________________________________________________________________\n",
      "Layer (type)                 Output Shape              Param #   \n",
      "=================================================================\n",
      "input (InputLayer)           (None, 17)                0         \n",
      "_________________________________________________________________\n",
      "text_embedding (Embedding)   (None, 17, 50)            242400    \n",
      "_________________________________________________________________\n",
      "flatten_7 (Flatten)          (None, 850)               0         \n",
      "_________________________________________________________________\n",
      "batch_normalization_13 (Batc (None, 850)               3400      \n",
      "_________________________________________________________________\n",
      "dropout_11 (Dropout)         (None, 850)               0         \n",
      "_________________________________________________________________\n",
      "fc0 (Dense)                  (None, 256)               217856    \n",
      "_________________________________________________________________\n",
      "batch_normalization_14 (Batc (None, 256)               1024      \n",
      "_________________________________________________________________\n",
      "dropout_12 (Dropout)         (None, 256)               0         \n",
      "_________________________________________________________________\n",
      "fc1 (Dense)                  (None, 64)                16448     \n",
      "_________________________________________________________________\n",
      "batch_normalization_15 (Batc (None, 64)                256       \n",
      "_________________________________________________________________\n",
      "dropout_13 (Dropout)         (None, 64)                0         \n",
      "_________________________________________________________________\n",
      "fc2 (Dense)                  (None, 16)                1040      \n",
      "_________________________________________________________________\n",
      "batch_normalization_16 (Batc (None, 16)                64        \n",
      "_________________________________________________________________\n",
      "dropout_14 (Dropout)         (None, 16)                0         \n",
      "_________________________________________________________________\n",
      "re_lu_6 (ReLU)               (None, 16)                0         \n",
      "_________________________________________________________________\n",
      "dense_7 (Dense)              (None, 1)                 17        \n",
      "=================================================================\n",
      "Total params: 482,505\n",
      "Trainable params: 480,133\n",
      "Non-trainable params: 2,372\n",
      "_________________________________________________________________\n"
     ]
    }
   ],
   "source": [
    "keras_embedded_model.summary()"
   ]
  },
  {
   "cell_type": "code",
   "execution_count": 95,
   "metadata": {},
   "outputs": [],
   "source": [
    "def schedule(epoch, lr):\n",
    "    if epoch in [500]:\n",
    "        return lr / 3.0\n",
    "    return lr\n",
    "scheduler = LearningRateScheduler(schedule=schedule)"
   ]
  },
  {
   "cell_type": "code",
   "execution_count": 96,
   "metadata": {},
   "outputs": [],
   "source": [
    "y_series = pd.Series(y_label)\n",
    "std_y, mean_y = y_series.describe()['std'], y_series.describe()['mean']\n",
    "\n",
    "def rmse(y_true, y_pred):\n",
    "    y_true = y_true * std_y + mean_y\n",
    "    y_pred = y_pred * std_y + mean_y\n",
    "    return K.sqrt(K.mean(K.square(y_true - y_pred), axis=0))"
   ]
  },
  {
   "cell_type": "code",
   "execution_count": 97,
   "metadata": {},
   "outputs": [],
   "source": [
    "X_train = np.array(X_train)\n",
    "X_test = np.array(X_test)\n",
    "y_train = np.array(y_train)\n",
    "y_test = np.array(y_test)"
   ]
  },
  {
   "cell_type": "code",
   "execution_count": 98,
   "metadata": {},
   "outputs": [
    {
     "data": {
      "text/plain": [
       "((11819, 17), (11819,))"
      ]
     },
     "execution_count": 98,
     "metadata": {},
     "output_type": "execute_result"
    }
   ],
   "source": [
    "X_train.shape, y_train.shape"
   ]
  },
  {
   "cell_type": "code",
   "execution_count": 104,
   "metadata": {
    "scrolled": true
   },
   "outputs": [
    {
     "name": "stdout",
     "output_type": "stream",
     "text": [
      "Epoch 1/200\n",
      "11819/11819 [==============================] - 13s 1ms/step - loss: 0.8176\n"
     ]
    },
    {
     "name": "stderr",
     "output_type": "stream",
     "text": [
      "/home/skadi/.local/lib/python3.5/site-packages/keras/callbacks.py:569: RuntimeWarning: Early stopping conditioned on metric `rmse` which is not available. Available metrics are: lr,loss\n",
      "  (self.monitor, ','.join(list(logs.keys()))), RuntimeWarning\n"
     ]
    },
    {
     "name": "stdout",
     "output_type": "stream",
     "text": [
      "Epoch 2/200\n",
      "11819/11819 [==============================] - 29985s 3s/step - loss: 0.6767: 9:26 - loss\n",
      "Epoch 3/200\n",
      "11819/11819 [==============================] - 19s 2ms/step - loss: 0.6101\n",
      "Epoch 4/200\n",
      "11819/11819 [==============================] - 12s 1ms/step - loss: 0.5804\n",
      "Epoch 5/200\n",
      "11819/11819 [==============================] - 10s 847us/step - loss: 0.5356\n",
      "Epoch 6/200\n",
      "11819/11819 [==============================] - 11s 889us/step - loss: 0.5218\n",
      "Epoch 7/200\n",
      "11819/11819 [==============================] - 11s 889us/step - loss: 0.5057\n",
      "Epoch 8/200\n",
      "11819/11819 [==============================] - 11s 967us/step - loss: 0.4783\n",
      "Epoch 9/200\n",
      "11819/11819 [==============================] - 11s 918us/step - loss: 0.4633\n",
      "Epoch 10/200\n",
      "11819/11819 [==============================] - 11s 920us/step - loss: 0.4613\n",
      "Epoch 11/200\n",
      "11819/11819 [==============================] - 11s 914us/step - loss: 0.4434\n",
      "Epoch 12/200\n",
      "11819/11819 [==============================] - 11s 933us/step - loss: 0.4356\n",
      "Epoch 13/200\n",
      "11819/11819 [==============================] - 11s 900us/step - loss: 0.4386\n",
      "Epoch 14/200\n",
      "11819/11819 [==============================] - 11s 918us/step - loss: 0.4286\n",
      "Epoch 15/200\n",
      "11819/11819 [==============================] - 11s 919us/step - loss: 0.4246\n",
      "Epoch 16/200\n",
      "11819/11819 [==============================] - 11s 914us/step - loss: 0.4243\n",
      "Epoch 17/200\n",
      "11819/11819 [==============================] - 11s 913us/step - loss: 0.4209\n",
      "Epoch 18/200\n",
      "11819/11819 [==============================] - 13s 1ms/step - loss: 0.4200\n",
      "Epoch 19/200\n",
      "11819/11819 [==============================] - 14s 1ms/step - loss: 0.4072\n",
      "Epoch 20/200\n",
      "11819/11819 [==============================] - 13s 1ms/step - loss: 0.4063\n",
      "Epoch 21/200\n",
      "11819/11819 [==============================] - 14s 1ms/step - loss: 0.3985\n",
      "Epoch 22/200\n",
      "11819/11819 [==============================] - 13s 1ms/step - loss: 0.3985\n",
      "Epoch 23/200\n",
      "11819/11819 [==============================] - 14s 1ms/step - loss: 0.3912\n",
      "Epoch 24/200\n",
      "11819/11819 [==============================] - 13s 1ms/step - loss: 0.3950\n",
      "Epoch 25/200\n",
      "11819/11819 [==============================] - 12s 977us/step - loss: 0.3899\n",
      "Epoch 26/200\n",
      "11819/11819 [==============================] - 12s 986us/step - loss: 0.3871\n",
      "Epoch 27/200\n",
      "11819/11819 [==============================] - 15s 1ms/step - loss: 0.3730\n",
      "Epoch 28/200\n",
      "11819/11819 [==============================] - 13s 1ms/step - loss: 0.3902\n",
      "Epoch 29/200\n",
      "11819/11819 [==============================] - 13s 1ms/step - loss: 0.3784\n",
      "Epoch 30/200\n",
      "11819/11819 [==============================] - 14s 1ms/step - loss: 0.3912\n",
      "Epoch 31/200\n",
      "11819/11819 [==============================] - 13s 1ms/step - loss: 0.3819\n",
      "Epoch 32/200\n",
      "11819/11819 [==============================] - 12s 1ms/step - loss: 0.3793\n",
      "Epoch 33/200\n",
      "11819/11819 [==============================] - 12s 988us/step - loss: 0.3781\n",
      "Epoch 34/200\n",
      "11819/11819 [==============================] - 12s 980us/step - loss: 0.3642\n",
      "Epoch 35/200\n",
      "11819/11819 [==============================] - 11s 970us/step - loss: 0.3770\n",
      "Epoch 36/200\n",
      "11819/11819 [==============================] - 11s 970us/step - loss: 0.3656\n",
      "Epoch 37/200\n",
      "11819/11819 [==============================] - 11s 955us/step - loss: 0.3701\n",
      "Epoch 38/200\n",
      "11819/11819 [==============================] - 12s 976us/step - loss: 0.3655\n",
      "Epoch 39/200\n",
      "11819/11819 [==============================] - 11s 970us/step - loss: 0.3652\n",
      "Epoch 40/200\n",
      "11819/11819 [==============================] - 11s 966us/step - loss: 0.3451\n",
      "Epoch 41/200\n",
      "11819/11819 [==============================] - 12s 1ms/step - loss: 0.3583\n",
      "Epoch 42/200\n",
      "11819/11819 [==============================] - 11s 969us/step - loss: 0.3591\n",
      "Epoch 43/200\n",
      "11819/11819 [==============================] - 11s 969us/step - loss: 0.3822\n",
      "Epoch 44/200\n",
      "11819/11819 [==============================] - 12s 998us/step - loss: 0.3652\n",
      "Epoch 45/200\n",
      "11819/11819 [==============================] - 11s 962us/step - loss: 0.3580\n",
      "Epoch 46/200\n",
      "11819/11819 [==============================] - 12s 984us/step - loss: 0.3621\n",
      "Epoch 47/200\n",
      "11819/11819 [==============================] - 11s 969us/step - loss: 0.3541\n",
      "Epoch 48/200\n",
      "11819/11819 [==============================] - 12s 991us/step - loss: 0.3642\n",
      "Epoch 49/200\n",
      "11819/11819 [==============================] - 12s 985us/step - loss: 0.3524\n",
      "Epoch 50/200\n",
      "11819/11819 [==============================] - 12s 999us/step - loss: 0.3467\n",
      "Epoch 51/200\n",
      "11819/11819 [==============================] - 12s 983us/step - loss: 0.3548\n",
      "Epoch 52/200\n",
      "11819/11819 [==============================] - 12s 988us/step - loss: 0.3570\n",
      "Epoch 53/200\n",
      "11819/11819 [==============================] - 11s 970us/step - loss: 0.3529\n",
      "Epoch 54/200\n",
      "11819/11819 [==============================] - 11s 961us/step - loss: 0.3383\n",
      "Epoch 55/200\n",
      "11819/11819 [==============================] - 11s 967us/step - loss: 0.3464\n",
      "Epoch 56/200\n",
      "11819/11819 [==============================] - 11s 971us/step - loss: 0.3463\n",
      "Epoch 57/200\n",
      "11819/11819 [==============================] - 11s 949us/step - loss: 0.3533\n",
      "Epoch 58/200\n",
      "11819/11819 [==============================] - 11s 959us/step - loss: 0.3498\n",
      "Epoch 59/200\n",
      "11819/11819 [==============================] - 11s 963us/step - loss: 0.3661\n",
      "Epoch 60/200\n",
      "11819/11819 [==============================] - 12s 1ms/step - loss: 0.3529\n",
      "Epoch 61/200\n",
      "11819/11819 [==============================] - 27s 2ms/step - loss: 0.3411\n",
      "Epoch 62/200\n",
      "11819/11819 [==============================] - 12s 976us/step - loss: 0.3485\n",
      "Epoch 63/200\n",
      "11819/11819 [==============================] - 11s 965us/step - loss: 0.3481\n",
      "Epoch 64/200\n",
      "11819/11819 [==============================] - 11s 967us/step - loss: 0.3327\n",
      "Epoch 65/200\n",
      "11819/11819 [==============================] - 12s 973us/step - loss: 0.3519\n",
      "Epoch 66/200\n",
      "11819/11819 [==============================] - 12s 992us/step - loss: 0.3431\n",
      "Epoch 67/200\n",
      "11819/11819 [==============================] - 11s 970us/step - loss: 0.3414\n",
      "Epoch 68/200\n",
      "11819/11819 [==============================] - 12s 1ms/step - loss: 0.3559\n",
      "Epoch 69/200\n",
      "11819/11819 [==============================] - 11s 966us/step - loss: 0.3374\n",
      "Epoch 70/200\n",
      "11819/11819 [==============================] - 12s 975us/step - loss: 0.3355\n",
      "Epoch 71/200\n",
      "11819/11819 [==============================] - 12s 1ms/step - loss: 0.3377\n",
      "Epoch 72/200\n",
      "11819/11819 [==============================] - 12s 992us/step - loss: 0.3309\n",
      "Epoch 73/200\n",
      "11819/11819 [==============================] - 12s 991us/step - loss: 0.3434\n",
      "Epoch 74/200\n",
      "11819/11819 [==============================] - 12s 992us/step - loss: 0.3506\n",
      "Epoch 75/200\n",
      "11819/11819 [==============================] - 11s 973us/step - loss: 0.3562\n",
      "Epoch 76/200\n",
      "11819/11819 [==============================] - 15s 1ms/step - loss: 0.3365\n",
      "Epoch 77/200\n",
      "11819/11819 [==============================] - 16s 1ms/step - loss: 0.3399\n",
      "Epoch 78/200\n",
      "11819/11819 [==============================] - 15s 1ms/step - loss: 0.3465\n",
      "Epoch 79/200\n",
      "11819/11819 [==============================] - 12s 1ms/step - loss: 0.3334\n",
      "Epoch 80/200\n",
      "11819/11819 [==============================] - 13s 1ms/step - loss: 0.3262\n",
      "Epoch 81/200\n",
      "11819/11819 [==============================] - 13s 1ms/step - loss: 0.3309\n",
      "Epoch 82/200\n",
      "11819/11819 [==============================] - 12s 1ms/step - loss: 0.3329\n",
      "Epoch 83/200\n",
      "11819/11819 [==============================] - 14s 1ms/step - loss: 0.3359\n",
      "Epoch 84/200\n",
      "11819/11819 [==============================] - 13s 1ms/step - loss: 0.3423\n",
      "Epoch 85/200\n",
      "11819/11819 [==============================] - 13s 1ms/step - loss: 0.3303\n",
      "Epoch 86/200\n",
      "11819/11819 [==============================] - 14s 1ms/step - loss: 0.3320\n",
      "Epoch 87/200\n",
      "11819/11819 [==============================] - 13s 1ms/step - loss: 0.3379\n",
      "Epoch 88/200\n",
      "11819/11819 [==============================] - 12s 1ms/step - loss: 0.3316\n",
      "Epoch 89/200\n",
      "11819/11819 [==============================] - 14s 1ms/step - loss: 0.3401\n",
      "Epoch 90/200\n",
      "11819/11819 [==============================] - 17s 1ms/step - loss: 0.3296\n",
      "Epoch 91/200\n",
      "11819/11819 [==============================] - 14s 1ms/step - loss: 0.3286\n",
      "Epoch 92/200\n",
      "11819/11819 [==============================] - 16s 1ms/step - loss: 0.3364\n",
      "Epoch 93/200\n"
     ]
    },
    {
     "name": "stdout",
     "output_type": "stream",
     "text": [
      "11819/11819 [==============================] - 13s 1ms/step - loss: 0.3397\n",
      "Epoch 94/200\n",
      "11819/11819 [==============================] - 10s 834us/step - loss: 0.3316\n",
      "Epoch 95/200\n",
      "11819/11819 [==============================] - 10s 863us/step - loss: 0.3344\n",
      "Epoch 96/200\n",
      "11819/11819 [==============================] - 10s 815us/step - loss: 0.3354\n",
      "Epoch 97/200\n",
      "11819/11819 [==============================] - 13s 1ms/step - loss: 0.3347\n",
      "Epoch 98/200\n",
      "11819/11819 [==============================] - 9s 789us/step - loss: 0.3383\n",
      "Epoch 99/200\n",
      "11819/11819 [==============================] - 9s 789us/step - loss: 0.3327\n",
      "Epoch 100/200\n",
      "11819/11819 [==============================] - 9s 792us/step - loss: 0.3405\n",
      "Epoch 101/200\n",
      "11819/11819 [==============================] - 9s 735us/step - loss: 0.3175\n",
      "Epoch 102/200\n",
      "11819/11819 [==============================] - 8s 713us/step - loss: 0.3266\n",
      "Epoch 103/200\n",
      "11819/11819 [==============================] - 8s 719us/step - loss: 0.3279\n",
      "Epoch 104/200\n",
      "11819/11819 [==============================] - 8s 714us/step - loss: 0.3278\n",
      "Epoch 105/200\n",
      "11819/11819 [==============================] - 9s 721us/step - loss: 0.3191\n",
      "Epoch 106/200\n",
      "11819/11819 [==============================] - 8s 714us/step - loss: 0.3343\n",
      "Epoch 107/200\n",
      "11819/11819 [==============================] - 8s 712us/step - loss: 0.3245\n",
      "Epoch 108/200\n",
      "11819/11819 [==============================] - 8s 710us/step - loss: 0.3185\n",
      "Epoch 109/200\n",
      "11819/11819 [==============================] - 8s 701us/step - loss: 0.3071\n",
      "Epoch 110/200\n",
      "11819/11819 [==============================] - 8s 703us/step - loss: 0.3229\n",
      "Epoch 111/200\n",
      "11819/11819 [==============================] - 8s 716us/step - loss: 0.3384\n",
      "Epoch 112/200\n",
      "11819/11819 [==============================] - 8s 703us/step - loss: 0.3190\n",
      "Epoch 113/200\n",
      "11819/11819 [==============================] - 9s 740us/step - loss: 0.3231\n",
      "Epoch 114/200\n",
      "11819/11819 [==============================] - 8s 710us/step - loss: 0.3195\n",
      "Epoch 115/200\n",
      "11819/11819 [==============================] - 8s 709us/step - loss: 0.3266\n",
      "Epoch 116/200\n",
      "11819/11819 [==============================] - 8s 702us/step - loss: 0.3253\n",
      "Epoch 117/200\n",
      "11819/11819 [==============================] - 8s 713us/step - loss: 0.3214\n",
      "Epoch 118/200\n",
      "11819/11819 [==============================] - 8s 698us/step - loss: 0.3269\n",
      "Epoch 119/200\n",
      "11819/11819 [==============================] - 8s 715us/step - loss: 0.3305\n",
      "Epoch 120/200\n",
      "11819/11819 [==============================] - 10s 825us/step - loss: 0.3186\n",
      "Epoch 121/200\n",
      "11819/11819 [==============================] - 14s 1ms/step - loss: 0.3207\n",
      "Epoch 122/200\n",
      "11819/11819 [==============================] - 9s 774us/step - loss: 0.3368\n",
      "Epoch 123/200\n",
      "11819/11819 [==============================] - 9s 738us/step - loss: 0.3198\n",
      "Epoch 124/200\n",
      "11819/11819 [==============================] - 9s 757us/step - loss: 0.3243\n",
      "Epoch 125/200\n",
      "11819/11819 [==============================] - 9s 728us/step - loss: 0.3214\n",
      "Epoch 126/200\n",
      "11819/11819 [==============================] - 9s 774us/step - loss: 0.3184\n",
      "Epoch 127/200\n",
      "11819/11819 [==============================] - 8s 719us/step - loss: 0.3222\n",
      "Epoch 128/200\n",
      "11819/11819 [==============================] - 9s 724us/step - loss: 0.3237\n",
      "Epoch 129/200\n",
      "11819/11819 [==============================] - 9s 734us/step - loss: 0.3197\n",
      "Epoch 130/200\n",
      "11819/11819 [==============================] - 8s 717us/step - loss: 0.3217\n",
      "Epoch 131/200\n",
      "11819/11819 [==============================] - 9s 732us/step - loss: 0.3213\n",
      "Epoch 132/200\n",
      "11819/11819 [==============================] - 8s 719us/step - loss: 0.3224\n",
      "Epoch 133/200\n",
      "11819/11819 [==============================] - 9s 721us/step - loss: 0.3290\n",
      "Epoch 134/200\n",
      "11819/11819 [==============================] - 9s 726us/step - loss: 0.3154\n",
      "Epoch 135/200\n",
      "11819/11819 [==============================] - 9s 751us/step - loss: 0.3269\n",
      "Epoch 136/200\n",
      "11819/11819 [==============================] - 9s 732us/step - loss: 0.3200\n",
      "Epoch 137/200\n",
      "11819/11819 [==============================] - 9s 725us/step - loss: 0.3004\n",
      "Epoch 138/200\n",
      "11819/11819 [==============================] - 10s 806us/step - loss: 0.3245\n",
      "Epoch 139/200\n",
      "11819/11819 [==============================] - 9s 723us/step - loss: 0.3102\n",
      "Epoch 140/200\n",
      "11819/11819 [==============================] - 9s 740us/step - loss: 0.3230\n",
      "Epoch 141/200\n",
      "11819/11819 [==============================] - 9s 737us/step - loss: 0.3284\n",
      "Epoch 142/200\n",
      "11819/11819 [==============================] - 9s 726us/step - loss: 0.3198\n",
      "Epoch 143/200\n",
      "11819/11819 [==============================] - 9s 729us/step - loss: 0.3205\n",
      "Epoch 144/200\n",
      "11819/11819 [==============================] - 8s 718us/step - loss: 0.3124\n",
      "Epoch 145/200\n",
      "11819/11819 [==============================] - 9s 743us/step - loss: 0.3221\n",
      "Epoch 146/200\n",
      "11819/11819 [==============================] - 9s 739us/step - loss: 0.3106\n",
      "Epoch 147/200\n",
      "11819/11819 [==============================] - 9s 732us/step - loss: 0.3232\n",
      "Epoch 148/200\n",
      "11819/11819 [==============================] - 9s 751us/step - loss: 0.3071\n",
      "Epoch 149/200\n",
      "11819/11819 [==============================] - 9s 745us/step - loss: 0.3189\n",
      "Epoch 150/200\n",
      "11819/11819 [==============================] - 8s 718us/step - loss: 0.3148\n",
      "Epoch 151/200\n",
      "11819/11819 [==============================] - 9s 751us/step - loss: 0.3177\n",
      "Epoch 152/200\n",
      "11819/11819 [==============================] - 9s 725us/step - loss: 0.3142\n",
      "Epoch 153/200\n",
      "11819/11819 [==============================] - ETA: 0s - loss: 0.316 - 9s 770us/step - loss: 0.3169\n",
      "Epoch 154/200\n",
      "11819/11819 [==============================] - 9s 747us/step - loss: 0.3121\n",
      "Epoch 155/200\n",
      "11819/11819 [==============================] - 9s 742us/step - loss: 0.3037\n",
      "Epoch 156/200\n",
      "11819/11819 [==============================] - 9s 726us/step - loss: 0.3243\n",
      "Epoch 157/200\n",
      "11819/11819 [==============================] - 9s 721us/step - loss: 0.3186\n",
      "Epoch 158/200\n",
      "11819/11819 [==============================] - 9s 773us/step - loss: 0.3207\n",
      "Epoch 159/200\n",
      "11819/11819 [==============================] - 9s 754us/step - loss: 0.3100\n",
      "Epoch 160/200\n",
      "11819/11819 [==============================] - 9s 730us/step - loss: 0.3030\n",
      "Epoch 161/200\n",
      "11819/11819 [==============================] - 9s 722us/step - loss: 0.3164\n",
      "Epoch 162/200\n",
      "11819/11819 [==============================] - 9s 727us/step - loss: 0.3082\n",
      "Epoch 163/200\n",
      "11819/11819 [==============================] - 9s 750us/step - loss: 0.3130\n",
      "Epoch 164/200\n",
      "11819/11819 [==============================] - 9s 720us/step - loss: 0.3195\n",
      "Epoch 165/200\n",
      "11819/11819 [==============================] - 9s 724us/step - loss: 0.3247\n",
      "Epoch 166/200\n",
      "11819/11819 [==============================] - 9s 734us/step - loss: 0.3110\n",
      "Epoch 167/200\n",
      "11819/11819 [==============================] - 9s 750us/step - loss: 0.3083\n",
      "Epoch 168/200\n",
      "11819/11819 [==============================] - 9s 728us/step - loss: 0.3130\n",
      "Epoch 169/200\n",
      "11819/11819 [==============================] - 8s 706us/step - loss: 0.3169\n",
      "Epoch 170/200\n",
      "11819/11819 [==============================] - 8s 710us/step - loss: 0.3105\n",
      "Epoch 171/200\n",
      "11819/11819 [==============================] - 8s 719us/step - loss: 0.3028\n",
      "Epoch 172/200\n",
      "11819/11819 [==============================] - 8s 713us/step - loss: 0.3176\n",
      "Epoch 173/200\n",
      "11819/11819 [==============================] - 8s 701us/step - loss: 0.3185\n",
      "Epoch 174/200\n",
      "11819/11819 [==============================] - 8s 701us/step - loss: 0.3043\n",
      "Epoch 175/200\n",
      "11819/11819 [==============================] - 8s 702us/step - loss: 0.3050\n",
      "Epoch 176/200\n",
      "11819/11819 [==============================] - 8s 717us/step - loss: 0.3160\n",
      "Epoch 177/200\n",
      "11819/11819 [==============================] - 8s 706us/step - loss: 0.3016\n",
      "Epoch 178/200\n",
      "11819/11819 [==============================] - 8s 715us/step - loss: 0.3093\n",
      "Epoch 179/200\n",
      "11819/11819 [==============================] - 9s 721us/step - loss: 0.3022\n",
      "Epoch 180/200\n",
      "11819/11819 [==============================] - 8s 706us/step - loss: 0.3207\n",
      "Epoch 181/200\n",
      "11819/11819 [==============================] - 9s 728us/step - loss: 0.2985\n",
      "Epoch 182/200\n",
      "11819/11819 [==============================] - 9s 721us/step - loss: 0.3024\n",
      "Epoch 183/200\n",
      "11819/11819 [==============================] - 8s 718us/step - loss: 0.2993\n"
     ]
    },
    {
     "name": "stdout",
     "output_type": "stream",
     "text": [
      "Epoch 184/200\n",
      "11819/11819 [==============================] - 8s 702us/step - loss: 0.3082\n",
      "Epoch 185/200\n",
      "11819/11819 [==============================] - 8s 700us/step - loss: 0.3089\n",
      "Epoch 186/200\n",
      "11819/11819 [==============================] - 9s 781us/step - loss: 0.3047\n",
      "Epoch 187/200\n",
      "11819/11819 [==============================] - 8s 710us/step - loss: 0.3052\n",
      "Epoch 188/200\n",
      "11819/11819 [==============================] - 8s 705us/step - loss: 0.2916\n",
      "Epoch 189/200\n",
      "11819/11819 [==============================] - 8s 704us/step - loss: 0.3025\n",
      "Epoch 190/200\n",
      "11819/11819 [==============================] - 8s 706us/step - loss: 0.3036\n",
      "Epoch 191/200\n",
      "11819/11819 [==============================] - 8s 704us/step - loss: 0.3039\n",
      "Epoch 192/200\n",
      "11819/11819 [==============================] - 8s 700us/step - loss: 0.3052\n",
      "Epoch 193/200\n",
      "11819/11819 [==============================] - 8s 715us/step - loss: 0.3058\n",
      "Epoch 194/200\n",
      "11819/11819 [==============================] - 8s 698us/step - loss: 0.3022\n",
      "Epoch 195/200\n",
      "11819/11819 [==============================] - 9s 722us/step - loss: 0.2987\n",
      "Epoch 196/200\n",
      "11819/11819 [==============================] - 9s 721us/step - loss: 0.3017\n",
      "Epoch 197/200\n",
      "11819/11819 [==============================] - 8s 700us/step - loss: 0.3031\n",
      "Epoch 198/200\n",
      "11819/11819 [==============================] - 9s 723us/step - loss: 0.3097\n",
      "Epoch 199/200\n",
      "11819/11819 [==============================] - 8s 708us/step - loss: 0.3057\n",
      "Epoch 200/200\n",
      "11819/11819 [==============================] - 8s 716us/step - loss: 0.3056\n"
     ]
    }
   ],
   "source": [
    "history = keras_embedded_model.fit(X_train, y_train, epochs=EPOCHS,\n",
    "                    callbacks=[scheduler, EarlyStopping(patience=10, monitor='rmse'),\n",
    "                               ModelCheckpoint('models/embedding.h5', monitor='rmse')],\n",
    "                    batch_size=BATCH_SIZE)"
   ]
  },
  {
   "cell_type": "code",
   "execution_count": 106,
   "metadata": {
    "scrolled": true
   },
   "outputs": [
    {
     "name": "stdout",
     "output_type": "stream",
     "text": [
      "Mean squared error:  321.974247937375\n",
      "Std:  398.30466209532875\n",
      "Mean:  388.23959390862944\n",
      "Showing the first 100 differences between predicted and real.\n",
      "647.8311903670052 807.0\n",
      "90.61284746943744 13.0\n",
      "173.18180846909476 1026.0\n",
      "176.06908392837124 27.0\n",
      "114.00719159009924 17.0\n",
      "100.76992958909153 4.0\n",
      "436.4611931841066 1277.0\n",
      "659.2225978858446 802.0\n",
      "126.12242494967501 47.0\n",
      "365.3802210180413 255.0\n",
      "507.8161116945199 231.0\n",
      "142.4604295326618 118.0\n",
      "262.30197312045857 203.0\n",
      "187.36148063529518 421.0\n",
      "79.26294092628945 9.0\n",
      "850.4921444228644 961.0\n",
      "780.7301779556489 1109.0\n",
      "474.57237481470383 725.0\n",
      "762.0621564896951 35.0\n",
      "134.4860921684361 26.0\n",
      "228.84321987337225 21.0\n",
      "473.5140529877665 561.0\n",
      "123.81010701222351 2.0\n",
      "706.2978024785766 848.0\n",
      "153.72860168816402 2.0\n",
      "605.4575674627038 848.0\n",
      "160.80977608572684 49.0\n",
      "218.20573109732595 377.0\n",
      "61.96806656214511 1.0\n",
      "255.76275264074894 233.0\n",
      "369.26639538572397 340.0\n",
      "129.5577104646601 122.0\n",
      "115.79516066160289 12.0\n",
      "673.0953787872317 514.0\n",
      "81.42610886399916 13.0\n",
      "155.97979488540025 258.0\n",
      "154.04356780345134 121.0\n",
      "677.7935803056963 962.0\n",
      "169.50258735490965 122.0\n",
      "248.79873399526537 428.0\n",
      "370.3781896236483 163.0\n",
      "334.3018937858775 204.0\n",
      "61.60225705695524 3.0\n",
      "117.70908801113842 314.0\n",
      "260.88413266021223 219.0\n",
      "105.13386985538062 41.0\n",
      "153.82733081924903 44.0\n",
      "177.0488637504083 126.0\n",
      "415.72663204200086 695.0\n",
      "416.7475842120938 290.0\n",
      "891.2561491681643 1019.0\n",
      "320.7181174165681 396.0\n",
      "187.10881293035013 10.0\n",
      "166.0581472129338 759.0\n",
      "73.38740743000761 1.0\n",
      "683.4096857571014 1059.0\n",
      "345.27318608274976 380.0\n",
      "499.5242848242338 910.0\n",
      "227.9602678368144 21.0\n",
      "456.8418517044612 1146.0\n",
      "130.8819859423803 1.0\n",
      "277.2681685855808 571.0\n",
      "99.7765821403861 2.0\n",
      "494.2126059303753 214.0\n",
      "443.80336834451634 108.0\n",
      "793.8310125410917 392.0\n",
      "497.5124968595073 240.0\n",
      "132.8376020548276 40.0\n",
      "175.82904491399293 687.0\n",
      "335.9028972061467 83.0\n",
      "208.0223118200215 206.0\n",
      "905.4798574375305 1468.0\n",
      "120.25083498501994 7.0\n",
      "360.8928341277921 142.0\n",
      "369.13242094072456 437.0\n",
      "94.73792239147525 2.0\n",
      "355.7949392475705 520.0\n",
      "229.37057333484526 7.0\n",
      "226.24842300974936 270.0\n",
      "168.21798192748273 244.0\n",
      "137.4708291950604 185.0\n",
      "836.7994514657673 234.0\n",
      "166.22776601969085 599.0\n",
      "561.2014833049722 1060.0\n",
      "394.42426689749425 341.0\n",
      "337.1064959214066 246.0\n",
      "284.3526057860967 165.0\n",
      "220.74355801298324 1230.0\n",
      "339.381021680768 419.0\n",
      "204.12737013648996 11.0\n",
      "538.5131135024146 477.0\n",
      "733.5213627556568 925.0\n",
      "650.2587627109301 875.0\n",
      "764.5590692647245 249.0\n",
      "212.23229003904802 79.0\n",
      "232.0820095356915 8.0\n",
      "771.7845111943006 826.0\n",
      "127.62561470155828 25.0\n",
      "575.3818009897424 1518.0\n",
      "153.08669802229375 132.0\n"
     ]
    }
   ],
   "source": [
    "y_pred = keras_embedded_model.predict(X_test)\n",
    "\n",
    "y_pred = y_pred.flatten()\n",
    "y_pred = [y * std_y + mean_y for y in y_pred]\n",
    "\n",
    "# how far off is the result? metric = mean squared error\n",
    "y_test = np.array(y_test)\n",
    "y_pred = np.array(y_pred)\n",
    "print(\"Mean squared error: \", np.sqrt(mean_squared_error(y_true=y_test, y_pred=y_pred)))\n",
    "print(\"Std: \", np.std(y_test))\n",
    "print(\"Mean: \", np.mean(y_test))\n",
    "\n",
    "# show first k differences\n",
    "first_k = 100\n",
    "print(\"Showing the first {} differences between predicted and real.\".format(first_k))\n",
    "for yp, yt in zip(y_pred[:first_k], y_test[:first_k]):\n",
    "    print(yp, yt)"
   ]
  },
  {
   "cell_type": "markdown",
   "metadata": {},
   "source": [
    "### Save model"
   ]
  },
  {
   "cell_type": "code",
   "execution_count": 109,
   "metadata": {},
   "outputs": [],
   "source": [
    "keras_embedded_model.save('models/predict_sodium')"
   ]
  },
  {
   "cell_type": "markdown",
   "metadata": {},
   "source": [
    "### Get the dataframe that has NaN values for our regression column (calories)"
   ]
  },
  {
   "cell_type": "code",
   "execution_count": 110,
   "metadata": {},
   "outputs": [],
   "source": [
    "predict_df = df[df[regr_column] != df[regr_column]]"
   ]
  },
  {
   "cell_type": "markdown",
   "metadata": {},
   "source": [
    "### Get the input data we need to predict the needed values"
   ]
  },
  {
   "cell_type": "code",
   "execution_count": 111,
   "metadata": {},
   "outputs": [],
   "source": [
    "predict_data = []\n",
    "for i in range(len(predict_df)):\n",
    "    predict_data.append(get_small_dict(predict_df, keep_columns, i))\n",
    "corpus = ['|'.join(\n",
    "    d['tags'] + \n",
    "    [w.lower() for w in nltk.word_tokenize(d['title']) if w not in '''!()-[]{};:'\"\\,<>./?@#$%^&*_~''']\n",
    ") for d in predict_data]"
   ]
  },
  {
   "cell_type": "markdown",
   "metadata": {},
   "source": [
    "### Split input data using the tokenizer"
   ]
  },
  {
   "cell_type": "code",
   "execution_count": 112,
   "metadata": {},
   "outputs": [],
   "source": [
    "predict_corpus = []\n",
    "for word_list in corpus:\n",
    "    predict_corpus.append(tokenize(word_list))"
   ]
  },
  {
   "cell_type": "markdown",
   "metadata": {},
   "source": [
    "### Make sure input data has a fixed shape"
   ]
  },
  {
   "cell_type": "code",
   "execution_count": 113,
   "metadata": {},
   "outputs": [],
   "source": [
    "X = []\n",
    "for sample in predict_corpus:\n",
    "    sample = [w for w in sample if w in encoder.classes_]\n",
    "    input_sample = generate_input_matrix(sample, FIXED_LENGTH)\n",
    "    if input_sample.shape != (FIXED_LENGTH,):\n",
    "        print(input_sample.shape)\n",
    "    X.append(input_sample)"
   ]
  },
  {
   "cell_type": "markdown",
   "metadata": {},
   "source": [
    "### Transform matrix-like input data using available encoder"
   ]
  },
  {
   "cell_type": "code",
   "execution_count": 114,
   "metadata": {},
   "outputs": [],
   "source": [
    "X_encoded = []\n",
    "for sentence in X:\n",
    "    encoded = encoder.transform(sentence)\n",
    "    X_encoded.append(encoded)"
   ]
  },
  {
   "cell_type": "code",
   "execution_count": 115,
   "metadata": {},
   "outputs": [
    {
     "data": {
      "text/plain": [
       "(4119, 17)"
      ]
     },
     "execution_count": 115,
     "metadata": {},
     "output_type": "execute_result"
    }
   ],
   "source": [
    "X_encoded = np.array(X_encoded)\n",
    "X_encoded.shape"
   ]
  },
  {
   "cell_type": "markdown",
   "metadata": {},
   "source": [
    "### Predict missing data "
   ]
  },
  {
   "cell_type": "code",
   "execution_count": 116,
   "metadata": {},
   "outputs": [],
   "source": [
    "y_pred = keras_embedded_model.predict(X_encoded)\n",
    "\n",
    "y_pred = y_pred.flatten()"
   ]
  },
  {
   "cell_type": "markdown",
   "metadata": {},
   "source": [
    "### Fill the dataframe with predicted values"
   ]
  },
  {
   "cell_type": "code",
   "execution_count": 117,
   "metadata": {},
   "outputs": [
    {
     "name": "stderr",
     "output_type": "stream",
     "text": [
      "/usr/local/lib/python3.5/dist-packages/ipykernel_launcher.py:1: SettingWithCopyWarning: \n",
      "A value is trying to be set on a copy of a slice from a DataFrame.\n",
      "Try using .loc[row_indexer,col_indexer] = value instead\n",
      "\n",
      "See the caveats in the documentation: http://pandas.pydata.org/pandas-docs/stable/indexing.html#indexing-view-versus-copy\n",
      "  \"\"\"Entry point for launching an IPython kernel.\n"
     ]
    }
   ],
   "source": [
    "predict_df[regr_column] = y_pred"
   ]
  },
  {
   "cell_type": "markdown",
   "metadata": {},
   "source": [
    "### Update initial dataframe with missing values"
   ]
  },
  {
   "cell_type": "code",
   "execution_count": 119,
   "metadata": {},
   "outputs": [],
   "source": [
    "update_regr_column = [np.nan for _ in range(len(df))]\n",
    "for idx, value in zip(predict_df.index, y_pred):\n",
    "    update_regr_column[idx] = value"
   ]
  },
  {
   "cell_type": "code",
   "execution_count": 120,
   "metadata": {},
   "outputs": [],
   "source": [
    "df.update({regr_column: update_regr_column})"
   ]
  },
  {
   "cell_type": "markdown",
   "metadata": {},
   "source": [
    "### Save updated dataframe"
   ]
  },
  {
   "cell_type": "code",
   "execution_count": 121,
   "metadata": {},
   "outputs": [],
   "source": [
    "df.to_csv('recipes_with_calories_protein_fat_and_sodium.csv', sep='|')"
   ]
  },
  {
   "cell_type": "code",
   "execution_count": null,
   "metadata": {},
   "outputs": [],
   "source": []
  }
 ],
 "metadata": {
  "kernelspec": {
   "display_name": "Python 3",
   "language": "python",
   "name": "python3"
  },
  "language_info": {
   "codemirror_mode": {
    "name": "ipython",
    "version": 3
   },
   "file_extension": ".py",
   "mimetype": "text/x-python",
   "name": "python",
   "nbconvert_exporter": "python",
   "pygments_lexer": "ipython3",
   "version": "3.5.2"
  }
 },
 "nbformat": 4,
 "nbformat_minor": 2
}
