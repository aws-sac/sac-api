{
 "cells": [
  {
   "cell_type": "code",
   "execution_count": 1,
   "metadata": {},
   "outputs": [],
   "source": [
    "import numpy as np\n",
    "import scipy\n",
    "import pandas as pd\n",
    "import math\n",
    "import random\n",
    "import sklearn\n",
    "import unicodedata\n",
    "\n",
    "from sklearn.feature_extraction.text import TfidfVectorizer, CountVectorizer, TfidfTransformer\n",
    "from sklearn.metrics import accuracy_score, confusion_matrix, mean_squared_error\n",
    "from sklearn.model_selection import train_test_split\n",
    "from sklearn.metrics.pairwise import cosine_similarity\n",
    "from sklearn.preprocessing import LabelEncoder\n",
    "\n",
    "from scipy.sparse.linalg import svds\n",
    "\n",
    "import matplotlib.pyplot as plt"
   ]
  },
  {
   "cell_type": "code",
   "execution_count": 170,
   "metadata": {},
   "outputs": [],
   "source": [
    "from keras.models import Sequential, Model\n",
    "from keras.layers import Dense, Embedding, Input, Conv2D, Concatenate, MaxPool2D, Reshape, Flatten, Dropout\n",
    "from keras.layers import ReLU\n",
    "from keras.layers import BatchNormalization, LSTM, Bidirectional\n",
    "\n",
    "from keras.callbacks import CSVLogger, EarlyStopping, ReduceLROnPlateau\n",
    "from keras.layers import Add\n",
    "\n",
    "from keras.models import Sequential\n",
    "from keras.layers import Dense\n",
    "from keras.wrappers.scikit_learn import KerasRegressor\n",
    "from sklearn.linear_model import LinearRegression\n",
    "from sklearn.model_selection import cross_val_score\n",
    "from sklearn.model_selection import KFold\n",
    "from sklearn.preprocessing import StandardScaler\n",
    "from sklearn.pipeline import Pipeline"
   ]
  },
  {
   "cell_type": "code",
   "execution_count": 3,
   "metadata": {},
   "outputs": [],
   "source": [
    "from keras.optimizers import Adam, SGD\n",
    "from keras.callbacks import LearningRateScheduler\n",
    "from keras.callbacks import EarlyStopping\n",
    "from keras.callbacks import ModelCheckpoint\n",
    "from sklearn.manifold import TSNE\n",
    "from keras import backend as K"
   ]
  },
  {
   "cell_type": "code",
   "execution_count": 4,
   "metadata": {},
   "outputs": [],
   "source": [
    "# !python3 -m pip install gensim"
   ]
  },
  {
   "cell_type": "code",
   "execution_count": 5,
   "metadata": {},
   "outputs": [],
   "source": [
    "from gensim.models import Word2Vec"
   ]
  },
  {
   "cell_type": "code",
   "execution_count": 6,
   "metadata": {},
   "outputs": [],
   "source": [
    "%matplotlib inline"
   ]
  },
  {
   "cell_type": "code",
   "execution_count": 7,
   "metadata": {},
   "outputs": [],
   "source": [
    "# !python3 -m pip install -U nltk\n",
    "# !python3 -m nltk.downloader punkt"
   ]
  },
  {
   "cell_type": "code",
   "execution_count": 8,
   "metadata": {},
   "outputs": [],
   "source": [
    "import nltk"
   ]
  },
  {
   "cell_type": "code",
   "execution_count": 9,
   "metadata": {},
   "outputs": [],
   "source": [
    "from nltk.corpus import stopwords"
   ]
  },
  {
   "cell_type": "code",
   "execution_count": 17,
   "metadata": {},
   "outputs": [],
   "source": [
    "path = 'epi_r.csv'\n",
    "# path = 'recipes_with_calories.csv'"
   ]
  },
  {
   "cell_type": "code",
   "execution_count": 23,
   "metadata": {},
   "outputs": [],
   "source": [
    "df = pd.read_csv(path)\n",
    "# df = pd.read_csv(path, sep=\"|\", index_col=0)"
   ]
  },
  {
   "cell_type": "code",
   "execution_count": 24,
   "metadata": {},
   "outputs": [
    {
     "data": {
      "text/plain": [
       "680"
      ]
     },
     "execution_count": 24,
     "metadata": {},
     "output_type": "execute_result"
    }
   ],
   "source": [
    "all_columns = list(df.columns)\n",
    "len(all_columns)"
   ]
  },
  {
   "cell_type": "code",
   "execution_count": 168,
   "metadata": {},
   "outputs": [
    {
     "data": {
      "text/plain": [
       "((15864, 680), (20052, 680))"
      ]
     },
     "execution_count": 168,
     "metadata": {},
     "output_type": "execute_result"
    }
   ],
   "source": [
    "df.dropna(axis=0).shape, df.shape"
   ]
  },
  {
   "cell_type": "code",
   "execution_count": 169,
   "metadata": {},
   "outputs": [
    {
     "name": "stdout",
     "output_type": "stream",
     "text": [
      "protein\n",
      "fat\n",
      "sodium\n"
     ]
    }
   ],
   "source": [
    "for column in df.columns:\n",
    "    if df[column].isnull().any():\n",
    "        print(column)\n",
    "#         df[column] = df[column].fillna(df[column].mean())"
   ]
  },
  {
   "cell_type": "code",
   "execution_count": 28,
   "metadata": {},
   "outputs": [
    {
     "data": {
      "text/html": [
       "<div>\n",
       "<style scoped>\n",
       "    .dataframe tbody tr th:only-of-type {\n",
       "        vertical-align: middle;\n",
       "    }\n",
       "\n",
       "    .dataframe tbody tr th {\n",
       "        vertical-align: top;\n",
       "    }\n",
       "\n",
       "    .dataframe thead th {\n",
       "        text-align: right;\n",
       "    }\n",
       "</style>\n",
       "<table border=\"1\" class=\"dataframe\">\n",
       "  <thead>\n",
       "    <tr style=\"text-align: right;\">\n",
       "      <th></th>\n",
       "      <th>title</th>\n",
       "      <th>rating</th>\n",
       "      <th>calories</th>\n",
       "      <th>protein</th>\n",
       "      <th>fat</th>\n",
       "      <th>sodium</th>\n",
       "      <th>#cakeweek</th>\n",
       "      <th>#wasteless</th>\n",
       "      <th>22-minute meals</th>\n",
       "      <th>3-ingredient recipes</th>\n",
       "      <th>...</th>\n",
       "      <th>yellow squash</th>\n",
       "      <th>yogurt</th>\n",
       "      <th>yonkers</th>\n",
       "      <th>yuca</th>\n",
       "      <th>zucchini</th>\n",
       "      <th>cookbooks</th>\n",
       "      <th>leftovers</th>\n",
       "      <th>snack</th>\n",
       "      <th>snack week</th>\n",
       "      <th>turkey</th>\n",
       "    </tr>\n",
       "  </thead>\n",
       "  <tbody>\n",
       "    <tr>\n",
       "      <th>0</th>\n",
       "      <td>Lentil, Apple, and Turkey Wrap</td>\n",
       "      <td>2.500</td>\n",
       "      <td>426.000000</td>\n",
       "      <td>30.0</td>\n",
       "      <td>7.0</td>\n",
       "      <td>559.0</td>\n",
       "      <td>0.0</td>\n",
       "      <td>0.0</td>\n",
       "      <td>0.0</td>\n",
       "      <td>0.0</td>\n",
       "      <td>...</td>\n",
       "      <td>0.0</td>\n",
       "      <td>0.0</td>\n",
       "      <td>0.0</td>\n",
       "      <td>0.0</td>\n",
       "      <td>0.0</td>\n",
       "      <td>0.0</td>\n",
       "      <td>0.0</td>\n",
       "      <td>0.0</td>\n",
       "      <td>0.0</td>\n",
       "      <td>1.0</td>\n",
       "    </tr>\n",
       "    <tr>\n",
       "      <th>1</th>\n",
       "      <td>Boudin Blanc Terrine with Red Onion Confit</td>\n",
       "      <td>4.375</td>\n",
       "      <td>403.000000</td>\n",
       "      <td>18.0</td>\n",
       "      <td>23.0</td>\n",
       "      <td>1439.0</td>\n",
       "      <td>0.0</td>\n",
       "      <td>0.0</td>\n",
       "      <td>0.0</td>\n",
       "      <td>0.0</td>\n",
       "      <td>...</td>\n",
       "      <td>0.0</td>\n",
       "      <td>0.0</td>\n",
       "      <td>0.0</td>\n",
       "      <td>0.0</td>\n",
       "      <td>0.0</td>\n",
       "      <td>0.0</td>\n",
       "      <td>0.0</td>\n",
       "      <td>0.0</td>\n",
       "      <td>0.0</td>\n",
       "      <td>0.0</td>\n",
       "    </tr>\n",
       "    <tr>\n",
       "      <th>2</th>\n",
       "      <td>Potato and Fennel Soup Hodge</td>\n",
       "      <td>3.750</td>\n",
       "      <td>165.000000</td>\n",
       "      <td>6.0</td>\n",
       "      <td>7.0</td>\n",
       "      <td>165.0</td>\n",
       "      <td>0.0</td>\n",
       "      <td>0.0</td>\n",
       "      <td>0.0</td>\n",
       "      <td>0.0</td>\n",
       "      <td>...</td>\n",
       "      <td>0.0</td>\n",
       "      <td>0.0</td>\n",
       "      <td>0.0</td>\n",
       "      <td>0.0</td>\n",
       "      <td>0.0</td>\n",
       "      <td>0.0</td>\n",
       "      <td>0.0</td>\n",
       "      <td>0.0</td>\n",
       "      <td>0.0</td>\n",
       "      <td>0.0</td>\n",
       "    </tr>\n",
       "    <tr>\n",
       "      <th>3</th>\n",
       "      <td>Mahi-Mahi in Tomato Olive Sauce</td>\n",
       "      <td>5.000</td>\n",
       "      <td>252.445801</td>\n",
       "      <td>NaN</td>\n",
       "      <td>NaN</td>\n",
       "      <td>NaN</td>\n",
       "      <td>0.0</td>\n",
       "      <td>0.0</td>\n",
       "      <td>0.0</td>\n",
       "      <td>0.0</td>\n",
       "      <td>...</td>\n",
       "      <td>0.0</td>\n",
       "      <td>0.0</td>\n",
       "      <td>0.0</td>\n",
       "      <td>0.0</td>\n",
       "      <td>0.0</td>\n",
       "      <td>0.0</td>\n",
       "      <td>0.0</td>\n",
       "      <td>0.0</td>\n",
       "      <td>0.0</td>\n",
       "      <td>0.0</td>\n",
       "    </tr>\n",
       "    <tr>\n",
       "      <th>4</th>\n",
       "      <td>Spinach Noodle Casserole</td>\n",
       "      <td>3.125</td>\n",
       "      <td>547.000000</td>\n",
       "      <td>20.0</td>\n",
       "      <td>32.0</td>\n",
       "      <td>452.0</td>\n",
       "      <td>0.0</td>\n",
       "      <td>0.0</td>\n",
       "      <td>0.0</td>\n",
       "      <td>0.0</td>\n",
       "      <td>...</td>\n",
       "      <td>0.0</td>\n",
       "      <td>0.0</td>\n",
       "      <td>0.0</td>\n",
       "      <td>0.0</td>\n",
       "      <td>0.0</td>\n",
       "      <td>0.0</td>\n",
       "      <td>0.0</td>\n",
       "      <td>0.0</td>\n",
       "      <td>0.0</td>\n",
       "      <td>0.0</td>\n",
       "    </tr>\n",
       "  </tbody>\n",
       "</table>\n",
       "<p>5 rows × 680 columns</p>\n",
       "</div>"
      ],
      "text/plain": [
       "                                         title  rating    calories  protein  \\\n",
       "0              Lentil, Apple, and Turkey Wrap    2.500  426.000000     30.0   \n",
       "1  Boudin Blanc Terrine with Red Onion Confit    4.375  403.000000     18.0   \n",
       "2                Potato and Fennel Soup Hodge    3.750  165.000000      6.0   \n",
       "3             Mahi-Mahi in Tomato Olive Sauce    5.000  252.445801      NaN   \n",
       "4                    Spinach Noodle Casserole    3.125  547.000000     20.0   \n",
       "\n",
       "    fat  sodium  #cakeweek  #wasteless  22-minute meals  3-ingredient recipes  \\\n",
       "0   7.0   559.0        0.0         0.0              0.0                   0.0   \n",
       "1  23.0  1439.0        0.0         0.0              0.0                   0.0   \n",
       "2   7.0   165.0        0.0         0.0              0.0                   0.0   \n",
       "3   NaN     NaN        0.0         0.0              0.0                   0.0   \n",
       "4  32.0   452.0        0.0         0.0              0.0                   0.0   \n",
       "\n",
       "    ...    yellow squash  yogurt  yonkers  yuca  zucchini  cookbooks  \\\n",
       "0   ...              0.0     0.0      0.0   0.0       0.0        0.0   \n",
       "1   ...              0.0     0.0      0.0   0.0       0.0        0.0   \n",
       "2   ...              0.0     0.0      0.0   0.0       0.0        0.0   \n",
       "3   ...              0.0     0.0      0.0   0.0       0.0        0.0   \n",
       "4   ...              0.0     0.0      0.0   0.0       0.0        0.0   \n",
       "\n",
       "   leftovers  snack  snack week  turkey  \n",
       "0        0.0    0.0         0.0     1.0  \n",
       "1        0.0    0.0         0.0     0.0  \n",
       "2        0.0    0.0         0.0     0.0  \n",
       "3        0.0    0.0         0.0     0.0  \n",
       "4        0.0    0.0         0.0     0.0  \n",
       "\n",
       "[5 rows x 680 columns]"
      ]
     },
     "execution_count": 28,
     "metadata": {},
     "output_type": "execute_result"
    }
   ],
   "source": [
    "df.head()"
   ]
  },
  {
   "cell_type": "code",
   "execution_count": 29,
   "metadata": {},
   "outputs": [],
   "source": [
    "def get_small_dict(df, keep_columns, index):\n",
    "    my_dict = df.iloc[index][keep_columns].to_dict()\n",
    "    my_dict['tags'] = [\n",
    "        key for key, value in df.iloc[index].to_dict().items() if value != 0 and key not in keep_columns]\n",
    "    my_dict['title'] = my_dict['title'].strip()\n",
    "    my_dict['tags'] = [\n",
    "        str(unicodedata.normalize('NFKD', t).encode('ascii','ignore'), encoding='ascii') for t in my_dict['tags']\n",
    "    ]\n",
    "    return my_dict"
   ]
  },
  {
   "cell_type": "code",
   "execution_count": 32,
   "metadata": {},
   "outputs": [],
   "source": [
    "keep_columns = ['title', 'rating', 'calories', 'protein', 'fat','sodium']"
   ]
  },
  {
   "cell_type": "code",
   "execution_count": 171,
   "metadata": {},
   "outputs": [],
   "source": [
    "def remove_outliers_with_tukey(df):\n",
    "    print('There were {} samples before outlier removal.'.format(len(df)))\n",
    "\n",
    "    # Remove calories outliers by the Tukey rule\n",
    "    Q3 = np.percentile(df[regr_column], 75)\n",
    "    Q1 = np.percentile(df[regr_column], 25)\n",
    "    IQR = Q3 - Q1\n",
    "\n",
    "    outliers = df[regr_column].loc[\n",
    "        (df[regr_column] < (Q1 - 1.5 * IQR)) | \n",
    "        (df[regr_column] > (Q3 + 1.5 * IQR))\n",
    "    ].index\n",
    "    \n",
    "    df = df.drop(outliers)\n",
    "    \n",
    "    print('There are now {} samples.'.format(len(cut_df)))\n",
    "\n",
    "    return df"
   ]
  },
  {
   "cell_type": "code",
   "execution_count": null,
   "metadata": {},
   "outputs": [],
   "source": [
    "# pick regression column\n",
    "regr_column = 'calories'\n",
    "cut_df = df[df[regr_column] == df[regr_column]]\n",
    "\n",
    "cut_df = remove_outliers_with_tukey(df=cut_df)\n",
    "\n",
    "# transform df in list of dictionaries for processing\n",
    "regr_data = []\n",
    "for i in range(len(cut_df)):\n",
    "    regr_data.append(get_small_dict(cut_df, keep_columns, i))"
   ]
  },
  {
   "cell_type": "code",
   "execution_count": 176,
   "metadata": {},
   "outputs": [],
   "source": [
    "def remove_punctuation_signs(regr_data):\n",
    "    for d in regr_data:\n",
    "        if 'tags' not in d:\n",
    "            raise ValueError('Expected to have <tags> key in each of the regression input data dictionary!')\n",
    "    corpus = ['|'.join(\n",
    "        d['tags'] + \n",
    "        [w.lower() for w in nltk.word_tokenize(d['title']) if\n",
    "             w not in '''!()-[]{};:'\"\\,<>./?@#$%^&*_~''']\n",
    "    ) for d in regr_data]\n",
    "    return corpus"
   ]
  },
  {
   "cell_type": "code",
   "execution_count": 177,
   "metadata": {},
   "outputs": [],
   "source": [
    "# make sure the data doesn't have any punctuation signs\n",
    "corpus = remove_punctuation_signs(regr_data)"
   ]
  },
  {
   "cell_type": "code",
   "execution_count": 178,
   "metadata": {},
   "outputs": [],
   "source": [
    "# pick tokenization method\n",
    "def tokenize(word_list):\n",
    "    return word_list.split('|')"
   ]
  },
  {
   "cell_type": "code",
   "execution_count": 179,
   "metadata": {},
   "outputs": [],
   "source": [
    "def get_y_labels(regr_column, regr_data):\n",
    "    return [d[regr_column] for d in regr_data]"
   ]
  },
  {
   "cell_type": "code",
   "execution_count": 180,
   "metadata": {},
   "outputs": [],
   "source": [
    "y_label = get_y_labels(regr_column, regr_data)"
   ]
  },
  {
   "cell_type": "code",
   "execution_count": 183,
   "metadata": {},
   "outputs": [],
   "source": [
    "if len(corpus) != len(y_label):\n",
    "    print('[ERROR] There is a mismatch between the size of the input data ' +\n",
    "          ' ({} elements) and the size of labels ({} elements)!'.format(len(corpus), len(y_label)))"
   ]
  },
  {
   "cell_type": "markdown",
   "metadata": {},
   "source": [
    "## Try a vanilla regression (CountVectorizer + LinearRegression from sklearn)"
   ]
  },
  {
   "cell_type": "code",
   "execution_count": 191,
   "metadata": {},
   "outputs": [
    {
     "name": "stdout",
     "output_type": "stream",
     "text": [
      "Mean squared error:  1.2084885248453593e+27\n",
      "137.68478486181857 919.0\n",
      "86.36782347963987 116.0\n",
      "283.02489564062716 228.0\n",
      "539.5003595078147 846.029052734375\n",
      "168.97008607031466 145.0\n",
      "690.1912774765647 466.0\n",
      "589.8633966171897 193.0\n",
      "168.33516967104612 699.3670654296875\n",
      "324099096238.38324 116.0\n",
      "224.83263489843966 194.05316162109372\n"
     ]
    }
   ],
   "source": [
    "# fit vectorizer\n",
    "vectorizer = CountVectorizer(tokenizer=tokenize)\n",
    "X = vectorizer.fit_transform(corpus)\n",
    "\n",
    "# train, test data\n",
    "X_train, X_test, y_train, y_test = train_test_split(X.toarray(), y_label, test_size=0.2, random_state=42)\n",
    "\n",
    "# sklearn LinearRegression model\n",
    "regr_sklearn = LinearRegression()\n",
    "regr_sklearn.fit(X_train, y_train)\n",
    "\n",
    "# predict data\n",
    "y_pred = regr_sklearn.predict(X_test)\n",
    "\n",
    "# how far off is the result? metric = mean squared error\n",
    "y_test = np.array(y_test)\n",
    "y_pred = np.array(y_pred)\n",
    "print(\"Mean squared error: \", mean_squared_error(y_true=y_test, y_pred=y_pred))\n",
    "\n",
    "# show first k differences\n",
    "first_k = 10\n",
    "for yp, yt in zip(y_pred[:first_k], y_test[:first_k]):\n",
    "    print(yp, yt)"
   ]
  },
  {
   "cell_type": "markdown",
   "metadata": {},
   "source": [
    "## Try Word2Vec embeddings + Keras NN"
   ]
  },
  {
   "cell_type": "markdown",
   "metadata": {},
   "source": [
    "### Word2Vec embedding"
   ]
  },
  {
   "cell_type": "code",
   "execution_count": 192,
   "metadata": {},
   "outputs": [
    {
     "name": "stdout",
     "output_type": "stream",
     "text": [
      "Choose embedding size between 12.742519971661299 and 90.9850803511905\n"
     ]
    }
   ],
   "source": [
    "vocab = set()\n",
    "for word_list in corpus:\n",
    "    vocab |= set(tokenize(word_list))\n",
    "\n",
    "print(\"Choose embedding size between {} and {}\".format(np.log2(len(vocab)), np.power(len(vocab), 1/4) * 10))\n",
    "\n",
    "w2v_corpus = []\n",
    "for word_list in corpus:\n",
    "    w2v_corpus.append(tokenize(word_list))"
   ]
  },
  {
   "cell_type": "code",
   "execution_count": 193,
   "metadata": {},
   "outputs": [],
   "source": [
    "EMBEDDING_SIZE = 50"
   ]
  },
  {
   "cell_type": "code",
   "execution_count": 194,
   "metadata": {},
   "outputs": [
    {
     "name": "stdout",
     "output_type": "stream",
     "text": [
      "Embedding size is 50\n"
     ]
    }
   ],
   "source": [
    "w2v_model = Word2Vec(w2v_corpus, size=EMBEDDING_SIZE, window=5, min_count=1, workers=-1)\n",
    "\n",
    "print(\"Embedding size is {}\".format(w2v_model.wv.vector_size))"
   ]
  },
  {
   "cell_type": "code",
   "execution_count": 195,
   "metadata": {},
   "outputs": [
    {
     "name": "stdout",
     "output_type": "stream",
     "text": [
      "Sequence length should be 17.08845909955612 \n"
     ]
    }
   ],
   "source": [
    "sequence_lengths = [len(w) for w in w2v_corpus]\n",
    "\n",
    "print(\"Sequence length should be {} \".format(pd.Series(sequence_lengths).describe()['mean']))"
   ]
  },
  {
   "cell_type": "code",
   "execution_count": 196,
   "metadata": {},
   "outputs": [],
   "source": [
    "FIXED_LENGTH = 17"
   ]
  },
  {
   "cell_type": "code",
   "execution_count": 197,
   "metadata": {},
   "outputs": [],
   "source": [
    "def generate_embeddings_matrix(sample, model, fixed_length=17):\n",
    "    embedding_size = model.wv.vector_size\n",
    "    embeddings = []\n",
    "    for sen in sample:\n",
    "        for word in sen:\n",
    "            if word not in model.wv.vocab:\n",
    "                continue\n",
    "            embeddings.append(model.wv[word])\n",
    "            if len(embeddings) >= fixed_length:\n",
    "                break\n",
    "\n",
    "    embeddings = np.array(embeddings)\n",
    "\n",
    "    while len(embeddings) < fixed_length:\n",
    "        padding_length = fixed_length - len(embeddings)\n",
    "        embeddings = np.concatenate((embeddings, embeddings[:padding_length]))\n",
    "    if len(embeddings) > fixed_length:\n",
    "        embeddings = embeddings[:fixed_length]\n",
    "\n",
    "    return embeddings"
   ]
  },
  {
   "cell_type": "code",
   "execution_count": 198,
   "metadata": {},
   "outputs": [],
   "source": [
    "def generate_input_matrix(sample, fixed_length=17):\n",
    "    \n",
    "    inputs = np.array(sample)\n",
    "\n",
    "    while len(inputs) < fixed_length:\n",
    "        padding_length = fixed_length - len(inputs)\n",
    "        inputs = np.concatenate((inputs, inputs[:padding_length]))\n",
    "    if len(inputs) > fixed_length:\n",
    "        inputs = inputs[:fixed_length]\n",
    "\n",
    "    return inputs"
   ]
  },
  {
   "cell_type": "code",
   "execution_count": 200,
   "metadata": {},
   "outputs": [],
   "source": [
    "# Generate list of input data (embedding matrix) and make sure every input has FIXED_LENGTH elements\n",
    "X = []\n",
    "for sample in w2v_corpus:\n",
    "    embedded_sample = generate_embeddings_matrix(sample, w2v_model, FIXED_LENGTH)\n",
    "    if embedded_sample.shape != (FIXED_LENGTH, EMBEDDING_SIZE):\n",
    "        print(embedded_sample.shape)\n",
    "    X.append(embedded_sample)"
   ]
  },
  {
   "cell_type": "code",
   "execution_count": 201,
   "metadata": {},
   "outputs": [],
   "source": [
    "X_train, X_test, y_train, y_test = train_test_split(X, y_label, test_size=0.2, random_state=42)"
   ]
  },
  {
   "cell_type": "markdown",
   "metadata": {},
   "source": [
    "### Keras NN"
   ]
  },
  {
   "cell_type": "code",
   "execution_count": 202,
   "metadata": {},
   "outputs": [],
   "source": [
    "FIXED_LENGTH = 17\n",
    "EMBEDDING_SIZE = 50\n",
    "\n",
    "BATCH_SIZE = 16\n",
    "EPOCHS=200"
   ]
  },
  {
   "cell_type": "code",
   "execution_count": 203,
   "metadata": {},
   "outputs": [],
   "source": [
    "def baseline_model():\n",
    "    # Create model\n",
    "    input_layer = Input(shape=(FIXED_LENGTH, EMBEDDING_SIZE), name='input')\n",
    "    flat = Flatten()(input_layer)\n",
    "    z = Dense(32, activation='relu', name='fc1', kernel_initializer='normal')(flat)\n",
    "    output = Dense(1, kernel_initializer='normal')(z)\n",
    "    model = Model(inputs=[input_layer], outputs=[output])\n",
    "    # Compile model\n",
    "    model.compile(optimizer='adam', loss='mean_squared_error')\n",
    "    return model"
   ]
  },
  {
   "cell_type": "code",
   "execution_count": 204,
   "metadata": {},
   "outputs": [],
   "source": [
    "model = baseline_model()"
   ]
  },
  {
   "cell_type": "code",
   "execution_count": 205,
   "metadata": {},
   "outputs": [],
   "source": [
    "X_train, X_test, y_train, y_test = train_test_split(X, y_label, test_size=0.2, random_state=42)"
   ]
  },
  {
   "cell_type": "code",
   "execution_count": 206,
   "metadata": {},
   "outputs": [],
   "source": [
    "X_train = np.array(X_train)\n",
    "X_test = np.array(X_test)\n",
    "y_train = np.array(y_train)\n",
    "y_test = np.array(y_test)"
   ]
  },
  {
   "cell_type": "code",
   "execution_count": 207,
   "metadata": {
    "scrolled": true
   },
   "outputs": [
    {
     "name": "stdout",
     "output_type": "stream",
     "text": [
      "Epoch 1/200\n",
      "15139/15139 [==============================] - 7s 461us/step - loss: 177492.8872\n",
      "Epoch 2/200\n",
      "15139/15139 [==============================] - 3s 181us/step - loss: 101400.8843\n",
      "Epoch 3/200\n",
      "15139/15139 [==============================] - 3s 168us/step - loss: 62622.7186\n",
      "Epoch 4/200\n",
      "15139/15139 [==============================] - 3s 185us/step - loss: 58213.8089\n",
      "Epoch 5/200\n",
      "15139/15139 [==============================] - 3s 190us/step - loss: 57806.6550\n",
      "Epoch 6/200\n",
      "15139/15139 [==============================] - 3s 221us/step - loss: 57532.3931\n",
      "Epoch 7/200\n",
      "15139/15139 [==============================] - 4s 236us/step - loss: 57284.5530\n",
      "Epoch 8/200\n",
      "15139/15139 [==============================] - 3s 195us/step - loss: 57067.9269\n",
      "Epoch 9/200\n",
      "15139/15139 [==============================] - 4s 237us/step - loss: 56871.3663\n",
      "Epoch 10/200\n",
      "15139/15139 [==============================] - 3s 227us/step - loss: 56702.4237\n",
      "Epoch 11/200\n",
      "15139/15139 [==============================] - 3s 176us/step - loss: 56549.2691\n",
      "Epoch 12/200\n",
      "15139/15139 [==============================] - 3s 192us/step - loss: 56411.5008\n",
      "Epoch 13/200\n",
      "15139/15139 [==============================] - 3s 192us/step - loss: 56280.7085\n",
      "Epoch 14/200\n",
      "15139/15139 [==============================] - 3s 206us/step - loss: 56169.9188\n",
      "Epoch 15/200\n",
      "15139/15139 [==============================] - 3s 189us/step - loss: 56060.4382\n",
      "Epoch 16/200\n",
      "15139/15139 [==============================] - 3s 174us/step - loss: 55972.1416\n",
      "Epoch 17/200\n",
      "15139/15139 [==============================] - 3s 177us/step - loss: 55880.3470\n",
      "Epoch 18/200\n",
      "15139/15139 [==============================] - 3s 167us/step - loss: 55804.0504\n",
      "Epoch 19/200\n",
      "15139/15139 [==============================] - 3s 168us/step - loss: 55727.4015\n",
      "Epoch 20/200\n",
      "15139/15139 [==============================] - 3s 168us/step - loss: 55664.3449\n",
      "Epoch 21/200\n",
      "15139/15139 [==============================] - 3s 193us/step - loss: 55592.0495\n",
      "Epoch 22/200\n",
      "15139/15139 [==============================] - 3s 200us/step - loss: 55537.7366\n",
      "Epoch 23/200\n",
      "15139/15139 [==============================] - 3s 169us/step - loss: 55484.1217\n",
      "Epoch 24/200\n",
      "15139/15139 [==============================] - 3s 179us/step - loss: 55433.0771\n",
      "Epoch 25/200\n",
      "15139/15139 [==============================] - 3s 189us/step - loss: 55385.0040\n",
      "Epoch 26/200\n",
      "15139/15139 [==============================] - 3s 182us/step - loss: 55340.3822\n",
      "Epoch 27/200\n",
      "15139/15139 [==============================] - 3s 177us/step - loss: 55295.9288\n",
      "Epoch 28/200\n",
      "15139/15139 [==============================] - 3s 222us/step - loss: 55237.9802\n",
      "Epoch 29/200\n",
      "15139/15139 [==============================] - 4s 238us/step - loss: 55218.5886\n",
      "Epoch 30/200\n",
      "15139/15139 [==============================] - 3s 218us/step - loss: 55176.3022\n",
      "Epoch 31/200\n",
      "15139/15139 [==============================] - 3s 181us/step - loss: 55143.3870\n",
      "Epoch 32/200\n",
      "15139/15139 [==============================] - 3s 193us/step - loss: 55111.4621\n",
      "Epoch 33/200\n",
      "15139/15139 [==============================] - 3s 216us/step - loss: 55078.0712\n",
      "Epoch 34/200\n",
      "15139/15139 [==============================] - 3s 175us/step - loss: 55051.0731\n",
      "Epoch 35/200\n",
      "15139/15139 [==============================] - 3s 169us/step - loss: 55020.3641\n",
      "Epoch 36/200\n",
      "15139/15139 [==============================] - 3s 180us/step - loss: 54985.0074\n",
      "Epoch 37/200\n",
      "15139/15139 [==============================] - 3s 187us/step - loss: 54962.2797\n",
      "Epoch 38/200\n",
      "15139/15139 [==============================] - 3s 170us/step - loss: 54934.5583\n",
      "Epoch 39/200\n",
      "15139/15139 [==============================] - 3s 166us/step - loss: 54912.3881\n",
      "Epoch 40/200\n",
      "15139/15139 [==============================] - 3s 192us/step - loss: 54888.3121\n",
      "Epoch 41/200\n",
      "15139/15139 [==============================] - 3s 171us/step - loss: 54862.5470\n",
      "Epoch 42/200\n",
      "15139/15139 [==============================] - 3s 172us/step - loss: 54847.8970\n",
      "Epoch 43/200\n",
      "15139/15139 [==============================] - 3s 182us/step - loss: 54823.7648\n",
      "Epoch 44/200\n",
      "15139/15139 [==============================] - 4s 235us/step - loss: 54802.0805\n",
      "Epoch 45/200\n",
      "15139/15139 [==============================] - 3s 186us/step - loss: 54782.8351\n",
      "Epoch 46/200\n",
      "15139/15139 [==============================] - 3s 190us/step - loss: 54762.2846\n",
      "Epoch 47/200\n",
      "15139/15139 [==============================] - 3s 168us/step - loss: 54743.9729\n",
      "Epoch 48/200\n",
      "15139/15139 [==============================] - 3s 175us/step - loss: 54725.2478\n",
      "Epoch 49/200\n",
      "15139/15139 [==============================] - 3s 187us/step - loss: 54708.2551\n",
      "Epoch 50/200\n",
      "15139/15139 [==============================] - 3s 169us/step - loss: 54690.4615\n",
      "Epoch 51/200\n",
      "15139/15139 [==============================] - 3s 192us/step - loss: 54670.7512\n",
      "Epoch 52/200\n",
      "15139/15139 [==============================] - 3s 169us/step - loss: 54656.5298\n",
      "Epoch 53/200\n",
      "15139/15139 [==============================] - 3s 177us/step - loss: 54639.9052\n",
      "Epoch 54/200\n",
      "15139/15139 [==============================] - 3s 175us/step - loss: 54612.2245\n",
      "Epoch 55/200\n",
      "15139/15139 [==============================] - 3s 176us/step - loss: 54610.1503\n",
      "Epoch 56/200\n",
      "15139/15139 [==============================] - 3s 182us/step - loss: 54592.3259\n",
      "Epoch 57/200\n",
      "15139/15139 [==============================] - 3s 180us/step - loss: 54576.2842\n",
      "Epoch 58/200\n",
      "15139/15139 [==============================] - 3s 228us/step - loss: 54562.7635\n",
      "Epoch 59/200\n",
      "15139/15139 [==============================] - 3s 203us/step - loss: 54547.6298\n",
      "Epoch 60/200\n",
      "15139/15139 [==============================] - 3s 201us/step - loss: 54535.4150\n",
      "Epoch 61/200\n",
      "15139/15139 [==============================] - 3s 208us/step - loss: 54521.0445\n",
      "Epoch 62/200\n",
      "15139/15139 [==============================] - 3s 187us/step - loss: 54507.4966\n",
      "Epoch 63/200\n",
      "15139/15139 [==============================] - 3s 186us/step - loss: 54493.9913\n",
      "Epoch 64/200\n",
      "15139/15139 [==============================] - 3s 179us/step - loss: 54474.4468\n",
      "Epoch 65/200\n",
      "15139/15139 [==============================] - 3s 209us/step - loss: 54470.1720\n",
      "Epoch 66/200\n",
      "15139/15139 [==============================] - 3s 186us/step - loss: 54455.9661\n",
      "Epoch 67/200\n",
      "15139/15139 [==============================] - 3s 198us/step - loss: 54442.8512\n",
      "Epoch 68/200\n",
      "15139/15139 [==============================] - 4s 251us/step - loss: 54434.4847\n",
      "Epoch 69/200\n",
      "15139/15139 [==============================] - 4s 233us/step - loss: 54419.0102\n",
      "Epoch 70/200\n",
      "15139/15139 [==============================] - 3s 213us/step - loss: 54407.3711\n",
      "Epoch 71/200\n",
      "15139/15139 [==============================] - 4s 232us/step - loss: 54397.6104\n",
      "Epoch 72/200\n",
      "15139/15139 [==============================] - 4s 281us/step - loss: 54389.6171\n",
      "Epoch 73/200\n",
      "15139/15139 [==============================] - 4s 239us/step - loss: 54375.9116\n",
      "Epoch 74/200\n",
      "15139/15139 [==============================] - 4s 236us/step - loss: 54364.8808\n",
      "Epoch 75/200\n",
      "15139/15139 [==============================] - 3s 229us/step - loss: 54356.5712\n",
      "Epoch 76/200\n",
      "15139/15139 [==============================] - 3s 195us/step - loss: 54346.4307\n",
      "Epoch 77/200\n",
      "15139/15139 [==============================] - 3s 201us/step - loss: 54337.6608\n",
      "Epoch 78/200\n",
      "15139/15139 [==============================] - 3s 197us/step - loss: 54327.4273\n",
      "Epoch 79/200\n",
      "15139/15139 [==============================] - 3s 187us/step - loss: 54317.0379\n",
      "Epoch 80/200\n",
      "15139/15139 [==============================] - 3s 173us/step - loss: 54304.6628\n",
      "Epoch 81/200\n",
      "15139/15139 [==============================] - 3s 189us/step - loss: 54298.9044\n",
      "Epoch 82/200\n",
      "15139/15139 [==============================] - 3s 181us/step - loss: 54288.7475\n",
      "Epoch 83/200\n",
      "15139/15139 [==============================] - 3s 185us/step - loss: 54271.6069\n",
      "Epoch 84/200\n",
      "15139/15139 [==============================] - 3s 193us/step - loss: 54269.8871\n",
      "Epoch 85/200\n",
      "15139/15139 [==============================] - 3s 180us/step - loss: 54264.6506\n",
      "Epoch 86/200\n",
      "15139/15139 [==============================] - 3s 201us/step - loss: 54254.9091\n",
      "Epoch 87/200\n",
      "15139/15139 [==============================] - 3s 176us/step - loss: 54244.1123\n",
      "Epoch 88/200\n",
      "15139/15139 [==============================] - 3s 185us/step - loss: 54238.0368\n",
      "Epoch 89/200\n",
      "15139/15139 [==============================] - 3s 170us/step - loss: 54231.0377\n",
      "Epoch 90/200\n",
      "15139/15139 [==============================] - 3s 183us/step - loss: 54215.2060\n",
      "Epoch 91/200\n",
      "15139/15139 [==============================] - 3s 173us/step - loss: 54215.2888\n",
      "Epoch 92/200\n",
      "15139/15139 [==============================] - 3s 179us/step - loss: 54207.2820\n",
      "Epoch 93/200\n",
      "15139/15139 [==============================] - 3s 180us/step - loss: 54195.2195 0s - loss: 544\n",
      "Epoch 94/200\n",
      "15139/15139 [==============================] - 2s 159us/step - loss: 54197.8474\n",
      "Epoch 95/200\n",
      "15139/15139 [==============================] - 3s 170us/step - loss: 54187.4334\n",
      "Epoch 96/200\n",
      "15139/15139 [==============================] - 2s 162us/step - loss: 54176.4158\n",
      "Epoch 97/200\n",
      "15139/15139 [==============================] - 2s 162us/step - loss: 54174.1251\n",
      "Epoch 98/200\n",
      "15139/15139 [==============================] - 3s 180us/step - loss: 54160.5977\n",
      "Epoch 99/200\n",
      "15139/15139 [==============================] - 3s 182us/step - loss: 54161.0884\n",
      "Epoch 100/200\n",
      "15139/15139 [==============================] - 3s 171us/step - loss: 54155.9192\n",
      "Epoch 101/200\n",
      "15139/15139 [==============================] - 3s 169us/step - loss: 54143.6964\n",
      "Epoch 102/200\n",
      "15139/15139 [==============================] - 2s 164us/step - loss: 54125.5886\n",
      "Epoch 103/200\n",
      "15139/15139 [==============================] - 2s 162us/step - loss: 54134.5746\n",
      "Epoch 104/200\n",
      "15139/15139 [==============================] - 3s 169us/step - loss: 54126.3034\n",
      "Epoch 105/200\n",
      "15139/15139 [==============================] - 3s 168us/step - loss: 54119.8273\n",
      "Epoch 106/200\n",
      "15139/15139 [==============================] - 3s 176us/step - loss: 54120.9729\n",
      "Epoch 107/200\n",
      "15139/15139 [==============================] - 3s 183us/step - loss: 54105.4791\n",
      "Epoch 108/200\n",
      "15139/15139 [==============================] - 3s 194us/step - loss: 54112.8916\n",
      "Epoch 109/200\n",
      "15139/15139 [==============================] - 3s 192us/step - loss: 54100.0721\n",
      "Epoch 110/200\n",
      "15139/15139 [==============================] - 3s 179us/step - loss: 54091.7282\n",
      "Epoch 111/200\n",
      "15139/15139 [==============================] - 3s 182us/step - loss: 54092.0911\n",
      "Epoch 112/200\n",
      "15139/15139 [==============================] - 3s 170us/step - loss: 54083.7568\n",
      "Epoch 113/200\n",
      "15139/15139 [==============================] - 3s 174us/step - loss: 54083.9830\n",
      "Epoch 114/200\n",
      "15139/15139 [==============================] - 3s 202us/step - loss: 54077.3982\n",
      "Epoch 115/200\n",
      "15139/15139 [==============================] - 2s 161us/step - loss: 54068.6109\n",
      "Epoch 116/200\n",
      "15139/15139 [==============================] - 2s 162us/step - loss: 54067.1288\n",
      "Epoch 117/200\n",
      "15139/15139 [==============================] - 2s 162us/step - loss: 54061.3897\n",
      "Epoch 118/200\n",
      "15139/15139 [==============================] - 2s 164us/step - loss: 54060.2167\n",
      "Epoch 119/200\n",
      "15139/15139 [==============================] - 2s 158us/step - loss: 54052.6975\n",
      "Epoch 120/200\n",
      "15139/15139 [==============================] - 3s 173us/step - loss: 54043.5183\n",
      "Epoch 121/200\n",
      "15139/15139 [==============================] - 3s 169us/step - loss: 54036.4074\n",
      "Epoch 122/200\n",
      "15139/15139 [==============================] - 3s 166us/step - loss: 54039.1333\n",
      "Epoch 123/200\n",
      "15139/15139 [==============================] - 3s 167us/step - loss: 54041.5064\n",
      "Epoch 124/200\n",
      "15139/15139 [==============================] - 3s 172us/step - loss: 54035.7575\n",
      "Epoch 125/200\n",
      "15139/15139 [==============================] - 2s 160us/step - loss: 54029.6339\n",
      "Epoch 126/200\n",
      "15139/15139 [==============================] - 3s 171us/step - loss: 54028.2905\n",
      "Epoch 127/200\n",
      "15139/15139 [==============================] - 2s 165us/step - loss: 54016.3604\n",
      "Epoch 128/200\n",
      "15139/15139 [==============================] - 3s 185us/step - loss: 54019.2026\n",
      "Epoch 129/200\n",
      "15139/15139 [==============================] - 3s 180us/step - loss: 54014.2130\n",
      "Epoch 130/200\n",
      "15139/15139 [==============================] - 2s 162us/step - loss: 54011.2785\n",
      "Epoch 131/200\n",
      "15139/15139 [==============================] - 2s 158us/step - loss: 54003.7568\n",
      "Epoch 132/200\n",
      "15139/15139 [==============================] - 3s 179us/step - loss: 54007.8215\n",
      "Epoch 133/200\n",
      "15139/15139 [==============================] - 2s 157us/step - loss: 53997.1526\n",
      "Epoch 134/200\n",
      "15139/15139 [==============================] - 3s 168us/step - loss: 53999.0487\n",
      "Epoch 135/200\n",
      "15139/15139 [==============================] - 2s 159us/step - loss: 53997.3231\n",
      "Epoch 136/200\n",
      "15139/15139 [==============================] - 2s 157us/step - loss: 53992.7699\n",
      "Epoch 137/200\n",
      "15139/15139 [==============================] - 2s 161us/step - loss: 53991.0452\n",
      "Epoch 138/200\n",
      "15139/15139 [==============================] - 2s 159us/step - loss: 53987.8852\n",
      "Epoch 139/200\n",
      "15139/15139 [==============================] - 2s 164us/step - loss: 53979.2661\n",
      "Epoch 140/200\n",
      "15139/15139 [==============================] - 2s 162us/step - loss: 53981.2008\n",
      "Epoch 141/200\n",
      "15139/15139 [==============================] - 2s 158us/step - loss: 53978.1767\n",
      "Epoch 142/200\n",
      "15139/15139 [==============================] - 3s 167us/step - loss: 53976.6282\n",
      "Epoch 143/200\n",
      "15139/15139 [==============================] - 2s 160us/step - loss: 53957.0017\n",
      "Epoch 144/200\n",
      "15139/15139 [==============================] - 3s 177us/step - loss: 53971.8801\n",
      "Epoch 145/200\n",
      "15139/15139 [==============================] - 3s 198us/step - loss: 53966.3094\n",
      "Epoch 146/200\n",
      "15139/15139 [==============================] - 3s 167us/step - loss: 53962.9364\n",
      "Epoch 147/200\n",
      "15139/15139 [==============================] - 2s 155us/step - loss: 53963.2092\n",
      "Epoch 148/200\n",
      "15139/15139 [==============================] - 2s 156us/step - loss: 53959.7819\n",
      "Epoch 149/200\n",
      "15139/15139 [==============================] - 2s 153us/step - loss: 53958.1813\n",
      "Epoch 150/200\n",
      "15139/15139 [==============================] - 2s 154us/step - loss: 53953.1070\n",
      "Epoch 151/200\n",
      "15139/15139 [==============================] - 2s 160us/step - loss: 53955.1055\n",
      "Epoch 152/200\n",
      "15139/15139 [==============================] - 2s 161us/step - loss: 53950.0857\n",
      "Epoch 153/200\n",
      "15139/15139 [==============================] - 3s 189us/step - loss: 53949.4041\n",
      "Epoch 154/200\n",
      "15139/15139 [==============================] - 2s 162us/step - loss: 53944.7648\n",
      "Epoch 155/200\n",
      "15139/15139 [==============================] - 2s 158us/step - loss: 53942.9917\n",
      "Epoch 156/200\n",
      "15139/15139 [==============================] - 3s 185us/step - loss: 53935.0007\n",
      "Epoch 157/200\n",
      "15139/15139 [==============================] - 2s 146us/step - loss: 53938.3349\n",
      "Epoch 158/200\n",
      "15139/15139 [==============================] - 2s 151us/step - loss: 53939.4531\n",
      "Epoch 159/200\n",
      "15139/15139 [==============================] - 3s 170us/step - loss: 53936.4862\n",
      "Epoch 160/200\n",
      "15139/15139 [==============================] - 2s 139us/step - loss: 53932.1155\n",
      "Epoch 161/200\n",
      "15139/15139 [==============================] - 3s 190us/step - loss: 53933.2205\n",
      "Epoch 162/200\n",
      "15139/15139 [==============================] - 3s 205us/step - loss: 53932.6353\n",
      "Epoch 163/200\n",
      "15139/15139 [==============================] - 3s 195us/step - loss: 53930.6675\n",
      "Epoch 164/200\n",
      "15139/15139 [==============================] - 3s 212us/step - loss: 53921.3796\n",
      "Epoch 165/200\n",
      "15139/15139 [==============================] - 2s 147us/step - loss: 53929.6158\n",
      "Epoch 166/200\n",
      "15139/15139 [==============================] - 3s 198us/step - loss: 53923.5847\n",
      "Epoch 167/200\n",
      "15139/15139 [==============================] - 2s 154us/step - loss: 53922.5945\n",
      "Epoch 168/200\n",
      "15139/15139 [==============================] - 2s 157us/step - loss: 53920.9656\n",
      "Epoch 169/200\n",
      "15139/15139 [==============================] - 2s 144us/step - loss: 53922.0864\n",
      "Epoch 170/200\n",
      "15139/15139 [==============================] - 2s 139us/step - loss: 53915.8599\n",
      "Epoch 171/200\n",
      "15139/15139 [==============================] - 2s 142us/step - loss: 53918.1007\n",
      "Epoch 172/200\n",
      "15139/15139 [==============================] - 2s 136us/step - loss: 53915.2281\n",
      "Epoch 173/200\n",
      "15139/15139 [==============================] - 2s 138us/step - loss: 53917.6087\n",
      "Epoch 174/200\n",
      "15139/15139 [==============================] - 2s 144us/step - loss: 53914.1686\n",
      "Epoch 175/200\n",
      "15139/15139 [==============================] - 2s 147us/step - loss: 53909.9696\n",
      "Epoch 176/200\n"
     ]
    },
    {
     "name": "stdout",
     "output_type": "stream",
     "text": [
      "15139/15139 [==============================] - 2s 140us/step - loss: 53907.4016\n",
      "Epoch 177/200\n",
      "15139/15139 [==============================] - 2s 139us/step - loss: 53904.4644\n",
      "Epoch 178/200\n",
      "15139/15139 [==============================] - 2s 143us/step - loss: 53907.8569\n",
      "Epoch 179/200\n",
      "15139/15139 [==============================] - 2s 138us/step - loss: 53910.0248\n",
      "Epoch 180/200\n",
      "15139/15139 [==============================] - 2s 162us/step - loss: 53899.1603\n",
      "Epoch 181/200\n",
      "15139/15139 [==============================] - 2s 150us/step - loss: 53906.3608\n",
      "Epoch 182/200\n",
      "15139/15139 [==============================] - 2s 136us/step - loss: 53902.2458\n",
      "Epoch 183/200\n",
      "15139/15139 [==============================] - 2s 134us/step - loss: 53904.5250\n",
      "Epoch 184/200\n",
      "15139/15139 [==============================] - 2s 135us/step - loss: 53898.7430\n",
      "Epoch 185/200\n",
      "15139/15139 [==============================] - 2s 138us/step - loss: 53902.6838\n",
      "Epoch 186/200\n",
      "15139/15139 [==============================] - 2s 139us/step - loss: 53898.2152\n",
      "Epoch 187/200\n",
      "15139/15139 [==============================] - 2s 132us/step - loss: 53891.0933\n",
      "Epoch 188/200\n",
      "15139/15139 [==============================] - 2s 135us/step - loss: 53901.0531\n",
      "Epoch 189/200\n",
      "15139/15139 [==============================] - 2s 132us/step - loss: 53897.5688\n",
      "Epoch 190/200\n",
      "15139/15139 [==============================] - 2s 141us/step - loss: 53893.0477\n",
      "Epoch 191/200\n",
      "15139/15139 [==============================] - 2s 137us/step - loss: 53896.7997\n",
      "Epoch 192/200\n",
      "15139/15139 [==============================] - 2s 139us/step - loss: 53889.2186\n",
      "Epoch 193/200\n",
      "15139/15139 [==============================] - 2s 135us/step - loss: 53889.8615\n",
      "Epoch 194/200\n",
      "15139/15139 [==============================] - 2s 135us/step - loss: 53890.5347\n",
      "Epoch 195/200\n",
      "15139/15139 [==============================] - 2s 142us/step - loss: 53888.7618\n",
      "Epoch 196/200\n",
      "15139/15139 [==============================] - 2s 135us/step - loss: 53882.9079\n",
      "Epoch 197/200\n",
      "15139/15139 [==============================] - 2s 137us/step - loss: 53885.2671\n",
      "Epoch 198/200\n",
      "15139/15139 [==============================] - 2s 141us/step - loss: 53889.3373\n",
      "Epoch 199/200\n",
      "15139/15139 [==============================] - 2s 133us/step - loss: 53885.5679\n",
      "Epoch 200/200\n",
      "15139/15139 [==============================] - 2s 135us/step - loss: 53884.8895\n"
     ]
    },
    {
     "data": {
      "text/plain": [
       "<keras.callbacks.History at 0x7f66f294dda0>"
      ]
     },
     "execution_count": 207,
     "metadata": {},
     "output_type": "execute_result"
    }
   ],
   "source": [
    "model.fit(X_train, y_train, epochs=EPOCHS, batch_size=BATCH_SIZE)"
   ]
  },
  {
   "cell_type": "code",
   "execution_count": 210,
   "metadata": {},
   "outputs": [
    {
     "name": "stdout",
     "output_type": "stream",
     "text": [
      "Mean squared error:  54058.00614624972\n",
      "Showing the first 10 differences between predicted and real.\n",
      "353.14505 919.0\n",
      "327.23587 116.0\n",
      "341.66547 228.0\n",
      "402.91074 846.029052734375\n",
      "356.3785 145.0\n",
      "330.4774 466.0\n",
      "400.0054 193.0\n",
      "292.58456 699.3670654296875\n",
      "312.0872 116.0\n",
      "314.25296 194.05316162109372\n"
     ]
    }
   ],
   "source": [
    "y_pred = model.predict(X_test)\n",
    "\n",
    "y_pred = y_pred.flatten()\n",
    "\n",
    "# how far off is the result? metric = mean squared error\n",
    "y_test = np.array(y_test)\n",
    "y_pred = np.array(y_pred)\n",
    "print(\"Mean squared error: \", mean_squared_error(y_true=y_test, y_pred=y_pred))\n",
    "\n",
    "# show first k differences\n",
    "first_k = 10\n",
    "print(\"Showing the first {} differences between predicted and real.\".format(first_k))\n",
    "for yp, yt in zip(y_pred[:first_k], y_test[:first_k]):\n",
    "    print(yp, yt)"
   ]
  },
  {
   "cell_type": "markdown",
   "metadata": {},
   "source": [
    "## Keras embedding + NN"
   ]
  },
  {
   "cell_type": "markdown",
   "metadata": {},
   "source": [
    "### Generate input data "
   ]
  },
  {
   "cell_type": "code",
   "execution_count": 214,
   "metadata": {},
   "outputs": [],
   "source": [
    "X = []\n",
    "for sample in w2v_corpus:\n",
    "    input_sample = generate_input_matrix(sample, FIXED_LENGTH)\n",
    "    if input_sample.shape != (FIXED_LENGTH,):\n",
    "        print(input_sample.shape)\n",
    "    X.append(input_sample)"
   ]
  },
  {
   "cell_type": "markdown",
   "metadata": {},
   "source": [
    "### Encode the words"
   ]
  },
  {
   "cell_type": "code",
   "execution_count": 215,
   "metadata": {},
   "outputs": [
    {
     "data": {
      "text/plain": [
       "LabelEncoder()"
      ]
     },
     "execution_count": 215,
     "metadata": {},
     "output_type": "execute_result"
    }
   ],
   "source": [
    "encoder = LabelEncoder()\n",
    "encoder.fit(np.array(X).flatten())"
   ]
  },
  {
   "cell_type": "code",
   "execution_count": 216,
   "metadata": {},
   "outputs": [],
   "source": [
    "X_encoded = []\n",
    "for sentence in X:\n",
    "    encoded = encoder.transform(sentence)\n",
    "    X_encoded.append(encoded)"
   ]
  },
  {
   "cell_type": "markdown",
   "metadata": {},
   "source": [
    "### Split X in train and test"
   ]
  },
  {
   "cell_type": "code",
   "execution_count": 217,
   "metadata": {},
   "outputs": [],
   "source": [
    "X_train, X_test, y_train, y_test = train_test_split(X_encoded, y_label, test_size=0.2, random_state=42)"
   ]
  },
  {
   "cell_type": "code",
   "execution_count": 218,
   "metadata": {},
   "outputs": [
    {
     "data": {
      "text/plain": [
       "(17,)"
      ]
     },
     "execution_count": 218,
     "metadata": {},
     "output_type": "execute_result"
    }
   ],
   "source": [
    "INPUT_SHAPE = (FIXED_LENGTH, )\n",
    "INPUT_SHAPE"
   ]
  },
  {
   "cell_type": "markdown",
   "metadata": {},
   "source": [
    "### Define the Keras embedded model "
   ]
  },
  {
   "cell_type": "code",
   "execution_count": 219,
   "metadata": {},
   "outputs": [],
   "source": [
    "def keras_embedding_model(encoder):\n",
    "    # Create model\n",
    "    input_layer = Input(shape=(FIXED_LENGTH,), name='input')\n",
    "    embedded_text = Embedding(input_dim=len(encoder.classes_),\n",
    "                              output_dim=EMBEDDING_SIZE,\n",
    "                              name='text_embedding')(input_layer)\n",
    "    embedded_text = Flatten()(embedded_text)\n",
    "    z = BatchNormalization()(embedded_text)\n",
    "    z = Dense(32, activation='relu', name='fc1', kernel_initializer='normal')(z)\n",
    "    z = BatchNormalization()(z)\n",
    "    z = Dropout(0.7)(z)\n",
    "    z = ReLU()(z)\n",
    "    output = Dense(1, kernel_initializer='normal', activation='linear')(z)\n",
    "    model = Model(inputs=[input_layer], outputs=[output])\n",
    "\n",
    "    # Compile model\n",
    "    model.compile(optimizer=Adam(lr=0.01), loss='mean_squared_error')\n",
    "\n",
    "    return model"
   ]
  },
  {
   "cell_type": "code",
   "execution_count": 220,
   "metadata": {},
   "outputs": [],
   "source": [
    "keras_embedded_model = keras_embedding_model(encoder=encoder)"
   ]
  },
  {
   "cell_type": "code",
   "execution_count": 221,
   "metadata": {},
   "outputs": [
    {
     "name": "stdout",
     "output_type": "stream",
     "text": [
      "_________________________________________________________________\n",
      "Layer (type)                 Output Shape              Param #   \n",
      "=================================================================\n",
      "input (InputLayer)           (None, 17)                0         \n",
      "_________________________________________________________________\n",
      "text_embedding (Embedding)   (None, 17, 50)            280650    \n",
      "_________________________________________________________________\n",
      "flatten_18 (Flatten)         (None, 850)               0         \n",
      "_________________________________________________________________\n",
      "batch_normalization_28 (Batc (None, 850)               3400      \n",
      "_________________________________________________________________\n",
      "fc1 (Dense)                  (None, 32)                27232     \n",
      "_________________________________________________________________\n",
      "batch_normalization_29 (Batc (None, 32)                128       \n",
      "_________________________________________________________________\n",
      "dropout_24 (Dropout)         (None, 32)                0         \n",
      "_________________________________________________________________\n",
      "re_lu_17 (ReLU)              (None, 32)                0         \n",
      "_________________________________________________________________\n",
      "dense_18 (Dense)             (None, 1)                 33        \n",
      "=================================================================\n",
      "Total params: 311,443\n",
      "Trainable params: 309,679\n",
      "Non-trainable params: 1,764\n",
      "_________________________________________________________________\n"
     ]
    }
   ],
   "source": [
    "keras_embedded_model.summary()"
   ]
  },
  {
   "cell_type": "code",
   "execution_count": 222,
   "metadata": {},
   "outputs": [],
   "source": [
    "def schedule(epoch, lr):\n",
    "    if epoch in [500]:\n",
    "        return lr / 3.0\n",
    "    return lr\n",
    "scheduler = LearningRateScheduler(schedule=schedule)"
   ]
  },
  {
   "cell_type": "code",
   "execution_count": 226,
   "metadata": {},
   "outputs": [],
   "source": [
    "y_series = pd.Series(y_label)\n",
    "std_y, mean_y = y_series.describe()['std'], y_series.describe()['mean']\n",
    "\n",
    "def rmse(y_true, y_pred):\n",
    "    y_true = y_true * std_y + mean_y\n",
    "    y_pred = y_pred * std_y + mean_y\n",
    "    return K.sqrt(K.mean(K.square(y_true - y_pred), axis=0))"
   ]
  },
  {
   "cell_type": "code",
   "execution_count": 227,
   "metadata": {},
   "outputs": [],
   "source": [
    "X_train = np.array(X_train)\n",
    "X_test = np.array(X_test)\n",
    "y_train = np.array(y_train)\n",
    "y_test = np.array(y_test)"
   ]
  },
  {
   "cell_type": "code",
   "execution_count": 228,
   "metadata": {},
   "outputs": [
    {
     "data": {
      "text/plain": [
       "((15139, 17), (15139,))"
      ]
     },
     "execution_count": 228,
     "metadata": {},
     "output_type": "execute_result"
    }
   ],
   "source": [
    "X_train.shape, y_train.shape"
   ]
  },
  {
   "cell_type": "code",
   "execution_count": 229,
   "metadata": {
    "scrolled": true
   },
   "outputs": [
    {
     "name": "stdout",
     "output_type": "stream",
     "text": [
      "Epoch 1/200\n",
      "15139/15139 [==============================] - 11s 751us/step - loss: 73732.6405\n"
     ]
    },
    {
     "name": "stderr",
     "output_type": "stream",
     "text": [
      "/home/skadi/.local/lib/python3.5/site-packages/keras/callbacks.py:569: RuntimeWarning: Early stopping conditioned on metric `rmse` which is not available. Available metrics are: loss,lr\n",
      "  (self.monitor, ','.join(list(logs.keys()))), RuntimeWarning\n"
     ]
    },
    {
     "name": "stdout",
     "output_type": "stream",
     "text": [
      "Epoch 2/200\n",
      "15139/15139 [==============================] - 8s 505us/step - loss: 42618.8289\n",
      "Epoch 3/200\n",
      "15139/15139 [==============================] - 10s 639us/step - loss: 38337.6373\n",
      "Epoch 4/200\n",
      "15139/15139 [==============================] - 10s 633us/step - loss: 35543.6541\n",
      "Epoch 5/200\n",
      "15139/15139 [==============================] - 8s 542us/step - loss: 34883.6313\n",
      "Epoch 6/200\n",
      "15139/15139 [==============================] - 8s 552us/step - loss: 33436.5811\n",
      "Epoch 7/200\n",
      "15139/15139 [==============================] - 8s 560us/step - loss: 32306.8438\n",
      "Epoch 8/200\n",
      "15139/15139 [==============================] - 9s 598us/step - loss: 30196.2253\n",
      "Epoch 9/200\n",
      "15139/15139 [==============================] - 8s 549us/step - loss: 30786.4307\n",
      "Epoch 10/200\n",
      "15139/15139 [==============================] - 9s 576us/step - loss: 29025.4467\n",
      "Epoch 11/200\n",
      "15139/15139 [==============================] - 9s 562us/step - loss: 28705.7763\n",
      "Epoch 12/200\n",
      "15139/15139 [==============================] - 8s 546us/step - loss: 28155.6821\n",
      "Epoch 13/200\n",
      "15139/15139 [==============================] - 9s 565us/step - loss: 28420.1472\n",
      "Epoch 14/200\n",
      "15139/15139 [==============================] - 9s 584us/step - loss: 27257.0084\n",
      "Epoch 15/200\n",
      "15139/15139 [==============================] - 8s 561us/step - loss: 26997.2226\n",
      "Epoch 16/200\n",
      "15139/15139 [==============================] - 9s 618us/step - loss: 26542.1740\n",
      "Epoch 17/200\n",
      "15139/15139 [==============================] - 10s 634us/step - loss: 26716.2769\n",
      "Epoch 18/200\n",
      "15139/15139 [==============================] - 9s 605us/step - loss: 25882.3883\n",
      "Epoch 19/200\n",
      "15139/15139 [==============================] - 9s 567us/step - loss: 25297.8936\n",
      "Epoch 20/200\n",
      "15139/15139 [==============================] - 8s 541us/step - loss: 25324.9738\n",
      "Epoch 21/200\n",
      "15139/15139 [==============================] - 9s 593us/step - loss: 24502.1952\n",
      "Epoch 22/200\n",
      "15139/15139 [==============================] - 10s 656us/step - loss: 24619.9644\n",
      "Epoch 23/200\n",
      "15139/15139 [==============================] - 9s 597us/step - loss: 24062.8578\n",
      "Epoch 24/200\n",
      "15139/15139 [==============================] - 9s 589us/step - loss: 24432.7550\n",
      "Epoch 25/200\n",
      "15139/15139 [==============================] - 9s 588us/step - loss: 23844.5720\n",
      "Epoch 26/200\n",
      "15139/15139 [==============================] - 9s 602us/step - loss: 23659.7472\n",
      "Epoch 27/200\n",
      "15139/15139 [==============================] - 9s 603us/step - loss: 23433.3797\n",
      "Epoch 28/200\n",
      "15139/15139 [==============================] - 11s 735us/step - loss: 22804.3024\n",
      "Epoch 29/200\n",
      "15139/15139 [==============================] - 13s 861us/step - loss: 23422.1742\n",
      "Epoch 30/200\n",
      "15139/15139 [==============================] - 9s 592us/step - loss: 22524.8916\n",
      "Epoch 31/200\n",
      "15139/15139 [==============================] - 9s 621us/step - loss: 22556.2233\n",
      "Epoch 32/200\n",
      "15139/15139 [==============================] - 9s 613us/step - loss: 22408.5968\n",
      "Epoch 33/200\n",
      "15139/15139 [==============================] - 9s 580us/step - loss: 22205.5353\n",
      "Epoch 34/200\n",
      "15139/15139 [==============================] - 10s 668us/step - loss: 21837.7061\n",
      "Epoch 35/200\n",
      "15139/15139 [==============================] - 8s 557us/step - loss: 21892.0816\n",
      "Epoch 36/200\n",
      "15139/15139 [==============================] - 9s 571us/step - loss: 21472.4145\n",
      "Epoch 37/200\n",
      "15139/15139 [==============================] - 9s 606us/step - loss: 22107.8992\n",
      "Epoch 38/200\n",
      "15139/15139 [==============================] - 10s 650us/step - loss: 21381.2286\n",
      "Epoch 39/200\n",
      "15139/15139 [==============================] - 8s 506us/step - loss: 21050.9078\n",
      "Epoch 40/200\n",
      "15139/15139 [==============================] - 8s 512us/step - loss: 21209.9930\n",
      "Epoch 41/200\n",
      "15139/15139 [==============================] - 8s 540us/step - loss: 21192.3491\n",
      "Epoch 42/200\n",
      "15139/15139 [==============================] - 8s 516us/step - loss: 20660.3830\n",
      "Epoch 43/200\n",
      "15139/15139 [==============================] - 8s 497us/step - loss: 20349.1325\n",
      "Epoch 44/200\n",
      "15139/15139 [==============================] - 7s 488us/step - loss: 20219.4653\n",
      "Epoch 45/200\n",
      "15139/15139 [==============================] - 8s 508us/step - loss: 20436.9486\n",
      "Epoch 46/200\n",
      "15139/15139 [==============================] - 7s 494us/step - loss: 20413.2975\n",
      "Epoch 47/200\n",
      "15139/15139 [==============================] - 8s 511us/step - loss: 20122.2327\n",
      "Epoch 48/200\n",
      "15139/15139 [==============================] - 8s 517us/step - loss: 19831.5379\n",
      "Epoch 49/200\n",
      "15139/15139 [==============================] - 8s 498us/step - loss: 19967.6274\n",
      "Epoch 50/200\n",
      "15139/15139 [==============================] - 8s 499us/step - loss: 19797.6712\n",
      "Epoch 51/200\n",
      "15139/15139 [==============================] - 7s 490us/step - loss: 19546.0289\n",
      "Epoch 52/200\n",
      "15139/15139 [==============================] - 7s 480us/step - loss: 19392.1984\n",
      "Epoch 53/200\n",
      "15139/15139 [==============================] - 8s 498us/step - loss: 19564.7852\n",
      "Epoch 54/200\n",
      "15139/15139 [==============================] - 8s 505us/step - loss: 19338.8942\n",
      "Epoch 55/200\n",
      "15139/15139 [==============================] - 8s 499us/step - loss: 19489.0057\n",
      "Epoch 56/200\n",
      "15139/15139 [==============================] - 7s 495us/step - loss: 18884.1980\n",
      "Epoch 57/200\n",
      "15139/15139 [==============================] - 8s 504us/step - loss: 19413.5635\n",
      "Epoch 58/200\n",
      "15139/15139 [==============================] - 8s 496us/step - loss: 19106.7733\n",
      "Epoch 59/200\n",
      "15139/15139 [==============================] - 7s 482us/step - loss: 18727.5190\n",
      "Epoch 60/200\n",
      "15139/15139 [==============================] - 8s 542us/step - loss: 18747.9042\n",
      "Epoch 61/200\n",
      "15139/15139 [==============================] - 8s 500us/step - loss: 19268.3475\n",
      "Epoch 62/200\n",
      "15139/15139 [==============================] - 10s 658us/step - loss: 18770.3462\n",
      "Epoch 63/200\n",
      "15139/15139 [==============================] - 9s 592us/step - loss: 19082.5448\n",
      "Epoch 64/200\n",
      "15139/15139 [==============================] - 8s 535us/step - loss: 18760.4875\n",
      "Epoch 65/200\n",
      "15139/15139 [==============================] - 8s 552us/step - loss: 18902.4432\n",
      "Epoch 66/200\n",
      "15139/15139 [==============================] - 9s 572us/step - loss: 18785.3490\n",
      "Epoch 67/200\n",
      "15139/15139 [==============================] - 9s 571us/step - loss: 18893.9419\n",
      "Epoch 68/200\n",
      "15139/15139 [==============================] - 8s 559us/step - loss: 18413.6252\n",
      "Epoch 69/200\n",
      "15139/15139 [==============================] - 8s 530us/step - loss: 18084.4838\n",
      "Epoch 70/200\n",
      "15139/15139 [==============================] - 9s 595us/step - loss: 18315.8724\n",
      "Epoch 71/200\n",
      "15139/15139 [==============================] - 8s 558us/step - loss: 17987.9187\n",
      "Epoch 72/200\n",
      "15139/15139 [==============================] - 9s 600us/step - loss: 18171.7620\n",
      "Epoch 73/200\n",
      "15139/15139 [==============================] - 8s 552us/step - loss: 18033.8447\n",
      "Epoch 74/200\n",
      "15139/15139 [==============================] - 10s 683us/step - loss: 17978.1025\n",
      "Epoch 75/200\n",
      "15139/15139 [==============================] - 10s 660us/step - loss: 18099.3574\n",
      "Epoch 76/200\n",
      "15139/15139 [==============================] - 9s 614us/step - loss: 18409.4624\n",
      "Epoch 77/200\n",
      "15139/15139 [==============================] - 8s 528us/step - loss: 18375.7340\n",
      "Epoch 78/200\n",
      "15139/15139 [==============================] - 8s 538us/step - loss: 18126.0324\n",
      "Epoch 79/200\n",
      "15139/15139 [==============================] - 8s 527us/step - loss: 17908.7845\n",
      "Epoch 80/200\n",
      "15139/15139 [==============================] - 8s 544us/step - loss: 17787.7405\n",
      "Epoch 81/200\n",
      "15139/15139 [==============================] - 8s 537us/step - loss: 17870.7998\n",
      "Epoch 82/200\n",
      "15139/15139 [==============================] - 8s 555us/step - loss: 17724.3346\n",
      "Epoch 83/200\n",
      "15139/15139 [==============================] - 8s 536us/step - loss: 17896.3063\n",
      "Epoch 84/200\n",
      "15139/15139 [==============================] - 8s 550us/step - loss: 17798.3043\n",
      "Epoch 85/200\n",
      "15139/15139 [==============================] - 9s 594us/step - loss: 17341.5102\n",
      "Epoch 86/200\n",
      "15139/15139 [==============================] - 7s 488us/step - loss: 18050.8493\n",
      "Epoch 87/200\n",
      "15139/15139 [==============================] - 7s 477us/step - loss: 18207.5306\n",
      "Epoch 88/200\n",
      "15139/15139 [==============================] - 8s 499us/step - loss: 17630.0687\n",
      "Epoch 89/200\n",
      "15139/15139 [==============================] - 7s 495us/step - loss: 17626.5898\n",
      "Epoch 90/200\n"
     ]
    },
    {
     "name": "stdout",
     "output_type": "stream",
     "text": [
      "15139/15139 [==============================] - 7s 486us/step - loss: 17756.2605\n",
      "Epoch 91/200\n",
      "15139/15139 [==============================] - 7s 476us/step - loss: 18088.6039\n",
      "Epoch 92/200\n",
      "15139/15139 [==============================] - 7s 477us/step - loss: 17923.1772\n",
      "Epoch 93/200\n",
      "15139/15139 [==============================] - 7s 476us/step - loss: 18130.4486\n",
      "Epoch 94/200\n",
      "15139/15139 [==============================] - 7s 475us/step - loss: 17403.0934\n",
      "Epoch 95/200\n",
      "15139/15139 [==============================] - 7s 466us/step - loss: 17733.5411\n",
      "Epoch 96/200\n",
      "15139/15139 [==============================] - 7s 474us/step - loss: 18063.4087\n",
      "Epoch 97/200\n",
      "15139/15139 [==============================] - 7s 491us/step - loss: 17074.3758\n",
      "Epoch 98/200\n",
      "15139/15139 [==============================] - 7s 480us/step - loss: 17575.0455\n",
      "Epoch 99/200\n",
      "15139/15139 [==============================] - 8s 533us/step - loss: 17979.3879\n",
      "Epoch 100/200\n",
      "15139/15139 [==============================] - 7s 479us/step - loss: 17309.3241\n",
      "Epoch 101/200\n",
      "15139/15139 [==============================] - 7s 469us/step - loss: 17619.8260\n",
      "Epoch 102/200\n",
      "15139/15139 [==============================] - 7s 472us/step - loss: 18108.3767\n",
      "Epoch 103/200\n",
      "15139/15139 [==============================] - 8s 499us/step - loss: 17625.4780\n",
      "Epoch 104/200\n",
      "15139/15139 [==============================] - 7s 485us/step - loss: 17263.0627\n",
      "Epoch 105/200\n",
      "15139/15139 [==============================] - 8s 509us/step - loss: 17600.9405\n",
      "Epoch 106/200\n",
      "15139/15139 [==============================] - 7s 480us/step - loss: 17159.2574\n",
      "Epoch 107/200\n",
      "15139/15139 [==============================] - 7s 482us/step - loss: 17254.2452\n",
      "Epoch 108/200\n",
      "15139/15139 [==============================] - 9s 585us/step - loss: 17385.7031\n",
      "Epoch 109/200\n",
      "15139/15139 [==============================] - 8s 542us/step - loss: 17356.9303\n",
      "Epoch 110/200\n",
      "15139/15139 [==============================] - 8s 544us/step - loss: 17209.9723\n",
      "Epoch 111/200\n",
      "15139/15139 [==============================] - 9s 564us/step - loss: 17164.3447\n",
      "Epoch 112/200\n",
      "15139/15139 [==============================] - 9s 571us/step - loss: 17402.4007\n",
      "Epoch 113/200\n",
      "15139/15139 [==============================] - 8s 529us/step - loss: 17133.7716\n",
      "Epoch 114/200\n",
      "15139/15139 [==============================] - 8s 528us/step - loss: 17413.7404\n",
      "Epoch 115/200\n",
      "15139/15139 [==============================] - 8s 535us/step - loss: 17413.8985\n",
      "Epoch 116/200\n",
      "15139/15139 [==============================] - 8s 552us/step - loss: 17221.4817\n",
      "Epoch 117/200\n",
      "15139/15139 [==============================] - 8s 514us/step - loss: 17521.8937\n",
      "Epoch 118/200\n",
      "15139/15139 [==============================] - 8s 523us/step - loss: 17173.6525\n",
      "Epoch 119/200\n",
      "15139/15139 [==============================] - 8s 520us/step - loss: 17443.1592\n",
      "Epoch 120/200\n",
      "15139/15139 [==============================] - 8s 538us/step - loss: 17017.0487\n",
      "Epoch 121/200\n",
      "15139/15139 [==============================] - 8s 525us/step - loss: 17532.5473\n",
      "Epoch 122/200\n",
      "15139/15139 [==============================] - 8s 528us/step - loss: 17073.0900\n",
      "Epoch 123/200\n",
      "15139/15139 [==============================] - 8s 555us/step - loss: 16997.9979\n",
      "Epoch 124/200\n",
      "15139/15139 [==============================] - 8s 527us/step - loss: 16943.1447\n",
      "Epoch 125/200\n",
      "15139/15139 [==============================] - 9s 567us/step - loss: 16900.7193\n",
      "Epoch 126/200\n",
      "15139/15139 [==============================] - 8s 547us/step - loss: 16856.1006\n",
      "Epoch 127/200\n",
      "15139/15139 [==============================] - 8s 530us/step - loss: 17162.4873\n",
      "Epoch 128/200\n",
      "15139/15139 [==============================] - 8s 560us/step - loss: 16862.7062\n",
      "Epoch 129/200\n",
      "15139/15139 [==============================] - 8s 498us/step - loss: 17072.2487\n",
      "Epoch 130/200\n",
      "15139/15139 [==============================] - 8s 519us/step - loss: 16593.1372\n",
      "Epoch 131/200\n",
      "15139/15139 [==============================] - 7s 483us/step - loss: 16763.2897\n",
      "Epoch 132/200\n",
      "15139/15139 [==============================] - 7s 488us/step - loss: 16348.2200\n",
      "Epoch 133/200\n",
      "15139/15139 [==============================] - 7s 474us/step - loss: 16666.5394\n",
      "Epoch 134/200\n",
      "15139/15139 [==============================] - 7s 494us/step - loss: 16728.2726\n",
      "Epoch 135/200\n",
      "15139/15139 [==============================] - 7s 485us/step - loss: 17001.9846\n",
      "Epoch 136/200\n",
      "15139/15139 [==============================] - 7s 486us/step - loss: 16937.9204\n",
      "Epoch 137/200\n",
      "15139/15139 [==============================] - 7s 485us/step - loss: 16822.3874\n",
      "Epoch 138/200\n",
      "15139/15139 [==============================] - 7s 489us/step - loss: 16492.0171\n",
      "Epoch 139/200\n",
      "15139/15139 [==============================] - 7s 479us/step - loss: 16842.2943\n",
      "Epoch 140/200\n",
      "15139/15139 [==============================] - 7s 487us/step - loss: 16882.0403\n",
      "Epoch 141/200\n",
      "15139/15139 [==============================] - 7s 492us/step - loss: 16802.4291\n",
      "Epoch 142/200\n",
      "15139/15139 [==============================] - 7s 483us/step - loss: 16869.6441\n",
      "Epoch 143/200\n",
      "15139/15139 [==============================] - 8s 504us/step - loss: 16678.0712\n",
      "Epoch 144/200\n",
      "15139/15139 [==============================] - 7s 488us/step - loss: 15998.0116\n",
      "Epoch 145/200\n",
      "15139/15139 [==============================] - 7s 475us/step - loss: 16483.6326\n",
      "Epoch 146/200\n",
      "15139/15139 [==============================] - 7s 473us/step - loss: 16302.7763\n",
      "Epoch 147/200\n",
      "15139/15139 [==============================] - 9s 565us/step - loss: 16735.7810\n",
      "Epoch 148/200\n",
      "15139/15139 [==============================] - 7s 489us/step - loss: 16466.9339\n",
      "Epoch 149/200\n",
      "15139/15139 [==============================] - 7s 471us/step - loss: 16559.8011\n",
      "Epoch 150/200\n",
      "15139/15139 [==============================] - 7s 480us/step - loss: 17004.1374\n",
      "Epoch 151/200\n",
      "15139/15139 [==============================] - 8s 497us/step - loss: 17074.2510\n",
      "Epoch 152/200\n",
      "15139/15139 [==============================] - 7s 489us/step - loss: 16621.3965\n",
      "Epoch 153/200\n",
      "15139/15139 [==============================] - 7s 480us/step - loss: 16301.2563\n",
      "Epoch 154/200\n",
      "15139/15139 [==============================] - 7s 481us/step - loss: 17030.7543\n",
      "Epoch 155/200\n",
      "15139/15139 [==============================] - 7s 475us/step - loss: 17241.0949\n",
      "Epoch 156/200\n",
      "15139/15139 [==============================] - 7s 477us/step - loss: 16515.2565\n",
      "Epoch 157/200\n",
      "15139/15139 [==============================] - 7s 467us/step - loss: 16617.5704\n",
      "Epoch 158/200\n",
      "15139/15139 [==============================] - 8s 520us/step - loss: 16219.2978\n",
      "Epoch 159/200\n",
      "15139/15139 [==============================] - 8s 507us/step - loss: 16498.5368\n",
      "Epoch 160/200\n",
      "15139/15139 [==============================] - 8s 505us/step - loss: 16544.5739\n",
      "Epoch 161/200\n",
      "15139/15139 [==============================] - 8s 500us/step - loss: 16566.6251\n",
      "Epoch 162/200\n",
      "15139/15139 [==============================] - 9s 609us/step - loss: 17298.9168\n",
      "Epoch 163/200\n",
      "15139/15139 [==============================] - 8s 511us/step - loss: 16886.5679\n",
      "Epoch 164/200\n",
      "15139/15139 [==============================] - 8s 544us/step - loss: 16788.7029\n",
      "Epoch 165/200\n",
      "15139/15139 [==============================] - 9s 576us/step - loss: 16001.5952\n",
      "Epoch 166/200\n",
      "15139/15139 [==============================] - 10s 679us/step - loss: 16844.7871\n",
      "Epoch 167/200\n",
      "15139/15139 [==============================] - 11s 699us/step - loss: 16303.5694\n",
      "Epoch 168/200\n",
      "15139/15139 [==============================] - 10s 648us/step - loss: 16719.3315\n",
      "Epoch 169/200\n",
      "15139/15139 [==============================] - 10s 661us/step - loss: 16328.5125\n",
      "Epoch 170/200\n",
      "15139/15139 [==============================] - 9s 582us/step - loss: 16824.7895\n",
      "Epoch 171/200\n",
      "15139/15139 [==============================] - 9s 575us/step - loss: 16719.1591\n",
      "Epoch 172/200\n",
      "15139/15139 [==============================] - 9s 618us/step - loss: 16440.1395\n",
      "Epoch 173/200\n",
      "15139/15139 [==============================] - 10s 655us/step - loss: 16195.2999\n",
      "Epoch 174/200\n",
      "15139/15139 [==============================] - 9s 579us/step - loss: 16253.3896\n",
      "Epoch 175/200\n",
      "15139/15139 [==============================] - 10s 669us/step - loss: 16817.4751\n",
      "Epoch 176/200\n",
      "15139/15139 [==============================] - 9s 612us/step - loss: 16105.1655\n",
      "Epoch 177/200\n",
      "15139/15139 [==============================] - 9s 577us/step - loss: 16640.9283\n",
      "Epoch 178/200\n",
      "15139/15139 [==============================] - 8s 553us/step - loss: 16879.4925\n",
      "Epoch 179/200\n",
      "15139/15139 [==============================] - 9s 585us/step - loss: 16257.7597\n",
      "Epoch 180/200\n",
      "15139/15139 [==============================] - 9s 574us/step - loss: 16106.6214\n",
      "Epoch 181/200\n",
      "15139/15139 [==============================] - 8s 548us/step - loss: 16566.3536\n",
      "Epoch 182/200\n",
      "15139/15139 [==============================] - 10s 663us/step - loss: 16533.9493\n",
      "Epoch 183/200\n",
      "15139/15139 [==============================] - 9s 608us/step - loss: 16445.0022\n",
      "Epoch 184/200\n",
      "15139/15139 [==============================] - 11s 724us/step - loss: 16854.2315\n",
      "Epoch 185/200\n",
      "15139/15139 [==============================] - 11s 717us/step - loss: 16505.2581\n",
      "Epoch 186/200\n",
      "15139/15139 [==============================] - 11s 706us/step - loss: 16998.4541\n",
      "Epoch 187/200\n",
      "15139/15139 [==============================] - 10s 655us/step - loss: 16836.7819\n",
      "Epoch 188/200\n",
      "15139/15139 [==============================] - 8s 559us/step - loss: 16660.5359\n",
      "Epoch 189/200\n",
      "15139/15139 [==============================] - 8s 550us/step - loss: 16445.5438\n",
      "Epoch 190/200\n",
      "15139/15139 [==============================] - 10s 631us/step - loss: 16094.6719\n",
      "Epoch 191/200\n",
      "15139/15139 [==============================] - 13s 841us/step - loss: 16260.7061\n",
      "Epoch 192/200\n",
      "15139/15139 [==============================] - 9s 624us/step - loss: 16666.0021\n",
      "Epoch 193/200\n",
      "15139/15139 [==============================] - 8s 520us/step - loss: 16527.3709\n",
      "Epoch 194/200\n",
      "15139/15139 [==============================] - 7s 459us/step - loss: 16403.7252\n",
      "Epoch 195/200\n",
      "15139/15139 [==============================] - 9s 597us/step - loss: 16545.6303\n",
      "Epoch 196/200\n",
      "15139/15139 [==============================] - 9s 564us/step - loss: 16703.7019\n",
      "Epoch 197/200\n",
      "15139/15139 [==============================] - 8s 500us/step - loss: 16922.5344\n",
      "Epoch 198/200\n",
      "15139/15139 [==============================] - 9s 619us/step - loss: 16611.4893\n",
      "Epoch 199/200\n",
      "15139/15139 [==============================] - 8s 560us/step - loss: 16433.6017\n",
      "Epoch 200/200\n",
      "15139/15139 [==============================] - 8s 534us/step - loss: 16309.6025\n"
     ]
    }
   ],
   "source": [
    "history = keras_embedded_model.fit(X_train, y_train, epochs=EPOCHS,\n",
    "                    callbacks=[scheduler, EarlyStopping(patience=10, monitor='rmse'),\n",
    "                               ModelCheckpoint('models/embedding.h5', monitor='rmse')],\n",
    "                    batch_size=BATCH_SIZE)"
   ]
  },
  {
   "cell_type": "code",
   "execution_count": null,
   "metadata": {
    "scrolled": true
   },
   "outputs": [],
   "source": [
    "y_pred = keras_embedded_model.predict(X_test)\n",
    "\n",
    "y_pred = y_pred.flatten()\n",
    "\n",
    "# how far off is the result? metric = mean squared error\n",
    "y_test = np.array(y_test)\n",
    "y_pred = np.array(y_pred)\n",
    "print(\"Mean squared error: \", mean_squared_error(y_true=y_test, y_pred=y_pred))\n",
    "\n",
    "# show first k differences\n",
    "first_k = 10\n",
    "print(\"Showing the first {} differences between predicted and real.\".format(first_k))\n",
    "for yp, yt in zip(y_pred[:first_k], y_test[:first_k]):\n",
    "    print(yp, yt)"
   ]
  },
  {
   "cell_type": "markdown",
   "metadata": {},
   "source": [
    "### Save model"
   ]
  },
  {
   "cell_type": "code",
   "execution_count": null,
   "metadata": {},
   "outputs": [],
   "source": [
    "keras_embedded_model.save('models/predict_calories_model')"
   ]
  },
  {
   "cell_type": "markdown",
   "metadata": {},
   "source": [
    "### Get the dataframe that has NaN values for our regression column (calories)"
   ]
  },
  {
   "cell_type": "code",
   "execution_count": null,
   "metadata": {},
   "outputs": [],
   "source": [
    "predict_df = df[df[regr_column] != df[regr_column]]"
   ]
  },
  {
   "cell_type": "markdown",
   "metadata": {},
   "source": [
    "### Get the input data we need to predict the needed values"
   ]
  },
  {
   "cell_type": "code",
   "execution_count": null,
   "metadata": {},
   "outputs": [],
   "source": [
    "predict_data = []\n",
    "for i in range(len(predict_df)):\n",
    "    predict_data.append(get_small_dict(predict_df, keep_columns, i))\n",
    "corpus = ['|'.join(\n",
    "    d['tags'] + \n",
    "    [w.lower() for w in nltk.word_tokenize(d['title']) if w not in '''!()-[]{};:'\"\\,<>./?@#$%^&*_~''']\n",
    ") for d in predict_data]"
   ]
  },
  {
   "cell_type": "markdown",
   "metadata": {},
   "source": [
    "### Split input data using the tokenizer"
   ]
  },
  {
   "cell_type": "code",
   "execution_count": null,
   "metadata": {},
   "outputs": [],
   "source": [
    "predict_corpus = []\n",
    "for word_list in corpus:\n",
    "    predict_corpus.append(tokenize(word_list))"
   ]
  },
  {
   "cell_type": "markdown",
   "metadata": {},
   "source": [
    "### Make sure input data has a fixed shape"
   ]
  },
  {
   "cell_type": "code",
   "execution_count": null,
   "metadata": {},
   "outputs": [],
   "source": [
    "X = []\n",
    "for sample in predict_corpus:\n",
    "    sample = [w for w in sample if w in encoder.classes_]\n",
    "    input_sample = generate_input_matrix(sample, FIXED_LENGTH)\n",
    "    if input_sample.shape != (FIXED_LENGTH,):\n",
    "        print(input_sample.shape)\n",
    "    X.append(input_sample)"
   ]
  },
  {
   "cell_type": "markdown",
   "metadata": {},
   "source": [
    "### Transform matrix-like input data using available encoder"
   ]
  },
  {
   "cell_type": "code",
   "execution_count": null,
   "metadata": {},
   "outputs": [],
   "source": [
    "X_encoded = []\n",
    "for sentence in X:\n",
    "    encoded = encoder.transform(sentence)\n",
    "    X_encoded.append(encoded)"
   ]
  },
  {
   "cell_type": "code",
   "execution_count": null,
   "metadata": {},
   "outputs": [],
   "source": [
    "X_encoded = np.array(X_encoded)\n",
    "X_encoded.shape"
   ]
  },
  {
   "cell_type": "markdown",
   "metadata": {},
   "source": [
    "### Predict missing data "
   ]
  },
  {
   "cell_type": "code",
   "execution_count": null,
   "metadata": {},
   "outputs": [],
   "source": [
    "y_pred = keras_embedded_model.predict(X_encoded)\n",
    "\n",
    "y_pred = y_pred.flatten()"
   ]
  },
  {
   "cell_type": "markdown",
   "metadata": {},
   "source": [
    "### Fill the dataframe with predicted values"
   ]
  },
  {
   "cell_type": "code",
   "execution_count": null,
   "metadata": {},
   "outputs": [],
   "source": [
    "predict_df[regr_column] = y_pred"
   ]
  },
  {
   "cell_type": "markdown",
   "metadata": {},
   "source": [
    "### Update initial dataframe with missing values"
   ]
  },
  {
   "cell_type": "code",
   "execution_count": null,
   "metadata": {},
   "outputs": [],
   "source": [
    "update_regr_column = [np.nan for _ in range(len(df))]\n",
    "for idx, value in zip(predict_df.index, predicted):\n",
    "    update_regr_column[idx] = value"
   ]
  },
  {
   "cell_type": "code",
   "execution_count": null,
   "metadata": {},
   "outputs": [],
   "source": [
    "df.update({regr_column: update_regr_column})"
   ]
  },
  {
   "cell_type": "markdown",
   "metadata": {},
   "source": [
    "### Save updated dataframe"
   ]
  },
  {
   "cell_type": "code",
   "execution_count": null,
   "metadata": {},
   "outputs": [],
   "source": [
    "df.to_csv('recipes_with_calories.csv', sep='|')"
   ]
  }
 ],
 "metadata": {
  "kernelspec": {
   "display_name": "Python 3",
   "language": "python",
   "name": "python3"
  },
  "language_info": {
   "codemirror_mode": {
    "name": "ipython",
    "version": 3
   },
   "file_extension": ".py",
   "mimetype": "text/x-python",
   "name": "python",
   "nbconvert_exporter": "python",
   "pygments_lexer": "ipython3",
   "version": "3.5.2"
  }
 },
 "nbformat": 4,
 "nbformat_minor": 2
}
