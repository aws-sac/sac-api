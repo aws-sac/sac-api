{
 "cells": [
  {
   "cell_type": "code",
   "execution_count": 1,
   "metadata": {},
   "outputs": [],
   "source": [
    "import numpy as np\n",
    "import scipy\n",
    "import pandas as pd\n",
    "import math\n",
    "import random\n",
    "import sklearn\n",
    "import unicodedata\n",
    "\n",
    "from sklearn.feature_extraction.text import TfidfVectorizer, CountVectorizer, TfidfTransformer\n",
    "from sklearn.metrics import accuracy_score, confusion_matrix, mean_squared_error\n",
    "from sklearn.model_selection import train_test_split\n",
    "from sklearn.metrics.pairwise import cosine_similarity\n",
    "from sklearn.preprocessing import LabelEncoder\n",
    "\n",
    "from scipy.sparse.linalg import svds\n",
    "\n",
    "import matplotlib.pyplot as plt"
   ]
  },
  {
   "cell_type": "code",
   "execution_count": 2,
   "metadata": {},
   "outputs": [
    {
     "name": "stderr",
     "output_type": "stream",
     "text": [
      "Using TensorFlow backend.\n"
     ]
    }
   ],
   "source": [
    "from keras.models import Sequential, Model\n",
    "from keras.layers import Dense, Embedding, Input, Conv2D, Concatenate, MaxPool2D, Reshape, Flatten, Dropout\n",
    "from keras.layers import ReLU\n",
    "from keras.layers import BatchNormalization, LSTM, Bidirectional\n",
    "\n",
    "from keras.callbacks import CSVLogger, EarlyStopping, ReduceLROnPlateau\n",
    "from keras.layers import Add\n",
    "\n",
    "from keras.models import Sequential\n",
    "from keras.layers import Dense\n",
    "from keras.wrappers.scikit_learn import KerasRegressor\n",
    "from sklearn.linear_model import LinearRegression\n",
    "from sklearn.model_selection import cross_val_score\n",
    "from sklearn.model_selection import KFold\n",
    "from sklearn.preprocessing import StandardScaler\n",
    "from sklearn.pipeline import Pipeline"
   ]
  },
  {
   "cell_type": "code",
   "execution_count": 3,
   "metadata": {},
   "outputs": [],
   "source": [
    "from keras.optimizers import Adam, SGD\n",
    "from keras.callbacks import LearningRateScheduler\n",
    "from keras.callbacks import EarlyStopping\n",
    "from keras.callbacks import ModelCheckpoint\n",
    "from sklearn.manifold import TSNE\n",
    "from keras import backend as K"
   ]
  },
  {
   "cell_type": "code",
   "execution_count": 4,
   "metadata": {},
   "outputs": [],
   "source": [
    "# !python3 -m pip install gensim"
   ]
  },
  {
   "cell_type": "code",
   "execution_count": 5,
   "metadata": {},
   "outputs": [],
   "source": [
    "from gensim.models import Word2Vec"
   ]
  },
  {
   "cell_type": "code",
   "execution_count": 6,
   "metadata": {},
   "outputs": [],
   "source": [
    "%matplotlib inline"
   ]
  },
  {
   "cell_type": "code",
   "execution_count": 7,
   "metadata": {},
   "outputs": [],
   "source": [
    "# !python3 -m pip install -U nltk\n",
    "# !python3 -m nltk.downloader punkt"
   ]
  },
  {
   "cell_type": "code",
   "execution_count": 8,
   "metadata": {},
   "outputs": [],
   "source": [
    "import nltk"
   ]
  },
  {
   "cell_type": "code",
   "execution_count": 9,
   "metadata": {},
   "outputs": [],
   "source": [
    "from nltk.corpus import stopwords"
   ]
  },
  {
   "cell_type": "code",
   "execution_count": 10,
   "metadata": {},
   "outputs": [],
   "source": [
    "path = 'epi_r.csv'\n",
    "# path = 'recipes_with_calories.csv'"
   ]
  },
  {
   "cell_type": "code",
   "execution_count": 11,
   "metadata": {},
   "outputs": [],
   "source": [
    "df = pd.read_csv(path)\n",
    "# df = pd.read_csv(path, sep=\"|\", index_col=0)"
   ]
  },
  {
   "cell_type": "code",
   "execution_count": 12,
   "metadata": {},
   "outputs": [
    {
     "data": {
      "text/plain": [
       "680"
      ]
     },
     "execution_count": 12,
     "metadata": {},
     "output_type": "execute_result"
    }
   ],
   "source": [
    "all_columns = list(df.columns)\n",
    "len(all_columns)"
   ]
  },
  {
   "cell_type": "code",
   "execution_count": 13,
   "metadata": {},
   "outputs": [
    {
     "data": {
      "text/plain": [
       "((15864, 680), (20052, 680))"
      ]
     },
     "execution_count": 13,
     "metadata": {},
     "output_type": "execute_result"
    }
   ],
   "source": [
    "df.dropna(axis=0).shape, df.shape"
   ]
  },
  {
   "cell_type": "code",
   "execution_count": 14,
   "metadata": {},
   "outputs": [
    {
     "name": "stdout",
     "output_type": "stream",
     "text": [
      "calories\n",
      "protein\n",
      "fat\n",
      "sodium\n"
     ]
    }
   ],
   "source": [
    "for column in df.columns:\n",
    "    if df[column].isnull().any():\n",
    "        print(column)\n",
    "#         df[column] = df[column].fillna(df[column].mean())"
   ]
  },
  {
   "cell_type": "code",
   "execution_count": 15,
   "metadata": {},
   "outputs": [
    {
     "data": {
      "text/html": [
       "<div>\n",
       "<style scoped>\n",
       "    .dataframe tbody tr th:only-of-type {\n",
       "        vertical-align: middle;\n",
       "    }\n",
       "\n",
       "    .dataframe tbody tr th {\n",
       "        vertical-align: top;\n",
       "    }\n",
       "\n",
       "    .dataframe thead th {\n",
       "        text-align: right;\n",
       "    }\n",
       "</style>\n",
       "<table border=\"1\" class=\"dataframe\">\n",
       "  <thead>\n",
       "    <tr style=\"text-align: right;\">\n",
       "      <th></th>\n",
       "      <th>title</th>\n",
       "      <th>rating</th>\n",
       "      <th>calories</th>\n",
       "      <th>protein</th>\n",
       "      <th>fat</th>\n",
       "      <th>sodium</th>\n",
       "      <th>#cakeweek</th>\n",
       "      <th>#wasteless</th>\n",
       "      <th>22-minute meals</th>\n",
       "      <th>3-ingredient recipes</th>\n",
       "      <th>...</th>\n",
       "      <th>yellow squash</th>\n",
       "      <th>yogurt</th>\n",
       "      <th>yonkers</th>\n",
       "      <th>yuca</th>\n",
       "      <th>zucchini</th>\n",
       "      <th>cookbooks</th>\n",
       "      <th>leftovers</th>\n",
       "      <th>snack</th>\n",
       "      <th>snack week</th>\n",
       "      <th>turkey</th>\n",
       "    </tr>\n",
       "  </thead>\n",
       "  <tbody>\n",
       "    <tr>\n",
       "      <th>0</th>\n",
       "      <td>Lentil, Apple, and Turkey Wrap</td>\n",
       "      <td>2.500</td>\n",
       "      <td>426.0</td>\n",
       "      <td>30.0</td>\n",
       "      <td>7.0</td>\n",
       "      <td>559.0</td>\n",
       "      <td>0.0</td>\n",
       "      <td>0.0</td>\n",
       "      <td>0.0</td>\n",
       "      <td>0.0</td>\n",
       "      <td>...</td>\n",
       "      <td>0.0</td>\n",
       "      <td>0.0</td>\n",
       "      <td>0.0</td>\n",
       "      <td>0.0</td>\n",
       "      <td>0.0</td>\n",
       "      <td>0.0</td>\n",
       "      <td>0.0</td>\n",
       "      <td>0.0</td>\n",
       "      <td>0.0</td>\n",
       "      <td>1.0</td>\n",
       "    </tr>\n",
       "    <tr>\n",
       "      <th>1</th>\n",
       "      <td>Boudin Blanc Terrine with Red Onion Confit</td>\n",
       "      <td>4.375</td>\n",
       "      <td>403.0</td>\n",
       "      <td>18.0</td>\n",
       "      <td>23.0</td>\n",
       "      <td>1439.0</td>\n",
       "      <td>0.0</td>\n",
       "      <td>0.0</td>\n",
       "      <td>0.0</td>\n",
       "      <td>0.0</td>\n",
       "      <td>...</td>\n",
       "      <td>0.0</td>\n",
       "      <td>0.0</td>\n",
       "      <td>0.0</td>\n",
       "      <td>0.0</td>\n",
       "      <td>0.0</td>\n",
       "      <td>0.0</td>\n",
       "      <td>0.0</td>\n",
       "      <td>0.0</td>\n",
       "      <td>0.0</td>\n",
       "      <td>0.0</td>\n",
       "    </tr>\n",
       "    <tr>\n",
       "      <th>2</th>\n",
       "      <td>Potato and Fennel Soup Hodge</td>\n",
       "      <td>3.750</td>\n",
       "      <td>165.0</td>\n",
       "      <td>6.0</td>\n",
       "      <td>7.0</td>\n",
       "      <td>165.0</td>\n",
       "      <td>0.0</td>\n",
       "      <td>0.0</td>\n",
       "      <td>0.0</td>\n",
       "      <td>0.0</td>\n",
       "      <td>...</td>\n",
       "      <td>0.0</td>\n",
       "      <td>0.0</td>\n",
       "      <td>0.0</td>\n",
       "      <td>0.0</td>\n",
       "      <td>0.0</td>\n",
       "      <td>0.0</td>\n",
       "      <td>0.0</td>\n",
       "      <td>0.0</td>\n",
       "      <td>0.0</td>\n",
       "      <td>0.0</td>\n",
       "    </tr>\n",
       "    <tr>\n",
       "      <th>3</th>\n",
       "      <td>Mahi-Mahi in Tomato Olive Sauce</td>\n",
       "      <td>5.000</td>\n",
       "      <td>NaN</td>\n",
       "      <td>NaN</td>\n",
       "      <td>NaN</td>\n",
       "      <td>NaN</td>\n",
       "      <td>0.0</td>\n",
       "      <td>0.0</td>\n",
       "      <td>0.0</td>\n",
       "      <td>0.0</td>\n",
       "      <td>...</td>\n",
       "      <td>0.0</td>\n",
       "      <td>0.0</td>\n",
       "      <td>0.0</td>\n",
       "      <td>0.0</td>\n",
       "      <td>0.0</td>\n",
       "      <td>0.0</td>\n",
       "      <td>0.0</td>\n",
       "      <td>0.0</td>\n",
       "      <td>0.0</td>\n",
       "      <td>0.0</td>\n",
       "    </tr>\n",
       "    <tr>\n",
       "      <th>4</th>\n",
       "      <td>Spinach Noodle Casserole</td>\n",
       "      <td>3.125</td>\n",
       "      <td>547.0</td>\n",
       "      <td>20.0</td>\n",
       "      <td>32.0</td>\n",
       "      <td>452.0</td>\n",
       "      <td>0.0</td>\n",
       "      <td>0.0</td>\n",
       "      <td>0.0</td>\n",
       "      <td>0.0</td>\n",
       "      <td>...</td>\n",
       "      <td>0.0</td>\n",
       "      <td>0.0</td>\n",
       "      <td>0.0</td>\n",
       "      <td>0.0</td>\n",
       "      <td>0.0</td>\n",
       "      <td>0.0</td>\n",
       "      <td>0.0</td>\n",
       "      <td>0.0</td>\n",
       "      <td>0.0</td>\n",
       "      <td>0.0</td>\n",
       "    </tr>\n",
       "  </tbody>\n",
       "</table>\n",
       "<p>5 rows × 680 columns</p>\n",
       "</div>"
      ],
      "text/plain": [
       "                                         title  rating  calories  protein  \\\n",
       "0              Lentil, Apple, and Turkey Wrap    2.500     426.0     30.0   \n",
       "1  Boudin Blanc Terrine with Red Onion Confit    4.375     403.0     18.0   \n",
       "2                Potato and Fennel Soup Hodge    3.750     165.0      6.0   \n",
       "3             Mahi-Mahi in Tomato Olive Sauce    5.000       NaN      NaN   \n",
       "4                    Spinach Noodle Casserole    3.125     547.0     20.0   \n",
       "\n",
       "    fat  sodium  #cakeweek  #wasteless  22-minute meals  3-ingredient recipes  \\\n",
       "0   7.0   559.0        0.0         0.0              0.0                   0.0   \n",
       "1  23.0  1439.0        0.0         0.0              0.0                   0.0   \n",
       "2   7.0   165.0        0.0         0.0              0.0                   0.0   \n",
       "3   NaN     NaN        0.0         0.0              0.0                   0.0   \n",
       "4  32.0   452.0        0.0         0.0              0.0                   0.0   \n",
       "\n",
       "    ...    yellow squash  yogurt  yonkers  yuca  zucchini  cookbooks  \\\n",
       "0   ...              0.0     0.0      0.0   0.0       0.0        0.0   \n",
       "1   ...              0.0     0.0      0.0   0.0       0.0        0.0   \n",
       "2   ...              0.0     0.0      0.0   0.0       0.0        0.0   \n",
       "3   ...              0.0     0.0      0.0   0.0       0.0        0.0   \n",
       "4   ...              0.0     0.0      0.0   0.0       0.0        0.0   \n",
       "\n",
       "   leftovers  snack  snack week  turkey  \n",
       "0        0.0    0.0         0.0     1.0  \n",
       "1        0.0    0.0         0.0     0.0  \n",
       "2        0.0    0.0         0.0     0.0  \n",
       "3        0.0    0.0         0.0     0.0  \n",
       "4        0.0    0.0         0.0     0.0  \n",
       "\n",
       "[5 rows x 680 columns]"
      ]
     },
     "execution_count": 15,
     "metadata": {},
     "output_type": "execute_result"
    }
   ],
   "source": [
    "df.head()"
   ]
  },
  {
   "cell_type": "code",
   "execution_count": 16,
   "metadata": {},
   "outputs": [],
   "source": [
    "def get_small_dict(df, keep_columns, index):\n",
    "    my_dict = df.iloc[index][keep_columns].to_dict()\n",
    "    my_dict['tags'] = [\n",
    "        key for key, value in df.iloc[index].to_dict().items() if value != 0 and key not in keep_columns]\n",
    "    my_dict['title'] = my_dict['title'].strip()\n",
    "    my_dict['tags'] = [\n",
    "        str(unicodedata.normalize('NFKD', t).encode('ascii','ignore'), encoding='ascii') for t in my_dict['tags']\n",
    "    ]\n",
    "    return my_dict"
   ]
  },
  {
   "cell_type": "code",
   "execution_count": 17,
   "metadata": {},
   "outputs": [],
   "source": [
    "keep_columns = ['title', 'rating', 'calories', 'protein', 'fat','sodium']"
   ]
  },
  {
   "cell_type": "code",
   "execution_count": 18,
   "metadata": {},
   "outputs": [],
   "source": [
    "def remove_outliers_with_tukey(df):\n",
    "    print('There were {} samples before outlier removal.'.format(len(df)))\n",
    "\n",
    "    # Remove calories outliers by the Tukey rule\n",
    "    Q3 = np.percentile(df[regr_column], 75)\n",
    "    Q1 = np.percentile(df[regr_column], 25)\n",
    "    IQR = Q3 - Q1\n",
    "\n",
    "    outliers = df[regr_column].loc[\n",
    "        (df[regr_column] < (Q1 - 1.5 * IQR)) | \n",
    "        (df[regr_column] > (Q3 + 1.5 * IQR))\n",
    "    ].index\n",
    "    \n",
    "    df = df.drop(outliers)\n",
    "    \n",
    "    print('There are now {} samples.'.format(len(cut_df)))\n",
    "\n",
    "    return df"
   ]
  },
  {
   "cell_type": "code",
   "execution_count": 20,
   "metadata": {},
   "outputs": [
    {
     "name": "stdout",
     "output_type": "stream",
     "text": [
      "There were 15935 samples before outlier removal.\n",
      "There are now 15935 samples.\n"
     ]
    }
   ],
   "source": [
    "# pick regression column\n",
    "regr_column = 'calories'\n",
    "cut_df = df[df[regr_column] == df[regr_column]]\n",
    "\n",
    "cut_df = remove_outliers_with_tukey(df=cut_df)\n",
    "\n",
    "# transform df in list of dictionaries for processing\n",
    "regr_data = []\n",
    "for i in range(len(cut_df)):\n",
    "    regr_data.append(get_small_dict(cut_df, keep_columns, i))"
   ]
  },
  {
   "cell_type": "code",
   "execution_count": 21,
   "metadata": {},
   "outputs": [],
   "source": [
    "def remove_punctuation_signs(regr_data):\n",
    "    for d in regr_data:\n",
    "        if 'tags' not in d:\n",
    "            raise ValueError('Expected to have <tags> key in each of the regression input data dictionary!')\n",
    "    corpus = ['|'.join(\n",
    "        d['tags'] + \n",
    "        [w.lower() for w in nltk.word_tokenize(d['title']) if\n",
    "             w not in '''!()-[]{};:'\"\\,<>./?@#$%^&*_~''']\n",
    "    ) for d in regr_data]\n",
    "    return corpus"
   ]
  },
  {
   "cell_type": "code",
   "execution_count": 22,
   "metadata": {},
   "outputs": [],
   "source": [
    "# make sure the data doesn't have any punctuation signs\n",
    "corpus = remove_punctuation_signs(regr_data)"
   ]
  },
  {
   "cell_type": "code",
   "execution_count": 23,
   "metadata": {},
   "outputs": [],
   "source": [
    "# pick tokenization method\n",
    "def tokenize(word_list):\n",
    "    return word_list.split('|')"
   ]
  },
  {
   "cell_type": "code",
   "execution_count": 24,
   "metadata": {},
   "outputs": [],
   "source": [
    "def get_y_labels(regr_column, regr_data):\n",
    "    return [d[regr_column] for d in regr_data]"
   ]
  },
  {
   "cell_type": "code",
   "execution_count": 25,
   "metadata": {},
   "outputs": [],
   "source": [
    "y_label = get_y_labels(regr_column, regr_data)"
   ]
  },
  {
   "cell_type": "code",
   "execution_count": 26,
   "metadata": {},
   "outputs": [],
   "source": [
    "if len(corpus) != len(y_label):\n",
    "    print('[ERROR] There is a mismatch between the size of the input data ' +\n",
    "          ' ({} elements) and the size of labels ({} elements)!'.format(len(corpus), len(y_label)))"
   ]
  },
  {
   "cell_type": "markdown",
   "metadata": {},
   "source": [
    "## Try a vanilla regression (CountVectorizer + LinearRegression from sklearn)"
   ]
  },
  {
   "cell_type": "code",
   "execution_count": 28,
   "metadata": {},
   "outputs": [
    {
     "name": "stdout",
     "output_type": "stream",
     "text": [
      "Mean squared error:  6203187741909.541\n",
      "Std:  252.29854879882052\n",
      "Mean:  373.96012064343165\n",
      "353.99687688163283 874.0\n",
      "1009143909089.2003 772.0\n",
      "646.5372827068254 591.0\n",
      "2135712259944.3208 557.0\n",
      "576.8568622331953 582.0\n",
      "829.1368304949141 811.0\n",
      "250.67473332694533 292.0\n",
      "326.827733204875 206.0\n",
      "860797942518.8972 954.0\n",
      "236.38335149100783 234.0\n"
     ]
    }
   ],
   "source": [
    "# fit vectorizer\n",
    "vectorizer = CountVectorizer(tokenizer=tokenize)\n",
    "X = vectorizer.fit_transform(corpus)\n",
    "\n",
    "# train, test data\n",
    "X_train, X_test, y_train, y_test = train_test_split(X.toarray(), y_label, test_size=0.2, random_state=42)\n",
    "\n",
    "# sklearn LinearRegression model\n",
    "regr_sklearn = LinearRegression()\n",
    "regr_sklearn.fit(X_train, y_train)\n",
    "\n",
    "# predict data\n",
    "y_pred = regr_sklearn.predict(X_test)\n",
    "\n",
    "# how far off is the result? metric = mean squared error\n",
    "y_test = np.array(y_test)\n",
    "y_pred = np.array(y_pred)\n",
    "print(\"Mean squared error: \", np.sqrt(mean_squared_error(y_true=y_test, y_pred=y_pred)))\n",
    "print(\"Std: \", np.std(y_test))\n",
    "print(\"Mean: \", np.mean(y_test))\n",
    "\n",
    "# show first k differences\n",
    "first_k = 10\n",
    "for yp, yt in zip(y_pred[:first_k], y_test[:first_k]):\n",
    "    print(yp, yt)"
   ]
  },
  {
   "cell_type": "markdown",
   "metadata": {},
   "source": [
    "## Try Word2Vec embeddings + Keras NN"
   ]
  },
  {
   "cell_type": "markdown",
   "metadata": {},
   "source": [
    "### Word2Vec embedding"
   ]
  },
  {
   "cell_type": "code",
   "execution_count": 29,
   "metadata": {},
   "outputs": [
    {
     "name": "stdout",
     "output_type": "stream",
     "text": [
      "Choose embedding size between 12.533816389433365 and 87.75334365864005\n"
     ]
    }
   ],
   "source": [
    "vocab = set()\n",
    "for word_list in corpus:\n",
    "    vocab |= set(tokenize(word_list))\n",
    "\n",
    "print(\"Choose embedding size between {} and {}\".format(np.log2(len(vocab)), np.power(len(vocab), 1/4) * 10))\n",
    "\n",
    "w2v_corpus = []\n",
    "for word_list in corpus:\n",
    "    w2v_corpus.append(tokenize(word_list))"
   ]
  },
  {
   "cell_type": "code",
   "execution_count": 30,
   "metadata": {},
   "outputs": [],
   "source": [
    "EMBEDDING_SIZE = 50"
   ]
  },
  {
   "cell_type": "code",
   "execution_count": 31,
   "metadata": {},
   "outputs": [
    {
     "name": "stdout",
     "output_type": "stream",
     "text": [
      "Embedding size is 50\n"
     ]
    }
   ],
   "source": [
    "w2v_model = Word2Vec(w2v_corpus, size=EMBEDDING_SIZE, window=5, min_count=1, workers=-1)\n",
    "\n",
    "print(\"Embedding size is {}\".format(w2v_model.wv.vector_size))"
   ]
  },
  {
   "cell_type": "code",
   "execution_count": 32,
   "metadata": {},
   "outputs": [
    {
     "name": "stdout",
     "output_type": "stream",
     "text": [
      "Sequence length should be 16.97908566832015 \n"
     ]
    }
   ],
   "source": [
    "sequence_lengths = [len(w) for w in w2v_corpus]\n",
    "\n",
    "print(\"Sequence length should be {} \".format(pd.Series(sequence_lengths).describe()['mean']))"
   ]
  },
  {
   "cell_type": "code",
   "execution_count": 33,
   "metadata": {},
   "outputs": [],
   "source": [
    "FIXED_LENGTH = 17"
   ]
  },
  {
   "cell_type": "code",
   "execution_count": 34,
   "metadata": {},
   "outputs": [],
   "source": [
    "def generate_embeddings_matrix(sample, model, fixed_length=17):\n",
    "    embedding_size = model.wv.vector_size\n",
    "    embeddings = []\n",
    "    for sen in sample:\n",
    "        for word in sen:\n",
    "            if word not in model.wv.vocab:\n",
    "                continue\n",
    "            embeddings.append(model.wv[word])\n",
    "            if len(embeddings) >= fixed_length:\n",
    "                break\n",
    "\n",
    "    embeddings = np.array(embeddings)\n",
    "\n",
    "    while len(embeddings) < fixed_length:\n",
    "        padding_length = fixed_length - len(embeddings)\n",
    "        embeddings = np.concatenate((embeddings, embeddings[:padding_length]))\n",
    "    if len(embeddings) > fixed_length:\n",
    "        embeddings = embeddings[:fixed_length]\n",
    "\n",
    "    return embeddings"
   ]
  },
  {
   "cell_type": "code",
   "execution_count": 35,
   "metadata": {},
   "outputs": [],
   "source": [
    "def generate_input_matrix(sample, fixed_length=17):\n",
    "    \n",
    "    inputs = np.array(sample)\n",
    "\n",
    "    while len(inputs) < fixed_length:\n",
    "        padding_length = fixed_length - len(inputs)\n",
    "        inputs = np.concatenate((inputs, inputs[:padding_length]))\n",
    "    if len(inputs) > fixed_length:\n",
    "        inputs = inputs[:fixed_length]\n",
    "\n",
    "    return inputs"
   ]
  },
  {
   "cell_type": "code",
   "execution_count": 36,
   "metadata": {},
   "outputs": [],
   "source": [
    "# Generate list of input data (embedding matrix) and make sure every input has FIXED_LENGTH elements\n",
    "X = []\n",
    "for sample in w2v_corpus:\n",
    "    embedded_sample = generate_embeddings_matrix(sample, w2v_model, FIXED_LENGTH)\n",
    "    if embedded_sample.shape != (FIXED_LENGTH, EMBEDDING_SIZE):\n",
    "        print(embedded_sample.shape)\n",
    "    X.append(embedded_sample)"
   ]
  },
  {
   "cell_type": "code",
   "execution_count": 37,
   "metadata": {},
   "outputs": [],
   "source": [
    "X_train, X_test, y_train, y_test = train_test_split(X, y_label, test_size=0.2, random_state=42)"
   ]
  },
  {
   "cell_type": "markdown",
   "metadata": {},
   "source": [
    "### Keras NN"
   ]
  },
  {
   "cell_type": "code",
   "execution_count": 38,
   "metadata": {},
   "outputs": [],
   "source": [
    "FIXED_LENGTH = 17\n",
    "EMBEDDING_SIZE = 50\n",
    "\n",
    "BATCH_SIZE = 16\n",
    "EPOCHS=200"
   ]
  },
  {
   "cell_type": "code",
   "execution_count": 39,
   "metadata": {},
   "outputs": [],
   "source": [
    "def baseline_model():\n",
    "    # Create model\n",
    "    input_layer = Input(shape=(FIXED_LENGTH, EMBEDDING_SIZE), name='input')\n",
    "    flat = Flatten()(input_layer)\n",
    "    z = Dense(32, activation='relu', name='fc1', kernel_initializer='normal')(flat)\n",
    "    output = Dense(1, kernel_initializer='normal')(z)\n",
    "    model = Model(inputs=[input_layer], outputs=[output])\n",
    "    # Compile model\n",
    "    model.compile(optimizer='adam', loss='mean_squared_error')\n",
    "    return model"
   ]
  },
  {
   "cell_type": "code",
   "execution_count": 51,
   "metadata": {},
   "outputs": [],
   "source": [
    "model = baseline_model()"
   ]
  },
  {
   "cell_type": "code",
   "execution_count": 52,
   "metadata": {},
   "outputs": [
    {
     "name": "stdout",
     "output_type": "stream",
     "text": [
      "_________________________________________________________________\n",
      "Layer (type)                 Output Shape              Param #   \n",
      "=================================================================\n",
      "input (InputLayer)           (None, 17, 50)            0         \n",
      "_________________________________________________________________\n",
      "flatten_3 (Flatten)          (None, 850)               0         \n",
      "_________________________________________________________________\n",
      "fc1 (Dense)                  (None, 32)                27232     \n",
      "_________________________________________________________________\n",
      "dense_3 (Dense)              (None, 1)                 33        \n",
      "=================================================================\n",
      "Total params: 27,265\n",
      "Trainable params: 27,265\n",
      "Non-trainable params: 0\n",
      "_________________________________________________________________\n"
     ]
    }
   ],
   "source": [
    "model.summary()"
   ]
  },
  {
   "cell_type": "code",
   "execution_count": 53,
   "metadata": {},
   "outputs": [],
   "source": [
    "X_train, X_test, y_train, y_test = train_test_split(X, y_label, test_size=0.2, random_state=42)"
   ]
  },
  {
   "cell_type": "code",
   "execution_count": 54,
   "metadata": {},
   "outputs": [],
   "source": [
    "X_train = np.array(X_train)\n",
    "X_test = np.array(X_test)\n",
    "y_train = np.array(y_train)\n",
    "y_test = np.array(y_test)"
   ]
  },
  {
   "cell_type": "code",
   "execution_count": 56,
   "metadata": {
    "scrolled": true
   },
   "outputs": [
    {
     "name": "stdout",
     "output_type": "stream",
     "text": [
      "Epoch 1/200\n",
      "11934/11934 [==============================] - 2s 132us/step - loss: 192319.3075\n",
      "Epoch 2/200\n",
      "11934/11934 [==============================] - 1s 103us/step - loss: 125901.1676\n",
      "Epoch 3/200\n",
      "11934/11934 [==============================] - 2s 199us/step - loss: 76282.8260\n",
      "Epoch 4/200\n",
      "11934/11934 [==============================] - 2s 130us/step - loss: 64542.7553\n",
      "Epoch 5/200\n",
      "11934/11934 [==============================] - 1s 111us/step - loss: 63597.0720\n",
      "Epoch 6/200\n",
      "11934/11934 [==============================] - 2s 175us/step - loss: 63456.6514\n",
      "Epoch 7/200\n",
      "11934/11934 [==============================] - 2s 182us/step - loss: 63321.3331\n",
      "Epoch 8/200\n",
      "11934/11934 [==============================] - 2s 159us/step - loss: 63188.6389\n",
      "Epoch 9/200\n",
      "11934/11934 [==============================] - 2s 127us/step - loss: 63072.8953\n",
      "Epoch 10/200\n",
      "11934/11934 [==============================] - 1s 120us/step - loss: 62954.9515\n",
      "Epoch 11/200\n",
      "11934/11934 [==============================] - 1s 98us/step - loss: 62846.0835\n",
      "Epoch 12/200\n",
      "11934/11934 [==============================] - 1s 94us/step - loss: 62744.9321\n",
      "Epoch 13/200\n",
      "11934/11934 [==============================] - 2s 133us/step - loss: 62655.0661\n",
      "Epoch 14/200\n",
      "11934/11934 [==============================] - 2s 164us/step - loss: 62569.5673\n",
      "Epoch 15/200\n",
      "11934/11934 [==============================] - 1s 123us/step - loss: 62469.8887\n",
      "Epoch 16/200\n",
      "11934/11934 [==============================] - 2s 152us/step - loss: 62407.5436\n",
      "Epoch 17/200\n",
      "11934/11934 [==============================] - 2s 138us/step - loss: 62326.4282\n",
      "Epoch 18/200\n",
      "11934/11934 [==============================] - 1s 120us/step - loss: 62259.9300\n",
      "Epoch 19/200\n",
      "11934/11934 [==============================] - 2s 160us/step - loss: 62186.5349\n",
      "Epoch 20/200\n",
      "11934/11934 [==============================] - 2s 139us/step - loss: 62128.0676\n",
      "Epoch 21/200\n",
      "11934/11934 [==============================] - 2s 163us/step - loss: 62065.4816\n",
      "Epoch 22/200\n",
      "11934/11934 [==============================] - 2s 130us/step - loss: 62009.1784\n",
      "Epoch 23/200\n",
      "11934/11934 [==============================] - 2s 151us/step - loss: 61951.6856\n",
      "Epoch 24/200\n",
      "11934/11934 [==============================] - 1s 124us/step - loss: 61895.6471\n",
      "Epoch 25/200\n",
      "11934/11934 [==============================] - 1s 114us/step - loss: 61851.1377\n",
      "Epoch 26/200\n",
      "11934/11934 [==============================] - 2s 131us/step - loss: 61802.9095\n",
      "Epoch 27/200\n",
      "11934/11934 [==============================] - 2s 130us/step - loss: 61754.4306\n",
      "Epoch 28/200\n",
      "11934/11934 [==============================] - 2s 138us/step - loss: 61709.9591\n",
      "Epoch 29/200\n",
      "11934/11934 [==============================] - 2s 157us/step - loss: 61665.6254\n",
      "Epoch 30/200\n",
      "11934/11934 [==============================] - 2s 141us/step - loss: 61631.6771\n",
      "Epoch 31/200\n",
      "11934/11934 [==============================] - 2s 128us/step - loss: 61592.5471\n",
      "Epoch 32/200\n",
      "11934/11934 [==============================] - 1s 118us/step - loss: 61550.3668\n",
      "Epoch 33/200\n",
      "11934/11934 [==============================] - 1s 105us/step - loss: 61519.6320\n",
      "Epoch 34/200\n",
      "11934/11934 [==============================] - 2s 127us/step - loss: 61482.3255\n",
      "Epoch 35/200\n",
      "11934/11934 [==============================] - 1s 117us/step - loss: 61459.2116\n",
      "Epoch 36/200\n",
      "11934/11934 [==============================] - 1s 118us/step - loss: 61421.6857\n",
      "Epoch 37/200\n",
      "11934/11934 [==============================] - 1s 126us/step - loss: 61391.8644\n",
      "Epoch 38/200\n",
      "11934/11934 [==============================] - 1s 120us/step - loss: 61363.1534\n",
      "Epoch 39/200\n",
      "11934/11934 [==============================] - 1s 114us/step - loss: 61334.7418\n",
      "Epoch 40/200\n",
      "11934/11934 [==============================] - 1s 112us/step - loss: 61306.9871\n",
      "Epoch 41/200\n",
      "11934/11934 [==============================] - 2s 132us/step - loss: 61279.7126\n",
      "Epoch 42/200\n",
      "11934/11934 [==============================] - 1s 109us/step - loss: 61257.7525\n",
      "Epoch 43/200\n",
      "11934/11934 [==============================] - 1s 122us/step - loss: 61233.7815\n",
      "Epoch 44/200\n",
      "11934/11934 [==============================] - 2s 181us/step - loss: 61211.5186\n",
      "Epoch 45/200\n",
      "11934/11934 [==============================] - ETA: 0s - loss: 61194.723 - 2s 133us/step - loss: 61190.9337\n",
      "Epoch 46/200\n",
      "11934/11934 [==============================] - 1s 120us/step - loss: 61168.8600\n",
      "Epoch 47/200\n",
      "11934/11934 [==============================] - 2s 129us/step - loss: 61147.2856\n",
      "Epoch 48/200\n",
      "11934/11934 [==============================] - 1s 106us/step - loss: 61129.5808\n",
      "Epoch 49/200\n",
      "11934/11934 [==============================] - 1s 121us/step - loss: 61107.9122\n",
      "Epoch 50/200\n",
      "11934/11934 [==============================] - 1s 120us/step - loss: 61086.7619\n",
      "Epoch 51/200\n",
      "11934/11934 [==============================] - 1s 94us/step - loss: 61074.9716\n",
      "Epoch 52/200\n",
      "11934/11934 [==============================] - 1s 92us/step - loss: 61058.2123\n",
      "Epoch 53/200\n",
      "11934/11934 [==============================] - 1s 97us/step - loss: 61041.5458\n",
      "Epoch 54/200\n",
      "11934/11934 [==============================] - 1s 91us/step - loss: 61025.1181\n",
      "Epoch 55/200\n",
      "11934/11934 [==============================] - 1s 95us/step - loss: 61010.6125\n",
      "Epoch 56/200\n",
      "11934/11934 [==============================] - 1s 95us/step - loss: 60998.8764\n",
      "Epoch 57/200\n",
      "11934/11934 [==============================] - 1s 96us/step - loss: 60980.4284\n",
      "Epoch 58/200\n",
      "11934/11934 [==============================] - 1s 95us/step - loss: 60973.6231\n",
      "Epoch 59/200\n",
      "11934/11934 [==============================] - 1s 98us/step - loss: 60954.8664\n",
      "Epoch 60/200\n",
      "11934/11934 [==============================] - 1s 96us/step - loss: 60948.3938\n",
      "Epoch 61/200\n",
      "11934/11934 [==============================] - 1s 90us/step - loss: 60933.2497\n",
      "Epoch 62/200\n",
      "11934/11934 [==============================] - 1s 96us/step - loss: 60925.7966\n",
      "Epoch 63/200\n",
      "11934/11934 [==============================] - 1s 102us/step - loss: 60911.3895\n",
      "Epoch 64/200\n",
      "11934/11934 [==============================] - 1s 95us/step - loss: 60905.0839\n",
      "Epoch 65/200\n",
      "11934/11934 [==============================] - 1s 97us/step - loss: 60886.0643\n",
      "Epoch 66/200\n",
      "11934/11934 [==============================] - 1s 100us/step - loss: 60881.8431\n",
      "Epoch 67/200\n",
      "11934/11934 [==============================] - 1s 94us/step - loss: 60871.5924: 0s - l\n",
      "Epoch 68/200\n",
      "11934/11934 [==============================] - 1s 96us/step - loss: 60864.5414\n",
      "Epoch 69/200\n",
      "11934/11934 [==============================] - 1s 93us/step - loss: 60851.1343\n",
      "Epoch 70/200\n",
      "11934/11934 [==============================] - 1s 96us/step - loss: 60841.0185\n",
      "Epoch 71/200\n",
      "11934/11934 [==============================] - 1s 93us/step - loss: 60835.7756\n",
      "Epoch 72/200\n",
      "11934/11934 [==============================] - 1s 94us/step - loss: 60827.1117\n",
      "Epoch 73/200\n",
      "11934/11934 [==============================] - 1s 95us/step - loss: 60818.3292\n",
      "Epoch 74/200\n",
      "11934/11934 [==============================] - 1s 98us/step - loss: 60804.2379\n",
      "Epoch 75/200\n",
      "11934/11934 [==============================] - 1s 95us/step - loss: 60804.0106\n",
      "Epoch 76/200\n",
      "11934/11934 [==============================] - 1s 94us/step - loss: 60797.6258\n",
      "Epoch 77/200\n",
      "11934/11934 [==============================] - 1s 97us/step - loss: 60789.2615\n",
      "Epoch 78/200\n",
      "11934/11934 [==============================] - 1s 92us/step - loss: 60782.2254\n",
      "Epoch 79/200\n",
      "11934/11934 [==============================] - 1s 98us/step - loss: 60777.0649\n",
      "Epoch 80/200\n",
      "11934/11934 [==============================] - 1s 99us/step - loss: 60767.5113\n",
      "Epoch 81/200\n",
      "11934/11934 [==============================] - 1s 92us/step - loss: 60766.3800\n",
      "Epoch 82/200\n",
      "11934/11934 [==============================] - 1s 104us/step - loss: 60757.9287\n",
      "Epoch 83/200\n",
      "11934/11934 [==============================] - 1s 96us/step - loss: 60756.3443\n",
      "Epoch 84/200\n",
      "11934/11934 [==============================] - 1s 96us/step - loss: 60748.5274\n",
      "Epoch 85/200\n",
      "11934/11934 [==============================] - 1s 94us/step - loss: 60739.2336\n",
      "Epoch 86/200\n",
      "11934/11934 [==============================] - 1s 90us/step - loss: 60735.9693\n",
      "Epoch 87/200\n",
      "11934/11934 [==============================] - 1s 93us/step - loss: 60731.4044\n",
      "Epoch 88/200\n",
      "11934/11934 [==============================] - 1s 95us/step - loss: 60725.8094\n",
      "Epoch 89/200\n",
      "11934/11934 [==============================] - 1s 94us/step - loss: 60723.5888\n",
      "Epoch 90/200\n",
      "11934/11934 [==============================] - 1s 94us/step - loss: 60722.6489\n",
      "Epoch 91/200\n",
      "11934/11934 [==============================] - 1s 92us/step - loss: 60714.5535\n",
      "Epoch 92/200\n",
      "11934/11934 [==============================] - 1s 92us/step - loss: 60703.9699\n",
      "Epoch 93/200\n",
      "11934/11934 [==============================] - 1s 95us/step - loss: 60706.6568\n",
      "Epoch 94/200\n",
      "11934/11934 [==============================] - 1s 93us/step - loss: 60699.8599\n",
      "Epoch 95/200\n",
      "11934/11934 [==============================] - 1s 100us/step - loss: 60698.7381\n",
      "Epoch 96/200\n",
      "11934/11934 [==============================] - 1s 97us/step - loss: 60695.6885\n",
      "Epoch 97/200\n",
      "11934/11934 [==============================] - 1s 91us/step - loss: 60688.9502\n",
      "Epoch 98/200\n",
      "11934/11934 [==============================] - 1s 105us/step - loss: 60682.6726\n",
      "Epoch 99/200\n",
      "11934/11934 [==============================] - 1s 96us/step - loss: 60683.4654\n",
      "Epoch 100/200\n",
      "11934/11934 [==============================] - 1s 97us/step - loss: 60681.1479\n",
      "Epoch 101/200\n",
      "11934/11934 [==============================] - 1s 92us/step - loss: 60677.5970\n",
      "Epoch 102/200\n",
      "11934/11934 [==============================] - 1s 95us/step - loss: 60676.5368\n",
      "Epoch 103/200\n",
      "11934/11934 [==============================] - 1s 93us/step - loss: 60674.4186\n",
      "Epoch 104/200\n",
      "11934/11934 [==============================] - 1s 92us/step - loss: 60668.0906\n",
      "Epoch 105/200\n",
      "11934/11934 [==============================] - 1s 93us/step - loss: 60663.0688\n",
      "Epoch 106/200\n",
      "11934/11934 [==============================] - 1s 95us/step - loss: 60665.8915\n",
      "Epoch 107/200\n",
      "11934/11934 [==============================] - 1s 93us/step - loss: 60659.5342\n",
      "Epoch 108/200\n",
      "11934/11934 [==============================] - 1s 91us/step - loss: 60658.0604\n",
      "Epoch 109/200\n",
      "11934/11934 [==============================] - 1s 92us/step - loss: 60656.8208\n",
      "Epoch 110/200\n",
      "11934/11934 [==============================] - 1s 93us/step - loss: 60649.8504\n",
      "Epoch 111/200\n",
      "11934/11934 [==============================] - 1s 93us/step - loss: 60636.3210\n",
      "Epoch 112/200\n",
      "11934/11934 [==============================] - 1s 98us/step - loss: 60641.7828\n",
      "Epoch 113/200\n",
      "11934/11934 [==============================] - 1s 93us/step - loss: 60646.1097\n",
      "Epoch 114/200\n",
      "11934/11934 [==============================] - 1s 92us/step - loss: 60639.0121\n",
      "Epoch 115/200\n",
      "11934/11934 [==============================] - 1s 92us/step - loss: 60644.9872\n",
      "Epoch 116/200\n",
      "11934/11934 [==============================] - 1s 99us/step - loss: 60640.4197\n",
      "Epoch 117/200\n",
      "11934/11934 [==============================] - 1s 94us/step - loss: 60636.7355\n",
      "Epoch 118/200\n",
      "11934/11934 [==============================] - 1s 95us/step - loss: 60634.2115\n",
      "Epoch 119/200\n",
      "11934/11934 [==============================] - 1s 96us/step - loss: 60632.5984\n",
      "Epoch 120/200\n",
      "11934/11934 [==============================] - 1s 91us/step - loss: 60632.3423\n",
      "Epoch 121/200\n",
      "11934/11934 [==============================] - 1s 98us/step - loss: 60629.3750\n",
      "Epoch 122/200\n",
      "11934/11934 [==============================] - 1s 101us/step - loss: 60623.9602\n",
      "Epoch 123/200\n",
      "11934/11934 [==============================] - 1s 94us/step - loss: 60624.8351\n",
      "Epoch 124/200\n",
      "11934/11934 [==============================] - 1s 95us/step - loss: 60621.4576\n",
      "Epoch 125/200\n",
      "11934/11934 [==============================] - 1s 93us/step - loss: 60620.4604\n",
      "Epoch 126/200\n",
      "11934/11934 [==============================] - 1s 96us/step - loss: 60619.8224\n",
      "Epoch 127/200\n",
      "11934/11934 [==============================] - 1s 95us/step - loss: 60616.8285\n",
      "Epoch 128/200\n",
      "11934/11934 [==============================] - 1s 94us/step - loss: 60620.2070\n",
      "Epoch 129/200\n",
      "11934/11934 [==============================] - 2s 164us/step - loss: 60623.4342\n",
      "Epoch 130/200\n",
      "11934/11934 [==============================] - 2s 193us/step - loss: 60608.1305\n",
      "Epoch 131/200\n",
      "11934/11934 [==============================] - 2s 162us/step - loss: 60614.3144\n",
      "Epoch 132/200\n",
      "11934/11934 [==============================] - 1s 112us/step - loss: 60607.4408\n",
      "Epoch 133/200\n",
      "11934/11934 [==============================] - 1s 104us/step - loss: 60610.7570\n",
      "Epoch 134/200\n",
      "11934/11934 [==============================] - 1s 116us/step - loss: 60608.3740\n",
      "Epoch 135/200\n",
      "11934/11934 [==============================] - 1s 105us/step - loss: 60609.5619\n",
      "Epoch 136/200\n",
      "11934/11934 [==============================] - 1s 105us/step - loss: 60607.9825\n",
      "Epoch 137/200\n",
      "11934/11934 [==============================] - 1s 102us/step - loss: 60605.6880\n",
      "Epoch 138/200\n",
      "11934/11934 [==============================] - 1s 97us/step - loss: 60600.4641\n",
      "Epoch 139/200\n",
      "11934/11934 [==============================] - 1s 103us/step - loss: 60589.4270\n",
      "Epoch 140/200\n",
      "11934/11934 [==============================] - 1s 99us/step - loss: 60604.6949\n",
      "Epoch 141/200\n",
      "11934/11934 [==============================] - 1s 110us/step - loss: 60599.8891\n",
      "Epoch 142/200\n",
      "11934/11934 [==============================] - 1s 107us/step - loss: 60597.1491\n",
      "Epoch 143/200\n",
      "11934/11934 [==============================] - 1s 103us/step - loss: 60598.2891\n",
      "Epoch 144/200\n",
      "11934/11934 [==============================] - 1s 106us/step - loss: 60598.1575\n",
      "Epoch 145/200\n",
      "11934/11934 [==============================] - 1s 103us/step - loss: 60595.0596\n",
      "Epoch 146/200\n",
      "11934/11934 [==============================] - 1s 109us/step - loss: 60595.9301\n",
      "Epoch 147/200\n",
      "11934/11934 [==============================] - 1s 100us/step - loss: 60595.7140\n",
      "Epoch 148/200\n",
      "11934/11934 [==============================] - 1s 106us/step - loss: 60596.9397\n",
      "Epoch 149/200\n",
      "11934/11934 [==============================] - 2s 130us/step - loss: 60588.7943\n",
      "Epoch 150/200\n",
      "11934/11934 [==============================] - 1s 123us/step - loss: 60590.3584\n",
      "Epoch 151/200\n",
      "11934/11934 [==============================] - 1s 123us/step - loss: 60588.4240\n",
      "Epoch 152/200\n",
      "11934/11934 [==============================] - 1s 121us/step - loss: 60591.6444\n",
      "Epoch 153/200\n",
      "11934/11934 [==============================] - 1s 109us/step - loss: 60588.6977\n",
      "Epoch 154/200\n",
      "11934/11934 [==============================] - 1s 108us/step - loss: 60583.0015\n",
      "Epoch 155/200\n",
      "11934/11934 [==============================] - 1s 99us/step - loss: 60583.9397\n",
      "Epoch 156/200\n",
      "11934/11934 [==============================] - 1s 104us/step - loss: 60585.6472\n",
      "Epoch 157/200\n",
      "11934/11934 [==============================] - 1s 106us/step - loss: 60580.2957\n",
      "Epoch 158/200\n",
      "11934/11934 [==============================] - 1s 112us/step - loss: 60583.6099\n",
      "Epoch 159/200\n",
      "11934/11934 [==============================] - 1s 117us/step - loss: 60583.2604\n",
      "Epoch 160/200\n",
      "11934/11934 [==============================] - 1s 116us/step - loss: 60583.0045\n",
      "Epoch 161/200\n",
      "11934/11934 [==============================] - 2s 152us/step - loss: 60585.8852\n",
      "Epoch 162/200\n",
      "11934/11934 [==============================] - 1s 116us/step - loss: 60581.2947\n",
      "Epoch 163/200\n",
      "11934/11934 [==============================] - 1s 108us/step - loss: 60581.2362\n",
      "Epoch 164/200\n",
      "11934/11934 [==============================] - 1s 112us/step - loss: 60582.3427\n",
      "Epoch 165/200\n",
      "11934/11934 [==============================] - 2s 136us/step - loss: 60585.4050\n",
      "Epoch 166/200\n",
      "11934/11934 [==============================] - 2s 137us/step - loss: 60584.1631\n",
      "Epoch 167/200\n",
      "11934/11934 [==============================] - 1s 117us/step - loss: 60573.8740\n",
      "Epoch 168/200\n",
      "11934/11934 [==============================] - 1s 100us/step - loss: 60575.4875\n",
      "Epoch 169/200\n",
      "11934/11934 [==============================] - 1s 100us/step - loss: 60574.9271\n",
      "Epoch 170/200\n",
      "11934/11934 [==============================] - 1s 99us/step - loss: 60573.9748\n",
      "Epoch 171/200\n",
      "11934/11934 [==============================] - 1s 101us/step - loss: 60572.4928\n",
      "Epoch 172/200\n",
      "11934/11934 [==============================] - 1s 98us/step - loss: 60574.3315: 0s - loss: \n",
      "Epoch 173/200\n",
      "11934/11934 [==============================] - 1s 101us/step - loss: 60568.2767\n",
      "Epoch 174/200\n",
      "11934/11934 [==============================] - 1s 117us/step - loss: 60577.5905\n",
      "Epoch 175/200\n",
      "11934/11934 [==============================] - 1s 114us/step - loss: 60572.8855\n",
      "Epoch 176/200\n"
     ]
    },
    {
     "name": "stdout",
     "output_type": "stream",
     "text": [
      "11934/11934 [==============================] - 1s 106us/step - loss: 60567.2488\n",
      "Epoch 177/200\n",
      "11934/11934 [==============================] - 1s 112us/step - loss: 60571.8355\n",
      "Epoch 178/200\n",
      "11934/11934 [==============================] - 1s 115us/step - loss: 60570.3026\n",
      "Epoch 179/200\n",
      "11934/11934 [==============================] - 1s 106us/step - loss: 60565.1278\n",
      "Epoch 180/200\n",
      "11934/11934 [==============================] - 1s 94us/step - loss: 60570.3762\n",
      "Epoch 181/200\n",
      "11934/11934 [==============================] - 1s 88us/step - loss: 60563.2447\n",
      "Epoch 182/200\n",
      "11934/11934 [==============================] - 1s 89us/step - loss: 60568.6183\n",
      "Epoch 183/200\n",
      "11934/11934 [==============================] - 1s 88us/step - loss: 60566.1892\n",
      "Epoch 184/200\n",
      "11934/11934 [==============================] - 1s 96us/step - loss: 60570.3501\n",
      "Epoch 185/200\n",
      "11934/11934 [==============================] - 1s 91us/step - loss: 60561.8525\n",
      "Epoch 186/200\n",
      "11934/11934 [==============================] - 1s 92us/step - loss: 60566.1507\n",
      "Epoch 187/200\n",
      "11934/11934 [==============================] - 1s 90us/step - loss: 60566.8418\n",
      "Epoch 188/200\n",
      "11934/11934 [==============================] - 1s 89us/step - loss: 60562.9598\n",
      "Epoch 189/200\n",
      "11934/11934 [==============================] - 1s 90us/step - loss: 60567.7459\n",
      "Epoch 190/200\n",
      "11934/11934 [==============================] - 1s 100us/step - loss: 60560.1902\n",
      "Epoch 191/200\n",
      "11934/11934 [==============================] - 1s 94us/step - loss: 60559.8308\n",
      "Epoch 192/200\n",
      "11934/11934 [==============================] - 1s 98us/step - loss: 60563.3312\n",
      "Epoch 193/200\n",
      "11934/11934 [==============================] - 1s 91us/step - loss: 60562.0434\n",
      "Epoch 194/200\n",
      "11934/11934 [==============================] - 1s 91us/step - loss: 60563.8650\n",
      "Epoch 195/200\n",
      "11934/11934 [==============================] - 1s 98us/step - loss: 60555.2678\n",
      "Epoch 196/200\n",
      "11934/11934 [==============================] - 1s 105us/step - loss: 60562.3738\n",
      "Epoch 197/200\n",
      "11934/11934 [==============================] - 1s 95us/step - loss: 60557.8528\n",
      "Epoch 198/200\n",
      "11934/11934 [==============================] - 1s 92us/step - loss: 60556.2243\n",
      "Epoch 199/200\n",
      "11934/11934 [==============================] - 1s 93us/step - loss: 60562.3179\n",
      "Epoch 200/200\n",
      "11934/11934 [==============================] - 1s 94us/step - loss: 60558.1757\n"
     ]
    },
    {
     "data": {
      "text/plain": [
       "<keras.callbacks.History at 0x7f4ecbf986d8>"
      ]
     },
     "execution_count": 56,
     "metadata": {},
     "output_type": "execute_result"
    }
   ],
   "source": [
    "model.fit(X_train, y_train, epochs=EPOCHS, batch_size=BATCH_SIZE)"
   ]
  },
  {
   "cell_type": "code",
   "execution_count": 57,
   "metadata": {},
   "outputs": [
    {
     "name": "stdout",
     "output_type": "stream",
     "text": [
      "Mean squared error:  244.29129826663606\n",
      "Std:  252.29854879882052\n",
      "Mean:  373.96012064343165\n",
      "Showing the first 10 differences between predicted and real.\n",
      "445.996 874.0\n",
      "430.00912 772.0\n",
      "443.12375 591.0\n",
      "297.7003 557.0\n",
      "408.67172 582.0\n",
      "519.3679 811.0\n",
      "354.80054 292.0\n",
      "400.2593 206.0\n",
      "365.0933 954.0\n",
      "382.17685 234.0\n"
     ]
    }
   ],
   "source": [
    "y_pred = model.predict(X_test)\n",
    "\n",
    "y_pred = y_pred.flatten()\n",
    "\n",
    "# how far off is the result? metric = mean squared error\n",
    "y_test = np.array(y_test)\n",
    "y_pred = np.array(y_pred)\n",
    "print(\"Mean squared error: \", np.sqrt(mean_squared_error(y_true=y_test, y_pred=y_pred)))\n",
    "print(\"Std: \", np.std(y_test))\n",
    "print(\"Mean: \", np.mean(y_test))\n",
    "\n",
    "# show first k differences\n",
    "first_k = 10\n",
    "print(\"Showing the first {} differences between predicted and real.\".format(first_k))\n",
    "for yp, yt in zip(y_pred[:first_k], y_test[:first_k]):\n",
    "    print(yp, yt)"
   ]
  },
  {
   "cell_type": "markdown",
   "metadata": {},
   "source": [
    "## Keras embedding + NN"
   ]
  },
  {
   "cell_type": "markdown",
   "metadata": {},
   "source": [
    "### Generate input data "
   ]
  },
  {
   "cell_type": "code",
   "execution_count": 58,
   "metadata": {},
   "outputs": [],
   "source": [
    "X = []\n",
    "for sample in w2v_corpus:\n",
    "    input_sample = generate_input_matrix(sample, FIXED_LENGTH)\n",
    "    if input_sample.shape != (FIXED_LENGTH,):\n",
    "        print(input_sample.shape)\n",
    "    X.append(input_sample)"
   ]
  },
  {
   "cell_type": "markdown",
   "metadata": {},
   "source": [
    "### Encode the words"
   ]
  },
  {
   "cell_type": "code",
   "execution_count": 59,
   "metadata": {},
   "outputs": [
    {
     "data": {
      "text/plain": [
       "LabelEncoder()"
      ]
     },
     "execution_count": 59,
     "metadata": {},
     "output_type": "execute_result"
    }
   ],
   "source": [
    "encoder = LabelEncoder()\n",
    "encoder.fit(np.array(X).flatten())"
   ]
  },
  {
   "cell_type": "code",
   "execution_count": 60,
   "metadata": {},
   "outputs": [],
   "source": [
    "X_encoded = []\n",
    "for sentence in X:\n",
    "    encoded = encoder.transform(sentence)\n",
    "    X_encoded.append(encoded)"
   ]
  },
  {
   "cell_type": "markdown",
   "metadata": {},
   "source": [
    "### Split X in train and test"
   ]
  },
  {
   "cell_type": "code",
   "execution_count": 61,
   "metadata": {},
   "outputs": [],
   "source": [
    "X_train, X_test, y_train, y_test = train_test_split(X_encoded, y_label, test_size=0.2, random_state=42)"
   ]
  },
  {
   "cell_type": "code",
   "execution_count": 62,
   "metadata": {},
   "outputs": [
    {
     "data": {
      "text/plain": [
       "(17,)"
      ]
     },
     "execution_count": 62,
     "metadata": {},
     "output_type": "execute_result"
    }
   ],
   "source": [
    "INPUT_SHAPE = (FIXED_LENGTH, )\n",
    "INPUT_SHAPE"
   ]
  },
  {
   "cell_type": "markdown",
   "metadata": {},
   "source": [
    "### Define the Keras embedded model "
   ]
  },
  {
   "cell_type": "code",
   "execution_count": 63,
   "metadata": {},
   "outputs": [],
   "source": [
    "def keras_embedding_model(encoder):\n",
    "    # Create model\n",
    "    input_layer = Input(shape=(FIXED_LENGTH,), name='input')\n",
    "    embedded_text = Embedding(input_dim=len(encoder.classes_),\n",
    "                              output_dim=EMBEDDING_SIZE,\n",
    "                              name='text_embedding')(input_layer)\n",
    "    embedded_text = Flatten()(embedded_text)\n",
    "    z = BatchNormalization()(embedded_text)\n",
    "    z = Dense(32, activation='relu', name='fc1', kernel_initializer='normal')(z)\n",
    "    z = BatchNormalization()(z)\n",
    "    z = Dropout(0.7)(z)\n",
    "    z = ReLU()(z)\n",
    "    output = Dense(1, kernel_initializer='normal', activation='linear')(z)\n",
    "    model = Model(inputs=[input_layer], outputs=[output])\n",
    "\n",
    "    # Compile model\n",
    "    model.compile(optimizer=Adam(lr=0.01), loss='mean_squared_error')\n",
    "\n",
    "    return model"
   ]
  },
  {
   "cell_type": "code",
   "execution_count": 64,
   "metadata": {},
   "outputs": [],
   "source": [
    "keras_embedded_model = keras_embedding_model(encoder=encoder)"
   ]
  },
  {
   "cell_type": "code",
   "execution_count": 65,
   "metadata": {},
   "outputs": [
    {
     "name": "stdout",
     "output_type": "stream",
     "text": [
      "_________________________________________________________________\n",
      "Layer (type)                 Output Shape              Param #   \n",
      "=================================================================\n",
      "input (InputLayer)           (None, 17)                0         \n",
      "_________________________________________________________________\n",
      "text_embedding (Embedding)   (None, 17, 50)            244400    \n",
      "_________________________________________________________________\n",
      "flatten_4 (Flatten)          (None, 850)               0         \n",
      "_________________________________________________________________\n",
      "batch_normalization_1 (Batch (None, 850)               3400      \n",
      "_________________________________________________________________\n",
      "fc1 (Dense)                  (None, 32)                27232     \n",
      "_________________________________________________________________\n",
      "batch_normalization_2 (Batch (None, 32)                128       \n",
      "_________________________________________________________________\n",
      "dropout_1 (Dropout)          (None, 32)                0         \n",
      "_________________________________________________________________\n",
      "re_lu_1 (ReLU)               (None, 32)                0         \n",
      "_________________________________________________________________\n",
      "dense_4 (Dense)              (None, 1)                 33        \n",
      "=================================================================\n",
      "Total params: 275,193\n",
      "Trainable params: 273,429\n",
      "Non-trainable params: 1,764\n",
      "_________________________________________________________________\n"
     ]
    }
   ],
   "source": [
    "keras_embedded_model.summary()"
   ]
  },
  {
   "cell_type": "code",
   "execution_count": 66,
   "metadata": {},
   "outputs": [],
   "source": [
    "def schedule(epoch, lr):\n",
    "    if epoch in [500]:\n",
    "        return lr / 3.0\n",
    "    return lr\n",
    "scheduler = LearningRateScheduler(schedule=schedule)"
   ]
  },
  {
   "cell_type": "code",
   "execution_count": 67,
   "metadata": {},
   "outputs": [],
   "source": [
    "y_series = pd.Series(y_label)\n",
    "std_y, mean_y = y_series.describe()['std'], y_series.describe()['mean']\n",
    "\n",
    "def rmse(y_true, y_pred):\n",
    "    y_true = y_true * std_y + mean_y\n",
    "    y_pred = y_pred * std_y + mean_y\n",
    "    return K.sqrt(K.mean(K.square(y_true - y_pred), axis=0))"
   ]
  },
  {
   "cell_type": "code",
   "execution_count": 68,
   "metadata": {},
   "outputs": [],
   "source": [
    "X_train = np.array(X_train)\n",
    "X_test = np.array(X_test)\n",
    "y_train = np.array(y_train)\n",
    "y_test = np.array(y_test)"
   ]
  },
  {
   "cell_type": "code",
   "execution_count": 69,
   "metadata": {},
   "outputs": [
    {
     "data": {
      "text/plain": [
       "((11934, 17), (11934,))"
      ]
     },
     "execution_count": 69,
     "metadata": {},
     "output_type": "execute_result"
    }
   ],
   "source": [
    "X_train.shape, y_train.shape"
   ]
  },
  {
   "cell_type": "code",
   "execution_count": 70,
   "metadata": {
    "scrolled": true
   },
   "outputs": [
    {
     "name": "stdout",
     "output_type": "stream",
     "text": [
      "Epoch 1/200\n",
      "11934/11934 [==============================] - 6s 502us/step - loss: 87702.8035\n"
     ]
    },
    {
     "name": "stderr",
     "output_type": "stream",
     "text": [
      "/home/skadi/.local/lib/python3.5/site-packages/keras/callbacks.py:569: RuntimeWarning: Early stopping conditioned on metric `rmse` which is not available. Available metrics are: loss,lr\n",
      "  (self.monitor, ','.join(list(logs.keys()))), RuntimeWarning\n"
     ]
    },
    {
     "name": "stdout",
     "output_type": "stream",
     "text": [
      "Epoch 2/200\n",
      "11934/11934 [==============================] - 5s 409us/step - loss: 47386.0866\n",
      "Epoch 3/200\n",
      "11934/11934 [==============================] - 5s 403us/step - loss: 41887.5519\n",
      "Epoch 4/200\n",
      "11934/11934 [==============================] - 5s 423us/step - loss: 38785.5362\n",
      "Epoch 5/200\n",
      "11934/11934 [==============================] - 5s 427us/step - loss: 35579.1073\n",
      "Epoch 6/200\n",
      "11934/11934 [==============================] - 5s 448us/step - loss: 34168.8629\n",
      "Epoch 7/200\n",
      "11934/11934 [==============================] - 6s 490us/step - loss: 33300.6577\n",
      "Epoch 8/200\n",
      "11934/11934 [==============================] - 6s 480us/step - loss: 32622.6644\n",
      "Epoch 9/200\n",
      "11934/11934 [==============================] - 6s 513us/step - loss: 31754.9607\n",
      "Epoch 10/200\n",
      "11934/11934 [==============================] - 5s 450us/step - loss: 31051.5011\n",
      "Epoch 11/200\n",
      "11934/11934 [==============================] - 5s 443us/step - loss: 31434.4163\n",
      "Epoch 12/200\n",
      "11934/11934 [==============================] - 6s 476us/step - loss: 30432.3059\n",
      "Epoch 13/200\n",
      "11934/11934 [==============================] - 6s 508us/step - loss: 29721.7209\n",
      "Epoch 14/200\n",
      "11934/11934 [==============================] - 6s 488us/step - loss: 29700.4340\n",
      "Epoch 15/200\n",
      "11934/11934 [==============================] - 6s 493us/step - loss: 28416.2659\n",
      "Epoch 16/200\n",
      "11934/11934 [==============================] - 6s 492us/step - loss: 28757.6297\n",
      "Epoch 17/200\n",
      "11934/11934 [==============================] - 6s 489us/step - loss: 28883.1549\n",
      "Epoch 18/200\n",
      "11934/11934 [==============================] - 5s 433us/step - loss: 28384.4425\n",
      "Epoch 19/200\n",
      "11934/11934 [==============================] - 6s 519us/step - loss: 27921.2339\n",
      "Epoch 20/200\n",
      "11934/11934 [==============================] - 5s 451us/step - loss: 27902.3685\n",
      "Epoch 21/200\n",
      "11934/11934 [==============================] - 5s 455us/step - loss: 27209.1136\n",
      "Epoch 22/200\n",
      "11934/11934 [==============================] - 5s 428us/step - loss: 27276.2027\n",
      "Epoch 23/200\n",
      "11934/11934 [==============================] - 6s 480us/step - loss: 27316.6893\n",
      "Epoch 24/200\n",
      "11934/11934 [==============================] - 5s 435us/step - loss: 26486.3619\n",
      "Epoch 25/200\n",
      "11934/11934 [==============================] - 6s 517us/step - loss: 25812.5425\n",
      "Epoch 26/200\n",
      "11934/11934 [==============================] - 6s 525us/step - loss: 26484.8358\n",
      "Epoch 27/200\n",
      "11934/11934 [==============================] - 5s 451us/step - loss: 25643.6340\n",
      "Epoch 28/200\n",
      "11934/11934 [==============================] - 6s 499us/step - loss: 24843.9131\n",
      "Epoch 29/200\n",
      "11934/11934 [==============================] - 6s 503us/step - loss: 25478.0160\n",
      "Epoch 30/200\n",
      "11934/11934 [==============================] - 6s 500us/step - loss: 25935.0861\n",
      "Epoch 31/200\n",
      "11934/11934 [==============================] - 6s 476us/step - loss: 24873.8033\n",
      "Epoch 32/200\n",
      "11934/11934 [==============================] - 6s 488us/step - loss: 24679.1082\n",
      "Epoch 33/200\n",
      "11934/11934 [==============================] - 5s 441us/step - loss: 24406.9745\n",
      "Epoch 34/200\n",
      "11934/11934 [==============================] - 5s 432us/step - loss: 24580.7566\n",
      "Epoch 35/200\n",
      "11934/11934 [==============================] - 7s 597us/step - loss: 24381.1452\n",
      "Epoch 36/200\n",
      "11934/11934 [==============================] - 6s 506us/step - loss: 24379.9174\n",
      "Epoch 37/200\n",
      "11934/11934 [==============================] - 6s 468us/step - loss: 23748.2536\n",
      "Epoch 38/200\n",
      "11934/11934 [==============================] - 7s 556us/step - loss: 23895.2871\n",
      "Epoch 39/200\n",
      "11934/11934 [==============================] - 5s 460us/step - loss: 22405.7984\n",
      "Epoch 40/200\n",
      "11934/11934 [==============================] - 5s 429us/step - loss: 23911.7295\n",
      "Epoch 41/200\n",
      "11934/11934 [==============================] - 5s 433us/step - loss: 23489.8005\n",
      "Epoch 42/200\n",
      "11934/11934 [==============================] - 5s 430us/step - loss: 23155.5048\n",
      "Epoch 43/200\n",
      "11934/11934 [==============================] - 5s 434us/step - loss: 22871.9369\n",
      "Epoch 44/200\n",
      "11934/11934 [==============================] - 5s 429us/step - loss: 23775.2523\n",
      "Epoch 45/200\n",
      "11934/11934 [==============================] - 5s 427us/step - loss: 23346.0125\n",
      "Epoch 46/200\n",
      "11934/11934 [==============================] - 6s 473us/step - loss: 22955.2542\n",
      "Epoch 47/200\n",
      "11934/11934 [==============================] - 5s 449us/step - loss: 22651.3159\n",
      "Epoch 48/200\n",
      "11934/11934 [==============================] - 5s 429us/step - loss: 22066.3595\n",
      "Epoch 49/200\n",
      "11934/11934 [==============================] - 5s 428us/step - loss: 22745.3005\n",
      "Epoch 50/200\n",
      "11934/11934 [==============================] - 5s 432us/step - loss: 22128.7986\n",
      "Epoch 51/200\n",
      "11934/11934 [==============================] - 5s 420us/step - loss: 21630.3628\n",
      "Epoch 52/200\n",
      "11934/11934 [==============================] - 5s 434us/step - loss: 21942.0482\n",
      "Epoch 53/200\n",
      "11934/11934 [==============================] - 6s 463us/step - loss: 21977.9319\n",
      "Epoch 54/200\n",
      "11934/11934 [==============================] - 6s 499us/step - loss: 22132.9172\n",
      "Epoch 55/200\n",
      "11934/11934 [==============================] - 5s 445us/step - loss: 21714.4572\n",
      "Epoch 56/200\n",
      "11934/11934 [==============================] - 5s 428us/step - loss: 22238.1511\n",
      "Epoch 57/200\n",
      "11934/11934 [==============================] - 5s 439us/step - loss: 20706.5864\n",
      "Epoch 58/200\n",
      "11934/11934 [==============================] - 5s 430us/step - loss: 20734.9715\n",
      "Epoch 59/200\n",
      "11934/11934 [==============================] - 6s 481us/step - loss: 21409.6998\n",
      "Epoch 60/200\n",
      "11934/11934 [==============================] - 6s 513us/step - loss: 21086.9040\n",
      "Epoch 61/200\n",
      "11934/11934 [==============================] - 5s 402us/step - loss: 20786.1085\n",
      "Epoch 62/200\n",
      "11934/11934 [==============================] - 5s 388us/step - loss: 21344.6637\n",
      "Epoch 63/200\n",
      "11934/11934 [==============================] - 5s 417us/step - loss: 21359.6692\n",
      "Epoch 64/200\n",
      "11934/11934 [==============================] - 4s 364us/step - loss: 21110.4301\n",
      "Epoch 65/200\n",
      "11934/11934 [==============================] - 5s 387us/step - loss: 20843.6465\n",
      "Epoch 66/200\n",
      "11934/11934 [==============================] - 5s 412us/step - loss: 20706.5019\n",
      "Epoch 67/200\n",
      "11934/11934 [==============================] - 7s 549us/step - loss: 20400.4060\n",
      "Epoch 68/200\n",
      "11934/11934 [==============================] - 6s 530us/step - loss: 20369.3438\n",
      "Epoch 69/200\n",
      "11934/11934 [==============================] - 5s 428us/step - loss: 20056.1590\n",
      "Epoch 70/200\n",
      "11934/11934 [==============================] - 5s 435us/step - loss: 20558.2560\n",
      "Epoch 71/200\n",
      "11934/11934 [==============================] - 5s 440us/step - loss: 20340.7620\n",
      "Epoch 72/200\n",
      "11934/11934 [==============================] - 5s 442us/step - loss: 20145.4549\n",
      "Epoch 73/200\n",
      "11934/11934 [==============================] - 5s 439us/step - loss: 20081.5555\n",
      "Epoch 74/200\n",
      "11934/11934 [==============================] - 5s 430us/step - loss: 19893.8032\n",
      "Epoch 75/200\n",
      "11934/11934 [==============================] - 5s 433us/step - loss: 20324.1490\n",
      "Epoch 76/200\n",
      "11934/11934 [==============================] - 5s 440us/step - loss: 19786.6813\n",
      "Epoch 77/200\n",
      "11934/11934 [==============================] - 5s 440us/step - loss: 19780.5225\n",
      "Epoch 78/200\n",
      "11934/11934 [==============================] - 5s 442us/step - loss: 20192.6951\n",
      "Epoch 79/200\n",
      "11934/11934 [==============================] - 5s 433us/step - loss: 19779.5050\n",
      "Epoch 80/200\n",
      "11934/11934 [==============================] - 5s 452us/step - loss: 19345.1416\n",
      "Epoch 81/200\n",
      "11934/11934 [==============================] - 6s 486us/step - loss: 19661.7925\n",
      "Epoch 82/200\n",
      "11934/11934 [==============================] - 5s 452us/step - loss: 19373.7469\n",
      "Epoch 83/200\n",
      "11934/11934 [==============================] - 5s 461us/step - loss: 19436.4546\n",
      "Epoch 84/200\n",
      "11934/11934 [==============================] - 6s 531us/step - loss: 19863.4175\n",
      "Epoch 85/200\n",
      "11934/11934 [==============================] - 5s 435us/step - loss: 19051.1828\n",
      "Epoch 86/200\n",
      "11934/11934 [==============================] - 5s 434us/step - loss: 18743.1669\n",
      "Epoch 87/200\n",
      "11934/11934 [==============================] - 5s 456us/step - loss: 18926.8138\n",
      "Epoch 88/200\n",
      "11934/11934 [==============================] - 5s 452us/step - loss: 19400.0487\n",
      "Epoch 89/200\n",
      "11934/11934 [==============================] - 6s 532us/step - loss: 19354.1666\n",
      "Epoch 90/200\n",
      "11934/11934 [==============================] - 6s 472us/step - loss: 19034.5561\n",
      "Epoch 91/200\n",
      "11934/11934 [==============================] - 5s 454us/step - loss: 18976.3526\n",
      "Epoch 92/200\n",
      "11934/11934 [==============================] - 5s 428us/step - loss: 19122.1862\n",
      "Epoch 93/200\n",
      "11934/11934 [==============================] - 5s 423us/step - loss: 18528.8697\n",
      "Epoch 94/200\n",
      "11934/11934 [==============================] - 5s 429us/step - loss: 18721.8873\n",
      "Epoch 95/200\n",
      "11934/11934 [==============================] - 5s 424us/step - loss: 18701.7757\n",
      "Epoch 96/200\n",
      "11934/11934 [==============================] - 5s 411us/step - loss: 18417.8963\n",
      "Epoch 97/200\n",
      "11934/11934 [==============================] - 5s 412us/step - loss: 19163.1592\n",
      "Epoch 98/200\n",
      "11934/11934 [==============================] - 5s 420us/step - loss: 19251.1204\n",
      "Epoch 99/200\n",
      "11934/11934 [==============================] - 5s 434us/step - loss: 18853.5467\n",
      "Epoch 100/200\n",
      "11934/11934 [==============================] - 5s 415us/step - loss: 18505.4601\n",
      "Epoch 101/200\n",
      "11934/11934 [==============================] - 5s 407us/step - loss: 18925.7439\n",
      "Epoch 102/200\n",
      "11934/11934 [==============================] - 5s 424us/step - loss: 18331.3228\n",
      "Epoch 103/200\n",
      "11934/11934 [==============================] - 5s 424us/step - loss: 18613.9919\n",
      "Epoch 104/200\n",
      "11934/11934 [==============================] - 6s 490us/step - loss: 18486.4977\n",
      "Epoch 105/200\n",
      "11934/11934 [==============================] - 5s 458us/step - loss: 18753.8452\n",
      "Epoch 106/200\n",
      "11934/11934 [==============================] - 5s 444us/step - loss: 19508.0448\n",
      "Epoch 107/200\n",
      "11934/11934 [==============================] - 5s 443us/step - loss: 18322.4642\n",
      "Epoch 108/200\n",
      "11934/11934 [==============================] - 5s 448us/step - loss: 18686.6050\n",
      "Epoch 109/200\n",
      "11934/11934 [==============================] - 5s 441us/step - loss: 18319.9366\n",
      "Epoch 110/200\n",
      "11934/11934 [==============================] - 5s 450us/step - loss: 18954.5755\n",
      "Epoch 111/200\n",
      "11934/11934 [==============================] - 5s 442us/step - loss: 17892.2818\n",
      "Epoch 112/200\n",
      "11934/11934 [==============================] - 5s 440us/step - loss: 18741.7284\n",
      "Epoch 113/200\n",
      "11934/11934 [==============================] - 5s 452us/step - loss: 18442.9034\n",
      "Epoch 114/200\n",
      "11934/11934 [==============================] - 5s 457us/step - loss: 18156.8414\n",
      "Epoch 115/200\n",
      "11934/11934 [==============================] - 5s 432us/step - loss: 18493.9725\n",
      "Epoch 116/200\n",
      "11934/11934 [==============================] - 5s 454us/step - loss: 18059.4388\n",
      "Epoch 117/200\n",
      "11934/11934 [==============================] - 6s 536us/step - loss: 18568.6396\n",
      "Epoch 118/200\n",
      "11934/11934 [==============================] - 6s 492us/step - loss: 18414.8412\n",
      "Epoch 119/200\n",
      "11934/11934 [==============================] - 6s 511us/step - loss: 18405.7441\n",
      "Epoch 120/200\n",
      "11934/11934 [==============================] - 7s 585us/step - loss: 18326.3833\n",
      "Epoch 121/200\n",
      "11934/11934 [==============================] - 7s 566us/step - loss: 18706.7619\n",
      "Epoch 122/200\n",
      "11934/11934 [==============================] - 6s 503us/step - loss: 18108.8899\n",
      "Epoch 123/200\n",
      "11934/11934 [==============================] - 6s 517us/step - loss: 18156.9789\n",
      "Epoch 124/200\n",
      "11934/11934 [==============================] - 6s 516us/step - loss: 18180.7921\n",
      "Epoch 125/200\n",
      "11934/11934 [==============================] - 6s 501us/step - loss: 18226.3934\n",
      "Epoch 126/200\n",
      "11934/11934 [==============================] - 6s 524us/step - loss: 18376.4250\n",
      "Epoch 127/200\n",
      "11934/11934 [==============================] - 7s 614us/step - loss: 18420.3727\n",
      "Epoch 128/200\n",
      "11934/11934 [==============================] - 7s 587us/step - loss: 18726.3638\n",
      "Epoch 129/200\n",
      "11934/11934 [==============================] - 8s 712us/step - loss: 18283.2060\n",
      "Epoch 130/200\n",
      "11934/11934 [==============================] - 8s 636us/step - loss: 18013.5524\n",
      "Epoch 131/200\n",
      "11934/11934 [==============================] - 6s 533us/step - loss: 17661.1227\n",
      "Epoch 132/200\n",
      "11934/11934 [==============================] - 7s 590us/step - loss: 17947.6144\n",
      "Epoch 133/200\n",
      "11934/11934 [==============================] - 6s 511us/step - loss: 18255.7383\n",
      "Epoch 134/200\n",
      "11934/11934 [==============================] - 7s 582us/step - loss: 18020.4818\n",
      "Epoch 135/200\n",
      "11934/11934 [==============================] - 6s 504us/step - loss: 17537.4234\n",
      "Epoch 136/200\n",
      "11934/11934 [==============================] - 7s 555us/step - loss: 17742.8671\n",
      "Epoch 137/200\n",
      "11934/11934 [==============================] - 6s 464us/step - loss: 17968.8839\n",
      "Epoch 138/200\n",
      "11934/11934 [==============================] - 5s 448us/step - loss: 18120.1460\n",
      "Epoch 139/200\n",
      "11934/11934 [==============================] - 8s 661us/step - loss: 18116.0764\n",
      "Epoch 140/200\n",
      "11934/11934 [==============================] - 9s 744us/step - loss: 17304.0362\n",
      "Epoch 141/200\n",
      "11934/11934 [==============================] - 7s 624us/step - loss: 18232.7203\n",
      "Epoch 142/200\n",
      "11934/11934 [==============================] - 8s 661us/step - loss: 17379.5657\n",
      "Epoch 143/200\n",
      "11934/11934 [==============================] - 7s 578us/step - loss: 17907.7299\n",
      "Epoch 144/200\n",
      "11934/11934 [==============================] - 6s 524us/step - loss: 17299.1253\n",
      "Epoch 145/200\n",
      "11934/11934 [==============================] - 6s 465us/step - loss: 17595.3699\n",
      "Epoch 146/200\n",
      "11934/11934 [==============================] - 5s 457us/step - loss: 17945.8838\n",
      "Epoch 147/200\n",
      "11934/11934 [==============================] - 5s 454us/step - loss: 17265.1102\n",
      "Epoch 148/200\n",
      "11934/11934 [==============================] - 5s 445us/step - loss: 17717.8493\n",
      "Epoch 149/200\n",
      "11934/11934 [==============================] - 5s 443us/step - loss: 17745.7433\n",
      "Epoch 150/200\n",
      "11934/11934 [==============================] - 5s 458us/step - loss: 17541.9209\n",
      "Epoch 151/200\n",
      "11934/11934 [==============================] - 5s 448us/step - loss: 17330.5641\n",
      "Epoch 152/200\n",
      "11934/11934 [==============================] - 5s 435us/step - loss: 17072.0294\n",
      "Epoch 153/200\n",
      "11934/11934 [==============================] - 5s 440us/step - loss: 17495.0767\n",
      "Epoch 154/200\n",
      "11934/11934 [==============================] - 5s 439us/step - loss: 17486.9807\n",
      "Epoch 155/200\n",
      "11934/11934 [==============================] - 5s 433us/step - loss: 17234.8693\n",
      "Epoch 156/200\n",
      "11934/11934 [==============================] - 5s 439us/step - loss: 17048.9357\n",
      "Epoch 157/200\n",
      "11934/11934 [==============================] - 5s 430us/step - loss: 18194.3891\n",
      "Epoch 158/200\n",
      "11934/11934 [==============================] - 6s 469us/step - loss: 17705.9772\n",
      "Epoch 159/200\n",
      "11934/11934 [==============================] - 5s 457us/step - loss: 17829.0775\n",
      "Epoch 160/200\n",
      "11934/11934 [==============================] - 5s 446us/step - loss: 17672.8432\n",
      "Epoch 161/200\n",
      "11934/11934 [==============================] - 5s 451us/step - loss: 17518.5886\n",
      "Epoch 162/200\n",
      "11934/11934 [==============================] - 5s 425us/step - loss: 17696.5313\n",
      "Epoch 163/200\n",
      "11934/11934 [==============================] - 5s 440us/step - loss: 17037.4095\n",
      "Epoch 164/200\n",
      "11934/11934 [==============================] - 5s 439us/step - loss: 17353.8634\n",
      "Epoch 165/200\n",
      "11934/11934 [==============================] - 5s 441us/step - loss: 17697.8010\n",
      "Epoch 166/200\n",
      "11934/11934 [==============================] - 5s 430us/step - loss: 17862.4554\n",
      "Epoch 167/200\n",
      "11934/11934 [==============================] - 6s 464us/step - loss: 17590.6864\n",
      "Epoch 168/200\n",
      "11934/11934 [==============================] - 7s 574us/step - loss: 17812.1731\n",
      "Epoch 169/200\n",
      "11934/11934 [==============================] - 6s 544us/step - loss: 17953.3341\n",
      "Epoch 170/200\n",
      "11934/11934 [==============================] - 6s 529us/step - loss: 17524.3073\n",
      "Epoch 171/200\n",
      "11934/11934 [==============================] - 6s 526us/step - loss: 17079.1579\n",
      "Epoch 172/200\n",
      "11934/11934 [==============================] - 7s 547us/step - loss: 17180.9452\n",
      "Epoch 173/200\n",
      "11934/11934 [==============================] - 6s 488us/step - loss: 17301.9922\n",
      "Epoch 174/200\n",
      "11934/11934 [==============================] - 5s 452us/step - loss: 18218.0337\n",
      "Epoch 175/200\n",
      "11934/11934 [==============================] - 6s 468us/step - loss: 17860.3811\n",
      "Epoch 176/200\n",
      "11934/11934 [==============================] - 6s 466us/step - loss: 17871.4177\n",
      "Epoch 177/200\n"
     ]
    },
    {
     "name": "stdout",
     "output_type": "stream",
     "text": [
      "11934/11934 [==============================] - 5s 447us/step - loss: 17477.7771\n",
      "Epoch 178/200\n",
      "11934/11934 [==============================] - 5s 438us/step - loss: 17166.1767\n",
      "Epoch 179/200\n",
      "11934/11934 [==============================] - 6s 471us/step - loss: 17748.2904\n",
      "Epoch 180/200\n",
      "11934/11934 [==============================] - 6s 467us/step - loss: 17297.1412\n",
      "Epoch 181/200\n",
      "11934/11934 [==============================] - 5s 442us/step - loss: 17487.1082\n",
      "Epoch 182/200\n",
      "11934/11934 [==============================] - 6s 501us/step - loss: 17205.9745\n",
      "Epoch 183/200\n",
      "11934/11934 [==============================] - 5s 460us/step - loss: 17453.1108\n",
      "Epoch 184/200\n",
      "11934/11934 [==============================] - 5s 459us/step - loss: 17178.7430\n",
      "Epoch 185/200\n",
      "11934/11934 [==============================] - 6s 498us/step - loss: 17582.0240\n",
      "Epoch 186/200\n",
      "11934/11934 [==============================] - 6s 492us/step - loss: 16966.9927\n",
      "Epoch 187/200\n",
      "11934/11934 [==============================] - 5s 448us/step - loss: 17870.0347\n",
      "Epoch 188/200\n",
      "11934/11934 [==============================] - 5s 442us/step - loss: 16930.7075\n",
      "Epoch 189/200\n",
      "11934/11934 [==============================] - 7s 564us/step - loss: 17560.9208\n",
      "Epoch 190/200\n",
      "11934/11934 [==============================] - 6s 506us/step - loss: 16780.4434\n",
      "Epoch 191/200\n",
      "11934/11934 [==============================] - 6s 470us/step - loss: 17828.6572\n",
      "Epoch 192/200\n",
      "11934/11934 [==============================] - 8s 643us/step - loss: 17304.8221\n",
      "Epoch 193/200\n",
      "11934/11934 [==============================] - 6s 509us/step - loss: 17777.9292\n",
      "Epoch 194/200\n",
      "11934/11934 [==============================] - 5s 451us/step - loss: 17054.0153\n",
      "Epoch 195/200\n",
      "11934/11934 [==============================] - 5s 456us/step - loss: 16685.2205\n",
      "Epoch 196/200\n",
      "11934/11934 [==============================] - 5s 454us/step - loss: 17630.5505\n",
      "Epoch 197/200\n",
      "11934/11934 [==============================] - 6s 463us/step - loss: 17611.6399\n",
      "Epoch 198/200\n",
      "11934/11934 [==============================] - 5s 452us/step - loss: 17821.9676\n",
      "Epoch 199/200\n",
      "11934/11934 [==============================] - 7s 550us/step - loss: 16848.0197\n",
      "Epoch 200/200\n",
      "11934/11934 [==============================] - 6s 480us/step - loss: 17177.0951\n"
     ]
    }
   ],
   "source": [
    "history = keras_embedded_model.fit(X_train, y_train, epochs=EPOCHS,\n",
    "                    callbacks=[scheduler, EarlyStopping(patience=10, monitor='rmse'),\n",
    "                               ModelCheckpoint('models/embedding.h5', monitor='rmse')],\n",
    "                    batch_size=BATCH_SIZE)"
   ]
  },
  {
   "cell_type": "code",
   "execution_count": 72,
   "metadata": {
    "scrolled": true
   },
   "outputs": [
    {
     "name": "stdout",
     "output_type": "stream",
     "text": [
      "Mean squared error:  237.7650888504333\n",
      "Std:  252.29854879882052\n",
      "Mean:  373.96012064343165\n",
      "Showing the first 10 differences between predicted and real.\n",
      "263.86 874.0\n",
      "467.76233 772.0\n",
      "1033.7655 591.0\n",
      "192.15147 557.0\n",
      "349.98022 582.0\n",
      "863.8261 811.0\n",
      "325.09338 292.0\n",
      "367.44434 206.0\n",
      "261.31796 954.0\n",
      "192.54843 234.0\n"
     ]
    }
   ],
   "source": [
    "y_pred = keras_embedded_model.predict(X_test)\n",
    "\n",
    "y_pred = y_pred.flatten()\n",
    "\n",
    "# how far off is the result? metric = mean squared error\n",
    "y_test = np.array(y_test)\n",
    "y_pred = np.array(y_pred)\n",
    "print(\"Mean squared error: \", np.sqrt(mean_squared_error(y_true=y_test, y_pred=y_pred)))\n",
    "print(\"Std: \", np.std(y_test))\n",
    "print(\"Mean: \", np.mean(y_test))\n",
    "\n",
    "# show first k differences\n",
    "first_k = 10\n",
    "print(\"Showing the first {} differences between predicted and real.\".format(first_k))\n",
    "for yp, yt in zip(y_pred[:first_k], y_test[:first_k]):\n",
    "    print(yp, yt)"
   ]
  },
  {
   "cell_type": "markdown",
   "metadata": {},
   "source": [
    "### Save model"
   ]
  },
  {
   "cell_type": "code",
   "execution_count": null,
   "metadata": {},
   "outputs": [],
   "source": [
    "keras_embedded_model.save('models/predict_calories_model')"
   ]
  },
  {
   "cell_type": "markdown",
   "metadata": {},
   "source": [
    "### Get the dataframe that has NaN values for our regression column (calories)"
   ]
  },
  {
   "cell_type": "code",
   "execution_count": null,
   "metadata": {},
   "outputs": [],
   "source": [
    "predict_df = df[df[regr_column] != df[regr_column]]"
   ]
  },
  {
   "cell_type": "markdown",
   "metadata": {},
   "source": [
    "### Get the input data we need to predict the needed values"
   ]
  },
  {
   "cell_type": "code",
   "execution_count": null,
   "metadata": {},
   "outputs": [],
   "source": [
    "predict_data = []\n",
    "for i in range(len(predict_df)):\n",
    "    predict_data.append(get_small_dict(predict_df, keep_columns, i))\n",
    "corpus = ['|'.join(\n",
    "    d['tags'] + \n",
    "    [w.lower() for w in nltk.word_tokenize(d['title']) if w not in '''!()-[]{};:'\"\\,<>./?@#$%^&*_~''']\n",
    ") for d in predict_data]"
   ]
  },
  {
   "cell_type": "markdown",
   "metadata": {},
   "source": [
    "### Split input data using the tokenizer"
   ]
  },
  {
   "cell_type": "code",
   "execution_count": null,
   "metadata": {},
   "outputs": [],
   "source": [
    "predict_corpus = []\n",
    "for word_list in corpus:\n",
    "    predict_corpus.append(tokenize(word_list))"
   ]
  },
  {
   "cell_type": "markdown",
   "metadata": {},
   "source": [
    "### Make sure input data has a fixed shape"
   ]
  },
  {
   "cell_type": "code",
   "execution_count": null,
   "metadata": {},
   "outputs": [],
   "source": [
    "X = []\n",
    "for sample in predict_corpus:\n",
    "    sample = [w for w in sample if w in encoder.classes_]\n",
    "    input_sample = generate_input_matrix(sample, FIXED_LENGTH)\n",
    "    if input_sample.shape != (FIXED_LENGTH,):\n",
    "        print(input_sample.shape)\n",
    "    X.append(input_sample)"
   ]
  },
  {
   "cell_type": "markdown",
   "metadata": {},
   "source": [
    "### Transform matrix-like input data using available encoder"
   ]
  },
  {
   "cell_type": "code",
   "execution_count": null,
   "metadata": {},
   "outputs": [],
   "source": [
    "X_encoded = []\n",
    "for sentence in X:\n",
    "    encoded = encoder.transform(sentence)\n",
    "    X_encoded.append(encoded)"
   ]
  },
  {
   "cell_type": "code",
   "execution_count": null,
   "metadata": {},
   "outputs": [],
   "source": [
    "X_encoded = np.array(X_encoded)\n",
    "X_encoded.shape"
   ]
  },
  {
   "cell_type": "markdown",
   "metadata": {},
   "source": [
    "### Predict missing data "
   ]
  },
  {
   "cell_type": "code",
   "execution_count": null,
   "metadata": {},
   "outputs": [],
   "source": [
    "y_pred = keras_embedded_model.predict(X_encoded)\n",
    "\n",
    "y_pred = y_pred.flatten()"
   ]
  },
  {
   "cell_type": "markdown",
   "metadata": {},
   "source": [
    "### Fill the dataframe with predicted values"
   ]
  },
  {
   "cell_type": "code",
   "execution_count": null,
   "metadata": {},
   "outputs": [],
   "source": [
    "predict_df[regr_column] = y_pred"
   ]
  },
  {
   "cell_type": "markdown",
   "metadata": {},
   "source": [
    "### Update initial dataframe with missing values"
   ]
  },
  {
   "cell_type": "code",
   "execution_count": null,
   "metadata": {},
   "outputs": [],
   "source": [
    "update_regr_column = [np.nan for _ in range(len(df))]\n",
    "for idx, value in zip(predict_df.index, predicted):\n",
    "    update_regr_column[idx] = value"
   ]
  },
  {
   "cell_type": "code",
   "execution_count": null,
   "metadata": {},
   "outputs": [],
   "source": [
    "df.update({regr_column: update_regr_column})"
   ]
  },
  {
   "cell_type": "markdown",
   "metadata": {},
   "source": [
    "### Save updated dataframe"
   ]
  },
  {
   "cell_type": "code",
   "execution_count": null,
   "metadata": {},
   "outputs": [],
   "source": [
    "df.to_csv('recipes_with_calories.csv', sep='|')"
   ]
  }
 ],
 "metadata": {
  "kernelspec": {
   "display_name": "Python 3",
   "language": "python",
   "name": "python3"
  },
  "language_info": {
   "codemirror_mode": {
    "name": "ipython",
    "version": 3
   },
   "file_extension": ".py",
   "mimetype": "text/x-python",
   "name": "python",
   "nbconvert_exporter": "python",
   "pygments_lexer": "ipython3",
   "version": "3.5.2"
  }
 },
 "nbformat": 4,
 "nbformat_minor": 2
}
